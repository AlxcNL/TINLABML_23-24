{
 "cells": [
  {
   "cell_type": "markdown",
   "metadata": {},
   "source": [
    "<div>\n",
    "<img src='pics/banner.PNG'/>\n",
    "</div>\n",
    "<div>\n",
    "<img width=\"20%\" src='pics/pandas.svg'/>\n",
    "</div>\n",
    "<div>\n",
    "<img width=\"15%\" src='pics/tinlab.png'/>\n",
    "<strong>EDA Torcs logging - Jeroen Boogaard</strong>\n",
    "</div>"
   ]
  },
  {
   "cell_type": "markdown",
   "metadata": {},
   "source": [
    "# Exploratory Data Analysis"
   ]
  },
  {
   "cell_type": "markdown",
   "metadata": {},
   "source": [
    "## Imports"
   ]
  },
  {
   "cell_type": "code",
   "execution_count": null,
   "metadata": {
    "id": "Bl3yLOUmbP5T"
   },
   "outputs": [],
   "source": [
    "from pathlib import Path\n",
    "from sklearn import linear_model\n",
    "from numpy import asarray\n",
    "from sklearn.preprocessing import MinMaxScaler\n",
    "from sklearn.decomposition import PCA\n",
    "import matplotlib.pyplot as plt\n",
    "import numpy as np\n",
    "import pandas as pd\n",
    "import seaborn as sns\n",
    "%matplotlib inline     \n",
    "sns.set(color_codes=True)"
   ]
  },
  {
   "cell_type": "markdown",
   "metadata": {},
   "source": [
    "### Global variables"
   ]
  },
  {
   "cell_type": "code",
   "execution_count": null,
   "metadata": {},
   "outputs": [],
   "source": [
    "csvFile = 'aalborg_2024-05-24.csv'\n",
    "csvFilePath = Path.cwd().parent.joinpath('csv').joinpath(csvFile)"
   ]
  },
  {
   "cell_type": "markdown",
   "metadata": {},
   "source": [
    "## Data Collection"
   ]
  },
  {
   "cell_type": "code",
   "execution_count": null,
   "metadata": {
    "id": "X-Fbe3oLdxx8"
   },
   "outputs": [],
   "source": [
    "# Import data\n",
    "dfCollected = pd.read_csv(csvFilePath, sep=\";\", header=0)\n",
    "dfCollected.round(2)\n",
    "dfCollected.shape"
   ]
  },
  {
   "cell_type": "markdown",
   "metadata": {},
   "source": [
    "## Data Inspection"
   ]
  },
  {
   "cell_type": "markdown",
   "metadata": {},
   "source": [
    "**Display the top 5 rows**"
   ]
  },
  {
   "cell_type": "code",
   "execution_count": null,
   "metadata": {
    "id": "IMqPADPrcARh"
   },
   "outputs": [],
   "source": [
    "dfCollected.head()"
   ]
  },
  {
   "cell_type": "markdown",
   "metadata": {},
   "source": [
    "**Display last 5 rows**"
   ]
  },
  {
   "cell_type": "code",
   "execution_count": null,
   "metadata": {
    "id": "30cV_0spdgYQ"
   },
   "outputs": [],
   "source": [
    "dfCollected.tail()"
   ]
  },
  {
   "cell_type": "markdown",
   "metadata": {},
   "source": [
    "**Show data types**"
   ]
  },
  {
   "cell_type": "code",
   "execution_count": null,
   "metadata": {
    "id": "yjc7anKOdqoV"
   },
   "outputs": [],
   "source": [
    "dfCollected.info()"
   ]
  },
  {
   "cell_type": "markdown",
   "metadata": {},
   "source": [
    "### Show basic statistics"
   ]
  },
  {
   "cell_type": "code",
   "execution_count": null,
   "metadata": {
    "colab": {
     "base_uri": "https://localhost:8080/",
     "height": 297
    },
    "id": "CLibRdEwd8-L",
    "outputId": "d4bdb8c9-fb59-4670-a4ee-fffcf6861ac2"
   },
   "outputs": [],
   "source": [
    "dfCollected.describe()"
   ]
  },
  {
   "cell_type": "markdown",
   "metadata": {},
   "source": [
    "## Data Selection"
   ]
  },
  {
   "cell_type": "markdown",
   "metadata": {},
   "source": [
    "**Drop all rows of the first track**"
   ]
  },
  {
   "cell_type": "code",
   "execution_count": null,
   "metadata": {},
   "outputs": [],
   "source": [
    "selection = dfCollected['s_distance_raced'] > dfCollected['s_distance_from_start']\n",
    "display(selection)\n",
    "dfSelected = dfCollected.copy()[selection]"
   ]
  },
  {
   "cell_type": "markdown",
   "metadata": {},
   "source": [
    "## Feature Selection"
   ]
  },
  {
   "cell_type": "markdown",
   "metadata": {},
   "source": [
    "<p>\n",
    "    Features:\n",
    "    <ul>\n",
    "        <li><b>m</b>eta</li>\n",
    "        <li><b>s</b>ensor</li>\n",
    "        <li><b>a</b>ction</li>\n",
    "    </ul>        \n",
    "</p>"
   ]
  },
  {
   "cell_type": "code",
   "execution_count": null,
   "metadata": {},
   "outputs": [],
   "source": [
    "features = [\n",
    "    's_speed_x',\n",
    "    's_speed_y',\n",
    "    's_rpm',     \n",
    "    's_gear',  \n",
    "    's_angle',\n",
    "    's_track_position',\n",
    "    's_distance_raced',\n",
    "    's_plus5_degrees2caraxis',\n",
    "    's_parallel2caraxis',\n",
    "    's_min5_degrees2caraxis',\n",
    "]\n",
    "\n",
    "dfFeatures = dfSelected.copy().loc[:, features]\n",
    "dfFeatures.shape"
   ]
  },
  {
   "cell_type": "markdown",
   "metadata": {},
   "source": [
    "**Combine features**"
   ]
  },
  {
   "cell_type": "code",
   "execution_count": null,
   "metadata": {},
   "outputs": [],
   "source": [
    "dfFeatures.shape"
   ]
  },
  {
   "cell_type": "code",
   "execution_count": null,
   "metadata": {},
   "outputs": [],
   "source": [
    "caraxisFeatures = [\n",
    "    's_plus5_degrees2caraxis',\n",
    "    's_parallel2caraxis',\n",
    "    's_min5_degrees2caraxis'\n",
    "]\n",
    "\n",
    "caraxisMatrix = MinMaxScaler().fit_transform( dfFeatures.copy().loc[:, caraxisFeatures].to_numpy() )\n",
    "c_caraxis = caraxisMatrix[:, 0] + caraxisMatrix[:, 1] + caraxisMatrix[:, 2]\n",
    "display(c_caraxis)\n",
    "c_caraxis.shape"
   ]
  },
  {
   "cell_type": "markdown",
   "metadata": {},
   "source": [
    "**Likewise, combine rmp and gear**"
   ]
  },
  {
   "cell_type": "code",
   "execution_count": null,
   "metadata": {},
   "outputs": [],
   "source": [
    "speedFeatures = [\n",
    "    's_rpm',\n",
    "    's_gear',  \n",
    "]\n",
    "\n",
    "speedMatrix = MinMaxScaler().fit_transform( dfFeatures.loc[:, speedFeatures].to_numpy() )\n",
    "c_speed = speedMatrix[:, 0] * speedMatrix[:, 1]\n",
    "display(c_speed)\n",
    "c_speed.shape"
   ]
  },
  {
   "cell_type": "markdown",
   "metadata": {},
   "source": [
    "**Replace related features by the combined feature**"
   ]
  },
  {
   "cell_type": "code",
   "execution_count": null,
   "metadata": {},
   "outputs": [],
   "source": [
    "dfReduced = dfFeatures.copy()\n",
    "\n",
    "idxCarAxisFeatures = dfReduced.columns.get_loc( caraxisFeatures[0] )\n",
    "dfReduced = dfReduced.drop(caraxisFeatures, axis=1)\n",
    "dfReduced.insert(idxCarAxisFeatures, \"c_caraxis\", c_caraxis )\n",
    "\n",
    "idxSpeedFeatures = dfReduced.columns.get_loc( speedFeatures[0] )\n",
    "dfReduced = dfReduced.drop(speedFeatures, axis=1)\n",
    "dfReduced.insert(idxSpeedFeatures, \"c_speed\", c_speed )\n",
    "\n",
    "display(dfReduced)\n",
    "dfReduced.shape"
   ]
  },
  {
   "cell_type": "code",
   "execution_count": null,
   "metadata": {},
   "outputs": [],
   "source": [
    "x = dfReduced['s_speed_x']\n",
    "y = dfReduced['c_speed']\n",
    "plt.scatter(x, y) "
   ]
  },
  {
   "cell_type": "markdown",
   "metadata": {},
   "source": [
    "<p>The scatterplot shows that <i>c_speed</i> makes <i>s_speed_x</i> redundant</p>"
   ]
  },
  {
   "cell_type": "code",
   "execution_count": null,
   "metadata": {},
   "outputs": [],
   "source": [
    "dfReduced = dfReduced.drop('s_speed_x', axis=1)\n",
    "display(dfReduced)"
   ]
  },
  {
   "cell_type": "markdown",
   "metadata": {},
   "source": [
    "## Data Visualization"
   ]
  },
  {
   "cell_type": "markdown",
   "metadata": {},
   "source": [
    "**Display correlations**"
   ]
  },
  {
   "cell_type": "code",
   "execution_count": null,
   "metadata": {},
   "outputs": [],
   "source": [
    "corFeatures = [\n",
    "    's_speed_y',\n",
    "    'c_speed',\n",
    "    's_angle',\n",
    "    's_track_position',   \n",
    "    'c_caraxis',\n",
    "]\n",
    "\n",
    "dfCorrelation = dfReduced.copy().loc[:, corFeatures]\n",
    "corrMatrix = dfCorrelation.corr()\n",
    "sns.heatmap(corrMatrix, annot=True)"
   ]
  }
 ],
 "metadata": {
  "colab": {
   "provenance": []
  },
  "kernelspec": {
   "display_name": "Python 3 (ipykernel)",
   "language": "python",
   "name": "python3"
  },
  "language_info": {
   "codemirror_mode": {
    "name": "ipython",
    "version": 3
   },
   "file_extension": ".py",
   "mimetype": "text/x-python",
   "name": "python",
   "nbconvert_exporter": "python",
   "pygments_lexer": "ipython3",
   "version": "3.12.2"
  }
 },
 "nbformat": 4,
 "nbformat_minor": 4
}
