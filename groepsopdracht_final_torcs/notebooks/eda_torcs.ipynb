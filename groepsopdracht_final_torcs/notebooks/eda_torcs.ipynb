{
 "cells": [
  {
   "cell_type": "markdown",
   "metadata": {},
   "source": [
    "<div>\n",
    "<img src='../pics/banner.PNG'/>\n",
    "</div>\n",
    "<div>\n",
    "<img width=\"20%\" src='../pics/pandas.svg'/>\n",
    "</div>\n",
    "<div>\n",
    "<img width=\"15%\" src='../pics/tinlab.png'/>\n",
    "<strong>EDA Torcs logging - Jeroen Boogaard</strong>\n",
    "</div>"
   ]
  },
  {
   "cell_type": "markdown",
   "metadata": {},
   "source": [
    "# Exploratory Data Analysis"
   ]
  },
  {
   "cell_type": "markdown",
   "metadata": {},
   "source": [
    "## Imports"
   ]
  },
  {
   "cell_type": "code",
   "execution_count": null,
   "metadata": {
    "id": "Bl3yLOUmbP5T"
   },
   "source": [
    "from pathlib import Path\n",
    "from sklearn import linear_model\n",
    "from numpy import asarray\n",
    "from sklearn.preprocessing import MinMaxScaler\n",
    "from sklearn.decomposition import PCA\n",
    "import matplotlib.pyplot as plt\n",
    "import numpy as np\n",
    "import pandas as pd\n",
    "import seaborn as sns\n",
    "%matplotlib inline     \n",
    "sns.set(color_codes=True)"
   ],
   "outputs": []
  },
  {
   "cell_type": "markdown",
   "metadata": {},
   "source": [
    "### Global variables"
   ]
  },
  {
   "cell_type": "code",
   "execution_count": null,
   "metadata": {},
   "source": [
    "csvFile = 'aalborg_2024-05-24.csv'\n",
    "csvFilePath = Path.cwd().parent.joinpath('csv').joinpath(csvFile)"
   ],
   "outputs": []
  },
  {
   "cell_type": "markdown",
   "metadata": {},
   "source": [
    "## Data Collection"
   ]
  },
  {
   "cell_type": "code",
   "execution_count": null,
   "metadata": {
    "id": "X-Fbe3oLdxx8"
   },
   "source": [
    "# Import data\n",
    "dfCollected = pd.read_csv(csvFilePath, sep=\";\", header=0)\n",
    "dfCollected.round(2)\n",
    "dfCollected.shape"
   ],
   "outputs": []
  },
  {
   "cell_type": "markdown",
   "metadata": {},
   "source": [
    "## Data Inspection"
   ]
  },
  {
   "cell_type": "markdown",
   "metadata": {},
   "source": [
    "**Display the top 5 rows**"
   ]
  },
  {
   "cell_type": "code",
   "execution_count": null,
   "metadata": {
    "id": "IMqPADPrcARh"
   },
   "source": [
    "dfCollected.head()"
   ],
   "outputs": []
  },
  {
   "cell_type": "markdown",
   "metadata": {},
   "source": [
    "**Display last 5 rows**"
   ]
  },
  {
   "cell_type": "code",
   "execution_count": null,
   "metadata": {
    "id": "30cV_0spdgYQ"
   },
   "source": [
    "dfCollected.tail()"
   ],
   "outputs": []
  },
  {
   "cell_type": "markdown",
   "metadata": {},
   "source": [
    "**Show data types**"
   ]
  },
  {
   "cell_type": "code",
   "execution_count": null,
   "metadata": {
    "id": "yjc7anKOdqoV"
   },
   "source": [
    "dfCollected.info()"
   ],
   "outputs": []
  },
  {
   "cell_type": "markdown",
   "metadata": {},
   "source": [
    "### Show basic statistics"
   ]
  },
  {
   "cell_type": "code",
   "execution_count": null,
   "metadata": {
    "colab": {
     "base_uri": "https://localhost:8080/",
     "height": 297
    },
    "id": "CLibRdEwd8-L",
    "outputId": "d4bdb8c9-fb59-4670-a4ee-fffcf6861ac2"
   },
   "source": [
    "dfCollected.describe()"
   ],
   "outputs": []
  },
  {
   "cell_type": "markdown",
   "metadata": {},
   "source": [
    "## Data Selection"
   ]
  },
  {
   "cell_type": "markdown",
   "metadata": {},
   "source": [
    "**Drop all rows of the first track**"
   ]
  },
  {
   "cell_type": "code",
   "execution_count": null,
   "metadata": {},
   "source": [
    "selection = dfCollected['s_distance_raced'] > dfCollected['s_distance_from_start']\n",
    "display(selection)\n",
    "dfSelected = dfCollected.copy()[selection]"
   ],
   "outputs": []
  },
  {
   "cell_type": "markdown",
   "metadata": {},
   "source": [
    "## Feature Selection"
   ]
  },
  {
   "cell_type": "markdown",
   "metadata": {},
   "source": [
    "<p>\n",
    "    Features:\n",
    "    <ul>\n",
    "        <li><b>m</b>eta</li>\n",
    "        <li><b>s</b>ensor</li>\n",
    "        <li><b>a</b>ction</li>\n",
    "        <li><b>c</b>ombined</li>\n",
    "    </ul>        \n",
    "</p>"
   ]
  },
  {
   "cell_type": "code",
   "execution_count": null,
   "metadata": {},
   "source": [
    "features = [\n",
    "    's_speed_x',\n",
    "    's_speed_y',\n",
    "    's_rpm',     \n",
    "    's_gear',  \n",
    "    's_angle',\n",
    "    's_track_position',\n",
    "    's_distance_raced',\n",
    "    's_plus5_degrees2caraxis',\n",
    "    's_parallel2caraxis',\n",
    "    's_min5_degrees2caraxis',\n",
    "]\n",
    "\n",
    "dfFeatures = dfSelected.copy().loc[:, features]\n",
    "dfFeatures.shape"
   ],
   "outputs": []
  },
  {
   "cell_type": "markdown",
   "metadata": {},
   "source": [
    "**Combine features**"
   ]
  },
  {
   "cell_type": "code",
   "execution_count": null,
   "metadata": {},
   "source": [
    "dfFeatures.shape"
   ],
   "outputs": []
  },
  {
   "cell_type": "code",
   "execution_count": null,
   "metadata": {},
   "source": [
    "caraxisFeatures = [\n",
    "    's_plus5_degrees2caraxis',\n",
    "    's_parallel2caraxis',\n",
    "    's_min5_degrees2caraxis'\n",
    "]\n",
    "\n",
    "caraxisMatrix = MinMaxScaler().fit_transform( dfFeatures.copy().loc[:, caraxisFeatures].to_numpy() )\n",
    "c_caraxis = caraxisMatrix[:, 0] + caraxisMatrix[:, 1] + caraxisMatrix[:, 2]\n",
    "display(c_caraxis)\n",
    "c_caraxis.shape"
   ],
   "outputs": []
  },
  {
   "cell_type": "markdown",
   "metadata": {},
   "source": [
    "**Likewise, combine rmp and gear**"
   ]
  },
  {
   "cell_type": "code",
   "execution_count": null,
   "metadata": {},
   "source": [
    "speedFeatures = [\n",
    "    's_rpm',\n",
    "    's_gear',  \n",
    "]\n",
    "\n",
    "speedMatrix = MinMaxScaler().fit_transform( dfFeatures.loc[:, speedFeatures].to_numpy() )\n",
    "c_speed = speedMatrix[:, 0] * speedMatrix[:, 1]\n",
    "display(c_speed)\n",
    "c_speed.shape"
   ],
   "outputs": []
  },
  {
   "cell_type": "markdown",
   "metadata": {},
   "source": [
    "**Replace related features by the combined feature**"
   ]
  },
  {
   "cell_type": "code",
   "execution_count": null,
   "metadata": {},
   "source": [
    "dfReduced = dfFeatures.copy()\n",
    "\n",
    "idxCarAxisFeatures = dfReduced.columns.get_loc( caraxisFeatures[0] )\n",
    "dfReduced = dfReduced.drop(caraxisFeatures, axis=1)\n",
    "dfReduced.insert(idxCarAxisFeatures, \"c_caraxis\", c_caraxis )\n",
    "\n",
    "# idxSpeedFeatures = dfReduced.columns.get_loc( speedFeatures[0] )\n",
    "# dfReduced = dfReduced.drop(speedFeatures, axis=1)\n",
    "\n",
    "display(dfReduced)\n",
    "dfReduced.shape"
   ],
   "outputs": []
  },
  {
   "cell_type": "code",
   "execution_count": null,
   "metadata": {},
   "source": [
    "x = dfReduced['s_speed_x']\n",
    "y = dfReduced['s_rpm']\n",
    "plt.scatter(x, y) "
   ],
   "outputs": []
  },
  {
   "cell_type": "markdown",
   "metadata": {},
   "source": [
    "<p>The scatterplot shows that <i>c_speed</i> makes <i>s_speed_x</i> redundant</p>"
   ]
  },
  {
   "cell_type": "code",
   "execution_count": null,
   "metadata": {},
   "source": [
    "dfReduced = dfReduced.drop('s_gear', axis=1)\n",
    "display(dfReduced)"
   ],
   "outputs": []
  },
  {
   "cell_type": "markdown",
   "metadata": {},
   "source": [
    "## Data Visualization"
   ]
  },
  {
   "cell_type": "markdown",
   "metadata": {},
   "source": [
    "**Display correlations**"
   ]
  },
  {
   "cell_type": "code",
   "execution_count": null,
   "metadata": {},
   "source": [
    "dfReduced.columns\n",
    "corFeatures = [\n",
    "    's_speed_x',\n",
    "    's_speed_y',\n",
    "    's_angle',\n",
    "    's_track_position'   \n",
    "]\n",
    "\n",
    "dfCorrelation = dfReduced.copy().loc[:, corFeatures]\n",
    "corrMatrix = dfCorrelation.corr()\n",
    "sns.heatmap(corrMatrix, annot=True)"
   ],
   "outputs": []
  },
  {
   "cell_type": "markdown",
   "metadata": {},
   "source": [
    "### Final Dataset for training"
   ]
  },
  {
   "cell_type": "code",
   "execution_count": null,
   "metadata": {},
   "source": [
    "dfSelected.columns"
   ],
   "outputs": []
  },
  {
   "cell_type": "code",
   "execution_count": null,
   "metadata": {},
   "source": [
    "targets = [ 'a_brake', 'a_gear', 'a_steer']    \n",
    "dfModel = dfSelected.copy().loc[:, list(corFeatures.copy() + targets.copy()) ]\n",
    "display(dfModel)\n",
    "dfModel.shape"
   ],
   "outputs": []
  },
  {
   "cell_type": "code",
   "execution_count": null,
   "metadata": {},
   "source": [
    "corrMatrix = dfModel.corr()\n",
    "sns.heatmap(corrMatrix, annot=True)"
   ],
   "outputs": []
  },
  {
   "cell_type": "markdown",
   "metadata": {},
   "source": [
    "**Export Dataset as CSV**"
   ]
  },
  {
   "cell_type": "code",
   "execution_count": null,
   "metadata": {},
   "source": [
    "outputCsvFile = csvFile.replace('.csv', '_prepared.csv' )\n",
    "csvOutputFilePath = Path.cwd().parent.joinpath('csv').joinpath(outputCsvFile)\n",
    "dfModel.to_csv(csvOutputFilePath)"
   ],
   "outputs": []
  },
  {
   "cell_type": "code",
   "execution_count": null,
   "metadata": {},
   "source": [],
   "outputs": []
  }
 ],
 "metadata": {
  "colab": {
   "provenance": []
  },
  "kernelspec": {
   "display_name": "Python 3 (ipykernel)",
   "language": "python",
   "name": "python3"
  },
  "language_info": {
   "codemirror_mode": {
    "name": "ipython",
    "version": 3
   },
   "file_extension": ".py",
   "mimetype": "text/x-python",
   "name": "python",
   "nbconvert_exporter": "python",
   "pygments_lexer": "ipython3",
   "version": "3.12.3"
  }
 },
 "nbformat": 4,
 "nbformat_minor": 4
}
