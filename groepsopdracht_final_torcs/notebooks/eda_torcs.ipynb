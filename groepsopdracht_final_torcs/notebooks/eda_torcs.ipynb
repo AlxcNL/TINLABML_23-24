{
 "cells": [
  {
   "cell_type": "markdown",
   "metadata": {},
   "source": [
    "**Imports**"
   ]
  },
  {
   "cell_type": "code",
   "execution_count": null,
   "metadata": {
    "id": "Bl3yLOUmbP5T"
   },
   "outputs": [],
   "source": [
    "from pathlib import Path\n",
    "from sklearn import linear_model\n",
    "from sklearn.preprocessing import StandardScaler\n",
    "# Principal Component Analysis\n",
    "from sklearn.decomposition import PCA\n",
    "import matplotlib.pyplot as plt\n",
    "import numpy as np\n",
    "import pandas as pd\n",
    "import seaborn as sns\n",
    "%matplotlib inline     \n",
    "sns.set(color_codes=True)"
   ]
  },
  {
   "cell_type": "markdown",
   "metadata": {},
   "source": [
    "**Global variables**"
   ]
  },
  {
   "cell_type": "code",
   "execution_count": null,
   "metadata": {},
   "outputs": [],
   "source": [
    "csvFile = 'aalborg_2024-05-24_prepared.csv'\n",
    "csvFilePath = Path.cwd().parent.joinpath('csv').joinpath(csvFile)"
   ]
  },
  {
   "cell_type": "markdown",
   "metadata": {},
   "source": [
    "**Data Collection**"
   ]
  },
  {
   "cell_type": "code",
   "execution_count": null,
   "metadata": {
    "id": "X-Fbe3oLdxx8"
   },
   "outputs": [],
   "source": [
    "# Import data\n",
    "dfCollected = pd.read_csv(csvFilePath, sep=\";\", header=0)\n",
    "dfCollected.round(2)\n",
    "# type(dfCollected)\n",
    "# dfCollected.shape"
   ]
  },
  {
   "cell_type": "code",
   "execution_count": null,
   "metadata": {},
   "outputs": [],
   "source": [
    "dfCollected.columns"
   ]
  },
  {
   "cell_type": "markdown",
   "metadata": {},
   "source": [
    "**Data Inspection**"
   ]
  },
  {
   "cell_type": "code",
   "execution_count": null,
   "metadata": {
    "id": "IMqPADPrcARh"
   },
   "outputs": [],
   "source": [
    "# To display the top 5 rows\n",
    "dfCollected.head()"
   ]
  },
  {
   "cell_type": "code",
   "execution_count": null,
   "metadata": {
    "id": "30cV_0spdgYQ"
   },
   "outputs": [],
   "source": [
    "# To display last 5 rows\n",
    "dfCollected.tail()"
   ]
  },
  {
   "cell_type": "code",
   "execution_count": null,
   "metadata": {
    "id": "yjc7anKOdqoV"
   },
   "outputs": [],
   "source": [
    "dfCollected.info()"
   ]
  },
  {
   "cell_type": "code",
   "execution_count": null,
   "metadata": {
    "colab": {
     "base_uri": "https://localhost:8080/",
     "height": 297
    },
    "id": "CLibRdEwd8-L",
    "outputId": "d4bdb8c9-fb59-4670-a4ee-fffcf6861ac2"
   },
   "outputs": [],
   "source": [
    "# Check data some more\n",
    "dfCollected.describe()"
   ]
  },
  {
   "cell_type": "markdown",
   "metadata": {},
   "source": [
    "**Feature Selection**"
   ]
  },
  {
   "cell_type": "code",
   "execution_count": null,
   "metadata": {
    "colab": {
     "base_uri": "https://localhost:8080/",
     "height": 204
    },
    "id": "nzLW79xQjCeu",
    "outputId": "e86f7b7a-d6a9-44c2-af1b-ca0d2633c400"
   },
   "outputs": [],
   "source": [
    "features = ['s_speed_x', 's_speed_y','s_angle','s_track_position']\n",
    "X = dfCollected.loc[:, features]\n",
    "X.shape\n",
    "type(X)\n",
    "X"
   ]
  },
  {
   "cell_type": "markdown",
   "metadata": {},
   "source": [
    "**Define Target**"
   ]
  },
  {
   "cell_type": "code",
   "execution_count": null,
   "metadata": {},
   "outputs": [],
   "source": [
    "target = ['a_acceleration', 'a_brake', 'a_steer']\n",
    "y = dfCollected.loc[:, target]\n",
    "y.shape"
   ]
  },
  {
   "cell_type": "code",
   "execution_count": null,
   "metadata": {},
   "outputs": [],
   "source": [
    "pcaTransform = PCA(n_components=2)"
   ]
  },
  {
   "cell_type": "code",
   "execution_count": null,
   "metadata": {},
   "outputs": [],
   "source": [
    "pcaComponents = pcaTransform.fit_transform(X)"
   ]
  },
  {
   "cell_type": "markdown",
   "metadata": {},
   "source": [
    "**Normalize Data**"
   ]
  },
  {
   "cell_type": "code",
   "execution_count": null,
   "metadata": {},
   "outputs": [],
   "source": [
    "X = StandardScaler().fit_transform(X)"
   ]
  },
  {
   "cell_type": "markdown",
   "metadata": {},
   "source": [
    "**Feature Extraction**"
   ]
  },
  {
   "cell_type": "code",
   "execution_count": null,
   "metadata": {},
   "outputs": [],
   "source": [
    "principalDf = pd.DataFrame(data=pcaComponents, columns=['PCA1', 'PCA2'])\n",
    "principalDf.head()\n",
    "extractedDf = pd.concat( [principalDf, dfCollected], axis=1)\n",
    "extractedDf.shape\n",
    "extractedDf.head()"
   ]
  },
  {
   "cell_type": "markdown",
   "metadata": {},
   "source": [
    "**Data Visualization**"
   ]
  },
  {
   "cell_type": "code",
   "execution_count": null,
   "metadata": {},
   "outputs": [],
   "source": [
    "selection = [ \"s_plus5_degrees2caraxis\", \"s_parallel2caraxis\", \"s_min5_degrees2caraxis\", \"s_angle\" ]\n",
    "dfSelected = dfCollected.copy().loc[:, selection]\n",
    "corrMatrix = dfSelected.corr().round(2)\n",
    "print(matrix)"
   ]
  },
  {
   "cell_type": "code",
   "execution_count": null,
   "metadata": {},
   "outputs": [],
   "source": [
    "sns.heatmap(corrMatrix, annot=True)\n",
    "plt.show()"
   ]
  }
 ],
 "metadata": {
  "colab": {
   "provenance": []
  },
  "kernelspec": {
   "display_name": "Python 3 (ipykernel)",
   "language": "python",
   "name": "python3"
  },
  "language_info": {
   "codemirror_mode": {
    "name": "ipython",
    "version": 3
   },
   "file_extension": ".py",
   "mimetype": "text/x-python",
   "name": "python",
   "nbconvert_exporter": "python",
   "pygments_lexer": "ipython3",
   "version": "3.12.2"
  }
 },
 "nbformat": 4,
 "nbformat_minor": 4
}
