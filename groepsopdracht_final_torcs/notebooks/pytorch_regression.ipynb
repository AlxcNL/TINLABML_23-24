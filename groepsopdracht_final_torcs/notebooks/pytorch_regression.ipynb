{
 "cells": [
  {
   "cell_type": "code",
   "execution_count": 3,
   "id": "f1c27f0d-b035-4e28-b2a8-f0fa3fbb6236",
   "metadata": {},
   "outputs": [
    {
     "name": "stdout",
     "output_type": "stream",
     "text": [
      "n_samples = 8, n_features = 1\n"
     ]
    }
   ],
   "source": [
    "import torch\n",
    "import torch.nn as nn\n",
    "\n",
    "# Linear regression\n",
    "# f = w * x \n",
    "# here : f = 2 * x\n",
    "\n",
    "# 0) Training samples, watch the shape!\n",
    "X = torch.tensor([[1], [2], [3], [4], [5], [6], [7], [8]], dtype=torch.float32)\n",
    "Y = torch.tensor([[2], [4], [6], [8], [10], [12], [14], [16]], dtype=torch.float32)\n",
    "\n",
    "n_samples, n_features = X.shape\n",
    "print(f'n_samples = {n_samples}, n_features = {n_features}')\n",
    "\n",
    "# 0) create a test sample\n",
    "X_test = torch.tensor([5], dtype=torch.float32)"
   ]
  },
  {
   "cell_type": "code",
   "execution_count": 4,
   "id": "a3000a8d-1f85-47eb-83da-90af80068b19",
   "metadata": {},
   "outputs": [
    {
     "name": "stdout",
     "output_type": "stream",
     "text": [
      "Prediction before training: f(5.0) = -0.466\n",
      "epoch  10 : w =  2.031877279281616  loss =  0.007320631295442581\n",
      "epoch  20 : w =  2.031735897064209  loss =  0.006609172094613314\n",
      "epoch  30 : w =  2.030492067337036  loss =  0.006100967526435852\n",
      "epoch  40 : w =  2.0292961597442627  loss =  0.005631881300359964\n",
      "epoch  50 : w =  2.0281474590301514  loss =  0.005198847968131304\n",
      "epoch  60 : w =  2.027043581008911  loss =  0.004799113608896732\n",
      "epoch  70 : w =  2.0259830951690674  loss =  0.004430102650076151\n",
      "epoch  80 : w =  2.0249643325805664  loss =  0.004089478403329849\n",
      "epoch  90 : w =  2.0239853858947754  loss =  0.003775031305849552\n",
      "epoch  100 : w =  2.0230448246002197  loss =  0.003484765999019146\n",
      "Prediction after training: f(5.0) = 9.986\n"
     ]
    }
   ],
   "source": [
    "# 1) Design Model, the model has to implement the forward pass!\n",
    "\n",
    "# Here we could simply use a built-in model from PyTorch\n",
    "# model = nn.Linear(input_size, output_size)\n",
    "\n",
    "class LinearRegression(nn.Module):\n",
    "    def __init__(self, input_dim, output_dim):\n",
    "        super(LinearRegression, self).__init__()\n",
    "        # define different layers\n",
    "        self.lin = nn.Linear(input_dim, output_dim)\n",
    "\n",
    "    def forward(self, x):\n",
    "        return self.lin(x)\n",
    "\n",
    "\n",
    "input_size, output_size = n_features, n_features\n",
    "\n",
    "model = LinearRegression(input_size, output_size)\n",
    "\n",
    "print(f'Prediction before training: f({X_test.item()}) = {model(X_test).item():.3f}')\n",
    "\n",
    "# 2) Define loss and optimizer\n",
    "learning_rate = 0.01\n",
    "n_epochs = 100\n",
    "\n",
    "loss = nn.MSELoss()\n",
    "optimizer = torch.optim.SGD(model.parameters(), lr=learning_rate)\n",
    "\n",
    "# 3) Training loop\n",
    "for epoch in range(n_epochs):\n",
    "    # predict = forward pass with our model\n",
    "    y_predicted = model(X)\n",
    "\n",
    "    # loss\n",
    "    l = loss(Y, y_predicted)\n",
    "\n",
    "    # calculate gradients = backward pass\n",
    "    l.backward()\n",
    "\n",
    "    # update weights\n",
    "    optimizer.step()\n",
    "\n",
    "    # zero the gradients after updating\n",
    "    optimizer.zero_grad()\n",
    "\n",
    "    if (epoch+1) % 10 == 0:\n",
    "        w, b = model.parameters() # unpack parameters\n",
    "        print('epoch ', epoch+1, ': w = ', w[0][0].item(), ' loss = ', l.item())\n",
    "\n",
    "print(f'Prediction after training: f({X_test.item()}) = {model(X_test).item():.3f}')"
   ]
  },
  {
   "cell_type": "markdown",
   "id": "b90baddf-c69a-4e04-8928-b579247b1c22",
   "metadata": {},
   "source": [
    "## References\n",
    "[PyTorch Crash Course - Getting Started with Deep Learning Colab](https://colab.research.google.com/drive/1eiUBpmQ4m7Lbxqi2xth1jBaL61XTKdxp?usp=sharing#scrollTo=eID-YTrgqNUn)<br>\n",
    "[PyTorch Crash Course - Getting Started with Deep Learning YouTube](https://www.youtube.com/watch?v=OIenNRt2bjg)<br>\n",
    "[Linear Regression with PyTorch](https://jovian.ml/aakashns/02-linear-regression-05fde)\n"
   ]
  },
  {
   "cell_type": "code",
   "execution_count": null,
   "id": "de75b9e6-660d-4994-93cd-56cfcec39630",
   "metadata": {},
   "outputs": [],
   "source": []
  }
 ],
 "metadata": {
  "kernelspec": {
   "display_name": "Python 3 (ipykernel)",
   "language": "python",
   "name": "python3"
  },
  "language_info": {
   "codemirror_mode": {
    "name": "ipython",
    "version": 3
   },
   "file_extension": ".py",
   "mimetype": "text/x-python",
   "name": "python",
   "nbconvert_exporter": "python",
   "pygments_lexer": "ipython3",
   "version": "3.12.2"
  }
 },
 "nbformat": 4,
 "nbformat_minor": 5
}
