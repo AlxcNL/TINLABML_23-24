{
 "cells": [
  {
   "cell_type": "markdown",
   "metadata": {},
   "source": [
    "<div>\n",
    "<img src='../../pics/banner.PNG'/>\n",
    "</div>\n",
    "<div>\n",
    "<img width=\"15%\" src='../../pics/tinlab.png'/>\n",
    "<strong>Planets - Matplotlib - Jeroen Boogaard</strong>\n",
    "</div>"
   ]
  },
  {
   "cell_type": "markdown",
   "metadata": {},
   "source": [
    "<h1>Exploratory Data Analysis - Matplotlib</h1>"
   ]
  },
  {
   "cell_type": "markdown",
   "metadata": {},
   "source": [
    "**Imports**"
   ]
  },
  {
   "cell_type": "code",
   "execution_count": 28,
   "metadata": {},
   "source": [
    "from pathlib import Path\n",
    "from matplotlib import pyplot as plt\n",
    "from IPython.display import clear_output\n",
    "from numpy.polynomial.polynomial import polyfit\n",
    "import numpy as np\n",
    "import pandas as pd\n",
    "import statistics as stats\n",
    "import seaborn as sns"
   ],
   "outputs": []
  },
  {
   "cell_type": "markdown",
   "metadata": {},
   "source": [
    "**Display configuration**"
   ]
  },
  {
   "cell_type": "code",
   "execution_count": 7,
   "metadata": {},
   "source": [
    "%matplotlib inline\n",
    "pd.set_option(\"display.max.columns\", None)"
   ],
   "outputs": []
  },
  {
   "cell_type": "markdown",
   "metadata": {},
   "source": [
    "**Global variables**"
   ]
  },
  {
   "cell_type": "code",
   "execution_count": 8,
   "metadata": {},
   "source": [
    "csvFilePath = Path.cwd().parent.joinpath('csv')"
   ],
   "outputs": []
  },
  {
   "cell_type": "markdown",
   "metadata": {},
   "source": [
    "### Data Collection"
   ]
  },
  {
   "cell_type": "code",
   "execution_count": 24,
   "metadata": {},
   "source": [
    "csvFile = csvFilePath.joinpath('berniw.f-speedway.5-laps.csv')\n",
    "df = pd.read_csv(csvFile, sep=';', header=0, encoding='utf-8')\n",
    "display(df.tail())"
   ],
   "outputs": []
  },
  {
   "cell_type": "code",
   "execution_count": 25,
   "metadata": {},
   "source": [
    "df.describe()"
   ],
   "outputs": []
  },
  {
   "cell_type": "markdown",
   "metadata": {},
   "source": [
    "## "
   ]
  },
  {
   "cell_type": "code",
   "execution_count": 30,
   "metadata": {},
   "source": [
    "# sns.heatmap(df)"
   ],
   "outputs": []
  },
  {
   "cell_type": "markdown",
   "metadata": {},
   "source": [
    "### Data Visualisation"
   ]
  },
  {
   "cell_type": "code",
   "execution_count": 26,
   "metadata": {},
   "source": [
    "xLabel = \"yaw\" \n",
    "yLabel = \"speedX\"\n",
    "x = df[xLabel]\n",
    "y = df[yLabel]\n",
    "plt.xlabel(xLabel)\n",
    "plt.ylabel(yLabel)\n",
    "plt.scatter(x, y, c=\"red\", edgecolor='black', linewidth=1, alpha=0.75)"
   ],
   "outputs": []
  },
  {
   "cell_type": "markdown",
   "metadata": {},
   "source": [
    "**Is er een lineair verband tussen de omvang en de zwaartekracht van een planeet?**"
   ]
  },
  {
   "cell_type": "code",
   "execution_count": null,
   "metadata": {},
   "source": [
    "plt.xlabel(xLabel)\n",
    "plt.ylabel(yLabel)\n",
    "plt.title(f'Relatie tussen {xLabel} en {yLabel}')\n",
    "plt.scatter(x, y, c=\"red\", edgecolor='black', linewidth=1, alpha=0.75)\n",
    "\n",
    "b, m = polyfit(x, y, 1)\n",
    "plt.plot(x, b + m * x, '-')"
   ],
   "outputs": []
  },
  {
   "cell_type": "markdown",
   "metadata": {},
   "source": [
    "<img width=\"30%\" src='../pics/pluto.jpg'/>"
   ]
  },
  {
   "cell_type": "code",
   "execution_count": null,
   "metadata": {},
   "source": [
    "planetTypeList = [\"Terrestrial\", \"Terrestrial\", \"Terrestrial\", \"Terrestrial\",  \"Gas Giants\", \"Gas Giants\", \"Ice Giants\", \"Ice Giants\", \"Dwarf\" ]"
   ],
   "outputs": []
  }
 ],
 "metadata": {
  "kernelspec": {
   "display_name": "Python 3 (ipykernel)",
   "language": "python",
   "name": "python3"
  },
  "language_info": {
   "codemirror_mode": {
    "name": "ipython",
    "version": 3
   },
   "file_extension": ".py",
   "mimetype": "text/x-python",
   "name": "python",
   "nbconvert_exporter": "python",
   "pygments_lexer": "ipython3",
   "version": "3.12.3"
  }
 },
 "nbformat": 4,
 "nbformat_minor": 4
}
