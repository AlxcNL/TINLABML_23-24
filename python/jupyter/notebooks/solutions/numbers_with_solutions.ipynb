{
 "cells": [
  {
   "cell_type": "markdown",
   "id": "e9707e7f-ea3f-4ca0-b763-48d6b9de1b41",
   "metadata": {},
   "source": [
    "<div>\n",
    "<img src='../pics/banner.PNG'/>\n",
    "</div>\n",
    "<div>\n",
    "<img width=\"10%\" src='../pics/tinlab.png'/></a>\n",
    "<em>Python Basics <strong>Solutions</strong> - Jeroen Boogaard</em>\n",
    "</div>"
   ]
  },
  {
   "cell_type": "markdown",
   "id": "74d6a93a",
   "metadata": {},
   "source": [
    "<h3>Numerieke variabelen aanmaken en afdrukken</h3>"
   ]
  },
  {
   "cell_type": "code",
   "execution_count": 1,
   "id": "7dcb3c82",
   "metadata": {},
   "outputs": [
    {
     "name": "stdout",
     "output_type": "stream",
     "text": [
      "Today, we know of about 190 impact craters on Earth.\n"
     ]
    }
   ],
   "source": [
    "# integer\n",
    "craters = 190\n",
    "# Numbers can be injected into a String\n",
    "print(f\"Today, we know of about {craters} impact craters on Earth.\")"
   ]
  },
  {
   "cell_type": "code",
   "execution_count": 2,
   "id": "3aa4bb80-8b55-4979-bee5-0fab4eca1067",
   "metadata": {},
   "outputs": [],
   "source": [
    "# Voeg underscores toe om de leesbaarheid te vergroten\n",
    "meteoritesFound = 50_000\n",
    "# float\n",
    "ateroidsPercentage = 99.8"
   ]
  },
  {
   "cell_type": "code",
   "execution_count": 3,
   "id": "58b57719-afe6-4dcf-a153-184dc168b280",
   "metadata": {},
   "outputs": [
    {
     "name": "stdout",
     "output_type": "stream",
     "text": [
      "More than 50000 meteorites have been found on Earth. Of these, 99.8 percent come from asteroids\n"
     ]
    }
   ],
   "source": [
    "print(f\"More than {meteoritesFound} meteorites have been found on Earth. Of these, {ateroidsPercentage} percent come from asteroids\")"
   ]
  },
  {
   "cell_type": "markdown",
   "id": "0776fbd2",
   "metadata": {},
   "source": [
    "<h3>Rekenkundige bewerkingen</h3>"
   ]
  },
  {
   "cell_type": "code",
   "execution_count": 4,
   "id": "9b672530",
   "metadata": {},
   "outputs": [
    {
     "name": "stdout",
     "output_type": "stream",
     "text": [
      "100_000\n"
     ]
    }
   ],
   "source": [
    "meteorWeight = 100 * 10**3\n",
    "print(format(meteorWeight, '_d'))"
   ]
  },
  {
   "cell_type": "code",
   "execution_count": 5,
   "id": "83a9b161-6b4d-4426-9a07-c578e9013e39",
   "metadata": {},
   "outputs": [
    {
     "data": {
      "text/plain": [
       "120"
      ]
     },
     "execution_count": 5,
     "metadata": {},
     "output_type": "execute_result"
    }
   ],
   "source": [
    "a = 70\n",
    "b = 50\n",
    "a + b"
   ]
  },
  {
   "cell_type": "raw",
   "id": "52a8711e-a579-443a-8258-b0db17ce459f",
   "metadata": {},
   "source": [
    "Blijf positief.."
   ]
  },
  {
   "cell_type": "code",
   "execution_count": 6,
   "id": "ffbf37d4-4e77-4238-94dc-f43656c3fb19",
   "metadata": {},
   "outputs": [
    {
     "name": "stdout",
     "output_type": "stream",
     "text": [
      "The distance between a and b is 20 km\n"
     ]
    }
   ],
   "source": [
    "print(\"The distance between a and b is %s km\" %abs(b-a) )"
   ]
  },
  {
   "cell_type": "code",
   "execution_count": 7,
   "id": "bf3a78d1-d953-47f4-9089-af79e285225d",
   "metadata": {},
   "outputs": [
    {
     "data": {
      "text/plain": [
       "3500"
      ]
     },
     "execution_count": 7,
     "metadata": {},
     "output_type": "execute_result"
    }
   ],
   "source": [
    "a * b"
   ]
  },
  {
   "cell_type": "raw",
   "id": "570f5967-317d-413d-82e4-96e0f2b38bbb",
   "metadata": {},
   "source": [
    "<h4>Variabelen kunnen op verschillende manieren door elkaar gedeeld worden</h4>\n",
    "<ol>"
   ]
  },
  {
   "cell_type": "markdown",
   "id": "fd24becd-420d-4e1a-b04a-c9ad23d5d87d",
   "metadata": {},
   "source": [
    "<li>division: /</li>"
   ]
  },
  {
   "cell_type": "code",
   "execution_count": 8,
   "id": "3e7d9698-d034-4427-8c82-599597027f68",
   "metadata": {},
   "outputs": [
    {
     "data": {
      "text/plain": [
       "1.4"
      ]
     },
     "execution_count": 8,
     "metadata": {},
     "output_type": "execute_result"
    }
   ],
   "source": [
    "a / b"
   ]
  },
  {
   "cell_type": "markdown",
   "id": "bf2e0f0a-5e6d-4ce6-949f-8fa8d709bcc8",
   "metadata": {},
   "source": [
    "<li>floor division: //</li>"
   ]
  },
  {
   "cell_type": "code",
   "execution_count": 9,
   "id": "475803e1-5cb0-4e01-8148-c9ca26f8f0c2",
   "metadata": {},
   "outputs": [
    {
     "data": {
      "text/plain": [
       "1"
      ]
     },
     "execution_count": 9,
     "metadata": {},
     "output_type": "execute_result"
    }
   ],
   "source": [
    "a // b"
   ]
  },
  {
   "cell_type": "markdown",
   "id": "f029cba1-cd5a-42e0-9150-f4f168a880fd",
   "metadata": {},
   "source": [
    "<li>modulo: %</li>"
   ]
  },
  {
   "cell_type": "code",
   "execution_count": 10,
   "id": "a90e787f-42ea-41d1-85e3-55844e7bfefe",
   "metadata": {},
   "outputs": [
    {
     "data": {
      "text/plain": [
       "0.4"
      ]
     },
     "execution_count": 10,
     "metadata": {},
     "output_type": "execute_result"
    }
   ],
   "source": [
    "(a % b) / b"
   ]
  },
  {
   "cell_type": "code",
   "execution_count": 11,
   "id": "183e72f2-62b0-4a13-b1bf-336393e0edab",
   "metadata": {},
   "outputs": [
    {
     "data": {
      "text/plain": [
       "True"
      ]
     },
     "execution_count": 11,
     "metadata": {},
     "output_type": "execute_result"
    }
   ],
   "source": [
    "(a // b) + ((a % b) / b) == a /b"
   ]
  },
  {
   "cell_type": "raw",
   "id": "85e55613-e7fb-452d-a670-1221eb5f1d93",
   "metadata": {},
   "source": [
    "Een positieve draairichting is tegen de klok in"
   ]
  },
  {
   "cell_type": "code",
   "execution_count": 12,
   "id": "c47e6012-2a51-4719-9f5d-c25b26375860",
   "metadata": {},
   "outputs": [
    {
     "name": "stdout",
     "output_type": "stream",
     "text": [
      "After 2 clockwise turnarounds, the angle is 80 degrees to the right\n"
     ]
    }
   ],
   "source": [
    "rotation = -800\n",
    "spins = abs(rotation) // 360\n",
    "degrees = abs(rotation) % 360\n",
    "print(f\"After {spins} clockwise turnarounds, the angle is {degrees} degrees to the right\")"
   ]
  },
  {
   "cell_type": "markdown",
   "id": "25154a61-d3f0-46c1-b512-0a632706d61d",
   "metadata": {},
   "source": [
    "<h3>Exercise 3</h3>"
   ]
  },
  {
   "cell_type": "code",
   "execution_count": 13,
   "id": "f2197985-95c6-4864-929f-f8f8e8f97995",
   "metadata": {},
   "outputs": [],
   "source": [
    "durationInMinutes = 140"
   ]
  },
  {
   "cell_type": "markdown",
   "id": "aa8a2605-0a88-49df-935d-d996c59b414a",
   "metadata": {},
   "source": [
    "<p>Print de volgende String met gebruik van de variabelen <i>durationInMinutes</i>, <i>durationInHours</i> en <i>minutesLeft</i> <u>zonder de variabelen te veranderen</u>:<br>\n",
    "\"If there are 2 hours passed from 140 minutes, there are 20 minutes left\"\n",
    "</p>"
   ]
  },
  {
   "cell_type": "code",
   "execution_count": 14,
   "id": "260f3b99-3b4c-4d08-852a-09f268b1d335",
   "metadata": {},
   "outputs": [
    {
     "name": "stdout",
     "output_type": "stream",
     "text": [
      "If there are 2 hours passed from 140 minutes, there are 20 minutes left\n"
     ]
    }
   ],
   "source": [
    "# Oplossing\n",
    "durationInHours = durationInMinutes // 60\n",
    "minutesLeft = durationInMinutes % 60\n",
    "print(f\"If there are {durationInHours} hours passed from {durationInMinutes} minutes, there are {minutesLeft} minutes left\")"
   ]
  },
  {
   "cell_type": "markdown",
   "id": "d1623e47-4b05-40af-a27a-d2daad15946b",
   "metadata": {},
   "source": [
    "**Built-in Python module math**"
   ]
  },
  {
   "cell_type": "code",
   "execution_count": 15,
   "id": "da2b4860-f028-4716-907d-60efc875d649",
   "metadata": {},
   "outputs": [
    {
     "name": "stdout",
     "output_type": "stream",
     "text": [
      "100000.0\n"
     ]
    }
   ],
   "source": [
    "import math\n",
    "\n",
    "meteorWeight = 100 * math.pow(10,3)\n",
    "print(meteorWeight)"
   ]
  },
  {
   "cell_type": "raw",
   "id": "3e7c9c3b-e4d2-4458-afb7-6c0db5b83415",
   "metadata": {},
   "source": [
    "De output is een float. Je kunt dit weer omzetten in een integer. "
   ]
  },
  {
   "cell_type": "code",
   "execution_count": 16,
   "id": "30b1a7bb",
   "metadata": {},
   "outputs": [
    {
     "data": {
      "text/plain": [
       "100000"
      ]
     },
     "execution_count": 16,
     "metadata": {},
     "output_type": "execute_result"
    }
   ],
   "source": [
    "type(meteorWeight)\n",
    "int(meteorWeight)"
   ]
  },
  {
   "cell_type": "markdown",
   "id": "303b29ff-129b-485b-9656-2166f656f70a",
   "metadata": {},
   "source": [
    "<h3>Functies</h3>"
   ]
  },
  {
   "cell_type": "markdown",
   "id": "1ce7212f-35f4-4c55-a7ff-179439d73799",
   "metadata": {},
   "source": [
    "**Functies kunnen worden aangeroepen met een argument**"
   ]
  },
  {
   "cell_type": "code",
   "execution_count": 17,
   "id": "89fa18e5-b595-4c00-a925-9928393ed6bb",
   "metadata": {},
   "outputs": [
    {
     "name": "stdout",
     "output_type": "stream",
     "text": [
      "The meteoroid entered the atmosphere at over 63720 kilometers per hour.\n"
     ]
    }
   ],
   "source": [
    "def milesToKilometers(distance):\n",
    "    return round(distance * 1.609344, 2)\n",
    "\n",
    "distanceInMiles = 11        \n",
    "print( f\"The meteoroid entered the atmosphere at over {int(milesToKilometers(distanceInMiles)*3600)} kilometers per hour.\" )"
   ]
  },
  {
   "cell_type": "markdown",
   "id": "ce403ddc-278c-475a-baab-525e9122103d",
   "metadata": {},
   "source": [
    "**Functies kunnen worden aangeroepen zonder argument d.m.v. een <i>default value</i>**"
   ]
  },
  {
   "cell_type": "code",
   "execution_count": 18,
   "id": "44762233",
   "metadata": {},
   "outputs": [
    {
     "name": "stdout",
     "output_type": "stream",
     "text": [
      "A mile is longer than a kilometer and is equivalent to approximately 1.6 kilometers\n"
     ]
    }
   ],
   "source": [
    "def milesToKilometers(distance=1):\n",
    "    return distance * 1.609344\n",
    "\n",
    "print(f\"A mile is longer than a kilometer and is equivalent to approximately { round(milesToKilometers(),1) } kilometers\")"
   ]
  },
  {
   "cell_type": "markdown",
   "id": "b17d362a-d109-4311-bdc7-2b9fe24657cd",
   "metadata": {},
   "source": [
    "<h3>Exercise 4</h3>\n",
    "<p>Schrijf een functie voor het omzetten van een gewicht in <i>pounds</i> naar een <u>geheel aantal</u> <i>kilo's</i></p>"
   ]
  },
  {
   "cell_type": "code",
   "execution_count": 19,
   "id": "082009a5-fd6d-4436-b68c-95dab923ad94",
   "metadata": {},
   "outputs": [],
   "source": [
    "# Oplossing\n",
    "def poundsToKilos(pounds=1):\n",
    "    return 0.4535924 * pounds  "
   ]
  },
  {
   "cell_type": "code",
   "execution_count": 20,
   "id": "d9e1b5b4-45eb-43ec-ba20-82bfe5f1bb66",
   "metadata": {},
   "outputs": [
    {
     "name": "stdout",
     "output_type": "stream",
     "text": [
      "The rotation in degrees is : 270\n"
     ]
    }
   ],
   "source": [
    "def radiansToDegrees(radians):\n",
    "    return (radians*180) / math.pi\n",
    "\n",
    "rotationInRadians = 1.5 * math.pi\n",
    "rotationInDegrees = radiansToDegrees(rotationInRadians)\n",
    "\n",
    "print(\"The rotation in degrees is : {}\".format( round(rotationInDegrees), 0) )"
   ]
  },
  {
   "cell_type": "markdown",
   "id": "ead8af10-0e7d-466b-97e2-402df06449c2",
   "metadata": {},
   "source": [
    "<h3>Andertallige stelsels</h3>"
   ]
  },
  {
   "cell_type": "raw",
   "id": "6bd99486-92d8-421a-8875-ca5f7dca85ab",
   "metadata": {},
   "source": [
    "Een binary digit heeft de waarde 0 of 1"
   ]
  },
  {
   "cell_type": "code",
   "execution_count": 21,
   "id": "bcc232e8-0aa9-48e6-a9b6-f2f04f28f4b3",
   "metadata": {},
   "outputs": [
    {
     "name": "stdout",
     "output_type": "stream",
     "text": [
      "0b1\n",
      "1\n"
     ]
    }
   ],
   "source": [
    "a = bin(1)\n",
    "print(a)\n",
    "print(a[2:])"
   ]
  },
  {
   "cell_type": "raw",
   "id": "b7d54104-305d-4784-b8f1-4fb9c5fbc954",
   "metadata": {},
   "source": [
    "Rekenen met binaire getallen"
   ]
  },
  {
   "cell_type": "code",
   "execution_count": 22,
   "id": "70e70e99-4b26-4891-956a-ba029e9eb62c",
   "metadata": {},
   "outputs": [
    {
     "name": "stdout",
     "output_type": "stream",
     "text": [
      "1 + 1 = 10\n"
     ]
    }
   ],
   "source": [
    "sum = bin(int(a, 2) + int(a, 2))\n",
    "c = int(sum[2:])\n",
    "print(f\"{a[2:]} + {a[2:]} = {c}\")"
   ]
  },
  {
   "cell_type": "code",
   "execution_count": 23,
   "id": "fee282af-d4cd-47f3-a756-4cc6a179c0a7",
   "metadata": {},
   "outputs": [
    {
     "data": {
      "text/plain": [
       "3.0"
      ]
     },
     "execution_count": 23,
     "metadata": {},
     "output_type": "execute_result"
    }
   ],
   "source": [
    "base = 2\n",
    "d = '11'\n",
    "d1 = int(d[:1])\n",
    "d0 = int(d[1:])\n",
    "d1 * math.pow(base,1) + d0 * math.pow(base,0)"
   ]
  }
 ],
 "metadata": {
  "kernelspec": {
   "display_name": "Python 3 (ipykernel)",
   "language": "python",
   "name": "python3"
  },
  "language_info": {
   "codemirror_mode": {
    "name": "ipython",
    "version": 3
   },
   "file_extension": ".py",
   "mimetype": "text/x-python",
   "name": "python",
   "nbconvert_exporter": "python",
   "pygments_lexer": "ipython3",
   "version": "3.11.7"
  },
  "vscode": {
   "interpreter": {
    "hash": "aee8b7b246df8f9039afb4144a1f6fd8d2ca17a180786b69acc140d282b71a49"
   }
  }
 },
 "nbformat": 4,
 "nbformat_minor": 5
}
