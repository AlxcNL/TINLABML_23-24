{
 "cells": [
  {
   "cell_type": "markdown",
   "id": "8bab916d-43d3-4817-bbc1-6ef922fd30b9",
   "metadata": {},
   "source": [
    "<div>\n",
    "<img src='../pics/banner.PNG'/>\n",
    "</div>\n",
    "<div>\n",
    "<img width=\"20%\" src='../pics/pandas.svg'/>\n",
    "</div>\n",
    "<div>\n",
    "<img width=\"15%\" src='../pics/tinlab.png'/>\n",
    "<strong>Pandas 1 - Jeroen Boogaard</strong>\n",
    "</div>"
   ]
  },
  {
   "cell_type": "markdown",
   "id": "c9392295-fc66-4c23-b5a1-bd6e77d04144",
   "metadata": {},
   "source": [
    "## Imports"
   ]
  },
  {
   "cell_type": "code",
   "execution_count": 57,
   "id": "bcc776ab-559b-48df-9b7a-d33d423cdeb2",
   "metadata": {},
   "outputs": [],
   "source": [
    "import pandas as pd\n",
    "import certifi\n",
    "import io\n",
    "import json\n",
    "import numpy as np\n",
    "import urllib3\n",
    "from pathlib import Path\n",
    "from urllib3 import request"
   ]
  },
  {
   "cell_type": "markdown",
   "id": "e93ad462-46c4-4028-ace1-b4b84b45a5da",
   "metadata": {},
   "source": [
    "## Pandas 1: Data Collections\n",
    "<ul>\n",
    "    <li><strong>Pandas Series</strong> lijkt op een Python dictorionary en voeg labels toe aan een Numpy Array</li>\n",
    "    <li><strong>Pandas Dataframe</strong> is een tabel die is opgebouwd uit Pandas Series</li>\n",
    "</ul>"
   ]
  },
  {
   "cell_type": "markdown",
   "id": "1ccf6179-97f6-4d12-942a-8c6fb487ab49",
   "metadata": {},
   "source": [
    "### Pandas Series"
   ]
  },
  {
   "cell_type": "markdown",
   "id": "1fbc935d-3ce5-41ea-b98a-b7c8db4fcaa3",
   "metadata": {},
   "source": [
    "#### Pandas Series o.b.v. list"
   ]
  },
  {
   "cell_type": "code",
   "execution_count": 58,
   "id": "10ef19a8-1b77-4c99-a3fd-fe4554daa771",
   "metadata": {},
   "outputs": [],
   "source": [
    "finalCountriesList = ['Sweden', 'Ukraine', 'Germany', 'Luxembourg', 'Israel']\n",
    "finalOrderList = [ 1, 2, 3, 4, 6 ]"
   ]
  },
  {
   "cell_type": "code",
   "execution_count": 59,
   "id": "af541000-05cd-4cfc-86a8-2b880e0d259f",
   "metadata": {},
   "outputs": [
    {
     "data": {
      "text/plain": [
       "1        Sweden\n",
       "2       Ukraine\n",
       "3       Germany\n",
       "4    Luxembourg\n",
       "6        Israel\n",
       "dtype: object"
      ]
     },
     "metadata": {},
     "output_type": "display_data"
    },
    {
     "data": {
      "text/plain": [
       "pandas.core.series.Series"
      ]
     },
     "execution_count": 59,
     "metadata": {},
     "output_type": "execute_result"
    }
   ],
   "source": [
    "grandFinalSeries = pd.Series(data=finalCountriesList, index=finalOrderList)\n",
    "display(grandFinalSeries)\n",
    "type(grandFinalSeries)"
   ]
  },
  {
   "cell_type": "code",
   "execution_count": 60,
   "id": "553a7891-8fb4-41fe-9ea2-a290ee11425a",
   "metadata": {},
   "outputs": [
    {
     "data": {
      "text/plain": [
       "'Sweden'"
      ]
     },
     "execution_count": 60,
     "metadata": {},
     "output_type": "execute_result"
    }
   ],
   "source": [
    "grandFinalSeries[1]"
   ]
  },
  {
   "cell_type": "markdown",
   "id": "e8e089fa-69cb-40c2-9d3e-d5bd43efe273",
   "metadata": {},
   "source": [
    "<h3>Exercise 1</h3>\n",
    "<p>Maak uit grandFinalSeries de lijsten finalCountriesListExtracted en finalOrderListExtracted en vergelijk deze met finalCountriesList en finalOrderList</p>"
   ]
  },
  {
   "cell_type": "markdown",
   "id": "1db9fefc-310b-499b-b89a-652e6ba06641",
   "metadata": {},
   "source": [
    "**Oplossing**"
   ]
  },
  {
   "cell_type": "code",
   "execution_count": 61,
   "id": "ccc95ab2-4d5a-4901-8422-34c35b609acf",
   "metadata": {},
   "outputs": [
    {
     "data": {
      "text/plain": [
       "list"
      ]
     },
     "execution_count": 61,
     "metadata": {},
     "output_type": "execute_result"
    }
   ],
   "source": [
    "finalCountriesListExtracted = grandFinalSeries.values.tolist()\n",
    "type(finalCountriesListExtracted)"
   ]
  },
  {
   "cell_type": "code",
   "execution_count": 62,
   "id": "06335531-976a-4da0-9a04-681864e46c66",
   "metadata": {},
   "outputs": [
    {
     "data": {
      "text/plain": [
       "list"
      ]
     },
     "execution_count": 62,
     "metadata": {},
     "output_type": "execute_result"
    }
   ],
   "source": [
    "finalOrderListExtracted = grandFinalSeries.keys().tolist()\n",
    "type(finalOrderListExtracted)"
   ]
  },
  {
   "cell_type": "code",
   "execution_count": 63,
   "id": "96e16678-c54f-4985-a0a3-382e827f5bd0",
   "metadata": {},
   "outputs": [
    {
     "data": {
      "text/plain": [
       "True"
      ]
     },
     "execution_count": 63,
     "metadata": {},
     "output_type": "execute_result"
    }
   ],
   "source": [
    "(finalOrderListExtracted == finalOrderList) and (finalCountriesList == finalCountriesListExtracted)"
   ]
  },
  {
   "cell_type": "markdown",
   "id": "e6f0212d-2f35-4d03-a087-cb89a9467f94",
   "metadata": {},
   "source": [
    "<note>NB: De haakjes zijn toegevoegd voor de leesbaarheid</note>"
   ]
  },
  {
   "cell_type": "markdown",
   "id": "b21d6a69-ebe9-4946-b741-88811c27e5d3",
   "metadata": {},
   "source": [
    "#### Pandas Series o.b.v. dictionary"
   ]
  },
  {
   "cell_type": "code",
   "execution_count": 64,
   "id": "e367c42f-06b3-4975-a396-48717d749004",
   "metadata": {},
   "outputs": [],
   "source": [
    "euroArtistsDict = { \n",
    "    'Sweden':'Marcus & Martinus',\n",
    "    'Ukraine': 'alyona alyona & Jerry Heil',\n",
    "    'Germany': 'ISAAK'    \n",
    "}"
   ]
  },
  {
   "cell_type": "code",
   "execution_count": 65,
   "id": "0e59233d-0d81-400b-881e-cc38d86f5261",
   "metadata": {},
   "outputs": [
    {
     "data": {
      "text/plain": [
       "Sweden              Marcus & Martinus\n",
       "Ukraine    alyona alyona & Jerry Heil\n",
       "Germany                         ISAAK\n",
       "dtype: object"
      ]
     },
     "metadata": {},
     "output_type": "display_data"
    },
    {
     "data": {
      "text/plain": [
       "pandas.core.series.Series"
      ]
     },
     "execution_count": 65,
     "metadata": {},
     "output_type": "execute_result"
    }
   ],
   "source": [
    "euroArtistsSeries = pd.Series(euroArtistsDict)\n",
    "display(euroArtistsSeries)\n",
    "type(euroArtistsSeries)"
   ]
  },
  {
   "cell_type": "code",
   "execution_count": 66,
   "id": "94ebf3b7-95a4-4b1b-997e-04cdae8c8b2e",
   "metadata": {},
   "outputs": [
    {
     "data": {
      "text/plain": [
       "'Marcus & Martinus'"
      ]
     },
     "execution_count": 66,
     "metadata": {},
     "output_type": "execute_result"
    }
   ],
   "source": [
    "euroArtistsSeries[ grandFinalSeries[1] ]"
   ]
  },
  {
   "cell_type": "markdown",
   "id": "062ad75a-11dc-4777-bf76-ce9b6a8c39da",
   "metadata": {},
   "source": [
    "<h3>Exercise 2</h3>\n",
    "<p>Maak uit euroArtistsSeries de dictionary euroArtistsDictExtracted en vergelijk deze met euroArtistsDict</p>"
   ]
  },
  {
   "cell_type": "markdown",
   "id": "ee767070-8840-4f86-9a03-118de217db7f",
   "metadata": {},
   "source": [
    "**Oplossing**"
   ]
  },
  {
   "cell_type": "code",
   "execution_count": 67,
   "id": "63d73f3f-98bc-4c18-baec-1ac3b944e741",
   "metadata": {},
   "outputs": [
    {
     "data": {
      "text/plain": [
       "dict"
      ]
     },
     "execution_count": 67,
     "metadata": {},
     "output_type": "execute_result"
    }
   ],
   "source": [
    "euroArtistsDictExtracted = euroArtistsSeries.to_dict()\n",
    "type(euroArtistsDictExtracted)"
   ]
  },
  {
   "cell_type": "code",
   "execution_count": 78,
   "id": "92911b25-6695-40ec-9e6b-e47abe986702",
   "metadata": {},
   "outputs": [
    {
     "data": {
      "text/plain": [
       "True"
      ]
     },
     "execution_count": 78,
     "metadata": {},
     "output_type": "execute_result"
    }
   ],
   "source": [
    "euroArtistsDictExtracted == euroArtistsDict"
   ]
  },
  {
   "cell_type": "markdown",
   "id": "60abbb5d-5c03-4517-bfc5-c9f40ffb4081",
   "metadata": {},
   "source": [
    "#### Pandas Series o.b.v. Numpy Array"
   ]
  },
  {
   "cell_type": "code",
   "execution_count": 73,
   "id": "7ea463ee-2580-400f-ade2-292d94fa5e45",
   "metadata": {},
   "outputs": [
    {
     "data": {
      "text/plain": [
       "array([10, 20,  1,  2,  3,  4,  5,  6,  7])"
      ]
     },
     "metadata": {},
     "output_type": "display_data"
    },
    {
     "data": {
      "text/plain": [
       "(9,)"
      ]
     },
     "execution_count": 73,
     "metadata": {},
     "output_type": "execute_result"
    }
   ],
   "source": [
    "numbersArray = np.array(\n",
    "    [10, 20, 1, 2, 3, 4, 5, 6, 7]\n",
    ")\n",
    "display(numbersArray)\n",
    "numbersArray.shape"
   ]
  },
  {
   "cell_type": "code",
   "execution_count": 76,
   "id": "6ed3d42f-285a-40b3-9dc8-e86f102aa4f1",
   "metadata": {},
   "outputs": [
    {
     "data": {
      "text/plain": [
       "0    10\n",
       "1    20\n",
       "2     1\n",
       "3     2\n",
       "4     3\n",
       "5     4\n",
       "6     5\n",
       "7     6\n",
       "8     7\n",
       "dtype: int64"
      ]
     },
     "metadata": {},
     "output_type": "display_data"
    },
    {
     "data": {
      "text/plain": [
       "pandas.core.series.Series"
      ]
     },
     "execution_count": 76,
     "metadata": {},
     "output_type": "execute_result"
    }
   ],
   "source": [
    "numbersSeries = pd.Series(numbersArray)\n",
    "display(numbersSeries)\n",
    "type(numbersSeries)"
   ]
  },
  {
   "cell_type": "markdown",
   "id": "be107cf4-6523-435e-94ab-62051d13dc6b",
   "metadata": {},
   "source": [
    "<h3>Exercise 3</h3>\n",
    "<p>Maak uit numbersSeries de Numpy Array numbersArrayExtracted en vergelijk deze met numbersArray</p>"
   ]
  },
  {
   "cell_type": "markdown",
   "id": "86a4e268-6787-44bc-afa6-47bacdb6355c",
   "metadata": {},
   "source": [
    "**Oplossing**"
   ]
  },
  {
   "cell_type": "code",
   "execution_count": 82,
   "id": "c833c728-9e05-48e2-86be-106f8d7ce0a4",
   "metadata": {},
   "outputs": [
    {
     "data": {
      "text/plain": [
       "numpy.ndarray"
      ]
     },
     "execution_count": 82,
     "metadata": {},
     "output_type": "execute_result"
    }
   ],
   "source": [
    "numbersArrayExtracted = numbersSeries.to_numpy() \n",
    "type(numbersArrayExtracted)"
   ]
  },
  {
   "cell_type": "code",
   "execution_count": 81,
   "id": "4ca942a8-f535-4d44-a5e9-919cc4dc522b",
   "metadata": {},
   "outputs": [
    {
     "data": {
      "text/plain": [
       "array([ True,  True,  True,  True,  True,  True,  True,  True,  True])"
      ]
     },
     "execution_count": 81,
     "metadata": {},
     "output_type": "execute_result"
    }
   ],
   "source": [
    "numbersArray == numbersArrayExtracted"
   ]
  },
  {
   "cell_type": "markdown",
   "id": "c9b987d4-fda8-4ecb-8d01-c89889fde557",
   "metadata": {},
   "source": [
    "### Pandas Dataframe"
   ]
  },
  {
   "cell_type": "markdown",
   "id": "213a6f06-d59c-4dc7-ad2c-ab8c91319e19",
   "metadata": {},
   "source": [
    "#### Pandas Dataframe o.b.v. CSV bestand"
   ]
  },
  {
   "cell_type": "code",
   "execution_count": 207,
   "id": "f3a2bd65-72d2-40a2-af24-d3b1cf39d424",
   "metadata": {},
   "outputs": [],
   "source": [
    "csvFile = 'eurovision-2016.csv'\n",
    "csvFilePath = Path.cwd().parent.joinpath('csv').joinpath(csvFile)\n",
    "eurovisionSeries = pd.read_csv(csvFilePath)"
   ]
  },
  {
   "cell_type": "code",
   "execution_count": 208,
   "id": "199ccee3-23c6-427d-ba23-fd0eb9de014e",
   "metadata": {},
   "outputs": [
    {
     "data": {
      "text/html": [
       "<div>\n",
       "<style scoped>\n",
       "    .dataframe tbody tr th:only-of-type {\n",
       "        vertical-align: middle;\n",
       "    }\n",
       "\n",
       "    .dataframe tbody tr th {\n",
       "        vertical-align: top;\n",
       "    }\n",
       "\n",
       "    .dataframe thead th {\n",
       "        text-align: right;\n",
       "    }\n",
       "</style>\n",
       "<table border=\"1\" class=\"dataframe\">\n",
       "  <thead>\n",
       "    <tr style=\"text-align: right;\">\n",
       "      <th></th>\n",
       "      <th>From country</th>\n",
       "      <th>To country</th>\n",
       "      <th>Jury A</th>\n",
       "      <th>Jury B</th>\n",
       "      <th>Jury C</th>\n",
       "      <th>Jury D</th>\n",
       "      <th>Jury E</th>\n",
       "      <th>Jury Rank</th>\n",
       "      <th>Televote Rank</th>\n",
       "      <th>Jury Points</th>\n",
       "      <th>Televote Points</th>\n",
       "    </tr>\n",
       "  </thead>\n",
       "  <tbody>\n",
       "    <tr>\n",
       "      <th>0</th>\n",
       "      <td>Albania</td>\n",
       "      <td>Belgium</td>\n",
       "      <td>20</td>\n",
       "      <td>16</td>\n",
       "      <td>24</td>\n",
       "      <td>22</td>\n",
       "      <td>24</td>\n",
       "      <td>25</td>\n",
       "      <td>14</td>\n",
       "      <td>NaN</td>\n",
       "      <td>NaN</td>\n",
       "    </tr>\n",
       "    <tr>\n",
       "      <th>1</th>\n",
       "      <td>Albania</td>\n",
       "      <td>Czech Republic</td>\n",
       "      <td>21</td>\n",
       "      <td>15</td>\n",
       "      <td>25</td>\n",
       "      <td>23</td>\n",
       "      <td>16</td>\n",
       "      <td>22</td>\n",
       "      <td>22</td>\n",
       "      <td>NaN</td>\n",
       "      <td>NaN</td>\n",
       "    </tr>\n",
       "    <tr>\n",
       "      <th>2</th>\n",
       "      <td>Albania</td>\n",
       "      <td>The Netherlands</td>\n",
       "      <td>22</td>\n",
       "      <td>14</td>\n",
       "      <td>23</td>\n",
       "      <td>24</td>\n",
       "      <td>21</td>\n",
       "      <td>24</td>\n",
       "      <td>24</td>\n",
       "      <td>NaN</td>\n",
       "      <td>NaN</td>\n",
       "    </tr>\n",
       "    <tr>\n",
       "      <th>3</th>\n",
       "      <td>Albania</td>\n",
       "      <td>Azerbaijan</td>\n",
       "      <td>19</td>\n",
       "      <td>12</td>\n",
       "      <td>11</td>\n",
       "      <td>21</td>\n",
       "      <td>11</td>\n",
       "      <td>13</td>\n",
       "      <td>19</td>\n",
       "      <td>NaN</td>\n",
       "      <td>NaN</td>\n",
       "    </tr>\n",
       "    <tr>\n",
       "      <th>4</th>\n",
       "      <td>Albania</td>\n",
       "      <td>Hungary</td>\n",
       "      <td>8</td>\n",
       "      <td>13</td>\n",
       "      <td>9</td>\n",
       "      <td>14</td>\n",
       "      <td>9</td>\n",
       "      <td>10</td>\n",
       "      <td>10</td>\n",
       "      <td>1.0</td>\n",
       "      <td>1.0</td>\n",
       "    </tr>\n",
       "    <tr>\n",
       "      <th>5</th>\n",
       "      <td>Albania</td>\n",
       "      <td>Italy</td>\n",
       "      <td>4</td>\n",
       "      <td>10</td>\n",
       "      <td>3</td>\n",
       "      <td>7</td>\n",
       "      <td>2</td>\n",
       "      <td>3</td>\n",
       "      <td>2</td>\n",
       "      <td>8.0</td>\n",
       "      <td>10.0</td>\n",
       "    </tr>\n",
       "    <tr>\n",
       "      <th>6</th>\n",
       "      <td>Albania</td>\n",
       "      <td>Israel</td>\n",
       "      <td>10</td>\n",
       "      <td>2</td>\n",
       "      <td>18</td>\n",
       "      <td>4</td>\n",
       "      <td>12</td>\n",
       "      <td>8</td>\n",
       "      <td>17</td>\n",
       "      <td>3.0</td>\n",
       "      <td>NaN</td>\n",
       "    </tr>\n",
       "    <tr>\n",
       "      <th>7</th>\n",
       "      <td>Albania</td>\n",
       "      <td>Bulgaria</td>\n",
       "      <td>11</td>\n",
       "      <td>3</td>\n",
       "      <td>6</td>\n",
       "      <td>13</td>\n",
       "      <td>6</td>\n",
       "      <td>7</td>\n",
       "      <td>3</td>\n",
       "      <td>4.0</td>\n",
       "      <td>8.0</td>\n",
       "    </tr>\n",
       "    <tr>\n",
       "      <th>8</th>\n",
       "      <td>Albania</td>\n",
       "      <td>Sweden</td>\n",
       "      <td>16</td>\n",
       "      <td>8</td>\n",
       "      <td>15</td>\n",
       "      <td>6</td>\n",
       "      <td>15</td>\n",
       "      <td>11</td>\n",
       "      <td>8</td>\n",
       "      <td>NaN</td>\n",
       "      <td>3.0</td>\n",
       "    </tr>\n",
       "    <tr>\n",
       "      <th>9</th>\n",
       "      <td>Albania</td>\n",
       "      <td>Germany</td>\n",
       "      <td>18</td>\n",
       "      <td>17</td>\n",
       "      <td>20</td>\n",
       "      <td>11</td>\n",
       "      <td>17</td>\n",
       "      <td>18</td>\n",
       "      <td>15</td>\n",
       "      <td>NaN</td>\n",
       "      <td>NaN</td>\n",
       "    </tr>\n",
       "  </tbody>\n",
       "</table>\n",
       "</div>"
      ],
      "text/plain": [
       "  From country       To country  Jury A  Jury B  Jury C  Jury D  Jury E  \\\n",
       "0      Albania          Belgium      20      16      24      22      24   \n",
       "1      Albania   Czech Republic      21      15      25      23      16   \n",
       "2      Albania  The Netherlands      22      14      23      24      21   \n",
       "3      Albania       Azerbaijan      19      12      11      21      11   \n",
       "4      Albania          Hungary       8      13       9      14       9   \n",
       "5      Albania            Italy       4      10       3       7       2   \n",
       "6      Albania           Israel      10       2      18       4      12   \n",
       "7      Albania         Bulgaria      11       3       6      13       6   \n",
       "8      Albania           Sweden      16       8      15       6      15   \n",
       "9      Albania          Germany      18      17      20      11      17   \n",
       "\n",
       "   Jury Rank  Televote Rank  Jury Points  Televote Points  \n",
       "0         25             14          NaN              NaN  \n",
       "1         22             22          NaN              NaN  \n",
       "2         24             24          NaN              NaN  \n",
       "3         13             19          NaN              NaN  \n",
       "4         10             10          1.0              1.0  \n",
       "5          3              2          8.0             10.0  \n",
       "6          8             17          3.0              NaN  \n",
       "7          7              3          4.0              8.0  \n",
       "8         11              8          NaN              3.0  \n",
       "9         18             15          NaN              NaN  "
      ]
     },
     "execution_count": 208,
     "metadata": {},
     "output_type": "execute_result"
    }
   ],
   "source": [
    "eurovisionSeries.head(10)"
   ]
  },
  {
   "cell_type": "markdown",
   "id": "2dd3eb79-d859-475d-b4c0-970e262904a4",
   "metadata": {},
   "source": [
    "#### Pandas Dataframe o.b.v. CSV URL"
   ]
  },
  {
   "cell_type": "code",
   "execution_count": 209,
   "id": "f86e2b44-0f9e-4f50-9ed4-d15b34d0e48e",
   "metadata": {},
   "outputs": [
    {
     "data": {
      "text/html": [
       "<div>\n",
       "<style scoped>\n",
       "    .dataframe tbody tr th:only-of-type {\n",
       "        vertical-align: middle;\n",
       "    }\n",
       "\n",
       "    .dataframe tbody tr th {\n",
       "        vertical-align: top;\n",
       "    }\n",
       "\n",
       "    .dataframe thead th {\n",
       "        text-align: right;\n",
       "    }\n",
       "</style>\n",
       "<table border=\"1\" class=\"dataframe\">\n",
       "  <thead>\n",
       "    <tr style=\"text-align: right;\">\n",
       "      <th></th>\n",
       "      <th>From country</th>\n",
       "      <th>To country</th>\n",
       "      <th>Jury A</th>\n",
       "      <th>Jury B</th>\n",
       "      <th>Jury C</th>\n",
       "      <th>Jury D</th>\n",
       "      <th>Jury E</th>\n",
       "      <th>Jury Rank</th>\n",
       "      <th>Televote Rank</th>\n",
       "      <th>Jury Points</th>\n",
       "      <th>Televote Points</th>\n",
       "    </tr>\n",
       "  </thead>\n",
       "  <tbody>\n",
       "    <tr>\n",
       "      <th>0</th>\n",
       "      <td>Albania</td>\n",
       "      <td>Belgium</td>\n",
       "      <td>20</td>\n",
       "      <td>16</td>\n",
       "      <td>24</td>\n",
       "      <td>22</td>\n",
       "      <td>24</td>\n",
       "      <td>25</td>\n",
       "      <td>14</td>\n",
       "      <td>NaN</td>\n",
       "      <td>NaN</td>\n",
       "    </tr>\n",
       "    <tr>\n",
       "      <th>1</th>\n",
       "      <td>Albania</td>\n",
       "      <td>Czech Republic</td>\n",
       "      <td>21</td>\n",
       "      <td>15</td>\n",
       "      <td>25</td>\n",
       "      <td>23</td>\n",
       "      <td>16</td>\n",
       "      <td>22</td>\n",
       "      <td>22</td>\n",
       "      <td>NaN</td>\n",
       "      <td>NaN</td>\n",
       "    </tr>\n",
       "    <tr>\n",
       "      <th>2</th>\n",
       "      <td>Albania</td>\n",
       "      <td>The Netherlands</td>\n",
       "      <td>22</td>\n",
       "      <td>14</td>\n",
       "      <td>23</td>\n",
       "      <td>24</td>\n",
       "      <td>21</td>\n",
       "      <td>24</td>\n",
       "      <td>24</td>\n",
       "      <td>NaN</td>\n",
       "      <td>NaN</td>\n",
       "    </tr>\n",
       "    <tr>\n",
       "      <th>3</th>\n",
       "      <td>Albania</td>\n",
       "      <td>Azerbaijan</td>\n",
       "      <td>19</td>\n",
       "      <td>12</td>\n",
       "      <td>11</td>\n",
       "      <td>21</td>\n",
       "      <td>11</td>\n",
       "      <td>13</td>\n",
       "      <td>19</td>\n",
       "      <td>NaN</td>\n",
       "      <td>NaN</td>\n",
       "    </tr>\n",
       "    <tr>\n",
       "      <th>4</th>\n",
       "      <td>Albania</td>\n",
       "      <td>Hungary</td>\n",
       "      <td>8</td>\n",
       "      <td>13</td>\n",
       "      <td>9</td>\n",
       "      <td>14</td>\n",
       "      <td>9</td>\n",
       "      <td>10</td>\n",
       "      <td>10</td>\n",
       "      <td>1.0</td>\n",
       "      <td>1.0</td>\n",
       "    </tr>\n",
       "    <tr>\n",
       "      <th>5</th>\n",
       "      <td>Albania</td>\n",
       "      <td>Italy</td>\n",
       "      <td>4</td>\n",
       "      <td>10</td>\n",
       "      <td>3</td>\n",
       "      <td>7</td>\n",
       "      <td>2</td>\n",
       "      <td>3</td>\n",
       "      <td>2</td>\n",
       "      <td>8.0</td>\n",
       "      <td>10.0</td>\n",
       "    </tr>\n",
       "    <tr>\n",
       "      <th>6</th>\n",
       "      <td>Albania</td>\n",
       "      <td>Israel</td>\n",
       "      <td>10</td>\n",
       "      <td>2</td>\n",
       "      <td>18</td>\n",
       "      <td>4</td>\n",
       "      <td>12</td>\n",
       "      <td>8</td>\n",
       "      <td>17</td>\n",
       "      <td>3.0</td>\n",
       "      <td>NaN</td>\n",
       "    </tr>\n",
       "    <tr>\n",
       "      <th>7</th>\n",
       "      <td>Albania</td>\n",
       "      <td>Bulgaria</td>\n",
       "      <td>11</td>\n",
       "      <td>3</td>\n",
       "      <td>6</td>\n",
       "      <td>13</td>\n",
       "      <td>6</td>\n",
       "      <td>7</td>\n",
       "      <td>3</td>\n",
       "      <td>4.0</td>\n",
       "      <td>8.0</td>\n",
       "    </tr>\n",
       "    <tr>\n",
       "      <th>8</th>\n",
       "      <td>Albania</td>\n",
       "      <td>Sweden</td>\n",
       "      <td>16</td>\n",
       "      <td>8</td>\n",
       "      <td>15</td>\n",
       "      <td>6</td>\n",
       "      <td>15</td>\n",
       "      <td>11</td>\n",
       "      <td>8</td>\n",
       "      <td>NaN</td>\n",
       "      <td>3.0</td>\n",
       "    </tr>\n",
       "    <tr>\n",
       "      <th>9</th>\n",
       "      <td>Albania</td>\n",
       "      <td>Germany</td>\n",
       "      <td>18</td>\n",
       "      <td>17</td>\n",
       "      <td>20</td>\n",
       "      <td>11</td>\n",
       "      <td>17</td>\n",
       "      <td>18</td>\n",
       "      <td>15</td>\n",
       "      <td>NaN</td>\n",
       "      <td>NaN</td>\n",
       "    </tr>\n",
       "  </tbody>\n",
       "</table>\n",
       "</div>"
      ],
      "text/plain": [
       "  From country       To country  Jury A  Jury B  Jury C  Jury D  Jury E  \\\n",
       "0      Albania          Belgium      20      16      24      22      24   \n",
       "1      Albania   Czech Republic      21      15      25      23      16   \n",
       "2      Albania  The Netherlands      22      14      23      24      21   \n",
       "3      Albania       Azerbaijan      19      12      11      21      11   \n",
       "4      Albania          Hungary       8      13       9      14       9   \n",
       "5      Albania            Italy       4      10       3       7       2   \n",
       "6      Albania           Israel      10       2      18       4      12   \n",
       "7      Albania         Bulgaria      11       3       6      13       6   \n",
       "8      Albania           Sweden      16       8      15       6      15   \n",
       "9      Albania          Germany      18      17      20      11      17   \n",
       "\n",
       "   Jury Rank  Televote Rank  Jury Points  Televote Points  \n",
       "0         25             14          NaN              NaN  \n",
       "1         22             22          NaN              NaN  \n",
       "2         24             24          NaN              NaN  \n",
       "3         13             19          NaN              NaN  \n",
       "4         10             10          1.0              1.0  \n",
       "5          3              2          8.0             10.0  \n",
       "6          8             17          3.0              NaN  \n",
       "7          7              3          4.0              8.0  \n",
       "8         11              8          NaN              3.0  \n",
       "9         18             15          NaN              NaN  "
      ]
     },
     "execution_count": 209,
     "metadata": {},
     "output_type": "execute_result"
    }
   ],
   "source": [
    "url = \"https://raw.githubusercontent.com/ksatola/Data-Science-Notes/master/data/dc20/eurovision-2016.csv\"\n",
    "response = requests.get(url).content\n",
    "eurovisionSeries = pd.read_csv(io.StringIO(response.decode('utf-8')))\n",
    "eurovisionSeries.head(10)"
   ]
  },
  {
   "cell_type": "markdown",
   "id": "b2e7c273-c85a-4bbd-8096-c8440dd62497",
   "metadata": {},
   "source": [
    "**Handle certificate verification and SSL warnings**"
   ]
  },
  {
   "cell_type": "code",
   "execution_count": 210,
   "id": "eff84af0-79a1-49da-82db-693281ccc847",
   "metadata": {},
   "outputs": [],
   "source": [
    "http = urllib3.PoolManager( cert_reqs='CERT_REQUIRED', ca_certs=certifi.where() )"
   ]
  },
  {
   "cell_type": "markdown",
   "id": "e39698e3-dfa0-4172-a21f-7ee6bad745ef",
   "metadata": {},
   "source": [
    "**Get data from the API**"
   ]
  },
  {
   "cell_type": "code",
   "execution_count": null,
   "id": "e6c5a970-953f-4ef0-88a3-caaa024bd6c6",
   "metadata": {},
   "outputs": [],
   "source": [
    "url = 'https://maps2.dcgis.dc.gov/dcgis/rest/services/FEEDS/MPD/MapServer/2/query?where=1%3D1&outFields=*&outSR=4326&f=json'\n",
    "response = http.request('GET', url)\n",
    "response.status"
   ]
  },
  {
   "cell_type": "markdown",
   "id": "c75f2c48-54ca-4194-9063-5621c79d4d2a",
   "metadata": {},
   "source": [
    "**Decode json data into a dict object**"
   ]
  },
  {
   "cell_type": "code",
   "execution_count": 212,
   "id": "691b39e9-3d38-47d3-8f78-ce57da1dd78a",
   "metadata": {},
   "outputs": [],
   "source": [
    "if response.status == 200:\n",
    "    data = json.loads(response.data.decode('utf-8'))"
   ]
  },
  {
   "cell_type": "markdown",
   "id": "b952f985-d8fb-4c37-80e2-b7e1f0531040",
   "metadata": {},
   "source": [
    "**Load Features into Dataframe**"
   ]
  },
  {
   "cell_type": "code",
   "execution_count": 213,
   "id": "bc5ca21e-2ee8-4aa3-afc3-ed76ce8a91ad",
   "metadata": {},
   "outputs": [
    {
     "data": {
      "text/html": [
       "<div>\n",
       "<style scoped>\n",
       "    .dataframe tbody tr th:only-of-type {\n",
       "        vertical-align: middle;\n",
       "    }\n",
       "\n",
       "    .dataframe tbody tr th {\n",
       "        vertical-align: top;\n",
       "    }\n",
       "\n",
       "    .dataframe thead th {\n",
       "        text-align: right;\n",
       "    }\n",
       "</style>\n",
       "<table border=\"1\" class=\"dataframe\">\n",
       "  <thead>\n",
       "    <tr style=\"text-align: right;\">\n",
       "      <th></th>\n",
       "      <th>attributes.CCN</th>\n",
       "      <th>attributes.REPORT_DAT</th>\n",
       "      <th>attributes.SHIFT</th>\n",
       "      <th>attributes.METHOD</th>\n",
       "      <th>attributes.OFFENSE</th>\n",
       "      <th>attributes.BLOCK</th>\n",
       "      <th>attributes.XBLOCK</th>\n",
       "      <th>attributes.YBLOCK</th>\n",
       "      <th>attributes.WARD</th>\n",
       "      <th>attributes.ANC</th>\n",
       "      <th>...</th>\n",
       "      <th>attributes.VOTING_PRECINCT</th>\n",
       "      <th>attributes.LATITUDE</th>\n",
       "      <th>attributes.LONGITUDE</th>\n",
       "      <th>attributes.BID</th>\n",
       "      <th>attributes.START_DATE</th>\n",
       "      <th>attributes.END_DATE</th>\n",
       "      <th>attributes.OBJECTID</th>\n",
       "      <th>attributes.OCTO_RECORD_ID</th>\n",
       "      <th>geometry.x</th>\n",
       "      <th>geometry.y</th>\n",
       "    </tr>\n",
       "  </thead>\n",
       "  <tbody>\n",
       "    <tr>\n",
       "      <th>0</th>\n",
       "      <td>20164446</td>\n",
       "      <td>1605641172000</td>\n",
       "      <td>DAY</td>\n",
       "      <td>OTHERS</td>\n",
       "      <td>THEFT/OTHER</td>\n",
       "      <td>600 - 699 BLOCK OF K STREET NW</td>\n",
       "      <td>398186.0</td>\n",
       "      <td>137185.0</td>\n",
       "      <td>6</td>\n",
       "      <td>6E</td>\n",
       "      <td>...</td>\n",
       "      <td>Precinct 18</td>\n",
       "      <td>38.902518</td>\n",
       "      <td>-77.020913</td>\n",
       "      <td>MOUNT VERNON TRIANGLE CID</td>\n",
       "      <td>1605636194000</td>\n",
       "      <td>1.605637e+12</td>\n",
       "      <td>520956538</td>\n",
       "      <td>None</td>\n",
       "      <td>-77.020915</td>\n",
       "      <td>38.902526</td>\n",
       "    </tr>\n",
       "    <tr>\n",
       "      <th>1</th>\n",
       "      <td>20167707</td>\n",
       "      <td>1606231415000</td>\n",
       "      <td>DAY</td>\n",
       "      <td>OTHERS</td>\n",
       "      <td>MOTOR VEHICLE THEFT</td>\n",
       "      <td>1 - 149 BLOCK OF 54TH STREET SE</td>\n",
       "      <td>406635.0</td>\n",
       "      <td>135586.0</td>\n",
       "      <td>7</td>\n",
       "      <td>7C</td>\n",
       "      <td>...</td>\n",
       "      <td>Precinct 105</td>\n",
       "      <td>38.888090</td>\n",
       "      <td>-76.923523</td>\n",
       "      <td>None</td>\n",
       "      <td>1606186856000</td>\n",
       "      <td>1.606224e+12</td>\n",
       "      <td>520956539</td>\n",
       "      <td>None</td>\n",
       "      <td>-76.923525</td>\n",
       "      <td>38.888098</td>\n",
       "    </tr>\n",
       "    <tr>\n",
       "      <th>2</th>\n",
       "      <td>20162191</td>\n",
       "      <td>1605225488000</td>\n",
       "      <td>EVENING</td>\n",
       "      <td>OTHERS</td>\n",
       "      <td>THEFT/OTHER</td>\n",
       "      <td>800 - 899 BLOCK OF 15TH STREET NW</td>\n",
       "      <td>397081.0</td>\n",
       "      <td>136991.0</td>\n",
       "      <td>2</td>\n",
       "      <td>2C</td>\n",
       "      <td>...</td>\n",
       "      <td>Precinct 129</td>\n",
       "      <td>38.900767</td>\n",
       "      <td>-77.033651</td>\n",
       "      <td>DOWNTOWN</td>\n",
       "      <td>1605224438000</td>\n",
       "      <td>1.605225e+12</td>\n",
       "      <td>520956547</td>\n",
       "      <td>None</td>\n",
       "      <td>-77.033653</td>\n",
       "      <td>38.900775</td>\n",
       "    </tr>\n",
       "    <tr>\n",
       "      <th>3</th>\n",
       "      <td>20015634</td>\n",
       "      <td>1580075499000</td>\n",
       "      <td>EVENING</td>\n",
       "      <td>OTHERS</td>\n",
       "      <td>THEFT F/AUTO</td>\n",
       "      <td>500 - 599 BLOCK OF Q STREET NW</td>\n",
       "      <td>398316.0</td>\n",
       "      <td>138140.0</td>\n",
       "      <td>2</td>\n",
       "      <td>2G</td>\n",
       "      <td>...</td>\n",
       "      <td>Precinct 18</td>\n",
       "      <td>38.911121</td>\n",
       "      <td>-77.019417</td>\n",
       "      <td>None</td>\n",
       "      <td>1580050664000</td>\n",
       "      <td>1.580053e+12</td>\n",
       "      <td>520956549</td>\n",
       "      <td>None</td>\n",
       "      <td>-77.019419</td>\n",
       "      <td>38.911129</td>\n",
       "    </tr>\n",
       "    <tr>\n",
       "      <th>4</th>\n",
       "      <td>20016281</td>\n",
       "      <td>1580150125000</td>\n",
       "      <td>DAY</td>\n",
       "      <td>OTHERS</td>\n",
       "      <td>THEFT/OTHER</td>\n",
       "      <td>900 - 999 BLOCK OF 14TH STREET NW</td>\n",
       "      <td>397228.0</td>\n",
       "      <td>137120.0</td>\n",
       "      <td>2</td>\n",
       "      <td>2C</td>\n",
       "      <td>...</td>\n",
       "      <td>Precinct 129</td>\n",
       "      <td>38.901930</td>\n",
       "      <td>-77.031957</td>\n",
       "      <td>DOWNTOWN</td>\n",
       "      <td>1580148042000</td>\n",
       "      <td>1.580150e+12</td>\n",
       "      <td>520956550</td>\n",
       "      <td>None</td>\n",
       "      <td>-77.031959</td>\n",
       "      <td>38.901937</td>\n",
       "    </tr>\n",
       "    <tr>\n",
       "      <th>5</th>\n",
       "      <td>20029452</td>\n",
       "      <td>1582003986000</td>\n",
       "      <td>MIDNIGHT</td>\n",
       "      <td>OTHERS</td>\n",
       "      <td>THEFT/OTHER</td>\n",
       "      <td>300 - 399 BLOCK OF G STREET NW</td>\n",
       "      <td>398639.0</td>\n",
       "      <td>136719.0</td>\n",
       "      <td>6</td>\n",
       "      <td>6E</td>\n",
       "      <td>...</td>\n",
       "      <td>Precinct 143</td>\n",
       "      <td>38.898321</td>\n",
       "      <td>-77.015690</td>\n",
       "      <td>DOWNTOWN</td>\n",
       "      <td>1581892885000</td>\n",
       "      <td>1.581955e+12</td>\n",
       "      <td>520956551</td>\n",
       "      <td>None</td>\n",
       "      <td>-77.015692</td>\n",
       "      <td>38.898328</td>\n",
       "    </tr>\n",
       "    <tr>\n",
       "      <th>6</th>\n",
       "      <td>20033198</td>\n",
       "      <td>1582532628000</td>\n",
       "      <td>MIDNIGHT</td>\n",
       "      <td>OTHERS</td>\n",
       "      <td>THEFT/OTHER</td>\n",
       "      <td>600 - 699 BLOCK OF GALVESTON STREET SE</td>\n",
       "      <td>400084.0</td>\n",
       "      <td>128443.0</td>\n",
       "      <td>8</td>\n",
       "      <td>8E</td>\n",
       "      <td>...</td>\n",
       "      <td>Precinct 125</td>\n",
       "      <td>38.823768</td>\n",
       "      <td>-76.999033</td>\n",
       "      <td>None</td>\n",
       "      <td>1582330127000</td>\n",
       "      <td>1.582381e+12</td>\n",
       "      <td>520956552</td>\n",
       "      <td>None</td>\n",
       "      <td>-76.999035</td>\n",
       "      <td>38.823776</td>\n",
       "    </tr>\n",
       "    <tr>\n",
       "      <th>7</th>\n",
       "      <td>20033306</td>\n",
       "      <td>1582565585000</td>\n",
       "      <td>DAY</td>\n",
       "      <td>OTHERS</td>\n",
       "      <td>THEFT/OTHER</td>\n",
       "      <td>1500 - 1599 BLOCK OF BENNING ROAD NE</td>\n",
       "      <td>401521.0</td>\n",
       "      <td>136902.0</td>\n",
       "      <td>7</td>\n",
       "      <td>7D</td>\n",
       "      <td>...</td>\n",
       "      <td>Precinct 81</td>\n",
       "      <td>38.899969</td>\n",
       "      <td>-76.982466</td>\n",
       "      <td>None</td>\n",
       "      <td>1582554497000</td>\n",
       "      <td>1.582564e+12</td>\n",
       "      <td>520956553</td>\n",
       "      <td>None</td>\n",
       "      <td>-76.982468</td>\n",
       "      <td>38.899977</td>\n",
       "    </tr>\n",
       "    <tr>\n",
       "      <th>8</th>\n",
       "      <td>20074836</td>\n",
       "      <td>1590004793000</td>\n",
       "      <td>EVENING</td>\n",
       "      <td>KNIFE</td>\n",
       "      <td>ASSAULT W/DANGEROUS WEAPON</td>\n",
       "      <td>2632 - 2663 BLOCK OF MARTIN LUTHER KING JR AVE...</td>\n",
       "      <td>400366.0</td>\n",
       "      <td>132181.0</td>\n",
       "      <td>8</td>\n",
       "      <td>8C</td>\n",
       "      <td>...</td>\n",
       "      <td>Precinct 119</td>\n",
       "      <td>38.857442</td>\n",
       "      <td>-76.995783</td>\n",
       "      <td>ANACOSTIA</td>\n",
       "      <td>1589999760000</td>\n",
       "      <td>1.590002e+12</td>\n",
       "      <td>520956634</td>\n",
       "      <td>None</td>\n",
       "      <td>-76.995785</td>\n",
       "      <td>38.857449</td>\n",
       "    </tr>\n",
       "    <tr>\n",
       "      <th>9</th>\n",
       "      <td>20075381</td>\n",
       "      <td>1590093765000</td>\n",
       "      <td>EVENING</td>\n",
       "      <td>OTHERS</td>\n",
       "      <td>MOTOR VEHICLE THEFT</td>\n",
       "      <td>3500 - 3899 BLOCK OF JAY STREET NE</td>\n",
       "      <td>404579.0</td>\n",
       "      <td>137347.0</td>\n",
       "      <td>7</td>\n",
       "      <td>7D</td>\n",
       "      <td>...</td>\n",
       "      <td>Precinct 100</td>\n",
       "      <td>38.903967</td>\n",
       "      <td>-76.947209</td>\n",
       "      <td>None</td>\n",
       "      <td>1590089342000</td>\n",
       "      <td>1.590090e+12</td>\n",
       "      <td>520956635</td>\n",
       "      <td>None</td>\n",
       "      <td>-76.947212</td>\n",
       "      <td>38.903975</td>\n",
       "    </tr>\n",
       "  </tbody>\n",
       "</table>\n",
       "<p>10 rows × 25 columns</p>\n",
       "</div>"
      ],
      "text/plain": [
       "  attributes.CCN  attributes.REPORT_DAT attributes.SHIFT attributes.METHOD  \\\n",
       "0       20164446          1605641172000              DAY            OTHERS   \n",
       "1       20167707          1606231415000              DAY            OTHERS   \n",
       "2       20162191          1605225488000          EVENING            OTHERS   \n",
       "3       20015634          1580075499000          EVENING            OTHERS   \n",
       "4       20016281          1580150125000              DAY            OTHERS   \n",
       "5       20029452          1582003986000         MIDNIGHT            OTHERS   \n",
       "6       20033198          1582532628000         MIDNIGHT            OTHERS   \n",
       "7       20033306          1582565585000              DAY            OTHERS   \n",
       "8       20074836          1590004793000          EVENING             KNIFE   \n",
       "9       20075381          1590093765000          EVENING            OTHERS   \n",
       "\n",
       "           attributes.OFFENSE  \\\n",
       "0                 THEFT/OTHER   \n",
       "1         MOTOR VEHICLE THEFT   \n",
       "2                 THEFT/OTHER   \n",
       "3                THEFT F/AUTO   \n",
       "4                 THEFT/OTHER   \n",
       "5                 THEFT/OTHER   \n",
       "6                 THEFT/OTHER   \n",
       "7                 THEFT/OTHER   \n",
       "8  ASSAULT W/DANGEROUS WEAPON   \n",
       "9         MOTOR VEHICLE THEFT   \n",
       "\n",
       "                                    attributes.BLOCK  attributes.XBLOCK  \\\n",
       "0                     600 - 699 BLOCK OF K STREET NW           398186.0   \n",
       "1                    1 - 149 BLOCK OF 54TH STREET SE           406635.0   \n",
       "2                  800 - 899 BLOCK OF 15TH STREET NW           397081.0   \n",
       "3                     500 - 599 BLOCK OF Q STREET NW           398316.0   \n",
       "4                  900 - 999 BLOCK OF 14TH STREET NW           397228.0   \n",
       "5                     300 - 399 BLOCK OF G STREET NW           398639.0   \n",
       "6             600 - 699 BLOCK OF GALVESTON STREET SE           400084.0   \n",
       "7               1500 - 1599 BLOCK OF BENNING ROAD NE           401521.0   \n",
       "8  2632 - 2663 BLOCK OF MARTIN LUTHER KING JR AVE...           400366.0   \n",
       "9                 3500 - 3899 BLOCK OF JAY STREET NE           404579.0   \n",
       "\n",
       "   attributes.YBLOCK attributes.WARD attributes.ANC  ...  \\\n",
       "0           137185.0               6             6E  ...   \n",
       "1           135586.0               7             7C  ...   \n",
       "2           136991.0               2             2C  ...   \n",
       "3           138140.0               2             2G  ...   \n",
       "4           137120.0               2             2C  ...   \n",
       "5           136719.0               6             6E  ...   \n",
       "6           128443.0               8             8E  ...   \n",
       "7           136902.0               7             7D  ...   \n",
       "8           132181.0               8             8C  ...   \n",
       "9           137347.0               7             7D  ...   \n",
       "\n",
       "  attributes.VOTING_PRECINCT attributes.LATITUDE attributes.LONGITUDE  \\\n",
       "0                Precinct 18           38.902518           -77.020913   \n",
       "1               Precinct 105           38.888090           -76.923523   \n",
       "2               Precinct 129           38.900767           -77.033651   \n",
       "3                Precinct 18           38.911121           -77.019417   \n",
       "4               Precinct 129           38.901930           -77.031957   \n",
       "5               Precinct 143           38.898321           -77.015690   \n",
       "6               Precinct 125           38.823768           -76.999033   \n",
       "7                Precinct 81           38.899969           -76.982466   \n",
       "8               Precinct 119           38.857442           -76.995783   \n",
       "9               Precinct 100           38.903967           -76.947209   \n",
       "\n",
       "              attributes.BID attributes.START_DATE attributes.END_DATE  \\\n",
       "0  MOUNT VERNON TRIANGLE CID         1605636194000        1.605637e+12   \n",
       "1                       None         1606186856000        1.606224e+12   \n",
       "2                   DOWNTOWN         1605224438000        1.605225e+12   \n",
       "3                       None         1580050664000        1.580053e+12   \n",
       "4                   DOWNTOWN         1580148042000        1.580150e+12   \n",
       "5                   DOWNTOWN         1581892885000        1.581955e+12   \n",
       "6                       None         1582330127000        1.582381e+12   \n",
       "7                       None         1582554497000        1.582564e+12   \n",
       "8                  ANACOSTIA         1589999760000        1.590002e+12   \n",
       "9                       None         1590089342000        1.590090e+12   \n",
       "\n",
       "   attributes.OBJECTID  attributes.OCTO_RECORD_ID geometry.x  geometry.y  \n",
       "0            520956538                       None -77.020915   38.902526  \n",
       "1            520956539                       None -76.923525   38.888098  \n",
       "2            520956547                       None -77.033653   38.900775  \n",
       "3            520956549                       None -77.019419   38.911129  \n",
       "4            520956550                       None -77.031959   38.901937  \n",
       "5            520956551                       None -77.015692   38.898328  \n",
       "6            520956552                       None -76.999035   38.823776  \n",
       "7            520956553                       None -76.982468   38.899977  \n",
       "8            520956634                       None -76.995785   38.857449  \n",
       "9            520956635                       None -76.947212   38.903975  \n",
       "\n",
       "[10 rows x 25 columns]"
      ]
     },
     "execution_count": 213,
     "metadata": {},
     "output_type": "execute_result"
    }
   ],
   "source": [
    "df = pd.json_normalize(data, 'features')\n",
    "df.head(10)"
   ]
  },
  {
   "cell_type": "markdown",
   "id": "0a997ccf-cb58-499e-b4c5-eb9304f30112",
   "metadata": {},
   "source": [
    "## References\n",
    "\n",
    "[data/dc20/eurovision-2016.csv](https://github.com/ksatola/Data-Science-Notes/blob/master/data/dc20/eurovision-2016.csv)\n",
    "\n",
    "[From API to Pandas](https://plainenglish.io/blog/from-api-to-pandas-getting-json-data-with-python-df127f699b6b)\n"
   ]
  }
 ],
 "metadata": {
  "kernelspec": {
   "display_name": "Python 3 (ipykernel)",
   "language": "python",
   "name": "python3"
  },
  "language_info": {
   "codemirror_mode": {
    "name": "ipython",
    "version": 3
   },
   "file_extension": ".py",
   "mimetype": "text/x-python",
   "name": "python",
   "nbconvert_exporter": "python",
   "pygments_lexer": "ipython3",
   "version": "3.12.2"
  },
  "vscode": {
   "interpreter": {
    "hash": "aee8b7b246df8f9039afb4144a1f6fd8d2ca17a180786b69acc140d282b71a49"
   }
  }
 },
 "nbformat": 4,
 "nbformat_minor": 5
}
