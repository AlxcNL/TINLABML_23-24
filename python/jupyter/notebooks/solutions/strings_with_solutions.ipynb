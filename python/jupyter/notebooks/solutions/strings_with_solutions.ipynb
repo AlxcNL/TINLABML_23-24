{
 "cells": [
  {
   "cell_type": "markdown",
   "id": "e9707e7f-ea3f-4ca0-b763-48d6b9de1b41",
   "metadata": {},
   "source": [
    "<div>\n",
    "<img src='../pics/banner.PNG'/>\n",
    "</div>\n",
    "<div>\n",
    "<img width=\"10%\" src='../pics/tinlab.png'/></a>\n",
    "<em>Python Basics <strong>Solutions</strong> - Jeroen Boogaard</em>\n",
    "</div>"
   ]
  },
  {
   "cell_type": "markdown",
   "id": "34793cd9-f1cd-4165-a297-6518c0b63ac5",
   "metadata": {},
   "source": [
    "<h1>Enkelvoudige variabelen - Strings</h1>"
   ]
  },
  {
   "cell_type": "raw",
   "id": "2998c5f8-ab4f-44f2-a50d-81d9295938e9",
   "metadata": {},
   "source": [
    "Een String is een enkelvoudig datatype voor textuele content."
   ]
  },
  {
   "cell_type": "markdown",
   "id": "74d6a93a",
   "metadata": {},
   "source": [
    "<h3>String variabelen aanmaken en afdrukken</h3>"
   ]
  },
  {
   "cell_type": "raw",
   "id": "4e19d1e7-9226-4e7b-a8b9-1dd1d31e69fd",
   "metadata": {},
   "source": [
    "Om een String (tijdelijk) in het gegeugen op te slaan, kun je een variabele aanmaken. "
   ]
  },
  {
   "cell_type": "code",
   "execution_count": 151,
   "id": "3aa4bb80-8b55-4979-bee5-0fab4eca1067",
   "metadata": {},
   "outputs": [],
   "source": [
    "planet = \"Mercury\""
   ]
  },
  {
   "cell_type": "raw",
   "id": "f622a120-6626-4352-98e9-16a12675cb3a",
   "metadata": {},
   "source": [
    "De variabele planet heeft nu de waarde \"Mercury\" en is krijgt daardoor het type String"
   ]
  },
  {
   "cell_type": "code",
   "execution_count": 152,
   "id": "58b57719-afe6-4dcf-a153-184dc168b280",
   "metadata": {},
   "outputs": [
    {
     "data": {
      "text/plain": [
       "str"
      ]
     },
     "execution_count": 152,
     "metadata": {},
     "output_type": "execute_result"
    }
   ],
   "source": [
    "type(planet)"
   ]
  },
  {
   "cell_type": "markdown",
   "id": "0776fbd2",
   "metadata": {},
   "source": [
    "**Gebruik camelCase voor de naam van een variabele**"
   ]
  },
  {
   "cell_type": "code",
   "execution_count": 153,
   "id": "9b672530",
   "metadata": {},
   "outputs": [],
   "source": [
    "myHomePlanet = \"Earth\""
   ]
  },
  {
   "cell_type": "markdown",
   "id": "cee89732-4d32-4e88-835f-bb3d311b436e",
   "metadata": {},
   "source": [
    "**Gebruik haakjes voor het afdrukken van een string**"
   ]
  },
  {
   "cell_type": "code",
   "execution_count": 154,
   "id": "da2b4860-f028-4716-907d-60efc875d649",
   "metadata": {},
   "outputs": [
    {
     "name": "stdout",
     "output_type": "stream",
     "text": [
      "Mercury\n"
     ]
    }
   ],
   "source": [
    "print(planet)"
   ]
  },
  {
   "cell_type": "raw",
   "id": "3e7c9c3b-e4d2-4458-afb7-6c0db5b83415",
   "metadata": {},
   "source": [
    "Zowel enkele als dubbele quotes zijn toegestaan."
   ]
  },
  {
   "cell_type": "code",
   "execution_count": 155,
   "id": "89fa18e5-b595-4c00-a925-9928393ed6bb",
   "metadata": {},
   "outputs": [
    {
     "data": {
      "text/plain": [
       "str"
      ]
     },
     "execution_count": 155,
     "metadata": {},
     "output_type": "execute_result"
    }
   ],
   "source": [
    "star = 'Sun'\n",
    "type(star)"
   ]
  },
  {
   "cell_type": "raw",
   "id": "8191edd1-e5ef-432d-b2d2-0045f325d21f",
   "metadata": {},
   "source": [
    "Wanneer gebruik je enkele en wanneer dubbele quotes? Wees vooral praktisch.."
   ]
  },
  {
   "cell_type": "code",
   "execution_count": null,
   "id": "6ac50411-8461-4587-acd3-72fb10040b3e",
   "metadata": {},
   "outputs": [],
   "source": [
    "print(\"Merury doesn't have an atmosphere because it is so close to the Sun\")\n",
    "print('\"We choose to go to the moon in this decade and do the other things, not because they are easy, but because they are hard\" - JFK')"
   ]
  },
  {
   "cell_type": "markdown",
   "id": "ac51e674-660e-49d3-a8da-92de6b4732b3",
   "metadata": {},
   "source": [
    "<h4>Variabelen kunnen als onderdeel van een omvattende String worden afgedrukt</h4>\n",
    "<ol>"
   ]
  },
  {
   "cell_type": "markdown",
   "id": "4bb3ec2d-62fb-41f1-9c30-05a2ee5f39b1",
   "metadata": {},
   "source": [
    "<li>met de methode <b>format()</b></li>"
   ]
  },
  {
   "cell_type": "code",
   "execution_count": 156,
   "id": "7ad87022-4b2e-4067-9f8f-1a43fad63029",
   "metadata": {},
   "outputs": [],
   "source": [
    "formatStr = \"Being the planet closest to the {0}, {1} guards its secrets very carefully\".format(star, planet)"
   ]
  },
  {
   "cell_type": "markdown",
   "id": "c56cf4ff-bf8d-4898-a10f-08a06a7911cb",
   "metadata": {},
   "source": [
    "<li>door gebruik van een <b>f-string</b></li>"
   ]
  },
  {
   "cell_type": "code",
   "execution_count": null,
   "id": "c1aed156-b5aa-4ed2-a5f6-98c28828314d",
   "metadata": {},
   "outputs": [],
   "source": [
    "fStr = f\"Being the planet closest to the {star}, {planet} guards its secrets very carefully\""
   ]
  },
  {
   "cell_type": "markdown",
   "id": "324aa354-4066-4490-a8ce-4d7c5e26649d",
   "metadata": {},
   "source": [
    "<li>met de <b>String Formatting Operator</b></li>\n",
    "</ol>"
   ]
  },
  {
   "cell_type": "code",
   "execution_count": null,
   "id": "b5006e39-e666-4c9f-8d0f-3e21b4e810c6",
   "metadata": {},
   "outputs": [],
   "source": [
    "formatOperatorStr = \"Being the planet closest to the %s, %s guards its secrets very carefully\" %(star,planet)"
   ]
  },
  {
   "cell_type": "code",
   "execution_count": null,
   "id": "c82af862-5226-472d-821a-5ddd1da812bf",
   "metadata": {},
   "outputs": [],
   "source": [
    "print(formatStr)"
   ]
  },
  {
   "cell_type": "markdown",
   "id": "f5e43af5-f38a-45af-930e-ff36fc1e9a19",
   "metadata": {},
   "source": [
    "**Gebruik comparators om de waarden van variabelen met elkaar te vergelijken**"
   ]
  },
  {
   "cell_type": "code",
   "execution_count": null,
   "id": "a261aff8-ae79-4d7d-9cc3-45ceb2e93878",
   "metadata": {},
   "outputs": [],
   "source": [
    "formatStr == fStr == formatOperatorStr"
   ]
  },
  {
   "cell_type": "markdown",
   "id": "b17d362a-d109-4311-bdc7-2b9fe24657cd",
   "metadata": {},
   "source": [
    "<h3>Exercise 1</h3>\n",
    "<p>Print de volgende String op <u>drie verschillende manieren</u> en met gebruik van de variabelen <i>planet</i>, <i>star</i> en <i>myHomePlanet</i><br>\n",
    "\"Since Mercury is so much closer to the Sun than we are, in the Mercurian sky the Sun appears three times as big as from here on Earth\"</p>"
   ]
  },
  {
   "cell_type": "code",
   "execution_count": 158,
   "id": "b031bd79-349e-490a-a546-994b098b7a36",
   "metadata": {},
   "outputs": [
    {
     "name": "stdout",
     "output_type": "stream",
     "text": [
      "Since Mercury is so much closer to the Sun than we are, in the Mercurian sky the Sun appears three times as big as from here on Earth\n",
      "Since Mercury is so much closer to the Sun than we are, in the Mercurian sky the Sun appears three times as big as from here on Earth\n",
      "Since Mercury is so much closer to the Sun than we are, in the Mercurian sky the Sun appears three times as big as from here on Earth\n"
     ]
    }
   ],
   "source": [
    "# Oplossing\n",
    "print(\"Since {0} is so much closer to the {1} than we are, in the Mercurian sky the {1} appears three times as big as from here on {2}\".format(planet, star, myHomePlanet))\n",
    "print(f\"Since {planet} is so much closer to the {star} than we are, in the Mercurian sky the {star} appears three times as big as from here on {myHomePlanet}\")\n",
    "print(\"Since %s is so much closer to the %s than we are, in the Mercurian sky the %s appears three times as big as from here on %s\" %(planet, star, star, myHomePlanet))"
   ]
  },
  {
   "cell_type": "markdown",
   "id": "7769085e-e1a5-4c0a-893c-e45e4fd8066b",
   "metadata": {},
   "source": [
    "<h3>String operaties</h3>"
   ]
  },
  {
   "cell_type": "markdown",
   "id": "1788a47e-6d0f-4d24-b04d-6108b7e58001",
   "metadata": {},
   "source": [
    "Ookal verander je de waarde van de <i>geinjecteerde variabele</i>, de samengestelde variabele behoudt zijn oorspronkelijke waarde"
   ]
  },
  {
   "cell_type": "code",
   "execution_count": null,
   "id": "03dfb7ba-ecd3-4a0c-9b8e-1df72ec0eed2",
   "metadata": {},
   "outputs": [],
   "source": [
    "planet = \"Venus\"\n",
    "print(planet)\n",
    "print(formatStr)"
   ]
  },
  {
   "cell_type": "markdown",
   "id": "5f4d3cc2",
   "metadata": {},
   "source": [
    "Ook na de operatie <i>replace()</i> variabele sentence nog zijn initiele waarde"
   ]
  },
  {
   "cell_type": "code",
   "execution_count": null,
   "id": "093046a0-ac71-410d-b7f2-fdf9b5f12b08",
   "metadata": {},
   "outputs": [],
   "source": [
    "sentence = formatStr\n",
    "print(sentence.replace(\"Mercury\",\"Venus\"))\n",
    "print(sentence)"
   ]
  },
  {
   "cell_type": "markdown",
   "id": "aa6e1a4b-a372-462c-9068-595b5cb10147",
   "metadata": {},
   "source": [
    "**Gebruik functies voor het omzetten van en naar hoofdletters in Strings**"
   ]
  },
  {
   "cell_type": "code",
   "execution_count": null,
   "id": "9a62d1d6",
   "metadata": {},
   "outputs": [],
   "source": [
    "print(\"The NEAR Mission\".upper())\n",
    "print(\"Dwarf Planets\".lower())\n",
    "\n",
    "cosmonaut = \"alexi leonov\"\n",
    "print(\"Cosmonaut {}\".format(cosmonaut.title()))\n",
    "print(f\"Cosmonaut {cosmonaut.title()}\")"
   ]
  },
  {
   "cell_type": "markdown",
   "id": "bb04b748-ae6c-4c6c-ac5f-582f74f1db66",
   "metadata": {},
   "source": [
    "<h3>Exercise 2</h3>\n",
    "<p>Print de volgende String met gebruik van de gegeven variabelen, een <u>String Formatting Operator</u> en String operaties, <u>zonder de variabelen zelf te veranderen</u><br>\n",
    "\"So far, KBOs have been seen from distances ranging from 30AU to 50AU from the Sun (for reference, Pluto's average orbit is at about 39AU).\"</p>"
   ]
  },
  {
   "cell_type": "code",
   "execution_count": null,
   "id": "daefaefb-1aee-4cda-b04a-3536eeafab8f",
   "metadata": {},
   "outputs": [],
   "source": [
    "object = \"kbo\"\n",
    "distanceUnit = \"au\"\n",
    "star = \"SUN\"\n",
    "\n",
    "# Oplossing\n",
    "print(\"So far, {0}'s have been seen from distances ranging from 30{1} to 50{1} from the {2} (for reference, Pluto's average orbit is at about 39{1}).\"\n",
    "      .format(object.upper(), distanceUnit.upper(), star.title()))"
   ]
  },
  {
   "cell_type": "markdown",
   "id": "55e59489-924e-4f13-8c49-feb48c990e91",
   "metadata": {},
   "source": [
    "**Gebruik split() om een zin op te splitsen in woorden**"
   ]
  },
  {
   "cell_type": "code",
   "execution_count": null,
   "id": "4e38c568-2327-48f2-8925-652179a7c856",
   "metadata": {},
   "outputs": [],
   "source": [
    "rockyPlanets = \"Mercury, Venus, Earth and Mars\".replace(',','').split()\n",
    "rockyPlanets.remove(\"and\")\n",
    "print(rockyPlanets)"
   ]
  },
  {
   "cell_type": "raw",
   "id": "02e8e2ce-2256-478c-8899-376a779fbd72",
   "metadata": {},
   "source": [
    "Inhoud van een String over meerdere regels"
   ]
  },
  {
   "cell_type": "code",
   "execution_count": null,
   "id": "fd14febc-fe4b-435b-ab40-5fdfa2c8a92e",
   "metadata": {},
   "outputs": [],
   "source": [
    "multiLineStr = \"\"\"\n",
    "                Standing on Mercury's surface at its closest approach to the Sun, \n",
    "                our star would appear more than three times larger than it does on Earth.\n",
    "                \"\"\"\n",
    "print(multiLineStr)"
   ]
  },
  {
   "cell_type": "markdown",
   "id": "44a4224e-125f-41fa-abc6-8efc225c3478",
   "metadata": {},
   "source": [
    "<h3>Functies</h3>"
   ]
  },
  {
   "cell_type": "markdown",
   "id": "b5f9f663-aac7-49a1-9147-1636b9f73039",
   "metadata": {},
   "source": [
    "**Functies kunnen worden aangeroepen zonder argument**"
   ]
  },
  {
   "cell_type": "code",
   "execution_count": null,
   "id": "dca1eb76-de0d-4d67-ab27-b862226a3583",
   "metadata": {},
   "outputs": [],
   "source": [
    "def printExampleString():\n",
    "    print(\"Because of Mercury's elliptical – egg-shaped – orbit, and sluggish rotation, the Sun appears to rise briefly, set, and rise again from some parts of the planet's surface. The same thing happens in reverse at sunset.\")\n",
    "    \n",
    "printExampleString()    "
   ]
  },
  {
   "cell_type": "code",
   "execution_count": null,
   "id": "62470c21-2eae-4508-87cc-eae3c5e611fe",
   "metadata": {},
   "outputs": [],
   "source": [
    "def showDocString():\n",
    "    \"\"\"\n",
    "    De docstring is een beschrijving van een functie, die bedoeld is voor de programmeur. \n",
    "    De Python interpreter negeert deze String\n",
    "    \"\"\""
   ]
  },
  {
   "cell_type": "code",
   "execution_count": null,
   "id": "e38bc85a-0ec8-48d8-9891-b627881a9294",
   "metadata": {},
   "outputs": [],
   "source": [
    "print(showDocString.__doc__)"
   ]
  }
 ],
 "metadata": {
  "kernelspec": {
   "display_name": "Python 3 (ipykernel)",
   "language": "python",
   "name": "python3"
  },
  "language_info": {
   "codemirror_mode": {
    "name": "ipython",
    "version": 3
   },
   "file_extension": ".py",
   "mimetype": "text/x-python",
   "name": "python",
   "nbconvert_exporter": "python",
   "pygments_lexer": "ipython3",
   "version": "3.11.7"
  },
  "vscode": {
   "interpreter": {
    "hash": "aee8b7b246df8f9039afb4144a1f6fd8d2ca17a180786b69acc140d282b71a49"
   }
  }
 },
 "nbformat": 4,
 "nbformat_minor": 5
}
