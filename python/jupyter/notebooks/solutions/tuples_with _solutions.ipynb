{
 "cells": [
  {
   "cell_type": "markdown",
   "id": "5a5999c2-eb9d-4bf9-8373-b9964e2c152d",
   "metadata": {},
   "source": [
    "<div>\n",
    "<img src='../pics/banner.PNG'/>\n",
    "</div>\n",
    "<div>\n",
    "<img width=\"10%\" src='../pics/tinlab.png'/></a>\n",
    "<em>Python Basics <strong>Solutions</strong> - Jeroen Boogaard</em>\n",
    "</div>"
   ]
  },
  {
   "cell_type": "markdown",
   "id": "88e57004-2f85-4311-84c0-c4e148f421a7",
   "metadata": {},
   "source": [
    "<h1>Samengestelde variabelen - tuples</h1>"
   ]
  },
  {
   "cell_type": "markdown",
   "id": "9cdb9135-2650-4c30-a810-0685e5b4b50b",
   "metadata": {},
   "source": [
    "**Een tuple is een <u>immutable</u> list**"
   ]
  },
  {
   "cell_type": "markdown",
   "id": "6837aea3-45db-4940-8b9d-a406fdc01db1",
   "metadata": {},
   "source": [
    "<h3>Tuple variabelen aanmaken en afdrukken</h3>"
   ]
  },
  {
   "cell_type": "markdown",
   "id": "99e472c0-ba9b-4e25-ae03-75fd62f31e8f",
   "metadata": {},
   "source": [
    "**Gebruik haakjes () voor het aanmaken van een tuple variabele**"
   ]
  },
  {
   "cell_type": "code",
   "execution_count": 3,
   "id": "eac2c3b2-52a0-4847-bffc-ad8d2eff0507",
   "metadata": {
    "tags": []
   },
   "outputs": [],
   "source": [
    "soho = (\"SOlar\", \"Heliospheric\", \"Observatory\")"
   ]
  },
  {
   "cell_type": "markdown",
   "id": "c680333b-23c3-42fc-8c04-d6e8a281fa40",
   "metadata": {},
   "source": [
    "<p>Om een tuple om te zetten naar <i>printable string</i>, kun je de methode <i>join()</i> gebruiken, een methode van type <u>str</u>, <strong>niet</strong> van <u>tuple</u>\n",
    "</p> "
   ]
  },
  {
   "cell_type": "code",
   "execution_count": 4,
   "id": "73948594-ecc9-4e70-90a1-75fd5f48deb0",
   "metadata": {},
   "outputs": [
    {
     "name": "stdout",
     "output_type": "stream",
     "text": [
      "The SOHO SOlar, Heliospheric, Observatory telescope is studying and staring at the Sun\n"
     ]
    }
   ],
   "source": [
    "print(f\"The SOHO {', '.join(soho) } telescope is studying and staring at the Sun\")"
   ]
  },
  {
   "cell_type": "code",
   "execution_count": 5,
   "id": "cb5cde87-1945-4329-8b7c-89eec6b1bc16",
   "metadata": {},
   "outputs": [
    {
     "name": "stdout",
     "output_type": "stream",
     "text": [
      "Triton discovered William Lassell in 1846\n"
     ]
    }
   ],
   "source": [
    "discovery = (\"Triton\", \"William Lassell\", 1846)\n",
    "print( \"%s discovered %s in %s\" %(discovery) )"
   ]
  },
  {
   "cell_type": "markdown",
   "id": "e9d5d50b-750c-4b59-ae28-ea58ba287b70",
   "metadata": {},
   "source": [
    "**Gebruik methodes van list om een bepaald element uit een tuple op te vragen**"
   ]
  },
  {
   "cell_type": "markdown",
   "id": "edad1885-0775-4769-986e-f230ce22c35f",
   "metadata": {},
   "source": [
    "<p>Vraag het <u>eerste</u> element van de tuple op</p> "
   ]
  },
  {
   "cell_type": "code",
   "execution_count": 6,
   "id": "16176f6e-c3ba-4128-93e9-787a13e3135e",
   "metadata": {},
   "outputs": [
    {
     "data": {
      "text/plain": [
       "'SOlar'"
      ]
     },
     "execution_count": 6,
     "metadata": {},
     "output_type": "execute_result"
    }
   ],
   "source": [
    "soho[0]"
   ]
  },
  {
   "cell_type": "markdown",
   "id": "da99a925-ffe6-4676-a8ed-77674478b269",
   "metadata": {},
   "source": [
    "<p>Vraag het <u>tweede</u> element van de tuple op</p> "
   ]
  },
  {
   "cell_type": "code",
   "execution_count": 7,
   "id": "8bcbfbaf-a21e-4177-88b7-99abc41e1520",
   "metadata": {},
   "outputs": [
    {
     "data": {
      "text/plain": [
       "1"
      ]
     },
     "execution_count": 7,
     "metadata": {},
     "output_type": "execute_result"
    }
   ],
   "source": [
    "soho.index('Heliospheric')"
   ]
  },
  {
   "cell_type": "markdown",
   "id": "f85217d7-6d16-4c05-8829-efa5228873d3",
   "metadata": {},
   "source": [
    "<p>Vraag het <u>laatste element</u> van de tuple op</p> "
   ]
  },
  {
   "cell_type": "code",
   "execution_count": 8,
   "id": "a2363a8f-843f-46c2-9a42-2498ac88715c",
   "metadata": {},
   "outputs": [
    {
     "data": {
      "text/plain": [
       "'Observatory'"
      ]
     },
     "execution_count": 8,
     "metadata": {},
     "output_type": "execute_result"
    }
   ],
   "source": [
    "soho[-1]"
   ]
  },
  {
   "cell_type": "markdown",
   "id": "7ff7c206-0d29-448d-bf78-3f48fad9d4dd",
   "metadata": {},
   "source": [
    "<h3>Exercise 1</h3>\n",
    "<p>Bij een tuple kun je de list methode <i>sort()</i> niet gebruiken, laat zien hoe je met de methode <u>sorted()</u> de <u>volgorde van de elementen in soho</u> toch blijvend kunt veranderen."
   ]
  },
  {
   "cell_type": "code",
   "execution_count": 29,
   "id": "582540fc-8c6d-4335-ae09-bac02e4a61b7",
   "metadata": {},
   "outputs": [
    {
     "data": {
      "text/plain": [
       "list"
      ]
     },
     "execution_count": 29,
     "metadata": {},
     "output_type": "execute_result"
    }
   ],
   "source": [
    "# Oplossing\n",
    "sohoList = list(soho)\n",
    "sohoList.sort()\n",
    "sohoTuple = sohoList[:]\n",
    "type(sohoTuple)\n"
   ]
  },
  {
   "cell_type": "markdown",
   "id": "5090e646-ff02-408e-ade7-4df431df5eda",
   "metadata": {},
   "source": [
    "**Nadat een tuple variabele is aangemaakt kun je de <u>waarde</u> niet meer wijzigen..**"
   ]
  },
  {
   "cell_type": "code",
   "execution_count": 10,
   "id": "435fed63-70fb-4ec7-bf0f-cd28822327d6",
   "metadata": {},
   "outputs": [],
   "source": [
    "nickEnSimon = (\"Nick\", \"Simon\")"
   ]
  },
  {
   "cell_type": "markdown",
   "id": "945eec7d-3174-430b-b6a2-01834e2cbb0c",
   "metadata": {},
   "source": [
    "**..de <u>variabele</u> zelf kan <strong>wel</strong> wijzigen</p>**"
   ]
  },
  {
   "cell_type": "code",
   "execution_count": 11,
   "id": "7986f368-9d3e-4455-832f-ebe2505ff49b",
   "metadata": {},
   "outputs": [
    {
     "name": "stdout",
     "output_type": "stream",
     "text": [
      "('Nick', 'Simon')\n",
      "('Suzan', 'Freek')\n"
     ]
    }
   ],
   "source": [
    "duet = (\"Nick\", \"Simon\")\n",
    "print(duet)\n",
    "duet = (\"Suzan\", \"Freek\" )\n",
    "print(duet)"
   ]
  },
  {
   "cell_type": "markdown",
   "id": "9e1a00c3-05ee-413d-9fb5-25ae398455a7",
   "metadata": {},
   "source": [
    "<h3>Exercise 2</h3>\n",
    "<p>Pas een <u>cast</u> toe zodat Simon zich kan ont<u>pop</u>pen tot solo-artiest</p>"
   ]
  },
  {
   "cell_type": "code",
   "execution_count": 12,
   "id": "30d5121b-c454-4e7c-b9ec-7cee761e34a6",
   "metadata": {},
   "outputs": [
    {
     "name": "stdout",
     "output_type": "stream",
     "text": [
      "['Nick']\n",
      "Simon\n"
     ]
    }
   ],
   "source": [
    "# Oplossing\n",
    "\n",
    "duet = (\"Nick\", \"Simon\")\n",
    "duet = list(duet)\n",
    "soloArtiest = duet.pop()\n",
    "print(duet)\n",
    "print(soloArtiest)neptuneMoons"
   ]
  }
 ],
 "metadata": {
  "kernelspec": {
   "display_name": "Python 3 (ipykernel)",
   "language": "python",
   "name": "python3"
  },
  "language_info": {
   "codemirror_mode": {
    "name": "ipython",
    "version": 3
   },
   "file_extension": ".py",
   "mimetype": "text/x-python",
   "name": "python",
   "nbconvert_exporter": "python",
   "pygments_lexer": "ipython3",
   "version": "3.11.7"
  },
  "vscode": {
   "interpreter": {
    "hash": "aee8b7b246df8f9039afb4144a1f6fd8d2ca17a180786b69acc140d282b71a49"
   }
  }
 },
 "nbformat": 4,
 "nbformat_minor": 5
}
