{
 "cells": [
  {
   "cell_type": "markdown",
   "id": "818a1af7-9708-4bae-92fe-fa36b678d2be",
   "metadata": {},
   "source": [
    "<a href=\"https://it-omscholing.nl/locaties/hogeschool-rotterdam/\">\n",
    "<div>\n",
    "<a><img src='../../pics/banner.PNG'/></a>\n",
    "</div>\n",
    "<div>\n",
    "<a href=''><img src='../../pics/miw.PNG'/></a>\n",
    "<em>Author: Jeroen Boogaard</em>\n",
    "</div>\n",
    "</a>"
   ]
  },
  {
   "cell_type": "markdown",
   "id": "a9ff9227-1da2-489e-a4b4-d661d44ce68f",
   "metadata": {},
   "source": [
    "<h1>Practicum Computer Vision</h1>"
   ]
  },
  {
   "cell_type": "markdown",
   "id": "7d395107",
   "metadata": {},
   "source": [
    "<h2>Imports<h2>"
   ]
  },
  {
   "cell_type": "code",
   "execution_count": 2,
   "id": "84d02a33",
   "metadata": {},
   "source": [
    "from PIL import Image\n",
    "import io\n",
    "import matplotlib.pyplot as plt\n",
    "import matplotlib.image as mpimg\n",
    "import numpy as np\n",
    "import os\n",
    "# from sklearn.model_selection import train_test_split\n",
    "import random\n",
    "# import requests\n",
    "# import tensorflow as tf\n",
    "# import tensorflow.keras as keras\n",
    "# import zipfile"
   ],
   "outputs": []
  },
  {
   "cell_type": "markdown",
   "id": "72042f70-16c5-4a1a-a753-fc468bbe1a6a",
   "metadata": {},
   "source": [
    "**Gebruik een <i>environment variable</i> voor het instellen van het logleven van TensorFlow**"
   ]
  },
  {
   "cell_type": "code",
   "execution_count": 3,
   "id": "86e675b9-244c-45c8-9c91-79146b304a02",
   "metadata": {},
   "source": [
    "os.environ['TF_CPP_MIN_LEVEL'] = '2'"
   ],
   "outputs": []
  },
  {
   "cell_type": "markdown",
   "id": "134d4c64-7c6d-423a-b017-bbce1c8bc0ef",
   "metadata": {},
   "source": [
    "<h2>Data Collection</h2>"
   ]
  },
  {
   "cell_type": "markdown",
   "id": "51aae3d0-f644-4552-870c-029b41f24559",
   "metadata": {},
   "source": [
    "<h3>Data downloaden</h3>\n",
    "<p>\n",
    "Download <a href=\"http://madm.dfki.de/files/sentinel/EuroSAT.zip\">EuroSAT.zip</a> en kopieer daaruit de directory 2750 naar opdrachten/practica/pics.      \n",
    "<strong>Voeg het pad naar de directory 2750 toe aan .gitignore zodat je de plaatjes niet naar je remote git repository pusht</strong>\n",
    "</p>    "
   ]
  },
  {
   "cell_type": "markdown",
   "id": "5b4e5385-eeda-4276-a1f7-72f44953c79c",
   "metadata": {},
   "source": [
    "<h3>Data filteren</h3>"
   ]
  },
  {
   "cell_type": "code",
   "execution_count": 4,
   "id": "c652271d-7f13-493e-a14e-d70a21e2de39",
   "metadata": {},
   "source": [
    "riverDirectory = '../../pics/2750/River'\n",
    "edgeFiles = list()\n",
    " \n",
    "for filename in os.listdir(riverDirectory):\n",
    "    imgFile = os.path.join(riverDirectory, filename)\n",
    "\n",
    "    if \".jpg\" in imgFile:\n",
    "        edgeFiles.append(imgFile)"
   ],
   "outputs": []
  },
  {
   "cell_type": "markdown",
   "id": "4b10e142-a0e4-4e7d-8127-c708e8496839",
   "metadata": {},
   "source": [
    "<h3>Exercise 1</h3>\n",
    "<p>\n",
    "    Voeg de directory Highway toe aan de <u>list</u> edgeFiles zodat ook de Highway images worden meegenomen. \n",
    "</p>"
   ]
  },
  {
   "cell_type": "code",
   "execution_count": 5,
   "id": "5a210ccc-f2d4-42cf-8e75-6926f15206bd",
   "metadata": {},
   "source": [
    "# Oplossing\n",
    "\n",
    "highwayDirectory = '../../pics/2750/Highway'\n",
    " \n",
    "for filename in os.listdir(highwayDirectory):\n",
    "    imgFile = os.path.join(highwayDirectory, filename)\n",
    "    \n",
    "    if \".jpg\" in imgFile:\n",
    "        edgeFiles.append(imgFile)\n",
    "    \n",
    "len(edgeFiles)    "
   ],
   "outputs": []
  },
  {
   "cell_type": "code",
   "execution_count": null,
   "id": "1501db51-6daa-4877-a5b8-015666174316",
   "metadata": {},
   "source": [],
   "outputs": []
  },
  {
   "cell_type": "markdown",
   "id": "c878858c-a5c8-4c52-b093-13b46ae78b7d",
   "metadata": {},
   "source": []
  },
  {
   "cell_type": "markdown",
   "id": "ddfc7256-6b34-42c4-a97b-3f151a8ed0fa",
   "metadata": {},
   "source": [
    "<h3>Data inlezen met Numpy</h3>"
   ]
  },
  {
   "cell_type": "code",
   "execution_count": 21,
   "id": "eef4608d-3ea2-4e55-9b1f-d0d9906447b4",
   "metadata": {},
   "source": [
    "imageObjects = np.zeros([len(txtFiles), 64, 64, 3])\n",
    "\n",
    "i = 0\n",
    "\n",
    "for pic in txtFiles:\n",
    "  imageObjects[i] = np.asarray(Image.open(dataFile.open(pic))).astype('uint8')/255\n",
    "  i += 1\n",
    "    \n",
    "# print(imageObjects[0])    "
   ],
   "outputs": []
  },
  {
   "cell_type": "markdown",
   "id": "abc16b74-8f84-4256-9012-1e05669f1f54",
   "metadata": {},
   "source": [
    "**Gebruik de bestandsnamen voor het verkrijgen van de labels**"
   ]
  },
  {
   "cell_type": "code",
   "execution_count": 22,
   "id": "d7fb9377-3287-4aca-8539-9d564c3bd5c9",
   "metadata": {},
   "source": [
    "imageLabels = np.empty(len(txtFiles), dtype = 'S20')\n",
    "\n",
    "i = 0\n",
    "\n",
    "for label in txtFiles:\n",
    "    print(label)\n",
    "    txtFiles[i] = label.split('/')[1]\n",
    "    i += 1\n",
    "    \n",
    "# print(txtFiles[0])    "
   ],
   "outputs": []
  },
  {
   "cell_type": "code",
   "execution_count": 23,
   "id": "6c6fdb90-bf3a-4569-a475-2e94b0c5bdd8",
   "metadata": {},
   "source": [
    "# change them to integers in alphabetical order\n",
    "labelNames, labelNumbers = np.unique(txtFiles, return_inverse=True)\n",
    "labelDict = dict(zip(np.unique(labelNumbers), labelNames))\n",
    "print(labelNames)\n",
    "print(labelNumbers)\n",
    "\n",
    "np.array(np.unique(labelNumbers, return_counts=True)).T"
   ],
   "outputs": []
  },
  {
   "cell_type": "markdown",
   "id": "11669120-c3b7-4d62-8e61-e3858002d973",
   "metadata": {},
   "source": [
    "<h3>Data inspecteren</h3>"
   ]
  },
  {
   "cell_type": "code",
   "execution_count": 24,
   "id": "c5e3ce52-c40f-4225-8925-4f56df9b2cb5",
   "metadata": {},
   "source": [
    "def inspectData():\n",
    "    \n",
    "    plt.figure(figsize=(10,10))\n",
    "    \n",
    "    for i in range(16):\n",
    "        plt.subplot(4, 4, i+1)\n",
    "        plt.xticks([])\n",
    "        plt.yticks([])\n",
    "        plt.grid(False)\n",
    "        # number = i\n",
    "        number = random.randint(0, nrOfImages)\n",
    "        plt.imshow(trainSet[number])\n",
    "        plt.xlabel(labelNames[trainLabels[number]]) \n",
    "    \n",
    "    plt.show()\n",
    "\n",
    "inspectData()    "
   ],
   "outputs": []
  },
  {
   "cell_type": "raw",
   "id": "1b7905ac-1ede-43d5-ac28-94b69e0e7f3b",
   "metadata": {},
   "source": [
    "Excercises:\n",
    "- data filteren bijv. alleen river\n",
    "- random functie gebruiken in functie inspectData\n",
    "- convolution filters maken voor beter edge detection\n",
    "- pool gebruiken voor verkleining"
   ]
  }
 ],
 "metadata": {
  "kernelspec": {
   "display_name": "Python 3 (ipykernel)",
   "language": "python",
   "name": "python3"
  },
  "language_info": {
   "codemirror_mode": {
    "name": "ipython",
    "version": 3
   },
   "file_extension": ".py",
   "mimetype": "text/x-python",
   "name": "python",
   "nbconvert_exporter": "python",
   "pygments_lexer": "ipython3",
   "version": "3.10.9"
  },
  "vscode": {
   "interpreter": {
    "hash": "aee8b7b246df8f9039afb4144a1f6fd8d2ca17a180786b69acc140d282b71a49"
   }
  }
 },
 "nbformat": 4,
 "nbformat_minor": 5
}
