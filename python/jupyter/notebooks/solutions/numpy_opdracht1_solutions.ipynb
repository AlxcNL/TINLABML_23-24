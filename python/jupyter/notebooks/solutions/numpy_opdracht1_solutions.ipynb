{
 "cells": [
  {
   "cell_type": "markdown",
   "id": "b45dd50e-d75c-41d2-a549-110cc111e32b",
   "metadata": {},
   "source": [
    "<div>\n",
    "    <img src='../../pics/banner.PNG'/>\n",
    "</div>\n",
    "<div>\n",
    "    <img width=\"10%\" height=\"10%\" src='../../pics/python-programming.png'/>\n",
    "    <img src='../../pics/miw.PNG'/>\n",
    "</div>\n",
    "<div>\n",
    "    <em>Author: Jeroen Boogaard</em>\n",
    "</div>"
   ]
  },
  {
   "cell_type": "markdown",
   "id": "63f0720b-4a62-479d-873b-c5f6cad9a89d",
   "metadata": {},
   "source": [
    "<h1>Numpy</h1>"
   ]
  },
  {
   "cell_type": "markdown",
   "id": "3619d610-30b3-41a2-b5f0-ae37b9d5b105",
   "metadata": {},
   "source": [
    "**Imports**"
   ]
  },
  {
   "cell_type": "code",
   "execution_count": 5,
   "id": "82b9524e-4b40-47ee-a5cf-828b3dc6ebe9",
   "metadata": {},
   "source": [
    "!pip list | grep opencv || !pip install opencv-python"
   ],
   "outputs": []
  },
  {
   "cell_type": "code",
   "execution_count": 10,
   "id": "42257a05-c794-4121-a9cf-fe53fa3a1dc1",
   "metadata": {
    "tags": []
   },
   "source": [
    "import cv2\n",
    "import numpy as np\n",
    "import pandas as pd\n",
    "import matplotlib.pyplot as plt\n",
    "from PIL import Image\n",
    "from scipy import ndimage\n",
    "from os import path\n",
    "from os import system as sys\n",
    "from pathlib import Path"
   ],
   "outputs": []
  },
  {
   "cell_type": "markdown",
   "id": "71439d6a-0d40-4fc6-ae02-ba3a88fe7366",
   "metadata": {},
   "source": [
    "**Global variables**"
   ]
  },
  {
   "cell_type": "code",
   "execution_count": 11,
   "id": "79ba4b8c-0532-447f-bbff-aa03a1227744",
   "metadata": {
    "tags": []
   },
   "source": [
    "relativeImgPath = Path.cwd().parent.joinpath('pics')\n",
    "relativeCsvPath = Path.cwd().parent.joinpath('csv')"
   ],
   "outputs": []
  },
  {
   "cell_type": "markdown",
   "id": "42a2379c-9f57-46c5-9ec0-22422a1a58c3",
   "metadata": {},
   "source": [
    "**Gebruik de numpy methode <i>flip</i> voor het spiegelen van een image**"
   ]
  },
  {
   "cell_type": "markdown",
   "id": "b336b20e-554a-4a10-81f4-10801b857170",
   "metadata": {},
   "source": [
    "<h2>Opdracht 1</h2>\n",
    "<ol>\n",
    "    <li>Spiegel pImg over de hortizontale as en ken de resulterende afbeelding toe aan variabele <u>bImg</u></li>\n",
    "    <li>Spiegel qImg over de hortizontale as en ken de resulterende afbeelding toe aan variabele <u>dImg</u></li>\n",
    "    <li>Geef bImg en dImg naast elkaar weer op de lege plaatsen in het raster</li>    \n",
    "</ol>"
   ]
  },
  {
   "cell_type": "code",
   "execution_count": 12,
   "id": "b5ae04a8-a828-46d8-b316-d6e658f68e1f",
   "metadata": {
    "tags": []
   },
   "source": [
    "pImg = cv2.imread(path.join(relativeImgPath, \"letter_p.png\"))\n",
    "\n",
    "# Maak een raster voor 4 images\n",
    "fig, axs = plt.subplots(2, 2, sharey=True)\n",
    "             \n",
    "axs[0][0].imshow(pImg)\n",
    "\n",
    "# Spiegel over de verticale as\n",
    "qImg = np.flip(pImg, axis=1)\n",
    "axs[0][1].imshow(qImg)\n",
    "\n",
    "# Oplossing\n",
    "\n",
    "# Spiegel over de verticale as\n",
    "bImg = np.flip(pImg, axis=0)\n",
    "axs[1][0].imshow(bImg)\n",
    "\n",
    "# Spiegel over de verticale as\n",
    "dImg = np.flip(qImg, axis=1)\n",
    "axs[1][1].imshow(qImg)"
   ],
   "outputs": []
  },
  {
   "cell_type": "markdown",
   "id": "8e48110a-ff83-4fba-aab9-7cb3678fe668",
   "metadata": {},
   "source": [
    "<h2>Opdracht 2</h2>"
   ]
  },
  {
   "cell_type": "markdown",
   "id": "47ac5b87-14b1-437e-91cb-93dadadef8f9",
   "metadata": {},
   "source": [
    "<h3>Gegeven</h3>"
   ]
  },
  {
   "cell_type": "markdown",
   "id": "8605ba6e-3f4e-4fe1-b76f-c784f2f44735",
   "metadata": {},
   "source": [
    "Planeet | Grootte to.v. de omvang van de Aarde\n",
    "---|---\n",
    "Jupiter | 1120%\n",
    "Saturnus | 945%\n",
    "Uranus | 400%\n",
    "Neptunus | 388%\n",
    "Aarde| 100%\n",
    "Venus | 95%\n",
    "Mars | 53%\n",
    "Mercury | 33%"
   ]
  },
  {
   "cell_type": "code",
   "execution_count": null,
   "id": "2b471d98-c5b0-4db0-a1c6-155094548c23",
   "metadata": {},
   "source": [
    "filename = path.join(relativeCsvPath, \"planets.csv\")"
   ],
   "outputs": []
  },
  {
   "cell_type": "markdown",
   "id": "2d0832a8-6d86-4572-b17f-55033a7dd6c4",
   "metadata": {},
   "source": [
    "<span style=\"color:yellow\"><note>Het originele csv-bestand heeft spaties in kolomnamen, die gaan we eerst verwijderen</note></span>"
   ]
  },
  {
   "cell_type": "code",
   "execution_count": null,
   "id": "ee47c844-a1c5-4f1b-8460-aebf8cb15cb9",
   "metadata": {
    "tags": []
   },
   "source": [
    "cleanCsv = filename.replace('.csv', '_clean.csv')\n",
    "sys(f\"cat {filename} | sed 's/\\\\s*//g'> {cleanCsv}\")"
   ],
   "outputs": []
  },
  {
   "cell_type": "markdown",
   "id": "ad98fa30-0e0a-4ec4-9930-b63db74c11f2",
   "metadata": {},
   "source": [
    "<h3>Gevraagd</h3>\n",
    "<p>\n",
    "Schaal voor elke (erkende) planeet uit ons zonnestelsel de bijbehorende image t.o.v. van de aarde. Het geschaalde plaatje moet groter zijn dan het plaatje van de aarde als de bijbehorende planeet groter is dan de aarde. Is de planeet kleiner dan de aarde dan moet het nieuwe plaatje kleiner zijn. Gebruik voor de schaalfactor het percentage. \n",
    "<br>Tip: Indien nodig kun je de images normaliseren door eerst het plaatje van de aarde naar de gete schalen.\n",
    "</p>"
   ]
  },
  {
   "cell_type": "markdown",
   "id": "c0c854fb-54db-4baa-b149-2e7d0c1b6391",
   "metadata": {},
   "source": [
    "<h3>Oplossing</h3>\n",
    "<ol>\n",
    "    <li>\n",
    "        <strong>Open het bestand csv/planets.csv en voeg daar de kolom <i>image</i> aan toe</strong>\n",
    "    </li>\n",
    "    <li>\n",
    "        <strong>Importeer het csv-bestand en sla de data op in een dictionary</strong>\n",
    "    </li>\n",
    "    <li>\n",
    "        <strong>Open een image uit de dictionary</strong>\n",
    "    </li>\n",
    "    <li>\n",
    "        <strong>Schaal de image m.b.v. een <i>numpy array</i></strong>\n",
    "    </li>\n",
    "    <li>\n",
    "        <strong>Sla de geschaalde image op</strong>\n",
    "    </li>\n",
    "    <li>\n",
    "        <strong>Schrijf een functie voor het schalen van een image</strong>\n",
    "    </li>    \n",
    "    <li>\n",
    "        <strong>Maak een loop waarbij voor elke planeet een geschaalde image wordt gemaakt en opgelagen</strong>\n",
    "    </li>    \n",
    "</ol>    "
   ]
  },
  {
   "cell_type": "markdown",
   "id": "d6b574f7-f096-4266-9ffa-31738028dd72",
   "metadata": {},
   "source": [
    "**Stap 1: Open het bestand csv/planets.csv en voeg daar de kolom <i>image</i> aan toe**"
   ]
  },
  {
   "cell_type": "markdown",
   "id": "a81b4933-7457-4e88-a739-e04370b719b6",
   "metadata": {},
   "source": [
    "<p>Deze stap mag <u>handmatig</u> bijv. met Edit CSV in VSCode of\n",
    "\n",
    "m.b.v. <u>pandas</u></p>"
   ]
  },
  {
   "cell_type": "code",
   "execution_count": null,
   "id": "0bc34a20-b0b8-40b2-8ee3-b5e9f8f8bc97",
   "metadata": {
    "tags": []
   },
   "source": [
    "planetDataFrame = pd.read_csv(cleanCsv, header = 0, sep = ',')\n",
    "\n",
    "# Voeg een nieuwe kolom toe aan het einde\n",
    "nrOfCols = planetDataFrame.shape[1]\n",
    "tempValues = nrOfCols * \"\"\n",
    "planetDataFrame.insert(loc=nrOfCols, column='Image', value=tempValues)\n",
    "planetDataFrame.to_csv(cleanCsv)"
   ],
   "outputs": []
  },
  {
   "cell_type": "markdown",
   "id": "b2a7b7fb-56b3-43f7-a6b5-34adc057c3d1",
   "metadata": {},
   "source": [
    "**Stap 2: Importeer het csv-bestand en sla de data op in een dictionary**"
   ]
  },
  {
   "cell_type": "code",
   "execution_count": null,
   "id": "77f91e32-efcd-4f31-b9d9-a82ae126b02f",
   "metadata": {
    "tags": []
   },
   "source": [
    "planetDataFrame = pd.read_csv(cleanCsv, header = 0, sep = ',')\n",
    "planetDataFrame.info()"
   ],
   "outputs": []
  },
  {
   "cell_type": "markdown",
   "id": "9d9d8c73-c8fa-41b0-848c-04741aa06bbf",
   "metadata": {},
   "source": [
    "**Stap 3: Open een image van een item uit de dictionary**"
   ]
  },
  {
   "cell_type": "code",
   "execution_count": null,
   "id": "83d43bb9-694e-4390-a8a3-30f6535f6591",
   "metadata": {
    "scrolled": true
   },
   "source": [
    "img = Image.open(path.join(relativeImgPath, \"mercury.jpg\"))\n",
    "type(img)"
   ],
   "outputs": []
  },
  {
   "cell_type": "markdown",
   "id": "645b438b-324d-427c-9efd-d621e37445f7",
   "metadata": {
    "tags": []
   },
   "source": [
    "**Stap 4: Schaal de image m.b.v. een numpy array**"
   ]
  },
  {
   "cell_type": "code",
   "execution_count": null,
   "id": "8894e6bd-6237-4cf6-8d95-222d6a3be56e",
   "metadata": {},
   "source": [
    "# Van Image naar Numpy array\n",
    "array = np.array(img)\n",
    "type(array)\n",
    "\n",
    "# 33% volgens bovenstaande tabel\n",
    "scaleFactor = 0.33\n",
    "scaleArray = ndimage.zoom(array, (scaleFactor, scaleFactor, 1))\n",
    "\n",
    "# Van Numpy array naar Image\n",
    "imgScaled = Image.fromarray(scaleArray)\n",
    "\n",
    "print( f\"Original shape : {array.shape}\" )\n",
    "print( f\"Shape of scaled image : {scaleArray.shape}\" )\n",
    "\n",
    "# Plot de plaatjes naast elkaar\n",
    "fig, axs = plt.subplots(1, 2)\n",
    "             \n",
    "axs[0].set_title(\"original\")\n",
    "axs[0].imshow(img)\n",
    "axs[1].set_title(\"scaled\")\n",
    "axs[1].imshow(imgScaled)"
   ],
   "outputs": []
  },
  {
   "cell_type": "markdown",
   "id": "8611929d-d109-4f62-881f-b8a64db1e648",
   "metadata": {},
   "source": [
    "**Stap 5: Sla de geschaalde image op**"
   ]
  },
  {
   "cell_type": "code",
   "execution_count": null,
   "id": "2e34fa25-3cc3-4e5f-b29a-7793e505db61",
   "metadata": {},
   "source": [
    "imgScaled.save(img.filename.replace(\".jpg\",\"_scaled.jpg\"))"
   ],
   "outputs": []
  },
  {
   "cell_type": "markdown",
   "id": "f142ebe1-f561-447b-8e2e-e8855b20cd50",
   "metadata": {},
   "source": [
    "**Stap 6: Schrijf een functie voor het schalen van een image**"
   ]
  },
  {
   "cell_type": "code",
   "execution_count": null,
   "id": "e85861e5-84de-4554-b14a-dca34f035f81",
   "metadata": {},
   "source": [
    "# Oplossing\n",
    "\n",
    "# Input: PIL.Image\n",
    "# Output: PIL.Image\n",
    "def scaleImage(img, scaleFactor):\n",
    "    # Snel thuiS!\n",
    "    if scaleFactor==1: \n",
    "        return img    \n",
    "    \n",
    "    array = np.array(img)   \n",
    "    scaleArray = ndimage.zoom(array, (scaleFactor, scaleFactor, 1))\n",
    "\n",
    "    return Image.fromarray(scaleArray)"
   ],
   "outputs": []
  },
  {
   "cell_type": "code",
   "execution_count": null,
   "id": "e56a37ff-1b5e-4b3e-9564-c6d83672fa28",
   "metadata": {
    "tags": []
   },
   "source": [
    "# Test de functie\n",
    "\n",
    "# Voorbeeld met Mars\n",
    "diameterMars = float(planetDataFrame[(planetDataFrame[\"Name\"]==\"Mars\")][\"Diameter\"])\n",
    "imgFileMars  = Path(relativeImgPath, \"mars\").with_suffix(\".jpg\")\n",
    "\n",
    "# Normaliseer t.o.v. de Aarde\n",
    "diameterEarth = float(planetDataFrame[(planetDataFrame[\"Name\"]==\"Earth\")][\"Diameter\"])\n",
    "\n",
    "# Voorkom delen door nul!\n",
    "scaleFactor = (diameterMars / diameterEarth) if diameterEarth>0 else 1\n",
    "print(scaleFactor)\n",
    "\n",
    "scaleImage(Image.open(imgFileMars), scaleFactor)"
   ],
   "outputs": []
  },
  {
   "cell_type": "markdown",
   "id": "5a550077-c83c-4af2-96fa-7a32158d5198",
   "metadata": {},
   "source": [
    "**Stap 7: Maak een loop waarbij voor elke planeet een geschaalde image wordt gemaakt en opgelagen**"
   ]
  },
  {
   "cell_type": "code",
   "execution_count": null,
   "id": "f82e1433-28ca-4919-b332-8d401b932465",
   "metadata": {
    "tags": []
   },
   "source": [
    "ext = \".jpg\"\n",
    "diameterEarth = float(planetDataFrame[(planetDataFrame[\"Name\"]==\"Earth\")][\"Diameter\"])\n",
    "\n",
    "# Maak een lijst voor de paden naar de geschaalde images\n",
    "imgList = list()\n",
    "\n",
    "\n",
    "# Maak tuples van naam en diameter\n",
    "planetDiameters = list(zip(planetDataFrame[\"Name\"], planetDataFrame[\"Diameter\"]))\n",
    "\n",
    "for i, (planetName, diameter) in enumerate(planetDiameters):\n",
    "    imgFilePath = Path(relativeImgPath, planetName.lower()).with_suffix(ext)\n",
    "    img = Image.open(imgFilePath)\n",
    "    \n",
    "    # Voorkom delen door nul!\n",
    "    scaleFactor = (diameter / diameterEarth) if diameterEarth>0 else 1\n",
    "    \n",
    "    if scaleFactor !=1 :    \n",
    "        imgScaled = scaleImage(img, scaleFactor)        \n",
    "\n",
    "        # Percentage\n",
    "        perc = round(scaleFactor * 100)\n",
    "        print( f\"Planet {planetName} is approximately {perc}% the size of Earth\" )    \n",
    "\n",
    "        # Sla het geschaalde plaatje op onder een andere naam\n",
    "        scaledImgFilePath = Path(relativeImgPath, f\"{planetName.lower()}_scaled\").with_suffix(ext)\n",
    "        imgScaled.save(scaledImgFilePath)      \n",
    "\n",
    "        # Voeg het pad toe aan de lijst\n",
    "        imgList.append(scaledImgFilePath)\n",
    "\n",
    "        # Maak een raster voor de images\n",
    "        fig, axs = plt.subplots(1, 2)\n",
    "\n",
    "        # Geef de plaatjes weer in het raster\n",
    "        axs[0].imshow(img)\n",
    "        axs[0].set_title(path.basename(imgFilePath))\n",
    "        axs[1].imshow(imgScaled)\n",
    "        axs[1].set_title(path.basename(scaledImgFilePath))\n",
    "    \n",
    "    else:\n",
    "        # Voeg het pad toe aan de lijst\n",
    "        imgList.append(imgFilePath)\n",
    "\n",
    "    \n",
    "    plt.show()\n",
    "\n",
    "# Voeg de lijst met plaatjes toe als kolom\n",
    "planetDataFrame[\"Image\"] = imgList\n",
    "\n",
    "# Sla het nieuwe DataFrame op in de CSV\n",
    "planetDataFrame.to_csv(cleanCsv)"
   ],
   "outputs": []
  }
 ],
 "metadata": {
  "kernelspec": {
   "display_name": "Python 3 (ipykernel)",
   "language": "python",
   "name": "python3"
  },
  "language_info": {
   "codemirror_mode": {
    "name": "ipython",
    "version": 3
   },
   "file_extension": ".py",
   "mimetype": "text/x-python",
   "name": "python",
   "nbconvert_exporter": "python",
   "pygments_lexer": "ipython3",
   "version": "3.12.3"
  }
 },
 "nbformat": 4,
 "nbformat_minor": 5
}
