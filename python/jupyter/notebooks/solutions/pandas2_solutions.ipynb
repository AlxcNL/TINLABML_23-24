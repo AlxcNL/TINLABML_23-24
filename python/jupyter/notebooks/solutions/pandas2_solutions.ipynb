{
 "cells": [
  {
   "cell_type": "markdown",
   "id": "8bab916d-43d3-4817-bbc1-6ef922fd30b9",
   "metadata": {},
   "source": [
    "<div>\n",
    "<img src='../pics/banner.PNG'/>\n",
    "</div>\n",
    "<div>\n",
    "<img width=\"20%\" src='../pics/pandas.svg'/>\n",
    "</div>\n",
    "<div>\n",
    "<img width=\"15%\" src='../pics/tinlab.png'/>\n",
    "<strong>Pandas Dataframes - Jeroen Boogaard</strong>\n",
    "</div>"
   ]
  },
  {
   "cell_type": "markdown",
   "id": "40f92fe9-426d-40f3-b4e6-f729240cb012",
   "metadata": {},
   "source": [
    "# Pandas 2: Pandas Dataframes"
   ]
  },
  {
   "cell_type": "markdown",
   "id": "c9392295-fc66-4c23-b5a1-bd6e77d04144",
   "metadata": {},
   "source": [
    "**Imports**"
   ]
  },
  {
   "cell_type": "code",
   "execution_count": null,
   "id": "bcc776ab-559b-48df-9b7a-d33d423cdeb2",
   "metadata": {},
   "source": [
    "import pandas as pd\n",
    "import certifi\n",
    "import io\n",
    "import json\n",
    "import numpy as np\n",
    "import requests\n",
    "import urllib3\n",
    "from pathlib import Path\n",
    "from urllib3 import request"
   ],
   "outputs": []
  },
  {
   "cell_type": "markdown",
   "id": "7553c771-ac7d-4630-b46d-919dac9fb3cf",
   "metadata": {},
   "source": [
    "**Globale variabelen**"
   ]
  },
  {
   "cell_type": "code",
   "execution_count": null,
   "id": "6c4c5077-0dfc-496d-aa61-8eca566d1567",
   "metadata": {},
   "source": [
    "csvFile = 'eurovision-2016.csv'\n",
    "csvFilePath = Path.cwd().parent.joinpath('csv').joinpath(csvFile)\n",
    "dcgisDict = dict()\n",
    "dcgisDf = pd.DataFrame()"
   ],
   "outputs": []
  },
  {
   "cell_type": "markdown",
   "id": "c9b987d4-fda8-4ecb-8d01-c89889fde557",
   "metadata": {},
   "source": [
    "### Pandas Dataframe\n",
    "<p>Een <strong>Dataframe</strong> is een tabel die is opgebouwd uit Pandas Series</p>"
   ]
  },
  {
   "cell_type": "markdown",
   "id": "2dd3eb79-d859-475d-b4c0-970e262904a4",
   "metadata": {},
   "source": [
    "#### Pandas Dataframe o.b.v. CSV URL"
   ]
  },
  {
   "cell_type": "code",
   "execution_count": null,
   "id": "f86e2b44-0f9e-4f50-9ed4-d15b34d0e48e",
   "metadata": {},
   "source": [
    "url = \"https://raw.githubusercontent.com/ksatola/Data-Science-Notes/master/data/dc20/eurovision-2016.csv\"\n",
    "response = requests.get(url).content\n",
    "eurovisionDf = pd.read_csv(io.StringIO(response.decode('utf-8')))\n",
    "eurovisionDf.head(10)"
   ],
   "outputs": []
  },
  {
   "cell_type": "markdown",
   "id": "ed523447-416b-40c7-87cd-876fe174f3c6",
   "metadata": {},
   "source": [
    "**Export naar CSV**"
   ]
  },
  {
   "cell_type": "code",
   "execution_count": null,
   "id": "1983c5b8-6d6e-4ef3-a3ec-09b3392ee59f",
   "metadata": {},
   "source": [
    "eurovisionDf.to_csv(csvFilePath, sep=',', encoding='utf-8', index=False)"
   ],
   "outputs": []
  },
  {
   "cell_type": "markdown",
   "id": "fa5a18b0-df2a-4cd7-aecc-7b7a0c49d545",
   "metadata": {},
   "source": [
    "#### Pandas Dataframe o.b.v. CSV bestand"
   ]
  },
  {
   "cell_type": "markdown",
   "id": "f723255d-085b-4455-bc52-bb26399dfae2",
   "metadata": {},
   "source": [
    "<h3>Exercise 1</h3>\n",
    "<p>Importeer eurovision-2016.csv in een nieuw dataframe met de naam eurovisionDfCsv en vergelijk deze met eurovisionDf</p>"
   ]
  },
  {
   "cell_type": "markdown",
   "id": "d4807458-3624-458b-a2d2-5dc6d887407e",
   "metadata": {},
   "source": [
    "**Oplossing**"
   ]
  },
  {
   "cell_type": "code",
   "execution_count": null,
   "id": "ad8ee9b3-92df-4a58-95b9-3bdaeb8842a2",
   "metadata": {},
   "source": [
    "eurovisionDfCsv = pd.read_csv(csvFilePath, sep=',', header=0)\n",
    "eurovisionDfCsv.columns"
   ],
   "outputs": []
  },
  {
   "cell_type": "code",
   "execution_count": null,
   "id": "11287f50-242c-4b19-b214-6a6f8199b002",
   "metadata": {},
   "source": [
    "eurovisionDf.head() == eurovisionDfCsv.head()"
   ],
   "outputs": []
  },
  {
   "cell_type": "markdown",
   "id": "13c4a78e-e0c9-47f0-ac7f-49decc0c7539",
   "metadata": {},
   "source": [
    "#### Pandas Dataframe m.b.v. Rest Client"
   ]
  },
  {
   "cell_type": "markdown",
   "id": "b2e7c273-c85a-4bbd-8096-c8440dd62497",
   "metadata": {},
   "source": [
    "**Certificaat verificatie**"
   ]
  },
  {
   "cell_type": "code",
   "execution_count": null,
   "id": "eff84af0-79a1-49da-82db-693281ccc847",
   "metadata": {},
   "source": [
    "http = urllib3.PoolManager( cert_reqs='CERT_REQUIRED', ca_certs=certifi.where() )"
   ],
   "outputs": []
  },
  {
   "cell_type": "markdown",
   "id": "e39698e3-dfa0-4172-a21f-7ee6bad745ef",
   "metadata": {},
   "source": [
    "**Web Request**"
   ]
  },
  {
   "cell_type": "code",
   "execution_count": null,
   "id": "e6c5a970-953f-4ef0-88a3-caaa024bd6c6",
   "metadata": {},
   "source": [
    "url = 'https://maps2.dcgis.dc.gov/dcgis/rest/services/FEEDS/MPD/MapServer/2/query?where=1%3D1&outFields=*&outSR=4326&f=json'\n",
    "response = http.request('GET', url)\n",
    "response.status"
   ],
   "outputs": []
  },
  {
   "cell_type": "markdown",
   "id": "f1a17d3b-b996-4b15-aba9-a3c1e077a065",
   "metadata": {},
   "source": [
    "<h3>Exercise 2</h3>\n",
    "<p>Sla de data uit de response op in dictionary dcgisDict</p>"
   ]
  },
  {
   "cell_type": "markdown",
   "id": "c75f2c48-54ca-4194-9063-5621c79d4d2a",
   "metadata": {},
   "source": [
    "**Oplossing**"
   ]
  },
  {
   "cell_type": "code",
   "execution_count": null,
   "id": "691b39e9-3d38-47d3-8f78-ce57da1dd78a",
   "metadata": {},
   "source": [
    "if response.status == 200:\n",
    "    dcgisDict = json.loads(response.data.decode('utf-8'))\n",
    "\n",
    "type(data)"
   ],
   "outputs": []
  },
  {
   "cell_type": "markdown",
   "id": "b952f985-d8fb-4c37-80e2-b7e1f0531040",
   "metadata": {},
   "source": [
    "**Maak een dataframe o.b.v. de dictionary**"
   ]
  },
  {
   "cell_type": "code",
   "execution_count": null,
   "id": "bc5ca21e-2ee8-4aa3-afc3-ed76ce8a91ad",
   "metadata": {},
   "source": [
    "if bool(dcgisDict):\n",
    "    dcgisDf = pd.json_normalize(dcgisDict, 'features')\n",
    "\n",
    "if dcgisDf is not None:\n",
    "   display(dcgisDf) "
   ],
   "outputs": []
  }
 ],
 "metadata": {
  "kernelspec": {
   "display_name": "Python 3 (ipykernel)",
   "language": "python",
   "name": "python3"
  },
  "language_info": {
   "codemirror_mode": {
    "name": "ipython",
    "version": 3
   },
   "file_extension": ".py",
   "mimetype": "text/x-python",
   "name": "python",
   "nbconvert_exporter": "python",
   "pygments_lexer": "ipython3",
   "version": "3.12.3"
  },
  "vscode": {
   "interpreter": {
    "hash": "aee8b7b246df8f9039afb4144a1f6fd8d2ca17a180786b69acc140d282b71a49"
   }
  }
 },
 "nbformat": 4,
 "nbformat_minor": 5
}
