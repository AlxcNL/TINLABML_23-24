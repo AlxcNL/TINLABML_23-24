{
 "cells": [
  {
   "cell_type": "markdown",
   "metadata": {},
   "source": [
    "<div>\n",
    "<img src='../pics/banner.PNG'/>\n",
    "</div>\n",
    "<div>\n",
    "<img width=\"15%\" src='../pics/tinlab.png'/>\n",
    "<strong>Planets - Matplotlib - Jeroen Boogaard</strong>\n",
    "</div>"
   ]
  },
  {
   "cell_type": "markdown",
   "metadata": {},
   "source": [
    "<h1>Planets - Matplotlib</h1>"
   ]
  },
  {
   "cell_type": "markdown",
   "metadata": {},
   "source": [
    "**Imports**"
   ]
  },
  {
   "cell_type": "code",
   "execution_count": null,
   "metadata": {},
   "outputs": [],
   "source": [
    "from pathlib import Path\n",
    "from matplotlib import pyplot as plt\n",
    "from IPython.display import clear_output\n",
    "from numpy.polynomial.polynomial import polyfit\n",
    "import numpy as np\n",
    "import pandas as pd\n",
    "import statistics as stats"
   ]
  },
  {
   "cell_type": "markdown",
   "metadata": {},
   "source": [
    "**Display configuration**"
   ]
  },
  {
   "cell_type": "code",
   "execution_count": null,
   "metadata": {},
   "outputs": [],
   "source": [
    "%matplotlib inline\n",
    "pd.set_option(\"display.max.columns\", None)"
   ]
  },
  {
   "cell_type": "markdown",
   "metadata": {},
   "source": [
    "**Global variables**"
   ]
  },
  {
   "cell_type": "code",
   "execution_count": null,
   "metadata": {},
   "outputs": [],
   "source": [
    "csvFilePath = Path.cwd().parent.joinpath('csv')"
   ]
  },
  {
   "cell_type": "markdown",
   "metadata": {},
   "source": [
    "### Data Collection"
   ]
  },
  {
   "cell_type": "code",
   "execution_count": null,
   "metadata": {},
   "outputs": [],
   "source": [
    "csvFile = csvFilePath.joinpath('planets.csv')\n",
    "df = pd.read_csv(csvFile, sep=',', header=0, encoding='utf-8')\n",
    "display(df.round(2))"
   ]
  },
  {
   "cell_type": "markdown",
   "metadata": {},
   "source": [
    "### Data Visualisation"
   ]
  },
  {
   "cell_type": "code",
   "execution_count": null,
   "metadata": {},
   "outputs": [],
   "source": [
    "xLabel = \"Diameter\" \n",
    "yLabel = \"SurfaceGravity\"\n",
    "x = df[xLabel]\n",
    "y = df[yLabel]\n",
    "plt.xlabel(xLabel)\n",
    "plt.ylabel(yLabel)\n",
    "plt.scatter(x, y, c=\"red\", edgecolor='black', linewidth=1, alpha=0.75)"
   ]
  },
  {
   "cell_type": "markdown",
   "metadata": {},
   "source": [
    "**Is er een lineair verband tussen de omvang en de zwaartekracht van een planeet?**"
   ]
  },
  {
   "cell_type": "code",
   "execution_count": null,
   "metadata": {},
   "outputs": [],
   "source": [
    "plt.xlabel(xLabel)\n",
    "plt.ylabel(yLabel)\n",
    "plt.title(f'Relatie tussen {xLabel} en {yLabel}')\n",
    "plt.scatter(x, y, c=\"red\", edgecolor='black', linewidth=1, alpha=0.75)\n",
    "\n",
    "b, m = polyfit(x, y, 1)\n",
    "plt.plot(x, b + m * x, '-')"
   ]
  },
  {
   "cell_type": "markdown",
   "metadata": {},
   "source": [
    "<img width=\"30%\" src='../pics/pluto.jpg'/>"
   ]
  },
  {
   "cell_type": "markdown",
   "metadata": {},
   "source": [
    "## Data Selection"
   ]
  },
  {
   "cell_type": "code",
   "execution_count": null,
   "metadata": {},
   "outputs": [],
   "source": [
    "dfSelected = df.copy().drop(8)\n",
    "display(dfSelected)\n",
    "pluto = df.copy().iloc[8]\n",
    "display(pluto)"
   ]
  },
  {
   "cell_type": "markdown",
   "metadata": {},
   "source": [
    "## Feature Selection"
   ]
  },
  {
   "cell_type": "code",
   "execution_count": null,
   "metadata": {},
   "outputs": [],
   "source": [
    "xLabel = \"Diameter\" \n",
    "yLabel = \"SurfaceGravity\"\n",
    "\n",
    "x = dfSelected[xLabel]\n",
    "y = dfSelected[yLabel]"
   ]
  },
  {
   "cell_type": "code",
   "execution_count": null,
   "metadata": {},
   "outputs": [],
   "source": [
    "x_pluto = pluto[xLabel]\n",
    "y_pluto = pluto[yLabel]\n",
    "plt.title(f'Relatie tussen {xLabel} en {yLabel}')\n",
    "plt.xlabel(xLabel)\n",
    "plt.ylabel(yLabel)\n",
    "plt.scatter(x, y, c=\"red\", edgecolor='black', linewidth=1, alpha=0.75)\n",
    "plt.scatter(x_pluto, y_pluto, c=\"yellow\", edgecolor='black', linewidth=1, alpha=0.75)\n",
    "\n",
    "b, m = polyfit(x, y, 1)\n",
    "plt.plot(x, b + m * x, '-')"
   ]
  },
  {
   "cell_type": "code",
   "execution_count": null,
   "metadata": {},
   "outputs": [],
   "source": [
    "print (f\"Pluto heeft een diameter van {round(pluto[xLabel])} en een zwaartekrachtsterke van {pluto[yLabel]}\")"
   ]
  },
  {
   "cell_type": "markdown",
   "metadata": {},
   "source": [
    "### Data Enrichtment"
   ]
  },
  {
   "cell_type": "code",
   "execution_count": null,
   "metadata": {},
   "outputs": [],
   "source": [
    "df"
   ]
  },
  {
   "cell_type": "code",
   "execution_count": null,
   "metadata": {},
   "outputs": [],
   "source": [
    "planetTypeList = [\"Terrestrial\", \"Terrestrial\", \"Terrestrial\", \"Terrestrial\",  \"Gas Giants\", \"Gas Giants\", \"Ice Giants\", \"Ice Giants\", \"Dwarf\" ]"
   ]
  },
  {
   "cell_type": "code",
   "execution_count": null,
   "metadata": {},
   "outputs": [],
   "source": [
    "df[\"type\"] = pd.Series( planetTypeList )"
   ]
  },
  {
   "cell_type": "markdown",
   "metadata": {},
   "source": [
    "<h3>Exercise 1</h3>\n",
    "<p>\n",
    "Voeg dwergplaneten Haumea, Makemake, en Eris toe aan het dataframe.<br>\n",
    "Gebruik de gegevens uit https://www.britannica.com/science/dwarf-planet en \n",
    "https://www.windows2universe.org/our_solar_system/planets_table.html    \n",
    "</p>"
   ]
  },
  {
   "cell_type": "code",
   "execution_count": null,
   "metadata": {},
   "outputs": [],
   "source": [
    "plt.title(f'Relatie tussen {xLabel} en {yLabel}')\n",
    "plt.xlabel(xLabel)\n",
    "plt.ylabel(yLabel)\n",
    "plt.scatter(x, y, c=\"red\", edgecolor='black', linewidth=1, alpha=0.75)\n",
    "\n",
    "b, m = polyfit(x, y, 1)\n",
    "plt.plot(x, b + m * x, '-')"
   ]
  },
  {
   "cell_type": "code",
   "execution_count": null,
   "metadata": {},
   "outputs": [],
   "source": [
    "xLabel = \"Diameter\" \n",
    "yLabel = \"Satellites\"\n",
    "\n",
    "x = df[xLabel]\n",
    "y = df[yLabel]\n",
    "\n",
    "plt.xlabel(xLabel)\n",
    "plt.ylabel(yLabel)\n",
    "\n",
    "planetTypeList = [\"Terrestrial\", \"Terrestrial\", \"Terrestrial\", \"Terrestrial\",  \"Gas Giants\", \"Gas Giants\", \"Ice Giants\", \"Ice Giants\", \"Dwarf\" ]\n",
    "colorMap = ['green', 'green', 'green', 'green', 'yellow', 'yellow', 'blue', 'blue', 'purple']\n",
    "len(planetTypeList)==len(colorMap)\n",
    "plt.scatter(x, y, c=colorMap, edgecolor='black', linewidth=1, alpha=0.75)"
   ]
  },
  {
   "cell_type": "code",
   "execution_count": null,
   "metadata": {},
   "outputs": [],
   "source": [
    "arr1 = [1, 2, 3, 4, 5]\n",
    "arr2 = [2, 3, 3, 4, 4]\n",
    "labl = [0, 1, 1, 0, 0]\n",
    "color= ['red' if l == 0 else 'green' for l in labl]\n",
    "plt.scatter(arr1, arr2, color=color)"
   ]
  },
  {
   "cell_type": "markdown",
   "metadata": {},
   "source": [
    "## References\n",
    "[Descriptive Statistics](https://stats.libretexts.org/Bookshelves/Introductory_Statistics/Introductory_Statistics_(Shafer_and_Zhang)/02%3A_Descriptive_Statistics)<br>\n",
    "[Planets - Data Table](https://www.windows2universe.org/our_solar_system/planets_table.html)"
   ]
  }
 ],
 "metadata": {
  "kernelspec": {
   "display_name": "Python 3 (ipykernel)",
   "language": "python",
   "name": "python3"
  },
  "language_info": {
   "codemirror_mode": {
    "name": "ipython",
    "version": 3
   },
   "file_extension": ".py",
   "mimetype": "text/x-python",
   "name": "python",
   "nbconvert_exporter": "python",
   "pygments_lexer": "ipython3",
   "version": "3.12.3"
  }
 },
 "nbformat": 4,
 "nbformat_minor": 4
}
