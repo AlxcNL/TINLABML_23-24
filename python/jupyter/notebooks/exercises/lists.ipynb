{
 "cells": [
  {
   "cell_type": "markdown",
   "id": "5a5999c2-eb9d-4bf9-8373-b9964e2c152d",
   "metadata": {},
   "source": [
    "<div>\n",
    "<img src='../pics/banner.PNG'/>\n",
    "</div>\n",
    "<div>\n",
    "<img width=\"15%\" src='../pics/tinlab.png'/>\n",
    "<strong>Python Basics - Jeroen Boogaard</strong>\n",
    "</div>"
   ]
  },
  {
   "cell_type": "markdown",
   "id": "88e57004-2f85-4311-84c0-c4e148f421a7",
   "metadata": {},
   "source": [
    "<h1>Samengestelde variabelen - lists</h1>"
   ]
  },
  {
   "cell_type": "markdown",
   "id": "6837aea3-45db-4940-8b9d-a406fdc01db1",
   "metadata": {},
   "source": [
    "<h3>List variabelen aanmaken en afdrukken</h3>"
   ]
  },
  {
   "cell_type": "markdown",
   "id": "99e472c0-ba9b-4e25-ae03-75fd62f31e8f",
   "metadata": {},
   "source": [
    "**Gebruik teksthaken [] voor het aanmaken van een list variabele**"
   ]
  },
  {
   "cell_type": "code",
   "execution_count": null,
   "id": "eac2c3b2-52a0-4847-bffc-ad8d2eff0507",
   "metadata": {
    "tags": []
   },
   "outputs": [],
   "source": [
    "neptuneInnerMoons = [\"Naiad\", \"Thalassa\", \"Despina\", \"Galatea\", \"Proteus\", \"Hippocamp\", \"Larissa\"]\n",
    "neptuneOutermoons = [\"Triton\", \"Halimede\", \"Sao\", \"Psamathe\", \"Laomedeia\", \"Neso\", \"Nereid\"]\n",
    "len(neptuneOutermoons)"
   ]
  },
  {
   "cell_type": "markdown",
   "id": "d1354bbe-99d3-4653-a787-dde02513ac0a",
   "metadata": {},
   "source": [
    "<h3>Exercise 9</h3>\n",
    "<p>Schrijf een statement om te bewijzen dat Neptunus evenveel binnen- als buitenmanen heeft</p>"
   ]
  },
  {
   "cell_type": "code",
   "execution_count": null,
   "id": "b4aec7a1-ca64-4cdd-b498-5d88ea756b2d",
   "metadata": {},
   "outputs": [],
   "source": [
    "# Oplossing\n",
    "type(len(neptuneInnerMoons) == len(neptuneOutermoons))"
   ]
  },
  {
   "cell_type": "markdown",
   "id": "7c74a678-a81b-4b7a-8bd6-57c4e1d41a04",
   "metadata": {},
   "source": [
    "**Gebruik index 0 voor het verkrijgen van het eerste element**"
   ]
  },
  {
   "cell_type": "code",
   "execution_count": null,
   "id": "aeadd5cd-2193-4581-8d52-9d085211630a",
   "metadata": {},
   "outputs": [],
   "source": [
    "print(\"%s is the largest moon of Neptune.\" %(neptuneOutermoons[0]))"
   ]
  },
  {
   "cell_type": "markdown",
   "id": "cf9045c4-8007-4292-ab0f-7c54bc0df848",
   "metadata": {},
   "source": [
    "**Met <i>sort()</i> wordt de volgorde van de elementen in een list <u>blijvend veranderd</u>.**"
   ]
  },
  {
   "cell_type": "code",
   "execution_count": null,
   "id": "27578e90-465b-4105-ac45-3e91bf2166f8",
   "metadata": {},
   "outputs": [],
   "source": [
    "neptuneOutermoons\n",
    "neptuneOutermoons.sort()\n",
    "neptuneOutermoons\n",
    "\n",
    "str = \"%s is the largest moon of Neptune.\" %(neptuneOutermoons[0])\n",
    "str.upper()"
   ]
  },
  {
   "cell_type": "markdown",
   "id": "340d4087-83ca-4686-afd3-6a8cb168843a",
   "metadata": {},
   "source": [
    "**Gebruik de functie len() voor het verkrijgen van het aantal elementen in een list**"
   ]
  },
  {
   "cell_type": "code",
   "execution_count": null,
   "id": "45ccf585-96e6-4174-8ed6-06b3f4778310",
   "metadata": {},
   "outputs": [],
   "source": [
    "print(f\"Neptune is the farthest planet of our solar system and it has { len(neptuneInnerMoons) + len(neptuneOutermoons) } known moons.\")"
   ]
  },
  {
   "cell_type": "markdown",
   "id": "174da62c-9843-4c8d-8945-815360e2faed",
   "metadata": {},
   "source": [
    "<h3>Elementen toevoegen</h3>"
   ]
  },
  {
   "cell_type": "code",
   "execution_count": null,
   "id": "9249ccbd-fc21-469d-a8b9-769f1fbb9551",
   "metadata": {},
   "outputs": [],
   "source": [
    "neptuneMoons = []\n",
    "\n",
    "for neptuneOuterMoon in neptuneOutermoons:\n",
    "    neptuneMoons.append(neptuneOuterMoon)\n",
    "    \n",
    "for neptuneInnerMoon in neptuneInnerMoons:\n",
    "    neptuneMoons.append(neptuneInnerMoon)\n",
    "\n",
    "neptuneMoons.sort()    \n",
    "    \n",
    "print(neptuneMoons)    "
   ]
  },
  {
   "cell_type": "markdown",
   "id": "08e1807f-de63-441e-80ff-cd2cccd3d947",
   "metadata": {},
   "source": [
    "<h3>Elementen verwijderen</h3>"
   ]
  },
  {
   "cell_type": "code",
   "execution_count": null,
   "id": "17f8296a-fa18-45d1-9948-707f87b1b694",
   "metadata": {},
   "outputs": [],
   "source": [
    "neptuneMoons.remove('Naiad')\n",
    "print(neptuneMoons)"
   ]
  },
  {
   "cell_type": "markdown",
   "id": "329486ba-5092-4eb1-ba2b-693bebeb036c",
   "metadata": {},
   "source": [
    "**Gebruik <i>pop()</i> om het laaste element <u>uit</u> de lijst te halen**"
   ]
  },
  {
   "cell_type": "code",
   "execution_count": null,
   "id": "a7aaf648-0286-434c-b927-e1364d381d5c",
   "metadata": {},
   "outputs": [],
   "source": [
    "firstNeptuneMoon = neptuneMoons.pop()\n",
    "print(f\"Popped {firstNeptuneMoon} from neptuneMoons\")\n",
    "print(f\"{neptuneMoons}\")"
   ]
  },
  {
   "cell_type": "markdown",
   "id": "3bb73b2b-463b-44cd-a17e-d8c63a52005e",
   "metadata": {},
   "source": [
    "<h3>Excercise 10</h3>\n",
    "<p>Maak een nieuwe lijst <i>lowerMoons</i> met alle <u>neptuneMoons</u> in <u>lowercase</u>.    "
   ]
  }
 ],
 "metadata": {
  "kernelspec": {
   "display_name": "Python 3 (ipykernel)",
   "language": "python",
   "name": "python3"
  },
  "language_info": {
   "codemirror_mode": {
    "name": "ipython",
    "version": 3
   },
   "file_extension": ".py",
   "mimetype": "text/x-python",
   "name": "python",
   "nbconvert_exporter": "python",
   "pygments_lexer": "ipython3",
   "version": "3.12.2"
  },
  "vscode": {
   "interpreter": {
    "hash": "aee8b7b246df8f9039afb4144a1f6fd8d2ca17a180786b69acc140d282b71a49"
   }
  }
 },
 "nbformat": 4,
 "nbformat_minor": 5
}
