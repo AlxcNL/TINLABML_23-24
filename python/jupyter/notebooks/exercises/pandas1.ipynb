{
 "cells": [
  {
   "cell_type": "markdown",
   "id": "8bab916d-43d3-4817-bbc1-6ef922fd30b9",
   "metadata": {},
   "source": [
    "<div>\n",
    "<img src='../pics/banner.PNG'/>\n",
    "</div>\n",
    "<div>\n",
    "<img width=\"20%\" src='../pics/pandas.svg'/>\n",
    "</div>\n",
    "<div>\n",
    "<img width=\"15%\" src='../pics/tinlab.png'/>\n",
    "<strong>Pandas Series - Jeroen Boogaard</strong>\n",
    "</div>"
   ]
  },
  {
   "cell_type": "markdown",
   "id": "2159f0bb-aef8-4123-be16-d8213aa61745",
   "metadata": {},
   "source": [
    "# Pandas 1: Pandas Series\n",
    "<p>\n",
    "Een <strong>Pandas Series</strong> lijkt op een Python dictorionary en voegt labels toe aan een Numpy Array\n",
    "</p>"
   ]
  },
  {
   "cell_type": "markdown",
   "id": "c9392295-fc66-4c23-b5a1-bd6e77d04144",
   "metadata": {},
   "source": [
    "**Imports**"
   ]
  },
  {
   "cell_type": "code",
   "execution_count": 1,
   "id": "bcc776ab-559b-48df-9b7a-d33d423cdeb2",
   "metadata": {},
   "outputs": [],
   "source": [
    "import pandas as pd\n",
    "import numpy as np"
   ]
  },
  {
   "cell_type": "markdown",
   "id": "1fbc935d-3ce5-41ea-b98a-b7c8db4fcaa3",
   "metadata": {},
   "source": [
    "#### Pandas Series o.b.v. list"
   ]
  },
  {
   "cell_type": "code",
   "execution_count": 2,
   "id": "10ef19a8-1b77-4c99-a3fd-fe4554daa771",
   "metadata": {},
   "outputs": [],
   "source": [
    "finalCountriesList = ['Sweden', 'Ukraine', 'Germany', 'Luxembourg', 'Israel']\n",
    "finalOrderList = [ 1, 2, 3, 4, 6 ]"
   ]
  },
  {
   "cell_type": "code",
   "execution_count": 3,
   "id": "af541000-05cd-4cfc-86a8-2b880e0d259f",
   "metadata": {},
   "outputs": [
    {
     "data": {
      "text/plain": [
       "1        Sweden\n",
       "2       Ukraine\n",
       "3       Germany\n",
       "4    Luxembourg\n",
       "6        Israel\n",
       "dtype: object"
      ]
     },
     "metadata": {},
     "output_type": "display_data"
    },
    {
     "data": {
      "text/plain": [
       "pandas.core.series.Series"
      ]
     },
     "execution_count": 3,
     "metadata": {},
     "output_type": "execute_result"
    }
   ],
   "source": [
    "grandFinalSeries = pd.Series(data=finalCountriesList, index=finalOrderList)\n",
    "display(grandFinalSeries)\n",
    "type(grandFinalSeries)"
   ]
  },
  {
   "cell_type": "code",
   "execution_count": 4,
   "id": "553a7891-8fb4-41fe-9ea2-a290ee11425a",
   "metadata": {},
   "outputs": [
    {
     "data": {
      "text/plain": [
       "'Sweden'"
      ]
     },
     "execution_count": 4,
     "metadata": {},
     "output_type": "execute_result"
    }
   ],
   "source": [
    "grandFinalSeries[1]"
   ]
  },
  {
   "cell_type": "markdown",
   "id": "e8e089fa-69cb-40c2-9d3e-d5bd43efe273",
   "metadata": {},
   "source": [
    "<h3>Exercise 1</h3>\n",
    "<p>Maak uit grandFinalSeries de lijsten finalCountriesListExtracted en finalOrderListExtracted en vergelijk deze met respectievelijk finalCountriesList en finalOrderList</p>"
   ]
  },
  {
   "cell_type": "markdown",
   "id": "1db9fefc-310b-499b-b89a-652e6ba06641",
   "metadata": {},
   "source": [
    "**Oplossing**"
   ]
  },
  {
   "cell_type": "markdown",
   "id": "b21d6a69-ebe9-4946-b741-88811c27e5d3",
   "metadata": {},
   "source": [
    "#### Pandas Series o.b.v. dictionary"
   ]
  },
  {
   "cell_type": "code",
   "execution_count": 5,
   "id": "e367c42f-06b3-4975-a396-48717d749004",
   "metadata": {},
   "outputs": [],
   "source": [
    "euroArtistsDict = { \n",
    "    'Sweden':'Marcus & Martinus',\n",
    "    'Ukraine': 'alyona alyona & Jerry Heil',\n",
    "    'Germany': 'ISAAK'    \n",
    "}"
   ]
  },
  {
   "cell_type": "code",
   "execution_count": 6,
   "id": "0e59233d-0d81-400b-881e-cc38d86f5261",
   "metadata": {},
   "outputs": [
    {
     "data": {
      "text/plain": [
       "Sweden              Marcus & Martinus\n",
       "Ukraine    alyona alyona & Jerry Heil\n",
       "Germany                         ISAAK\n",
       "dtype: object"
      ]
     },
     "metadata": {},
     "output_type": "display_data"
    },
    {
     "data": {
      "text/plain": [
       "pandas.core.series.Series"
      ]
     },
     "execution_count": 6,
     "metadata": {},
     "output_type": "execute_result"
    }
   ],
   "source": [
    "euroArtistsSeries = pd.Series(euroArtistsDict)\n",
    "display(euroArtistsSeries)\n",
    "type(euroArtistsSeries)"
   ]
  },
  {
   "cell_type": "code",
   "execution_count": 7,
   "id": "94ebf3b7-95a4-4b1b-997e-04cdae8c8b2e",
   "metadata": {},
   "outputs": [
    {
     "data": {
      "text/plain": [
       "'Marcus & Martinus'"
      ]
     },
     "execution_count": 7,
     "metadata": {},
     "output_type": "execute_result"
    }
   ],
   "source": [
    "euroArtistsSeries[ grandFinalSeries[1] ]"
   ]
  },
  {
   "cell_type": "markdown",
   "id": "062ad75a-11dc-4777-bf76-ce9b6a8c39da",
   "metadata": {},
   "source": [
    "<h3>Exercise 2</h3>\n",
    "<p>Maak uit euroArtistsSeries de dictionary euroArtistsDictExtracted en vergelijk deze met euroArtistsDict</p>"
   ]
  },
  {
   "cell_type": "markdown",
   "id": "ee767070-8840-4f86-9a03-118de217db7f",
   "metadata": {},
   "source": [
    "**Oplossing**"
   ]
  },
  {
   "cell_type": "markdown",
   "id": "60abbb5d-5c03-4517-bfc5-c9f40ffb4081",
   "metadata": {},
   "source": [
    "#### Pandas Series o.b.v. Numpy Array"
   ]
  },
  {
   "cell_type": "code",
   "execution_count": 9,
   "id": "7ea463ee-2580-400f-ade2-292d94fa5e45",
   "metadata": {},
   "outputs": [
    {
     "data": {
      "text/plain": [
       "array([10, 20,  1,  2,  3,  4,  5,  6,  7])"
      ]
     },
     "metadata": {},
     "output_type": "display_data"
    },
    {
     "data": {
      "text/plain": [
       "(9,)"
      ]
     },
     "execution_count": 9,
     "metadata": {},
     "output_type": "execute_result"
    }
   ],
   "source": [
    "numbersArray = np.array(\n",
    "    [10, 20, 1, 2, 3, 4, 5, 6, 7]\n",
    ")\n",
    "display(numbersArray)\n",
    "numbersArray.shape"
   ]
  },
  {
   "cell_type": "code",
   "execution_count": 10,
   "id": "6ed3d42f-285a-40b3-9dc8-e86f102aa4f1",
   "metadata": {},
   "outputs": [
    {
     "data": {
      "text/plain": [
       "0    10\n",
       "1    20\n",
       "2     1\n",
       "3     2\n",
       "4     3\n",
       "5     4\n",
       "6     5\n",
       "7     6\n",
       "8     7\n",
       "dtype: int32"
      ]
     },
     "metadata": {},
     "output_type": "display_data"
    },
    {
     "data": {
      "text/plain": [
       "pandas.core.series.Series"
      ]
     },
     "execution_count": 10,
     "metadata": {},
     "output_type": "execute_result"
    }
   ],
   "source": [
    "numbersSeries = pd.Series(numbersArray)\n",
    "display(numbersSeries)\n",
    "type(numbersSeries)"
   ]
  },
  {
   "cell_type": "markdown",
   "id": "be107cf4-6523-435e-94ab-62051d13dc6b",
   "metadata": {},
   "source": [
    "<h3>Exercise 3</h3>\n",
    "<p>Maak uit numbersSeries de Numpy Array numbersArrayExtracted en vergelijk deze met numbersArray</p>"
   ]
  },
  {
   "cell_type": "markdown",
   "id": "86a4e268-6787-44bc-afa6-47bacdb6355c",
   "metadata": {},
   "source": [
    "**Oplossing**"
   ]
  }
 ],
 "metadata": {
  "kernelspec": {
   "display_name": "Python 3 (ipykernel)",
   "language": "python",
   "name": "python3"
  },
  "language_info": {
   "codemirror_mode": {
    "name": "ipython",
    "version": 3
   },
   "file_extension": ".py",
   "mimetype": "text/x-python",
   "name": "python",
   "nbconvert_exporter": "python",
   "pygments_lexer": "ipython3",
   "version": "3.12.3"
  },
  "vscode": {
   "interpreter": {
    "hash": "aee8b7b246df8f9039afb4144a1f6fd8d2ca17a180786b69acc140d282b71a49"
   }
  }
 },
 "nbformat": 4,
 "nbformat_minor": 5
}
