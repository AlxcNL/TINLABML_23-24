{
 "cells": [
  {
   "attachments": {},
   "cell_type": "markdown",
   "id": "520c9c3f",
   "metadata": {},
   "source": [
    "<div>\n",
    "<img src='../pics/banner.PNG'/>\n",
    "</div>\n",
    "<div>\n",
    "<img width=\"15%\" src='../pics/tinlab.png'/>\n",
    "<strong>Correlation - Jeroen Boogaard</strong>\n",
    "</div>"
   ]
  },
  {
   "cell_type": "markdown",
   "id": "268d1563-db16-4fa9-a789-1cabb133070a",
   "metadata": {},
   "source": [
    "<h1>Simple Linear Regression</h1>\n",
    "<p>\n",
    "Line of best fit\n",
    "The aim is to minimize prediction errors by finding a regression line that best fit the data.\n",
    "This is done in a supervised way by minimizing the (absolute) distance between the observed (labeled) values and the\n",
    "values predicted by the model.</p>\n",
    "<img width=\"20%\" src='../pics/regression_line.png'/>"
   ]
  },
  {
   "cell_type": "markdown",
   "id": "9446e8dc-fc1a-4d88-b4ec-532f5b44bc13",
   "metadata": {},
   "source": [
    "**Imports**"
   ]
  },
  {
   "cell_type": "code",
   "execution_count": 1,
   "id": "83e815de",
   "metadata": {},
   "outputs": [],
   "source": [
    "import pandas as pd\n",
    "import numpy as np\n",
    "import matplotlib.pyplot as plt\n",
    "from sklearn.linear_model import LinearRegression\n",
    "from sklearn.neural_network import MLPRegressor\n",
    "from sklearn.model_selection import train_test_split"
   ]
  },
  {
   "cell_type": "code",
   "execution_count": 34,
   "id": "55f28925-cc0d-4d31-86a6-46a31d71df14",
   "metadata": {},
   "outputs": [],
   "source": [
    "%matplotlib inline"
   ]
  },
  {
   "cell_type": "markdown",
   "id": "7c1e5240-c87d-429a-87d4-a65673dcf768",
   "metadata": {},
   "source": [
    "**Load Dataset**"
   ]
  },
  {
   "cell_type": "code",
   "execution_count": 3,
   "id": "27cbde79-feef-4878-b2be-b49e17ec6132",
   "metadata": {},
   "outputs": [
    {
     "data": {
      "text/html": [
       "<div>\n",
       "<style scoped>\n",
       "    .dataframe tbody tr th:only-of-type {\n",
       "        vertical-align: middle;\n",
       "    }\n",
       "\n",
       "    .dataframe tbody tr th {\n",
       "        vertical-align: top;\n",
       "    }\n",
       "\n",
       "    .dataframe thead th {\n",
       "        text-align: right;\n",
       "    }\n",
       "</style>\n",
       "<table border=\"1\" class=\"dataframe\">\n",
       "  <thead>\n",
       "    <tr style=\"text-align: right;\">\n",
       "      <th></th>\n",
       "      <th>s_speed_x</th>\n",
       "      <th>s_speed_y</th>\n",
       "      <th>s_speed_z</th>\n",
       "      <th>s_rpm</th>\n",
       "      <th>s_gear</th>\n",
       "      <th>s_angle</th>\n",
       "      <th>s_z</th>\n",
       "      <th>s_damage</th>\n",
       "      <th>s_track_position</th>\n",
       "      <th>s_race_position</th>\n",
       "      <th>s_distance_raced</th>\n",
       "      <th>s_distance_from_start</th>\n",
       "      <th>s_current_laptime</th>\n",
       "      <th>s_last_laptime</th>\n",
       "      <th>a_accelation</th>\n",
       "      <th>a_brake</th>\n",
       "      <th>a_gear</th>\n",
       "      <th>a_steer</th>\n",
       "      <th>a_clutch</th>\n",
       "    </tr>\n",
       "  </thead>\n",
       "  <tbody>\n",
       "    <tr>\n",
       "      <th>0</th>\n",
       "      <td>-0.005887</td>\n",
       "      <td>-0.027970</td>\n",
       "      <td>0.000171</td>\n",
       "      <td>942</td>\n",
       "      <td>0</td>\n",
       "      <td>0.000210</td>\n",
       "      <td>0.345256</td>\n",
       "      <td>0.0</td>\n",
       "      <td>-0.333363</td>\n",
       "      <td>1</td>\n",
       "      <td>0.000000</td>\n",
       "      <td>5759.100098</td>\n",
       "      <td>-0.982000</td>\n",
       "      <td>0.000000</td>\n",
       "      <td>1.000000</td>\n",
       "      <td>0.0</td>\n",
       "      <td>1</td>\n",
       "      <td>0.455342</td>\n",
       "      <td>0.0</td>\n",
       "    </tr>\n",
       "    <tr>\n",
       "      <th>1</th>\n",
       "      <td>-0.005887</td>\n",
       "      <td>-0.027970</td>\n",
       "      <td>0.000171</td>\n",
       "      <td>1100</td>\n",
       "      <td>0</td>\n",
       "      <td>0.000210</td>\n",
       "      <td>0.345256</td>\n",
       "      <td>0.0</td>\n",
       "      <td>-0.333363</td>\n",
       "      <td>1</td>\n",
       "      <td>0.000000</td>\n",
       "      <td>5759.100098</td>\n",
       "      <td>-0.962000</td>\n",
       "      <td>0.000000</td>\n",
       "      <td>1.000000</td>\n",
       "      <td>0.0</td>\n",
       "      <td>1</td>\n",
       "      <td>0.455342</td>\n",
       "      <td>0.0</td>\n",
       "    </tr>\n",
       "    <tr>\n",
       "      <th>2</th>\n",
       "      <td>-0.005887</td>\n",
       "      <td>-0.027970</td>\n",
       "      <td>0.000171</td>\n",
       "      <td>1263</td>\n",
       "      <td>0</td>\n",
       "      <td>0.000210</td>\n",
       "      <td>0.345256</td>\n",
       "      <td>0.0</td>\n",
       "      <td>-0.333363</td>\n",
       "      <td>1</td>\n",
       "      <td>0.000000</td>\n",
       "      <td>5759.100098</td>\n",
       "      <td>-0.942000</td>\n",
       "      <td>0.000000</td>\n",
       "      <td>1.000000</td>\n",
       "      <td>0.0</td>\n",
       "      <td>1</td>\n",
       "      <td>0.455342</td>\n",
       "      <td>0.0</td>\n",
       "    </tr>\n",
       "    <tr>\n",
       "      <th>3</th>\n",
       "      <td>-0.005887</td>\n",
       "      <td>-0.027970</td>\n",
       "      <td>0.000171</td>\n",
       "      <td>1432</td>\n",
       "      <td>0</td>\n",
       "      <td>0.000210</td>\n",
       "      <td>0.345256</td>\n",
       "      <td>0.0</td>\n",
       "      <td>-0.333363</td>\n",
       "      <td>1</td>\n",
       "      <td>0.000000</td>\n",
       "      <td>5759.100098</td>\n",
       "      <td>-0.922000</td>\n",
       "      <td>0.000000</td>\n",
       "      <td>1.000000</td>\n",
       "      <td>0.0</td>\n",
       "      <td>1</td>\n",
       "      <td>0.455342</td>\n",
       "      <td>0.0</td>\n",
       "    </tr>\n",
       "    <tr>\n",
       "      <th>4</th>\n",
       "      <td>-0.005887</td>\n",
       "      <td>-0.027970</td>\n",
       "      <td>0.000171</td>\n",
       "      <td>1605</td>\n",
       "      <td>0</td>\n",
       "      <td>0.000210</td>\n",
       "      <td>0.345256</td>\n",
       "      <td>0.0</td>\n",
       "      <td>-0.333363</td>\n",
       "      <td>1</td>\n",
       "      <td>0.000000</td>\n",
       "      <td>5759.100098</td>\n",
       "      <td>-0.902000</td>\n",
       "      <td>0.000000</td>\n",
       "      <td>1.000000</td>\n",
       "      <td>0.0</td>\n",
       "      <td>1</td>\n",
       "      <td>0.455342</td>\n",
       "      <td>0.0</td>\n",
       "    </tr>\n",
       "    <tr>\n",
       "      <th>...</th>\n",
       "      <td>...</td>\n",
       "      <td>...</td>\n",
       "      <td>...</td>\n",
       "      <td>...</td>\n",
       "      <td>...</td>\n",
       "      <td>...</td>\n",
       "      <td>...</td>\n",
       "      <td>...</td>\n",
       "      <td>...</td>\n",
       "      <td>...</td>\n",
       "      <td>...</td>\n",
       "      <td>...</td>\n",
       "      <td>...</td>\n",
       "      <td>...</td>\n",
       "      <td>...</td>\n",
       "      <td>...</td>\n",
       "      <td>...</td>\n",
       "      <td>...</td>\n",
       "      <td>...</td>\n",
       "    </tr>\n",
       "    <tr>\n",
       "      <th>27100</th>\n",
       "      <td>149.367004</td>\n",
       "      <td>0.217909</td>\n",
       "      <td>0.014252</td>\n",
       "      <td>6292</td>\n",
       "      <td>4</td>\n",
       "      <td>-0.002065</td>\n",
       "      <td>0.333751</td>\n",
       "      <td>0.0</td>\n",
       "      <td>0.365540</td>\n",
       "      <td>1</td>\n",
       "      <td>17373.199219</td>\n",
       "      <td>5780.000000</td>\n",
       "      <td>182.518005</td>\n",
       "      <td>182.686005</td>\n",
       "      <td>0.306337</td>\n",
       "      <td>0.0</td>\n",
       "      <td>4</td>\n",
       "      <td>-0.007270</td>\n",
       "      <td>0.0</td>\n",
       "    </tr>\n",
       "    <tr>\n",
       "      <th>27101</th>\n",
       "      <td>149.367004</td>\n",
       "      <td>0.218345</td>\n",
       "      <td>0.011003</td>\n",
       "      <td>6293</td>\n",
       "      <td>4</td>\n",
       "      <td>-0.003257</td>\n",
       "      <td>0.333752</td>\n",
       "      <td>0.0</td>\n",
       "      <td>0.366278</td>\n",
       "      <td>1</td>\n",
       "      <td>17374.099609</td>\n",
       "      <td>5780.910156</td>\n",
       "      <td>182.539993</td>\n",
       "      <td>182.686005</td>\n",
       "      <td>0.306337</td>\n",
       "      <td>0.0</td>\n",
       "      <td>4</td>\n",
       "      <td>-0.007331</td>\n",
       "      <td>0.0</td>\n",
       "    </tr>\n",
       "    <tr>\n",
       "      <th>27102</th>\n",
       "      <td>149.367004</td>\n",
       "      <td>0.218885</td>\n",
       "      <td>0.007687</td>\n",
       "      <td>6292</td>\n",
       "      <td>4</td>\n",
       "      <td>-0.004707</td>\n",
       "      <td>0.333747</td>\n",
       "      <td>0.0</td>\n",
       "      <td>0.367154</td>\n",
       "      <td>1</td>\n",
       "      <td>17375.099609</td>\n",
       "      <td>5781.810059</td>\n",
       "      <td>182.561996</td>\n",
       "      <td>182.686005</td>\n",
       "      <td>0.306337</td>\n",
       "      <td>0.0</td>\n",
       "      <td>4</td>\n",
       "      <td>-0.007406</td>\n",
       "      <td>0.0</td>\n",
       "    </tr>\n",
       "    <tr>\n",
       "      <th>27103</th>\n",
       "      <td>149.367004</td>\n",
       "      <td>0.219488</td>\n",
       "      <td>0.005873</td>\n",
       "      <td>6292</td>\n",
       "      <td>4</td>\n",
       "      <td>-0.006692</td>\n",
       "      <td>0.333760</td>\n",
       "      <td>0.0</td>\n",
       "      <td>0.368392</td>\n",
       "      <td>1</td>\n",
       "      <td>17376.000000</td>\n",
       "      <td>5782.720215</td>\n",
       "      <td>182.584000</td>\n",
       "      <td>182.686005</td>\n",
       "      <td>0.306337</td>\n",
       "      <td>0.0</td>\n",
       "      <td>4</td>\n",
       "      <td>-0.007508</td>\n",
       "      <td>0.0</td>\n",
       "    </tr>\n",
       "    <tr>\n",
       "      <th>27104</th>\n",
       "      <td>149.367004</td>\n",
       "      <td>0.220521</td>\n",
       "      <td>-0.000297</td>\n",
       "      <td>6293</td>\n",
       "      <td>4</td>\n",
       "      <td>-0.008671</td>\n",
       "      <td>0.333751</td>\n",
       "      <td>0.0</td>\n",
       "      <td>0.369884</td>\n",
       "      <td>1</td>\n",
       "      <td>17376.900391</td>\n",
       "      <td>5783.629883</td>\n",
       "      <td>182.606003</td>\n",
       "      <td>182.686005</td>\n",
       "      <td>0.306337</td>\n",
       "      <td>0.0</td>\n",
       "      <td>4</td>\n",
       "      <td>-0.007615</td>\n",
       "      <td>0.0</td>\n",
       "    </tr>\n",
       "  </tbody>\n",
       "</table>\n",
       "<p>27105 rows × 19 columns</p>\n",
       "</div>"
      ],
      "text/plain": [
       "        s_speed_x  s_speed_y  s_speed_z  s_rpm  s_gear   s_angle       s_z  \\\n",
       "0       -0.005887  -0.027970   0.000171    942       0  0.000210  0.345256   \n",
       "1       -0.005887  -0.027970   0.000171   1100       0  0.000210  0.345256   \n",
       "2       -0.005887  -0.027970   0.000171   1263       0  0.000210  0.345256   \n",
       "3       -0.005887  -0.027970   0.000171   1432       0  0.000210  0.345256   \n",
       "4       -0.005887  -0.027970   0.000171   1605       0  0.000210  0.345256   \n",
       "...           ...        ...        ...    ...     ...       ...       ...   \n",
       "27100  149.367004   0.217909   0.014252   6292       4 -0.002065  0.333751   \n",
       "27101  149.367004   0.218345   0.011003   6293       4 -0.003257  0.333752   \n",
       "27102  149.367004   0.218885   0.007687   6292       4 -0.004707  0.333747   \n",
       "27103  149.367004   0.219488   0.005873   6292       4 -0.006692  0.333760   \n",
       "27104  149.367004   0.220521  -0.000297   6293       4 -0.008671  0.333751   \n",
       "\n",
       "       s_damage  s_track_position  s_race_position  s_distance_raced  \\\n",
       "0           0.0         -0.333363                1          0.000000   \n",
       "1           0.0         -0.333363                1          0.000000   \n",
       "2           0.0         -0.333363                1          0.000000   \n",
       "3           0.0         -0.333363                1          0.000000   \n",
       "4           0.0         -0.333363                1          0.000000   \n",
       "...         ...               ...              ...               ...   \n",
       "27100       0.0          0.365540                1      17373.199219   \n",
       "27101       0.0          0.366278                1      17374.099609   \n",
       "27102       0.0          0.367154                1      17375.099609   \n",
       "27103       0.0          0.368392                1      17376.000000   \n",
       "27104       0.0          0.369884                1      17376.900391   \n",
       "\n",
       "       s_distance_from_start  s_current_laptime  s_last_laptime  a_accelation  \\\n",
       "0                5759.100098          -0.982000        0.000000      1.000000   \n",
       "1                5759.100098          -0.962000        0.000000      1.000000   \n",
       "2                5759.100098          -0.942000        0.000000      1.000000   \n",
       "3                5759.100098          -0.922000        0.000000      1.000000   \n",
       "4                5759.100098          -0.902000        0.000000      1.000000   \n",
       "...                      ...                ...             ...           ...   \n",
       "27100            5780.000000         182.518005      182.686005      0.306337   \n",
       "27101            5780.910156         182.539993      182.686005      0.306337   \n",
       "27102            5781.810059         182.561996      182.686005      0.306337   \n",
       "27103            5782.720215         182.584000      182.686005      0.306337   \n",
       "27104            5783.629883         182.606003      182.686005      0.306337   \n",
       "\n",
       "       a_brake  a_gear   a_steer  a_clutch  \n",
       "0          0.0       1  0.455342       0.0  \n",
       "1          0.0       1  0.455342       0.0  \n",
       "2          0.0       1  0.455342       0.0  \n",
       "3          0.0       1  0.455342       0.0  \n",
       "4          0.0       1  0.455342       0.0  \n",
       "...        ...     ...       ...       ...  \n",
       "27100      0.0       4 -0.007270       0.0  \n",
       "27101      0.0       4 -0.007331       0.0  \n",
       "27102      0.0       4 -0.007406       0.0  \n",
       "27103      0.0       4 -0.007508       0.0  \n",
       "27104      0.0       4 -0.007615       0.0  \n",
       "\n",
       "[27105 rows x 19 columns]"
      ]
     },
     "execution_count": 3,
     "metadata": {},
     "output_type": "execute_result"
    }
   ],
   "source": [
    "df = pd.read_csv(\"../csv/forza_2023-05-19.csv\", sep=';', header=0)\n",
    "df"
   ]
  },
  {
   "cell_type": "code",
   "execution_count": 36,
   "id": "ba3415aa-1616-472f-a4d5-6532830b57d8",
   "metadata": {},
   "outputs": [
    {
     "data": {
      "text/plain": [
       "113.23829425069175"
      ]
     },
     "execution_count": 36,
     "metadata": {},
     "output_type": "execute_result"
    }
   ],
   "source": [
    "np.mean(df[['s_speed_x']])"
   ]
  },
  {
   "cell_type": "code",
   "execution_count": 39,
   "id": "a5e40115-475f-4b1e-bfa0-9476508f1e25",
   "metadata": {},
   "outputs": [
    {
     "data": {
      "text/plain": [
       "<bound method DataFrame.var of         a_steer\n",
       "0      0.455342\n",
       "1      0.455342\n",
       "2      0.455342\n",
       "3      0.455342\n",
       "4      0.455342\n",
       "...         ...\n",
       "27100 -0.007270\n",
       "27101 -0.007331\n",
       "27102 -0.007406\n",
       "27103 -0.007508\n",
       "27104 -0.007615\n",
       "\n",
       "[27105 rows x 1 columns]>"
      ]
     },
     "execution_count": 39,
     "metadata": {},
     "output_type": "execute_result"
    }
   ],
   "source": [
    "df[['a_steer']].var"
   ]
  },
  {
   "cell_type": "markdown",
   "id": "134a3108-26b6-47b7-88b3-1ffabbb3faf2",
   "metadata": {},
   "source": [
    "**Feature Selection**"
   ]
  },
  {
   "cell_type": "code",
   "execution_count": 33,
   "id": "a1812e69-da0e-48b7-8e68-b57a2e4a4846",
   "metadata": {
    "scrolled": true
   },
   "outputs": [
    {
     "data": {
      "text/plain": [
       "54210"
      ]
     },
     "execution_count": 33,
     "metadata": {},
     "output_type": "execute_result"
    }
   ],
   "source": [
    "# dataset = df[['s_speed_x', 's_speed_y', 's_angle', 'a_brake', 'a_gear', 'a_steer']]\n",
    "dataset = df[['s_angle', 'a_steer']]\n",
    "X = dataset.iloc[ : ,   : 1 ].values\n",
    "Y = dataset.iloc[ : , 1 ].values\n",
    "dataset.size"
   ]
  },
  {
   "cell_type": "markdown",
   "id": "e68bb648-dec4-4b8a-8097-1c4c19d1963a",
   "metadata": {},
   "source": [
    "**Split dataset**"
   ]
  },
  {
   "cell_type": "code",
   "execution_count": 24,
   "id": "bd238047-e9fe-4c57-bada-0ccf8bf21ba4",
   "metadata": {},
   "outputs": [],
   "source": [
    "X_train, X_test, Y_train, Y_test = train_test_split( X, Y, test_size = 1/4, random_state = 0) "
   ]
  },
  {
   "cell_type": "markdown",
   "id": "dc5d25ad-31fa-466a-8094-c5eb8ba40a2a",
   "metadata": {},
   "source": [
    "**Fitting Simple Linear Regression Model to the training set**"
   ]
  },
  {
   "cell_type": "code",
   "execution_count": 25,
   "id": "286e952b-4be6-497b-b973-ab1a9c9f1b7a",
   "metadata": {},
   "outputs": [],
   "source": [
    "linregressor = LinearRegression()\n",
    "linregressor = linregressor.fit(X_train, Y_train)"
   ]
  },
  {
   "cell_type": "markdown",
   "id": "e380dd50-1c3a-4d43-bc54-dddae80a5756",
   "metadata": {},
   "source": [
    "**Predecting the Result**"
   ]
  },
  {
   "cell_type": "code",
   "execution_count": 26,
   "id": "38ae109e-ef44-49d2-8900-bdb2516585d9",
   "metadata": {},
   "outputs": [
    {
     "data": {
      "text/plain": [
       "array([-0.08520804, -0.00312309, -0.23107897, ...,  0.04273069,\n",
       "        0.04261257, -0.13615967])"
      ]
     },
     "execution_count": 26,
     "metadata": {},
     "output_type": "execute_result"
    }
   ],
   "source": [
    "Y_pred = linregressor.predict(X_test)\n",
    "Y_pred"
   ]
  },
  {
   "cell_type": "markdown",
   "id": "16749f38-4bdb-4cb7-b12b-aa59aa20cd51",
   "metadata": {},
   "source": [
    "**Visualization**"
   ]
  },
  {
   "cell_type": "code",
   "execution_count": 27,
   "id": "22bade7d-d550-40c8-82c0-7eb97a632332",
   "metadata": {},
   "outputs": [
    {
     "data": {
      "text/plain": [
       "[<matplotlib.lines.Line2D at 0x2f25d1def10>]"
      ]
     },
     "execution_count": 27,
     "metadata": {},
     "output_type": "execute_result"
    },
    {
     "data": {
      "image/png": "[encoded data removed]",
      "text/plain": [
       "<Figure size 640x480 with 1 Axes>"
      ]
     },
     "metadata": {},
     "output_type": "display_data"
    }
   ],
   "source": [
    "plt.scatter(X_train , Y_train, color = 'red')\n",
    "plt.plot(X_train , linregressor.predict(X_train), color ='blue')"
   ]
  },
  {
   "cell_type": "markdown",
   "id": "04cf9ce6-1f0a-4330-bb75-ed551b490bf8",
   "metadata": {},
   "source": [
    "**Exercise**\n",
    "Use the same steps to train and test the [MLP Regressor](https://scikit-learn.org/stable/modules/generated/sklearn.neural_network.MLPRegressor.html)"
   ]
  },
  {
   "cell_type": "code",
   "execution_count": 28,
   "id": "a70fc462-86cf-451e-a37b-a136501281b0",
   "metadata": {},
   "outputs": [],
   "source": [
    "mlpregressor = MLPRegressor(random_state=1, max_iter=500).fit(X_train, Y_train)\n",
    "mlpregressor = regressor.fit(X_train, Y_train)"
   ]
  },
  {
   "cell_type": "code",
   "execution_count": 29,
   "id": "5573409b-4224-432c-aa76-4ebc3d08084e",
   "metadata": {},
   "outputs": [
    {
     "data": {
      "text/plain": [
       "array([-0.08520804, -0.00312309, -0.23107897, ...,  0.04273069,\n",
       "        0.04261257, -0.13615967])"
      ]
     },
     "execution_count": 29,
     "metadata": {},
     "output_type": "execute_result"
    }
   ],
   "source": [
    "Y_pred = mlpregressor.predict(X_test)\n",
    "Y_pred"
   ]
  },
  {
   "cell_type": "code",
   "execution_count": 30,
   "id": "d558dbdc-2e40-4ecc-9acd-d475e086d260",
   "metadata": {},
   "outputs": [
    {
     "data": {
      "text/plain": [
       "[<matplotlib.lines.Line2D at 0x2f25d12f1d0>]"
      ]
     },
     "execution_count": 30,
     "metadata": {},
     "output_type": "execute_result"
    },
    {
     "data": {
      "image/png": "[encoded data removed]",
      "text/plain": [
       "<Figure size 640x480 with 1 Axes>"
      ]
     },
     "metadata": {},
     "output_type": "display_data"
    }
   ],
   "source": [
    "plt.scatter(X_train , Y_train, color = 'red')\n",
    "plt.plot(X_train , regressor.predict(X_train), color ='blue')"
   ]
  },
  {
   "cell_type": "markdown",
   "id": "c23151ad-a16f-41d7-8dd2-ddcfe687cdaa",
   "metadata": {},
   "source": [
    "### Reference\n",
    "[100-Days-Of-ML-Code](https://github.com/AlxcNL/100-Days-Of-ML-Code/blob/master/Code/Day2_Simple_Linear_Regression.md)"
   ]
  }
 ],
 "metadata": {
  "kernelspec": {
   "display_name": "Python 3 (ipykernel)",
   "language": "python",
   "name": "python3"
  },
  "language_info": {
   "codemirror_mode": {
    "name": "ipython",
    "version": 3
   },
   "file_extension": ".py",
   "mimetype": "text/x-python",
   "name": "python",
   "nbconvert_exporter": "python",
   "pygments_lexer": "ipython3",
   "version": "3.11.7"
  }
 },
 "nbformat": 4,
 "nbformat_minor": 5
}
