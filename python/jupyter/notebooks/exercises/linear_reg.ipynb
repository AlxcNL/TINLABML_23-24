{
 "cells": [
  {
   "attachments": {},
   "cell_type": "markdown",
   "id": "520c9c3f",
   "metadata": {},
   "source": [
    "<div>\n",
    "<img src='../pics/banner.PNG'/>\n",
    "</div>\n",
    "<div>\n",
    "<img width=\"15%\" src='../pics/tinlab.png'/>\n",
    "<strong>Correlation - Jeroen Boogaard</strong>\n",
    "</div>"
   ]
  },
  {
   "cell_type": "markdown",
   "id": "268d1563-db16-4fa9-a789-1cabb133070a",
   "metadata": {},
   "source": [
    "<h1>Simple Linear Regression</h1>\n",
    "<p>\n",
    "Line of best fit\n",
    "The aim is to minimize prediction errors by finding a regression line that best fit the data.\n",
    "This is done in a supervised way by minimizing the (absolute) distance between the observed (labeled) values and the\n",
    "values predicted by the model.</p>\n",
    "<img width=\"20%\" src='../pics/regression_line.png'/>"
   ]
  },
  {
   "cell_type": "markdown",
   "id": "9446e8dc-fc1a-4d88-b4ec-532f5b44bc13",
   "metadata": {},
   "source": [
    "**Imports**"
   ]
  },
  {
   "cell_type": "code",
   "execution_count": null,
   "id": "83e815de",
   "metadata": {},
   "outputs": [],
   "source": [
    "import pandas as pd\n",
    "import numpy as np\n",
    "import matplotlib.pyplot as plt\n",
    "from sklearn.linear_model import LinearRegression\n",
    "from sklearn.model_selection import train_test_split"
   ]
  },
  {
   "cell_type": "markdown",
   "id": "7c1e5240-c87d-429a-87d4-a65673dcf768",
   "metadata": {},
   "source": [
    "**Load Dataset**"
   ]
  },
  {
   "cell_type": "code",
   "execution_count": null,
   "id": "27cbde79-feef-4878-b2be-b49e17ec6132",
   "metadata": {},
   "outputs": [],
   "source": [
    "df = pd.read_csv(\"../csv/forza_2023-05-19.csv\", sep=';', header=0)\n",
    "df.columns"
   ]
  },
  {
   "cell_type": "markdown",
   "id": "134a3108-26b6-47b7-88b3-1ffabbb3faf2",
   "metadata": {},
   "source": [
    "**Feature Selection**"
   ]
  },
  {
   "cell_type": "code",
   "execution_count": null,
   "id": "a1812e69-da0e-48b7-8e68-b57a2e4a4846",
   "metadata": {},
   "outputs": [],
   "source": [
    "dataset = df[['s_speed_x', 's_speed_y', 's_angle', 'a_brake', 'a_gear', 'a_steer']]\n",
    "X = dataset.iloc[ : ,   : 1 ].values\n",
    "Y = dataset.iloc[ : , 1 ].values"
   ]
  },
  {
   "cell_type": "markdown",
   "id": "e68bb648-dec4-4b8a-8097-1c4c19d1963a",
   "metadata": {},
   "source": [
    "**Split dataset**"
   ]
  },
  {
   "cell_type": "code",
   "execution_count": null,
   "id": "bd238047-e9fe-4c57-bada-0ccf8bf21ba4",
   "metadata": {},
   "outputs": [],
   "source": [
    "X_train, X_test, Y_train, Y_test = train_test_split( X, Y, test_size = 1/4, random_state = 0) "
   ]
  },
  {
   "cell_type": "markdown",
   "id": "dc5d25ad-31fa-466a-8094-c5eb8ba40a2a",
   "metadata": {},
   "source": [
    "**Fitting Simple Linear Regression Model to the training set**"
   ]
  },
  {
   "cell_type": "code",
   "execution_count": null,
   "id": "286e952b-4be6-497b-b973-ab1a9c9f1b7a",
   "metadata": {},
   "outputs": [],
   "source": [
    "regressor = LinearRegression()\n",
    "regressor = regressor.fit(X_train, Y_train)"
   ]
  },
  {
   "cell_type": "markdown",
   "id": "e380dd50-1c3a-4d43-bc54-dddae80a5756",
   "metadata": {},
   "source": [
    "**Predecting the Result**"
   ]
  },
  {
   "cell_type": "code",
   "execution_count": null,
   "id": "38ae109e-ef44-49d2-8900-bdb2516585d9",
   "metadata": {},
   "outputs": [],
   "source": [
    "Y_pred = regressor.predict(X_test)"
   ]
  },
  {
   "cell_type": "markdown",
   "id": "16749f38-4bdb-4cb7-b12b-aa59aa20cd51",
   "metadata": {},
   "source": [
    "**Visualization**"
   ]
  },
  {
   "cell_type": "code",
   "execution_count": null,
   "id": "22bade7d-d550-40c8-82c0-7eb97a632332",
   "metadata": {},
   "outputs": [],
   "source": [
    "plt.scatter(X_train , Y_train, color = 'red')\n",
    "plt.plot(X_train , regressor.predict(X_train), color ='blue')"
   ]
  },
  {
   "cell_type": "markdown",
   "id": "08b5b47c-2877-4fbe-a67c-cfffb29b1a2e",
   "metadata": {},
   "source": [
    "**Correlations**"
   ]
  },
  {
   "cell_type": "code",
   "execution_count": null,
   "id": "20931dd4-0c1e-436b-84ce-9e4fdc745768",
   "metadata": {},
   "outputs": [],
   "source": [
    "plt.scatter(X_test , Y_test, color = 'red')\n",
    "plt.plot(X_test , regressor.predict(X_test), color ='blue')"
   ]
  },
  {
   "cell_type": "markdown",
   "id": "04cf9ce6-1f0a-4330-bb75-ed551b490bf8",
   "metadata": {},
   "source": [
    "**Exercise**\n",
    "Use the same steps to train and test the [MLP Regressor](https://scikit-learn.org/stable/modules/generated/sklearn.neural_network.MLPRegressor.html)"
   ]
  },
  {
   "cell_type": "markdown",
   "id": "c23151ad-a16f-41d7-8dd2-ddcfe687cdaa",
   "metadata": {},
   "source": [
    "### Reference\n",
    "[100-Days-Of-ML-Code](https://github.com/AlxcNL/100-Days-Of-ML-Code/blob/master/Code/Day2_Simple_Linear_Regression.md)"
   ]
  }
 ],
 "metadata": {
  "kernelspec": {
   "display_name": "Python 3 (ipykernel)",
   "language": "python",
   "name": "python3"
  },
  "language_info": {
   "codemirror_mode": {
    "name": "ipython",
    "version": 3
   },
   "file_extension": ".py",
   "mimetype": "text/x-python",
   "name": "python",
   "nbconvert_exporter": "python",
   "pygments_lexer": "ipython3",
   "version": "3.11.7"
  }
 },
 "nbformat": 4,
 "nbformat_minor": 5
}
