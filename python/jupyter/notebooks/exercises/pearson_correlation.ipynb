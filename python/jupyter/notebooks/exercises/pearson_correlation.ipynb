{
 "cells": [
  {
   "attachments": {},
   "cell_type": "markdown",
   "id": "520c9c3f",
   "metadata": {},
   "source": [
    "<div>\n",
    "<img src='../pics/banner.PNG'/>\n",
    "</div>\n",
    "<div>\n",
    "<img width=\"15%\" src='../pics/tinlab.png'/>\n",
    "<strong>Correlation - Jeroen Boogaard</strong>\n",
    "</div>"
   ]
  },
  {
   "cell_type": "markdown",
   "id": "268d1563-db16-4fa9-a789-1cabb133070a",
   "metadata": {},
   "source": [
    "<h1>Pearson correlation coefficient</h1>\n",
    "<p>\n",
    "The <strong>Pearson Correlation Coefficient</strong> is a correlation coefficient that measures linear correlation between two sets of data. It is a normalized measurement of the covariance, such that the result always has a value between −1 and 1.</p>\n",
    "<img width=\"25%\" src='../pics/pearson.svg'/>"
   ]
  },
  {
   "cell_type": "markdown",
   "id": "9446e8dc-fc1a-4d88-b4ec-532f5b44bc13",
   "metadata": {},
   "source": [
    "**Imports**"
   ]
  },
  {
   "cell_type": "code",
   "execution_count": 1,
   "id": "83e815de",
   "metadata": {},
   "outputs": [],
   "source": [
    "import numpy as np\n",
    "import pandas as pd"
   ]
  },
  {
   "cell_type": "markdown",
   "id": "7c1e5240-c87d-429a-87d4-a65673dcf768",
   "metadata": {},
   "source": [
    "**Load Dataset**"
   ]
  },
  {
   "cell_type": "code",
   "execution_count": 2,
   "id": "27cbde79-feef-4878-b2be-b49e17ec6132",
   "metadata": {},
   "outputs": [
    {
     "data": {
      "text/plain": [
       "Index(['s_speed_x', 's_speed_y', 's_speed_z', 's_rpm', 's_gear', 's_angle',\n",
       "       's_z', 's_damage', 's_track_position', 's_race_position',\n",
       "       's_distance_raced', 's_distance_from_start', 's_current_laptime',\n",
       "       's_last_laptime', 'a_accelation', 'a_brake', 'a_gear', 'a_steer',\n",
       "       'a_clutch'],\n",
       "      dtype='object')"
      ]
     },
     "execution_count": 2,
     "metadata": {},
     "output_type": "execute_result"
    }
   ],
   "source": [
    "df = pd.read_csv(\"../csv/forza_2023-05-19.csv\", sep=';', header=0)\n",
    "df.columns"
   ]
  },
  {
   "cell_type": "markdown",
   "id": "134a3108-26b6-47b7-88b3-1ffabbb3faf2",
   "metadata": {},
   "source": [
    "**Feature Selection**"
   ]
  },
  {
   "cell_type": "code",
   "execution_count": 3,
   "id": "286e952b-4be6-497b-b973-ab1a9c9f1b7a",
   "metadata": {},
   "outputs": [
    {
     "data": {
      "text/html": [
       "<div>\n",
       "<style scoped>\n",
       "    .dataframe tbody tr th:only-of-type {\n",
       "        vertical-align: middle;\n",
       "    }\n",
       "\n",
       "    .dataframe tbody tr th {\n",
       "        vertical-align: top;\n",
       "    }\n",
       "\n",
       "    .dataframe thead th {\n",
       "        text-align: right;\n",
       "    }\n",
       "</style>\n",
       "<table border=\"1\" class=\"dataframe\">\n",
       "  <thead>\n",
       "    <tr style=\"text-align: right;\">\n",
       "      <th></th>\n",
       "      <th>s_speed_x</th>\n",
       "      <th>s_speed_y</th>\n",
       "      <th>s_angle</th>\n",
       "      <th>a_brake</th>\n",
       "      <th>a_gear</th>\n",
       "      <th>a_steer</th>\n",
       "    </tr>\n",
       "  </thead>\n",
       "  <tbody>\n",
       "    <tr>\n",
       "      <th>0</th>\n",
       "      <td>-0.005887</td>\n",
       "      <td>-0.027970</td>\n",
       "      <td>0.000210</td>\n",
       "      <td>0.0</td>\n",
       "      <td>1</td>\n",
       "      <td>0.455342</td>\n",
       "    </tr>\n",
       "    <tr>\n",
       "      <th>1</th>\n",
       "      <td>-0.005887</td>\n",
       "      <td>-0.027970</td>\n",
       "      <td>0.000210</td>\n",
       "      <td>0.0</td>\n",
       "      <td>1</td>\n",
       "      <td>0.455342</td>\n",
       "    </tr>\n",
       "    <tr>\n",
       "      <th>2</th>\n",
       "      <td>-0.005887</td>\n",
       "      <td>-0.027970</td>\n",
       "      <td>0.000210</td>\n",
       "      <td>0.0</td>\n",
       "      <td>1</td>\n",
       "      <td>0.455342</td>\n",
       "    </tr>\n",
       "    <tr>\n",
       "      <th>3</th>\n",
       "      <td>-0.005887</td>\n",
       "      <td>-0.027970</td>\n",
       "      <td>0.000210</td>\n",
       "      <td>0.0</td>\n",
       "      <td>1</td>\n",
       "      <td>0.455342</td>\n",
       "    </tr>\n",
       "    <tr>\n",
       "      <th>4</th>\n",
       "      <td>-0.005887</td>\n",
       "      <td>-0.027970</td>\n",
       "      <td>0.000210</td>\n",
       "      <td>0.0</td>\n",
       "      <td>1</td>\n",
       "      <td>0.455342</td>\n",
       "    </tr>\n",
       "    <tr>\n",
       "      <th>...</th>\n",
       "      <td>...</td>\n",
       "      <td>...</td>\n",
       "      <td>...</td>\n",
       "      <td>...</td>\n",
       "      <td>...</td>\n",
       "      <td>...</td>\n",
       "    </tr>\n",
       "    <tr>\n",
       "      <th>27100</th>\n",
       "      <td>149.367004</td>\n",
       "      <td>0.217909</td>\n",
       "      <td>-0.002065</td>\n",
       "      <td>0.0</td>\n",
       "      <td>4</td>\n",
       "      <td>-0.007270</td>\n",
       "    </tr>\n",
       "    <tr>\n",
       "      <th>27101</th>\n",
       "      <td>149.367004</td>\n",
       "      <td>0.218345</td>\n",
       "      <td>-0.003257</td>\n",
       "      <td>0.0</td>\n",
       "      <td>4</td>\n",
       "      <td>-0.007331</td>\n",
       "    </tr>\n",
       "    <tr>\n",
       "      <th>27102</th>\n",
       "      <td>149.367004</td>\n",
       "      <td>0.218885</td>\n",
       "      <td>-0.004707</td>\n",
       "      <td>0.0</td>\n",
       "      <td>4</td>\n",
       "      <td>-0.007406</td>\n",
       "    </tr>\n",
       "    <tr>\n",
       "      <th>27103</th>\n",
       "      <td>149.367004</td>\n",
       "      <td>0.219488</td>\n",
       "      <td>-0.006692</td>\n",
       "      <td>0.0</td>\n",
       "      <td>4</td>\n",
       "      <td>-0.007508</td>\n",
       "    </tr>\n",
       "    <tr>\n",
       "      <th>27104</th>\n",
       "      <td>149.367004</td>\n",
       "      <td>0.220521</td>\n",
       "      <td>-0.008671</td>\n",
       "      <td>0.0</td>\n",
       "      <td>4</td>\n",
       "      <td>-0.007615</td>\n",
       "    </tr>\n",
       "  </tbody>\n",
       "</table>\n",
       "<p>27105 rows × 6 columns</p>\n",
       "</div>"
      ],
      "text/plain": [
       "        s_speed_x  s_speed_y   s_angle  a_brake  a_gear   a_steer\n",
       "0       -0.005887  -0.027970  0.000210      0.0       1  0.455342\n",
       "1       -0.005887  -0.027970  0.000210      0.0       1  0.455342\n",
       "2       -0.005887  -0.027970  0.000210      0.0       1  0.455342\n",
       "3       -0.005887  -0.027970  0.000210      0.0       1  0.455342\n",
       "4       -0.005887  -0.027970  0.000210      0.0       1  0.455342\n",
       "...           ...        ...       ...      ...     ...       ...\n",
       "27100  149.367004   0.217909 -0.002065      0.0       4 -0.007270\n",
       "27101  149.367004   0.218345 -0.003257      0.0       4 -0.007331\n",
       "27102  149.367004   0.218885 -0.004707      0.0       4 -0.007406\n",
       "27103  149.367004   0.219488 -0.006692      0.0       4 -0.007508\n",
       "27104  149.367004   0.220521 -0.008671      0.0       4 -0.007615\n",
       "\n",
       "[27105 rows x 6 columns]"
      ]
     },
     "metadata": {},
     "output_type": "display_data"
    }
   ],
   "source": [
    "df_selection = df[['s_speed_x', 's_speed_y', 's_angle', 'a_brake', 'a_gear', 'a_steer']]\n",
    "display(df_selection)"
   ]
  },
  {
   "cell_type": "markdown",
   "id": "08b5b47c-2877-4fbe-a67c-cfffb29b1a2e",
   "metadata": {},
   "source": [
    "**Correlations**"
   ]
  },
  {
   "cell_type": "code",
   "execution_count": 4,
   "id": "20931dd4-0c1e-436b-84ce-9e4fdc745768",
   "metadata": {},
   "outputs": [
    {
     "data": {
      "text/html": [
       "<div>\n",
       "<style scoped>\n",
       "    .dataframe tbody tr th:only-of-type {\n",
       "        vertical-align: middle;\n",
       "    }\n",
       "\n",
       "    .dataframe tbody tr th {\n",
       "        vertical-align: top;\n",
       "    }\n",
       "\n",
       "    .dataframe thead th {\n",
       "        text-align: right;\n",
       "    }\n",
       "</style>\n",
       "<table border=\"1\" class=\"dataframe\">\n",
       "  <thead>\n",
       "    <tr style=\"text-align: right;\">\n",
       "      <th></th>\n",
       "      <th>s_speed_x</th>\n",
       "      <th>s_speed_y</th>\n",
       "      <th>s_angle</th>\n",
       "      <th>a_brake</th>\n",
       "      <th>a_gear</th>\n",
       "      <th>a_steer</th>\n",
       "    </tr>\n",
       "  </thead>\n",
       "  <tbody>\n",
       "    <tr>\n",
       "      <th>s_speed_x</th>\n",
       "      <td>1.000000</td>\n",
       "      <td>0.355601</td>\n",
       "      <td>0.184579</td>\n",
       "      <td>-0.072378</td>\n",
       "      <td>0.907887</td>\n",
       "      <td>0.257831</td>\n",
       "    </tr>\n",
       "    <tr>\n",
       "      <th>s_speed_y</th>\n",
       "      <td>0.355601</td>\n",
       "      <td>1.000000</td>\n",
       "      <td>0.358307</td>\n",
       "      <td>0.019929</td>\n",
       "      <td>0.361120</td>\n",
       "      <td>0.716208</td>\n",
       "    </tr>\n",
       "    <tr>\n",
       "      <th>s_angle</th>\n",
       "      <td>0.184579</td>\n",
       "      <td>0.358307</td>\n",
       "      <td>1.000000</td>\n",
       "      <td>-0.044855</td>\n",
       "      <td>0.161436</td>\n",
       "      <td>0.400510</td>\n",
       "    </tr>\n",
       "    <tr>\n",
       "      <th>a_brake</th>\n",
       "      <td>-0.072378</td>\n",
       "      <td>0.019929</td>\n",
       "      <td>-0.044855</td>\n",
       "      <td>1.000000</td>\n",
       "      <td>-0.018786</td>\n",
       "      <td>0.005068</td>\n",
       "    </tr>\n",
       "    <tr>\n",
       "      <th>a_gear</th>\n",
       "      <td>0.907887</td>\n",
       "      <td>0.361120</td>\n",
       "      <td>0.161436</td>\n",
       "      <td>-0.018786</td>\n",
       "      <td>1.000000</td>\n",
       "      <td>0.271864</td>\n",
       "    </tr>\n",
       "    <tr>\n",
       "      <th>a_steer</th>\n",
       "      <td>0.257831</td>\n",
       "      <td>0.716208</td>\n",
       "      <td>0.400510</td>\n",
       "      <td>0.005068</td>\n",
       "      <td>0.271864</td>\n",
       "      <td>1.000000</td>\n",
       "    </tr>\n",
       "  </tbody>\n",
       "</table>\n",
       "</div>"
      ],
      "text/plain": [
       "           s_speed_x  s_speed_y   s_angle   a_brake    a_gear   a_steer\n",
       "s_speed_x   1.000000   0.355601  0.184579 -0.072378  0.907887  0.257831\n",
       "s_speed_y   0.355601   1.000000  0.358307  0.019929  0.361120  0.716208\n",
       "s_angle     0.184579   0.358307  1.000000 -0.044855  0.161436  0.400510\n",
       "a_brake    -0.072378   0.019929 -0.044855  1.000000 -0.018786  0.005068\n",
       "a_gear      0.907887   0.361120  0.161436 -0.018786  1.000000  0.271864\n",
       "a_steer     0.257831   0.716208  0.400510  0.005068  0.271864  1.000000"
      ]
     },
     "execution_count": 4,
     "metadata": {},
     "output_type": "execute_result"
    }
   ],
   "source": [
    "df_selection.corr(\"pearson\")"
   ]
  },
  {
   "cell_type": "markdown",
   "id": "84f8c647-c87d-4e88-8323-4f61204280ae",
   "metadata": {},
   "source": [
    "**Definition**<br>\n",
    "Pearson's Correlation Coefficient (PCC) is the covariance of the two variables divided by the product of their standard deviations."
   ]
  },
  {
   "cell_type": "markdown",
   "id": "65550127-23d3-428d-a413-b466d758f6f6",
   "metadata": {},
   "source": [
    "**Exercise**\n",
    "Use the definition to implement the function below"
   ]
  },
  {
   "cell_type": "code",
   "execution_count": 5,
   "id": "61b4924d",
   "metadata": {},
   "outputs": [],
   "source": [
    "def pearsonCorr(X, Y):\n",
    "    \n",
    "    corrXY = 0\n",
    "\n",
    "    # Calculate means\n",
    "    np.mean(X)\n",
    "    np.mean(Y)\n",
    "    \n",
    "    # Calculate Covariance\n",
    "    np.cov(X, Y)\n",
    "    \n",
    "    # Calculate Standard Deviations and their product\n",
    "\n",
    "    # Calculate and return PCC\n",
    "    if prod_stds != 0:\n",
    "\n",
    "    return corrXY"
   ]
  },
  {
   "cell_type": "markdown",
   "id": "de349915-2ec7-4289-8792-cfe57a022893",
   "metadata": {},
   "source": [
    "**Check your implementation**"
   ]
  },
  {
   "cell_type": "code",
   "execution_count": 6,
   "id": "64a3921c-9588-4aa2-a3ba-7d7c554f1b5a",
   "metadata": {},
   "outputs": [
    {
     "data": {
      "text/html": [
       "<div>\n",
       "<style scoped>\n",
       "    .dataframe tbody tr th:only-of-type {\n",
       "        vertical-align: middle;\n",
       "    }\n",
       "\n",
       "    .dataframe tbody tr th {\n",
       "        vertical-align: top;\n",
       "    }\n",
       "\n",
       "    .dataframe thead th {\n",
       "        text-align: right;\n",
       "    }\n",
       "</style>\n",
       "<table border=\"1\" class=\"dataframe\">\n",
       "  <thead>\n",
       "    <tr style=\"text-align: right;\">\n",
       "      <th></th>\n",
       "      <th>s_speed_y</th>\n",
       "      <th>a_steer</th>\n",
       "    </tr>\n",
       "  </thead>\n",
       "  <tbody>\n",
       "    <tr>\n",
       "      <th>s_speed_y</th>\n",
       "      <td>1.000000</td>\n",
       "      <td>0.716208</td>\n",
       "    </tr>\n",
       "    <tr>\n",
       "      <th>a_steer</th>\n",
       "      <td>0.716208</td>\n",
       "      <td>1.000000</td>\n",
       "    </tr>\n",
       "  </tbody>\n",
       "</table>\n",
       "</div>"
      ],
      "text/plain": [
       "           s_speed_y   a_steer\n",
       "s_speed_y   1.000000  0.716208\n",
       "a_steer     0.716208  1.000000"
      ]
     },
     "execution_count": 6,
     "metadata": {},
     "output_type": "execute_result"
    }
   ],
   "source": [
    "df_selection[['s_speed_y', 'a_steer']].corr(\"pearson\")"
   ]
  },
  {
   "cell_type": "code",
   "execution_count": 7,
   "id": "08b19805-f4c8-4434-bec8-e739b09568c4",
   "metadata": {},
   "outputs": [],
   "source": [
    "pearsonCorr(df['s_speed_y'], df['a_steer'])"
   ]
  },
  {
   "cell_type": "code",
   "execution_count": 8,
   "id": "6eae0c44-3397-46ae-a52d-3f4bee8d83f8",
   "metadata": {},
   "outputs": [
    {
     "data": {
      "text/html": [
       "<div>\n",
       "<style scoped>\n",
       "    .dataframe tbody tr th:only-of-type {\n",
       "        vertical-align: middle;\n",
       "    }\n",
       "\n",
       "    .dataframe tbody tr th {\n",
       "        vertical-align: top;\n",
       "    }\n",
       "\n",
       "    .dataframe thead th {\n",
       "        text-align: right;\n",
       "    }\n",
       "</style>\n",
       "<table border=\"1\" class=\"dataframe\">\n",
       "  <thead>\n",
       "    <tr style=\"text-align: right;\">\n",
       "      <th></th>\n",
       "      <th>s_angle</th>\n",
       "      <th>a_steer</th>\n",
       "    </tr>\n",
       "  </thead>\n",
       "  <tbody>\n",
       "    <tr>\n",
       "      <th>s_angle</th>\n",
       "      <td>1.00000</td>\n",
       "      <td>0.40051</td>\n",
       "    </tr>\n",
       "    <tr>\n",
       "      <th>a_steer</th>\n",
       "      <td>0.40051</td>\n",
       "      <td>1.00000</td>\n",
       "    </tr>\n",
       "  </tbody>\n",
       "</table>\n",
       "</div>"
      ],
      "text/plain": [
       "         s_angle  a_steer\n",
       "s_angle  1.00000  0.40051\n",
       "a_steer  0.40051  1.00000"
      ]
     },
     "execution_count": 8,
     "metadata": {},
     "output_type": "execute_result"
    }
   ],
   "source": [
    "df_selection[['s_angle', 'a_steer']].corr(\"pearson\")"
   ]
  },
  {
   "cell_type": "code",
   "execution_count": 9,
   "id": "b20ae6ec-7fdc-4a85-b3a4-084899b55e68",
   "metadata": {},
   "outputs": [],
   "source": [
    "pearsonCorr(df['s_angle'], df['a_steer'])"
   ]
  },
  {
   "cell_type": "markdown",
   "id": "c23151ad-a16f-41d7-8dd2-ddcfe687cdaa",
   "metadata": {},
   "source": [
    "### Reference\n",
    "[Pearson correlation coefficient](https://en.wikipedia.org/wiki/Pearson_correlation_coefficient)"
   ]
  }
 ],
 "metadata": {
  "kernelspec": {
   "display_name": "Python 3 (ipykernel)",
   "language": "python",
   "name": "python3"
  },
  "language_info": {
   "codemirror_mode": {
    "name": "ipython",
    "version": 3
   },
   "file_extension": ".py",
   "mimetype": "text/x-python",
   "name": "python",
   "nbconvert_exporter": "python",
   "pygments_lexer": "ipython3",
   "version": "3.11.7"
  }
 },
 "nbformat": 4,
 "nbformat_minor": 5
}
