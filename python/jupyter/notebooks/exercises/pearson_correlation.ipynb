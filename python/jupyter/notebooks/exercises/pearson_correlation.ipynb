{
 "cells": [
  {
   "attachments": {},
   "cell_type": "markdown",
   "id": "520c9c3f",
   "metadata": {},
   "source": [
    "<div>\n",
    "<img src='../pics/banner.PNG'/>\n",
    "</div>\n",
    "<div>\n",
    "<img width=\"15%\" src='../pics/tinlab.png'/>\n",
    "<strong>Correlation - Jeroen Boogaard</strong>\n",
    "</div>"
   ]
  },
  {
   "cell_type": "markdown",
   "id": "268d1563-db16-4fa9-a789-1cabb133070a",
   "metadata": {},
   "source": [
    "<h1>Pearson correlation coefficient</h1>\n",
    "<p>\n",
    "The <strong>Pearson Correlation Coefficient</strong> is a correlation coefficient that measures linear correlation between two sets of data. It is a normalized measurement of the covariance, such that the result always has a value between −1 and 1.</p>\n",
    "<img width=\"25%\" src='../pics/pearson.svg'/>"
   ]
  },
  {
   "cell_type": "markdown",
   "id": "9446e8dc-fc1a-4d88-b4ec-532f5b44bc13",
   "metadata": {},
   "source": [
    "**Imports**"
   ]
  },
  {
   "cell_type": "code",
   "execution_count": 1,
   "id": "83e815de",
   "metadata": {},
   "source": [
    "import numpy as np\n",
    "import pandas as pd"
   ],
   "outputs": []
  },
  {
   "cell_type": "markdown",
   "id": "7c1e5240-c87d-429a-87d4-a65673dcf768",
   "metadata": {},
   "source": [
    "**Load Dataset**"
   ]
  },
  {
   "cell_type": "code",
   "execution_count": 2,
   "id": "27cbde79-feef-4878-b2be-b49e17ec6132",
   "metadata": {},
   "source": [
    "df = pd.read_csv(\"../csv/forza_2023-05-19.csv\", sep=';', header=0)\n",
    "df.columns"
   ],
   "outputs": []
  },
  {
   "cell_type": "markdown",
   "id": "134a3108-26b6-47b7-88b3-1ffabbb3faf2",
   "metadata": {},
   "source": [
    "**Feature Selection**"
   ]
  },
  {
   "cell_type": "code",
   "execution_count": 3,
   "id": "286e952b-4be6-497b-b973-ab1a9c9f1b7a",
   "metadata": {},
   "source": [
    "df_selection = df[['s_speed_x', 's_speed_y', 's_angle', 'a_brake', 'a_gear', 'a_steer']]\n",
    "display(df_selection)"
   ],
   "outputs": []
  },
  {
   "cell_type": "markdown",
   "id": "08b5b47c-2877-4fbe-a67c-cfffb29b1a2e",
   "metadata": {},
   "source": [
    "**Correlations**"
   ]
  },
  {
   "cell_type": "code",
   "execution_count": 4,
   "id": "20931dd4-0c1e-436b-84ce-9e4fdc745768",
   "metadata": {},
   "source": [
    "df_selection.corr(\"pearson\")"
   ],
   "outputs": []
  },
  {
   "cell_type": "markdown",
   "id": "84f8c647-c87d-4e88-8323-4f61204280ae",
   "metadata": {},
   "source": [
    "**Definition**<br>\n",
    "Pearson's Correlation Coefficient (PCC) is the covariance of the two variables divided by the product of their standard deviations."
   ]
  },
  {
   "cell_type": "markdown",
   "id": "65550127-23d3-428d-a413-b466d758f6f6",
   "metadata": {},
   "source": [
    "**Exercise**\n",
    "Use the definition to implement the function below"
   ]
  },
  {
   "cell_type": "code",
   "execution_count": 5,
   "id": "61b4924d",
   "metadata": {},
   "source": [
    "def pearsonCorr(X, Y):\n",
    "    \n",
    "    corrXY = 0\n",
    "\n",
    "    # Calculate means\n",
    "    np.mean(X)\n",
    "    np.mean(Y)\n",
    "    \n",
    "    # Calculate Covariance\n",
    "    np.cov(X, Y)\n",
    "    \n",
    "    # Calculate Standard Deviations and their product\n",
    "\n",
    "    # Calculate and return PCC\n",
    "    if prod_stds != 0:\n",
    "\n",
    "    return corrXY"
   ],
   "outputs": []
  },
  {
   "cell_type": "markdown",
   "id": "de349915-2ec7-4289-8792-cfe57a022893",
   "metadata": {},
   "source": [
    "**Check your implementation**"
   ]
  },
  {
   "cell_type": "code",
   "execution_count": 6,
   "id": "64a3921c-9588-4aa2-a3ba-7d7c554f1b5a",
   "metadata": {},
   "source": [
    "df_selection[['s_speed_y', 'a_steer']].corr(\"pearson\")"
   ],
   "outputs": []
  },
  {
   "cell_type": "code",
   "execution_count": 7,
   "id": "08b19805-f4c8-4434-bec8-e739b09568c4",
   "metadata": {},
   "source": [
    "pearsonCorr(df['s_speed_y'], df['a_steer'])"
   ],
   "outputs": []
  },
  {
   "cell_type": "code",
   "execution_count": 8,
   "id": "6eae0c44-3397-46ae-a52d-3f4bee8d83f8",
   "metadata": {},
   "source": [
    "df_selection[['s_angle', 'a_steer']].corr(\"pearson\")"
   ],
   "outputs": []
  },
  {
   "cell_type": "code",
   "execution_count": 9,
   "id": "b20ae6ec-7fdc-4a85-b3a4-084899b55e68",
   "metadata": {},
   "source": [
    "pearsonCorr(df['s_angle'], df['a_steer'])"
   ],
   "outputs": []
  },
  {
   "cell_type": "markdown",
   "id": "c23151ad-a16f-41d7-8dd2-ddcfe687cdaa",
   "metadata": {},
   "source": [
    "### Reference\n",
    "[Pearson correlation coefficient](https://en.wikipedia.org/wiki/Pearson_correlation_coefficient)"
   ]
  }
 ],
 "metadata": {
  "kernelspec": {
   "display_name": "Python 3 (ipykernel)",
   "language": "python",
   "name": "python3"
  },
  "language_info": {
   "codemirror_mode": {
    "name": "ipython",
    "version": 3
   },
   "file_extension": ".py",
   "mimetype": "text/x-python",
   "name": "python",
   "nbconvert_exporter": "python",
   "pygments_lexer": "ipython3",
   "version": "3.11.7"
  }
 },
 "nbformat": 4,
 "nbformat_minor": 5
}
