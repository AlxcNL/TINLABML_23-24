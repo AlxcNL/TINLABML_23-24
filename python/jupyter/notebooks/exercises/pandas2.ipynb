{
 "cells": [
  {
   "cell_type": "markdown",
   "id": "8bab916d-43d3-4817-bbc1-6ef922fd30b9",
   "metadata": {},
   "source": [
    "<div>\n",
    "<img src='../pics/banner.PNG'/>\n",
    "</div>\n",
    "<div>\n",
    "<img width=\"20%\" src='../pics/pandas.svg'/>\n",
    "</div>\n",
    "<div>\n",
    "<img width=\"15%\" src='../pics/tinlab.png'/>\n",
    "<strong>Pandas Dataframes - Jeroen Boogaard</strong>\n",
    "</div>"
   ]
  },
  {
   "cell_type": "markdown",
   "id": "40f92fe9-426d-40f3-b4e6-f729240cb012",
   "metadata": {},
   "source": [
    "# Pandas 2: Pandas Dataframes"
   ]
  },
  {
   "cell_type": "markdown",
   "id": "c9392295-fc66-4c23-b5a1-bd6e77d04144",
   "metadata": {},
   "source": [
    "**Imports**"
   ]
  },
  {
   "cell_type": "code",
   "execution_count": 8,
   "id": "bcc776ab-559b-48df-9b7a-d33d423cdeb2",
   "metadata": {},
   "outputs": [],
   "source": [
    "import pandas as pd\n",
    "import certifi\n",
    "import io\n",
    "import json\n",
    "import numpy as np\n",
    "import requests\n",
    "import urllib3\n",
    "from pathlib import Path\n",
    "from urllib3 import request"
   ]
  },
  {
   "cell_type": "markdown",
   "id": "7553c771-ac7d-4630-b46d-919dac9fb3cf",
   "metadata": {},
   "source": [
    "**Globale variabelen**"
   ]
  },
  {
   "cell_type": "code",
   "execution_count": 9,
   "id": "6c4c5077-0dfc-496d-aa61-8eca566d1567",
   "metadata": {},
   "outputs": [],
   "source": [
    "csvFile = 'eurovision-2016.csv'\n",
    "csvFilePath = Path.cwd().parent.joinpath('csv').joinpath(csvFile)\n",
    "dcgisDict = dict()\n",
    "dcgisDf = pd.DataFrame()"
   ]
  },
  {
   "cell_type": "markdown",
   "id": "c9b987d4-fda8-4ecb-8d01-c89889fde557",
   "metadata": {},
   "source": [
    "### Pandas Dataframe\n",
    "<p>Een <strong>Dataframe</strong> is een tabel die is opgebouwd uit Pandas Series</p>"
   ]
  },
  {
   "cell_type": "markdown",
   "id": "2dd3eb79-d859-475d-b4c0-970e262904a4",
   "metadata": {},
   "source": [
    "#### Pandas Dataframe o.b.v. CSV URL"
   ]
  },
  {
   "cell_type": "code",
   "execution_count": 10,
   "id": "f86e2b44-0f9e-4f50-9ed4-d15b34d0e48e",
   "metadata": {},
   "outputs": [
    {
     "data": {
      "text/html": [
       "<div>\n",
       "<style scoped>\n",
       "    .dataframe tbody tr th:only-of-type {\n",
       "        vertical-align: middle;\n",
       "    }\n",
       "\n",
       "    .dataframe tbody tr th {\n",
       "        vertical-align: top;\n",
       "    }\n",
       "\n",
       "    .dataframe thead th {\n",
       "        text-align: right;\n",
       "    }\n",
       "</style>\n",
       "<table border=\"1\" class=\"dataframe\">\n",
       "  <thead>\n",
       "    <tr style=\"text-align: right;\">\n",
       "      <th></th>\n",
       "      <th>From country</th>\n",
       "      <th>To country</th>\n",
       "      <th>Jury A</th>\n",
       "      <th>Jury B</th>\n",
       "      <th>Jury C</th>\n",
       "      <th>Jury D</th>\n",
       "      <th>Jury E</th>\n",
       "      <th>Jury Rank</th>\n",
       "      <th>Televote Rank</th>\n",
       "      <th>Jury Points</th>\n",
       "      <th>Televote Points</th>\n",
       "    </tr>\n",
       "  </thead>\n",
       "  <tbody>\n",
       "    <tr>\n",
       "      <th>966</th>\n",
       "      <td>Switzerland</td>\n",
       "      <td>Czech Republic</td>\n",
       "      <td>21</td>\n",
       "      <td>12</td>\n",
       "      <td>8</td>\n",
       "      <td>18</td>\n",
       "      <td>21</td>\n",
       "      <td>16</td>\n",
       "      <td>24</td>\n",
       "      <td>NaN</td>\n",
       "      <td>NaN</td>\n",
       "    </tr>\n",
       "    <tr>\n",
       "      <th>967</th>\n",
       "      <td>Switzerland</td>\n",
       "      <td>The Netherlands</td>\n",
       "      <td>5</td>\n",
       "      <td>13</td>\n",
       "      <td>10</td>\n",
       "      <td>6</td>\n",
       "      <td>11</td>\n",
       "      <td>6</td>\n",
       "      <td>12</td>\n",
       "      <td>5.0</td>\n",
       "      <td>NaN</td>\n",
       "    </tr>\n",
       "    <tr>\n",
       "      <th>968</th>\n",
       "      <td>Switzerland</td>\n",
       "      <td>Azerbaijan</td>\n",
       "      <td>19</td>\n",
       "      <td>23</td>\n",
       "      <td>9</td>\n",
       "      <td>21</td>\n",
       "      <td>19</td>\n",
       "      <td>20</td>\n",
       "      <td>25</td>\n",
       "      <td>NaN</td>\n",
       "      <td>NaN</td>\n",
       "    </tr>\n",
       "    <tr>\n",
       "      <th>969</th>\n",
       "      <td>Switzerland</td>\n",
       "      <td>Hungary</td>\n",
       "      <td>14</td>\n",
       "      <td>25</td>\n",
       "      <td>11</td>\n",
       "      <td>22</td>\n",
       "      <td>25</td>\n",
       "      <td>22</td>\n",
       "      <td>16</td>\n",
       "      <td>NaN</td>\n",
       "      <td>NaN</td>\n",
       "    </tr>\n",
       "    <tr>\n",
       "      <th>970</th>\n",
       "      <td>Switzerland</td>\n",
       "      <td>Italy</td>\n",
       "      <td>3</td>\n",
       "      <td>3</td>\n",
       "      <td>20</td>\n",
       "      <td>19</td>\n",
       "      <td>9</td>\n",
       "      <td>9</td>\n",
       "      <td>4</td>\n",
       "      <td>2.0</td>\n",
       "      <td>7.0</td>\n",
       "    </tr>\n",
       "    <tr>\n",
       "      <th>...</th>\n",
       "      <td>...</td>\n",
       "      <td>...</td>\n",
       "      <td>...</td>\n",
       "      <td>...</td>\n",
       "      <td>...</td>\n",
       "      <td>...</td>\n",
       "      <td>...</td>\n",
       "      <td>...</td>\n",
       "      <td>...</td>\n",
       "      <td>...</td>\n",
       "      <td>...</td>\n",
       "    </tr>\n",
       "    <tr>\n",
       "      <th>1061</th>\n",
       "      <td>United Kingdom</td>\n",
       "      <td>Ukraine</td>\n",
       "      <td>11</td>\n",
       "      <td>1</td>\n",
       "      <td>1</td>\n",
       "      <td>1</td>\n",
       "      <td>5</td>\n",
       "      <td>2</td>\n",
       "      <td>6</td>\n",
       "      <td>10.0</td>\n",
       "      <td>5.0</td>\n",
       "    </tr>\n",
       "    <tr>\n",
       "      <th>1062</th>\n",
       "      <td>United Kingdom</td>\n",
       "      <td>Malta</td>\n",
       "      <td>18</td>\n",
       "      <td>13</td>\n",
       "      <td>8</td>\n",
       "      <td>17</td>\n",
       "      <td>4</td>\n",
       "      <td>12</td>\n",
       "      <td>15</td>\n",
       "      <td>NaN</td>\n",
       "      <td>NaN</td>\n",
       "    </tr>\n",
       "    <tr>\n",
       "      <th>1063</th>\n",
       "      <td>United Kingdom</td>\n",
       "      <td>Georgia</td>\n",
       "      <td>2</td>\n",
       "      <td>2</td>\n",
       "      <td>3</td>\n",
       "      <td>2</td>\n",
       "      <td>1</td>\n",
       "      <td>1</td>\n",
       "      <td>19</td>\n",
       "      <td>12.0</td>\n",
       "      <td>NaN</td>\n",
       "    </tr>\n",
       "    <tr>\n",
       "      <th>1064</th>\n",
       "      <td>United Kingdom</td>\n",
       "      <td>Austria</td>\n",
       "      <td>23</td>\n",
       "      <td>15</td>\n",
       "      <td>12</td>\n",
       "      <td>18</td>\n",
       "      <td>13</td>\n",
       "      <td>17</td>\n",
       "      <td>13</td>\n",
       "      <td>NaN</td>\n",
       "      <td>NaN</td>\n",
       "    </tr>\n",
       "    <tr>\n",
       "      <th>1065</th>\n",
       "      <td>United Kingdom</td>\n",
       "      <td>Armenia</td>\n",
       "      <td>15</td>\n",
       "      <td>22</td>\n",
       "      <td>7</td>\n",
       "      <td>24</td>\n",
       "      <td>18</td>\n",
       "      <td>20</td>\n",
       "      <td>18</td>\n",
       "      <td>NaN</td>\n",
       "      <td>NaN</td>\n",
       "    </tr>\n",
       "  </tbody>\n",
       "</table>\n",
       "<p>100 rows × 11 columns</p>\n",
       "</div>"
      ],
      "text/plain": [
       "        From country       To country  Jury A  Jury B  Jury C  Jury D  Jury E  \\\n",
       "966      Switzerland   Czech Republic      21      12       8      18      21   \n",
       "967      Switzerland  The Netherlands       5      13      10       6      11   \n",
       "968      Switzerland       Azerbaijan      19      23       9      21      19   \n",
       "969      Switzerland          Hungary      14      25      11      22      25   \n",
       "970      Switzerland            Italy       3       3      20      19       9   \n",
       "...              ...              ...     ...     ...     ...     ...     ...   \n",
       "1061  United Kingdom          Ukraine      11       1       1       1       5   \n",
       "1062  United Kingdom            Malta      18      13       8      17       4   \n",
       "1063  United Kingdom          Georgia       2       2       3       2       1   \n",
       "1064  United Kingdom          Austria      23      15      12      18      13   \n",
       "1065  United Kingdom          Armenia      15      22       7      24      18   \n",
       "\n",
       "      Jury Rank  Televote Rank  Jury Points  Televote Points  \n",
       "966          16             24          NaN              NaN  \n",
       "967           6             12          5.0              NaN  \n",
       "968          20             25          NaN              NaN  \n",
       "969          22             16          NaN              NaN  \n",
       "970           9              4          2.0              7.0  \n",
       "...         ...            ...          ...              ...  \n",
       "1061          2              6         10.0              5.0  \n",
       "1062         12             15          NaN              NaN  \n",
       "1063          1             19         12.0              NaN  \n",
       "1064         17             13          NaN              NaN  \n",
       "1065         20             18          NaN              NaN  \n",
       "\n",
       "[100 rows x 11 columns]"
      ]
     },
     "execution_count": 10,
     "metadata": {},
     "output_type": "execute_result"
    }
   ],
   "source": [
    "url = \"https://raw.githubusercontent.com/ksatola/Data-Science-Notes/master/data/dc20/eurovision-2016.csv\"\n",
    "response = requests.get(url).content\n",
    "eurovisionDf = pd.read_csv(io.StringIO(response.decode('utf-8')))\n",
    "eurovisionDf.tail(100)"
   ]
  },
  {
   "cell_type": "markdown",
   "id": "ed523447-416b-40c7-87cd-876fe174f3c6",
   "metadata": {},
   "source": [
    "**Export naar CSV**"
   ]
  },
  {
   "cell_type": "code",
   "execution_count": 11,
   "id": "1983c5b8-6d6e-4ef3-a3ec-09b3392ee59f",
   "metadata": {},
   "outputs": [],
   "source": [
    "eurovisionDf.to_csv(csvFilePath, sep=',', encoding='utf-8', index=False)"
   ]
  },
  {
   "cell_type": "markdown",
   "id": "fa5a18b0-df2a-4cd7-aecc-7b7a0c49d545",
   "metadata": {},
   "source": [
    "#### Pandas Dataframe o.b.v. CSV bestand"
   ]
  },
  {
   "cell_type": "markdown",
   "id": "f723255d-085b-4455-bc52-bb26399dfae2",
   "metadata": {},
   "source": [
    "<h3>Exercise 1</h3>\n",
    "<p>Importeer eurovision-2016.csv in een nieuw dataframe met de naam eurovisionDfCsv en vergelijk deze met eurovisionDf</p>"
   ]
  },
  {
   "cell_type": "markdown",
   "id": "d4807458-3624-458b-a2d2-5dc6d887407e",
   "metadata": {},
   "source": [
    "**Oplossing**"
   ]
  },
  {
   "cell_type": "markdown",
   "id": "13c4a78e-e0c9-47f0-ac7f-49decc0c7539",
   "metadata": {},
   "source": [
    "#### Pandas Dataframe m.b.v. Rest Client"
   ]
  },
  {
   "cell_type": "markdown",
   "id": "b2e7c273-c85a-4bbd-8096-c8440dd62497",
   "metadata": {},
   "source": [
    "**Certificaat verificatie**"
   ]
  },
  {
   "cell_type": "code",
   "execution_count": 12,
   "id": "eff84af0-79a1-49da-82db-693281ccc847",
   "metadata": {},
   "outputs": [],
   "source": [
    "http = urllib3.PoolManager( cert_reqs='CERT_REQUIRED', ca_certs=certifi.where() )"
   ]
  },
  {
   "cell_type": "markdown",
   "id": "e39698e3-dfa0-4172-a21f-7ee6bad745ef",
   "metadata": {},
   "source": [
    "**Web Request**"
   ]
  },
  {
   "cell_type": "code",
   "execution_count": 14,
   "id": "e6c5a970-953f-4ef0-88a3-caaa024bd6c6",
   "metadata": {},
   "outputs": [
    {
     "data": {
      "text/plain": [
       "200"
      ]
     },
     "execution_count": 14,
     "metadata": {},
     "output_type": "execute_result"
    }
   ],
   "source": [
    "url = 'https://maps2.dcgis.dc.gov/dcgis/rest/services/FEEDS/MPD/MapServer/2/query?where=1%3D1&outFields=*&outSR=4326&f=json'\n",
    "response = http.request('GET', url)\n",
    "response.status"
   ]
  },
  {
   "cell_type": "markdown",
   "id": "f1a17d3b-b996-4b15-aba9-a3c1e077a065",
   "metadata": {},
   "source": [
    "<h3>Exercise 2</h3>\n",
    "<p>Sla de data uit de response op in dictionary dcgisDict</p>"
   ]
  },
  {
   "cell_type": "markdown",
   "id": "c75f2c48-54ca-4194-9063-5621c79d4d2a",
   "metadata": {},
   "source": [
    "**Oplossing**"
   ]
  },
  {
   "cell_type": "markdown",
   "id": "b952f985-d8fb-4c37-80e2-b7e1f0531040",
   "metadata": {},
   "source": [
    "**Maak een dataframe o.b.v. de dictionary**"
   ]
  },
  {
   "cell_type": "code",
   "execution_count": 15,
   "id": "bc5ca21e-2ee8-4aa3-afc3-ed76ce8a91ad",
   "metadata": {},
   "outputs": [
    {
     "data": {
      "text/html": [
       "<div>\n",
       "<style scoped>\n",
       "    .dataframe tbody tr th:only-of-type {\n",
       "        vertical-align: middle;\n",
       "    }\n",
       "\n",
       "    .dataframe tbody tr th {\n",
       "        vertical-align: top;\n",
       "    }\n",
       "\n",
       "    .dataframe thead th {\n",
       "        text-align: right;\n",
       "    }\n",
       "</style>\n",
       "<table border=\"1\" class=\"dataframe\">\n",
       "  <thead>\n",
       "    <tr style=\"text-align: right;\">\n",
       "      <th></th>\n",
       "    </tr>\n",
       "  </thead>\n",
       "  <tbody>\n",
       "  </tbody>\n",
       "</table>\n",
       "</div>"
      ],
      "text/plain": [
       "Empty DataFrame\n",
       "Columns: []\n",
       "Index: []"
      ]
     },
     "metadata": {},
     "output_type": "display_data"
    }
   ],
   "source": [
    "if bool(dcgisDict):\n",
    "    dcgisDf = pd.json_normalize(dcgisDict, 'features')\n",
    "\n",
    "if dcgisDf is not None:\n",
    "   display(dcgisDf) "
   ]
  }
 ],
 "metadata": {
  "kernelspec": {
   "display_name": "Python 3 (ipykernel)",
   "language": "python",
   "name": "python3"
  },
  "language_info": {
   "codemirror_mode": {
    "name": "ipython",
    "version": 3
   },
   "file_extension": ".py",
   "mimetype": "text/x-python",
   "name": "python",
   "nbconvert_exporter": "python",
   "pygments_lexer": "ipython3",
   "version": "3.12.3"
  },
  "vscode": {
   "interpreter": {
    "hash": "aee8b7b246df8f9039afb4144a1f6fd8d2ca17a180786b69acc140d282b71a49"
   }
  }
 },
 "nbformat": 4,
 "nbformat_minor": 5
}
