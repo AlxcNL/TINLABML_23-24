{
 "cells": [
  {
   "cell_type": "markdown",
   "id": "818a1af7-9708-4bae-92fe-fa36b678d2be",
   "metadata": {},
   "source": [
    "<div>\n",
    "<img src='../pics/banner.PNG'/>\n",
    "</div>\n",
    "<div>\n",
    "<img width=\"20%\" src='../pics/pandas.svg'/>\n",
    "</div>\n",
    "<div>\n",
    "<img width=\"15%\" src='../pics/tinlab.png'/>\n",
    "<strong>Computer Vision - Jeroen Boogaard</strong>\n",
    "</div>"
   ]
  },
  {
   "cell_type": "markdown",
   "id": "a9ff9227-1da2-489e-a4b4-d661d44ce68f",
   "metadata": {},
   "source": [
    "<h1>Practicum Computer Vision</h1>\n",
    "\n",
    "<h2>Doel: Image Processing voor het vereenvoudigen van <i>Features</i></h2>\n",
    "\n",
    "<img src='../pics/land_use.png' length=30% width=30%>"
   ]
  },
  {
   "cell_type": "markdown",
   "id": "7d395107",
   "metadata": {},
   "source": [
    "<h3>Imports</h3>"
   ]
  },
  {
   "cell_type": "code",
   "execution_count": 7,
   "id": "bcf62213-c6fc-481a-92a6-1d9f72ae7886",
   "metadata": {},
   "outputs": [
    {
     "name": "stderr",
     "output_type": "stream",
     "text": [
      "ERROR: Could not find a version that satisfies the requirement os (from versions: none)\n",
      "ERROR: No matching distribution found for os\n"
     ]
    }
   ],
   "source": [
    "!pip install os"
   ]
  },
  {
   "cell_type": "code",
   "execution_count": 9,
   "id": "84d02a33",
   "metadata": {},
   "outputs": [
    {
     "ename": "ModuleNotFoundError",
     "evalue": "No module named 'image_filter'",
     "output_type": "error",
     "traceback": [
      "\u001b[1;31m---------------------------------------------------------------------------\u001b[0m",
      "\u001b[1;31mModuleNotFoundError\u001b[0m                       Traceback (most recent call last)",
      "Cell \u001b[1;32mIn[9], line 1\u001b[0m\n\u001b[1;32m----> 1\u001b[0m \u001b[38;5;28;01mfrom\u001b[39;00m \u001b[38;5;21;01mimage_filter\u001b[39;00m \u001b[38;5;28;01mimport\u001b[39;00m ImageFilter\n\u001b[0;32m      2\u001b[0m \u001b[38;5;28;01mfrom\u001b[39;00m \u001b[38;5;21;01mPIL\u001b[39;00m \u001b[38;5;28;01mimport\u001b[39;00m Image\n\u001b[0;32m      3\u001b[0m \u001b[38;5;28;01mimport\u001b[39;00m \u001b[38;5;21;01mio\u001b[39;00m\n",
      "\u001b[1;31mModuleNotFoundError\u001b[0m: No module named 'image_filter'"
     ]
    }
   ],
   "source": [
    "from image_filter import ImageFilter\n",
    "from PIL import Image\n",
    "import io\n",
    "import matplotlib.pyplot as plt\n",
    "import matplotlib.image as mpimg\n",
    "import numpy as np\n",
    "import os\n",
    "import random\n",
    "import scipy as sp"
   ]
  },
  {
   "cell_type": "markdown",
   "id": "72042f70-16c5-4a1a-a753-fc468bbe1a6a",
   "metadata": {},
   "source": [
    "<h3>Globale variabelen</h3>"
   ]
  },
  {
   "cell_type": "code",
   "execution_count": 5,
   "id": "7bd9e96f-6d69-4339-b701-8ac3da6e8c97",
   "metadata": {},
   "outputs": [],
   "source": [
    "riverDirectory = '../pics/2750/River'\n",
    "highwayDirectory = '../pics/2750/Highway'"
   ]
  },
  {
   "cell_type": "markdown",
   "id": "170099a3-4baf-4d2b-9ee2-ba934e368432",
   "metadata": {},
   "source": [
    "<h3>Data Collection</h3>\n",
    "<p>\n",
    "We gebruiken Images uit de <a href=\"https://www.kaggle.com/datasets/apollo2506/eurosat-dataset\">EuroSat dataset</a> die gemaakt zijn met de Sentinel-2 sateliet. Elke image is een 64x64 pixels foto van Europees aardoppervlak op een hoogte van 10 meter. De images zijn te categoriseren in Highway, Industrial, Pasture, PermanentCrop, Residential, River en SeaLake.\n",
    "</p>\n",
    "<img src=../../pics/eurosat_overview_small.jpg length=50% width=50%>\n",
    "<p>\n",
    "Download <a href=\"http://madm.dfki.de/files/sentinel/EuroSAT.zip\">EuroSAT.zip</a> en kopieer daaruit de directory 2750 naar opdrachten/practica/pics.      \n",
    "<strong>Voeg het pad naar de directory 2750 toe aan .gitignore zodat je de plaatjes niet naar je remote git repository pusht</strong>\n",
    "</p>    "
   ]
  },
  {
   "cell_type": "markdown",
   "id": "37bee10c-430d-4ee5-9417-32aeb86c0e7e",
   "metadata": {},
   "source": [
    "<h3>Data Selection</h3>"
   ]
  },
  {
   "cell_type": "code",
   "execution_count": 6,
   "id": "c652271d-7f13-493e-a14e-d70a21e2de39",
   "metadata": {},
   "outputs": [
    {
     "ename": "NameError",
     "evalue": "name 'os' is not defined",
     "output_type": "error",
     "traceback": [
      "\u001b[1;31m---------------------------------------------------------------------------\u001b[0m",
      "\u001b[1;31mNameError\u001b[0m                                 Traceback (most recent call last)",
      "Cell \u001b[1;32mIn[6], line 3\u001b[0m\n\u001b[0;32m      1\u001b[0m edgeFiles \u001b[38;5;241m=\u001b[39m \u001b[38;5;28mlist\u001b[39m()\n\u001b[1;32m----> 3\u001b[0m \u001b[38;5;28;01mfor\u001b[39;00m filename \u001b[38;5;129;01min\u001b[39;00m \u001b[43mos\u001b[49m\u001b[38;5;241m.\u001b[39mlistdir(riverDirectory):\n\u001b[0;32m      4\u001b[0m     imgFile \u001b[38;5;241m=\u001b[39m os\u001b[38;5;241m.\u001b[39mpath\u001b[38;5;241m.\u001b[39mjoin(riverDirectory, filename)\n\u001b[0;32m      6\u001b[0m     \u001b[38;5;28;01mif\u001b[39;00m \u001b[38;5;124m\"\u001b[39m\u001b[38;5;124m.jpg\u001b[39m\u001b[38;5;124m\"\u001b[39m \u001b[38;5;129;01min\u001b[39;00m imgFile:\n",
      "\u001b[1;31mNameError\u001b[0m: name 'os' is not defined"
     ]
    }
   ],
   "source": [
    "edgeFiles = list()\n",
    " \n",
    "for filename in os.listdir(riverDirectory):\n",
    "    imgFile = os.path.join(riverDirectory, filename)\n",
    "\n",
    "    if \".jpg\" in imgFile:\n",
    "        edgeFiles.append(imgFile)"
   ]
  },
  {
   "cell_type": "markdown",
   "id": "90d58406-d3f1-45f4-aac9-f2dfddf6e7be",
   "metadata": {},
   "source": [
    "<h3>Exercise 1</h3>\n",
    "<p>\n",
    "    Voeg de directory Highway toe aan de <u>list</u> edgeFiles zodat ook de Highway images worden meegenomen. \n",
    "</p>"
   ]
  },
  {
   "cell_type": "code",
   "execution_count": null,
   "id": "0feb663d-7c9e-4706-afda-334769e695e9",
   "metadata": {},
   "outputs": [],
   "source": [
    "# Oplossing\n",
    " \n",
    "for filename in os.listdir(highwayDirectory):\n",
    "    imgFile = os.path.join(highwayDirectory, filename)\n",
    "    \n",
    "    if \".jpg\" in imgFile:\n",
    "        edgeFiles.append(imgFile)\n",
    "    \n",
    "len(edgeFiles)    "
   ]
  },
  {
   "cell_type": "markdown",
   "id": "ddfc7256-6b34-42c4-a97b-3f151a8ed0fa",
   "metadata": {},
   "source": [
    "<h3>Data Transform</h3>\n",
    "<p>\n",
    "Image filters zijn Tensors en om die toe te kunnen passen zetten we de images eerst om naar Tensors m.b.v. Numpy.\n",
    "</p>    "
   ]
  },
  {
   "cell_type": "code",
   "execution_count": null,
   "id": "eef4608d-3ea2-4e55-9b1f-d0d9906447b4",
   "metadata": {},
   "outputs": [],
   "source": [
    "imageTensors = [ plt.imread(pic).astype(float) for pic in edgeFiles ]\n",
    "nrOfImages = len(imageTensors)"
   ]
  },
  {
   "cell_type": "markdown",
   "id": "c6f53c9b-6256-448a-a1b2-1a7a8bd88718",
   "metadata": {},
   "source": [
    "<h4>Data Normalising</h4>\n",
    "<p>Om waardes tussen 0 en 1 te vergrijgen, delen we door de maximale pixelwaarde</p>"
   ]
  },
  {
   "cell_type": "code",
   "execution_count": null,
   "id": "68b0cbcd-45bf-4b8b-a492-50d721371850",
   "metadata": {},
   "outputs": [],
   "source": [
    "imageTensors = [ imageTensor/255 for imageTensor in imageTensors ]"
   ]
  },
  {
   "cell_type": "markdown",
   "id": "abc16b74-8f84-4256-9012-1e05669f1f54",
   "metadata": {},
   "source": [
    "<p>\n",
    "De tensors bevatten alleen de numerieke data van de images, om die te kunnen herleiden tot de oorspronkelijke images hebben we ook een lijst met de corresponderende labels nodig. De labels kunnen we afleiden uit de bestandsnamen.    \n",
    "</p>    "
   ]
  },
  {
   "cell_type": "code",
   "execution_count": null,
   "id": "6c6fdb90-bf3a-4569-a475-2e94b0c5bdd8",
   "metadata": {},
   "outputs": [],
   "source": [
    "labelNames, labelNumbers = ([], [])\n",
    "\n",
    "for i, fileName in enumerate(edgeFiles):\n",
    "    labelNames.append(fileName.split('/')[4])\n",
    "    labelNumbers.append(i)"
   ]
  },
  {
   "cell_type": "markdown",
   "id": "594e0124-baaa-4819-9764-6aaf1f39509e",
   "metadata": {},
   "source": [
    "**Controleer de data**"
   ]
  },
  {
   "cell_type": "code",
   "execution_count": null,
   "id": "2dd50043-5eb7-4761-9d25-a9e497ba9d85",
   "metadata": {},
   "outputs": [],
   "source": [
    "print(f\"De eerste Image heeft label {labelNames[0]}\")\n",
    "print(f\"De laatste Image heeft label {labelNames[nrOfImages-1]}\")"
   ]
  },
  {
   "cell_type": "markdown",
   "id": "11669120-c3b7-4d62-8e61-e3858002d973",
   "metadata": {},
   "source": [
    "<h3>Data visualiseren</h3>"
   ]
  },
  {
   "cell_type": "code",
   "execution_count": null,
   "id": "c5e3ce52-c40f-4225-8925-4f56df9b2cb5",
   "metadata": {},
   "outputs": [],
   "source": [
    "def showImages():\n",
    "    \n",
    "    plt.figure(figsize=(10,10))\n",
    "    \n",
    "    for i in range(4):\n",
    "        \n",
    "        # Maak een 2 x 2 raster van Images\n",
    "        plt.subplot(2, 2, i+1)\n",
    "        plt.xticks([])\n",
    "        plt.yticks([])\n",
    "        plt.grid(False)        \n",
    "                \n",
    "        # Van Tensor terug naar Image\n",
    "        plt.imshow(imageTensors[i])\n",
    "        \n",
    "        # Bijbehorende Imagelabel\n",
    "        plt.xlabel( f\"{labelNames[labelNumbers[i]]} {labelNumbers[i]}\" ) \n",
    "\n",
    "    plt.show()           "
   ]
  },
  {
   "cell_type": "code",
   "execution_count": null,
   "id": "767457b4-f8f2-4424-90cd-d538f67ef98d",
   "metadata": {},
   "outputs": [],
   "source": [
    "showImages() "
   ]
  },
  {
   "cell_type": "markdown",
   "id": "cc4f808f-8cfe-4777-b72e-7ca405a19687",
   "metadata": {},
   "source": [
    "<h3>Exercise 2</h3>\n",
    "<p>\n",
    "Maak een nieuwe functie <u>showRandomImages()</u> die <u>16 random</u> images uit de dataset selecteert en weergeeft in een 4 x 4 raster<br>\n",
    "<strong>Let erop dat bij iedere image het corresponderende label getoond wordt</strong>\n",
    "</p>"
   ]
  },
  {
   "cell_type": "code",
   "execution_count": null,
   "id": "53793e24-0946-41f9-ab40-8d9abafaf2ff",
   "metadata": {},
   "outputs": [],
   "source": [
    "# Oplossing\n",
    "\n",
    "def showRandomImages():\n",
    "    \n",
    "    plt.figure(figsize=(10,10))\n",
    "    \n",
    "    for i in range(16):\n",
    "        \n",
    "        # Maak een 4 x 4 raster van Images\n",
    "        plt.subplot(4, 4, i+1)\n",
    "        plt.xticks([])\n",
    "        plt.yticks([])\n",
    "        plt.grid(False)        \n",
    "        \n",
    "        # Selecteer een willekeurige index uit de lijst\n",
    "        randInd = random.randint(0, nrOfImages)\n",
    "        \n",
    "        # Van Tensor terug naar Image\n",
    "        plt.imshow(imageTensors[randInd])\n",
    "        \n",
    "        # Bijbehorende Imagelabel\n",
    "        plt.xlabel( f\"{labelNames[labelNumbers[randInd]]} {labelNumbers[randInd]}\" ) \n",
    "\n",
    "    plt.show()           "
   ]
  },
  {
   "cell_type": "code",
   "execution_count": null,
   "id": "5efae36b-77bf-4e72-9e07-0bc4c73d54af",
   "metadata": {},
   "outputs": [],
   "source": [
    "showRandomImages()"
   ]
  },
  {
   "cell_type": "markdown",
   "id": "995f5421-ee18-4b53-86d4-dfb68c672ab9",
   "metadata": {},
   "source": [
    "<h4>Edge Detection</h4>\n",
    "<p>\n",
    "Zowel de Highway en River Images hebben randen die relevant zijn om de auto- of waterweg te kunnen onderscheiden van de directe omgeving. We gaan daarom zoveel mogelijk niet-relevante informatie wegfilteren.    \n",
    "</p>    "
   ]
  },
  {
   "cell_type": "markdown",
   "id": "a1515085-b60b-472f-98f8-bcef9987541a",
   "metadata": {},
   "source": [
    "<p>Functie voor het genereren van een subplot</p>"
   ]
  },
  {
   "cell_type": "code",
   "execution_count": null,
   "id": "13d156f5-3c65-4ca9-8ffd-1c64000af0ba",
   "metadata": {},
   "outputs": [],
   "source": [
    "def plotImgs(lImg, rImg):\n",
    "    plt.style.use('dark_background') \n",
    "    plt.rcParams[\"font.size\"] = 12\n",
    "    plt.rcParams[\"figure.figsize\"] = (12, 7)\n",
    "\n",
    "    fig, (axL, axR) = plt.subplots(ncols=2, constrained_layout=True)\n",
    "    fig.suptitle(f\"{labelNames[labelNumbers[randInd]]} {labelNumbers[randInd]}\")\n",
    "    imL = axL.imshow(np.clip(lImg, 0, 1), interpolation=\"none\")\n",
    "    imR = axR.imshow(np.clip(rImg, 0, 1), interpolation=\"none\")    "
   ]
  },
  {
   "cell_type": "markdown",
   "id": "23b45e1e-de20-452c-9bd1-708330762eeb",
   "metadata": {},
   "source": [
    "**Definieer de Image Kernel voor de convolutiefiler**"
   ]
  },
  {
   "cell_type": "code",
   "execution_count": null,
   "id": "d4ac2508-de87-4ca3-ae71-86ad2eb89615",
   "metadata": {},
   "outputs": [],
   "source": [
    "isoTropicFilter = ImageFilter( \n",
    "    np.array (\n",
    "        [\n",
    "            [-1, -1, -1], \n",
    "            [-1,  8, -1], \n",
    "            [-1, -1, -1]\n",
    "        ]\n",
    "    ) \n",
    ")"
   ]
  },
  {
   "cell_type": "markdown",
   "id": "1aec402d-7e7f-4673-b51a-44c76c5ee965",
   "metadata": {},
   "source": [
    "**Filter de Image**"
   ]
  },
  {
   "cell_type": "code",
   "execution_count": null,
   "id": "43ecc42f-3f93-4519-b4c7-2860c1d4ea86",
   "metadata": {},
   "outputs": [],
   "source": [
    "randInd = random.randint(0, nrOfImages)\n",
    "imgOrg = imageTensors[randInd]\n",
    "imgFiltered = isoTropicFilter.convolve(imgOrg)\n",
    "\n",
    "plotImgs(imgOrg, imgFiltered)"
   ]
  },
  {
   "cell_type": "markdown",
   "id": "34a120dc-bfc9-4668-b456-4d021738e77b",
   "metadata": {},
   "source": [
    "<h3>Exercise 3</h3>\n",
    "<p>\n",
    "    Maak een 3x3 ImageFilter object <u>horEdgeFilter</u> en voer daarmee een aantal Convoluties uit.<br> \n",
    "    Vergelijk de resultaten met die van de Convoluties met de <u>isoTropicFilter</u>\n",
    "</p>\n",
    "<p>\n",
    "    <strong>Tips</strong>\n",
    "    <ul>\n",
    "        <li>In de sheets kun je een voorbeeld van een verticale Edge Detection Filter vinden.</li>\n",
    "        <li>Schrijf een functie voor <i>batchverwerking</i> op Images.</li>\n",
    "    </ul>\n",
    "</p>"
   ]
  },
  {
   "cell_type": "markdown",
   "id": "7b76fc8c-cada-44f8-b02e-c4bfdd6e7ac8",
   "metadata": {},
   "source": [
    "<h2>References</h2>\n",
    "\n",
    "[Image Kernels Explained Visuall - Victor Powell](https://setosa.io/ev/image-kernels/)<br>"
   ]
  },
  {
   "cell_type": "code",
   "execution_count": null,
   "id": "9adfcf43-7194-4f72-ac38-43790d338f07",
   "metadata": {},
   "outputs": [],
   "source": []
  }
 ],
 "metadata": {
  "kernelspec": {
   "display_name": "Python 3 (ipykernel)",
   "language": "python",
   "name": "python3"
  },
  "language_info": {
   "codemirror_mode": {
    "name": "ipython",
    "version": 3
   },
   "file_extension": ".py",
   "mimetype": "text/x-python",
   "name": "python",
   "nbconvert_exporter": "python",
   "pygments_lexer": "ipython3",
   "version": "3.12.3"
  },
  "vscode": {
   "interpreter": {
    "hash": "aee8b7b246df8f9039afb4144a1f6fd8d2ca17a180786b69acc140d282b71a49"
   }
  }
 },
 "nbformat": 4,
 "nbformat_minor": 5
}
