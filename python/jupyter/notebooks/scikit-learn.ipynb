{
 "cells": [
  {
   "cell_type": "markdown",
   "id": "3d8e0009-b3ed-4dff-8877-386ab711d7b3",
   "metadata": {},
   "source": [
    "<div>\n",
    "<img src='pics/banner.PNG'/>\n",
    "</div>\n",
    "<div>\n",
    "<img width=\"10%\" src='pics/tinlab.png'/></a>\n",
    "<strong>Scikit Learn Basics - Jeroen Boogaard</strong>\n",
    "</div>    "
   ]
  },
  {
   "cell_type": "markdown",
   "id": "0ca78c8f-3293-4c66-bd8f-b3ac4c79c5a6",
   "metadata": {},
   "source": [
    "# Scikit Learn"
   ]
  },
  {
   "cell_type": "markdown",
   "id": "e14f2508-883c-4add-a736-3473ba5224a1",
   "metadata": {},
   "source": [
    "<h2>Imports</h2>"
   ]
  },
  {
   "cell_type": "code",
   "execution_count": 6,
   "id": "cf8fc6a1-f0dc-4fc3-9a58-8db3592ed058",
   "metadata": {},
   "source": [
    "import sklearn"
   ],
   "outputs": []
  },
  {
   "cell_type": "markdown",
   "id": "215f6017-5ad2-4b2a-97f7-568ee01d70b1",
   "metadata": {},
   "source": [
    "<h2>Dataset</h2>"
   ]
  },
  {
   "cell_type": "markdown",
   "id": "379bee54-b6a6-4c4e-83c1-7ecffc75fec2",
   "metadata": {},
   "source": [
    "<h3>Import data</h3>"
   ]
  },
  {
   "cell_type": "code",
   "execution_count": 7,
   "id": "e7802ef4-9309-459d-8580-3e5c38da70fc",
   "metadata": {},
   "source": [
    "# Location of dataset\n",
    "url = \"https://archive.ics.uci.edu/ml/machine-learning-databases/iris/iris.data\"\n",
    "\n",
    "# Assign colum names to the dataset\n",
    "names = ['sepal-length', 'sepal-width', 'petal-length', 'petal-width', 'Class']\n",
    "\n",
    "# Read dataset to pandas dataframe\n",
    "irisdata = pd.read_csv(url, names=names)"
   ],
   "outputs": []
  },
  {
   "cell_type": "markdown",
   "id": "55e315c4-1104-4229-b53b-91bc2dff6a28",
   "metadata": {},
   "source": [
    "Explore the data"
   ]
  },
  {
   "cell_type": "code",
   "execution_count": 8,
   "id": "5b39a4ee-1a99-483c-971d-5d9b6b93f661",
   "metadata": {},
   "source": [
    "irisdata.head()"
   ],
   "outputs": []
  },
  {
   "cell_type": "markdown",
   "id": "63b4a35b-cceb-445e-9cec-35f359d2a084",
   "metadata": {},
   "source": [
    "<h3>Preprocessing</h3>"
   ]
  },
  {
   "cell_type": "code",
   "execution_count": 9,
   "id": "9bee96a7-d98a-43ea-bf30-5bd8c968bb5a",
   "metadata": {},
   "source": [
    "# Assign data from first four columns to X variable\n",
    "X = irisdata.iloc[:, 0:4]\n",
    "\n",
    "# Assign data from first fifth columns to y variable\n",
    "y = irisdata.select_dtypes(include=[object])"
   ],
   "outputs": []
  },
  {
   "cell_type": "markdown",
   "id": "5d877726-af18-4412-b23a-207fcfaafa7b",
   "metadata": {},
   "source": [
    "### References\n",
    "<ul>\n",
    "<li><a href=\"https://stackabuse.com/introduction-to-neural-networks-with-scikit-learn/\">StackAbuse</a></li>\n",
    "</ul>"
   ]
  }
 ],
 "metadata": {
  "kernelspec": {
   "display_name": "Python 3 (ipykernel)",
   "language": "python",
   "name": "python3"
  },
  "language_info": {
   "codemirror_mode": {
    "name": "ipython",
    "version": 3
   },
   "file_extension": ".py",
   "mimetype": "text/x-python",
   "name": "python",
   "nbconvert_exporter": "python",
   "pygments_lexer": "ipython3",
   "version": "3.12.2"
  }
 },
 "nbformat": 4,
 "nbformat_minor": 5
}
