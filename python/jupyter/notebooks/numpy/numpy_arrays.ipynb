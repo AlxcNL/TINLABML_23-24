{
 "cells": [
  {
   "cell_type": "markdown",
   "id": "b45dd50e-d75c-41d2-a549-110cc111e32b",
   "metadata": {},
   "source": [
    "<div>\n",
    "<img src='../pics/banner.PNG'/>\n",
    "</div>\n",
    "<div>\n",
    "<img width=\"15%\" src='../pics/tinlab.png'/></a>\n",
    "<strong>Python Basics - Jeroen Boogaard</strong>\n",
    "</div>"
   ]
  },
  {
   "cell_type": "markdown",
   "id": "63f0720b-4a62-479d-873b-c5f6cad9a89d",
   "metadata": {},
   "source": [
    "## Numpy - Arrays"
   ]
  },
  {
   "cell_type": "markdown",
   "id": "3619d610-30b3-41a2-b5f0-ae37b9d5b105",
   "metadata": {},
   "source": [
    "**Imports**"
   ]
  },
  {
   "cell_type": "code",
   "execution_count": 5,
   "id": "42257a05-c794-4121-a9cf-fe53fa3a1dc1",
   "metadata": {},
   "outputs": [],
   "source": [
    "import numpy as np"
   ]
  },
  {
   "cell_type": "code",
   "execution_count": 6,
   "id": "b7fc9929-c6bc-40f0-999b-ec49004c33c1",
   "metadata": {},
   "outputs": [
    {
     "data": {
      "text/plain": [
       "[1, 2, 3, 4]"
      ]
     },
     "execution_count": 6,
     "metadata": {},
     "output_type": "execute_result"
    }
   ],
   "source": [
    "listA = [1, 2, 3, 4]\n",
    "listA"
   ]
  },
  {
   "cell_type": "code",
   "execution_count": 9,
   "id": "1c516968-fa2c-4c9e-beee-c59cb21377e4",
   "metadata": {},
   "outputs": [
    {
     "data": {
      "text/plain": [
       "array([1, 2, 3, 4])"
      ]
     },
     "execution_count": 9,
     "metadata": {},
     "output_type": "execute_result"
    }
   ],
   "source": [
    "arrayA = np.array(listA)\n",
    "arrayA"
   ]
  },
  {
   "cell_type": "code",
   "execution_count": null,
   "id": "7558f66b-c2b2-4493-9adf-696098eef72d",
   "metadata": {},
   "outputs": [],
   "source": []
  }
 ],
 "metadata": {
  "kernelspec": {
   "display_name": "Python 3 (ipykernel)",
   "language": "python",
   "name": "python3"
  },
  "language_info": {
   "codemirror_mode": {
    "name": "ipython",
    "version": 3
   },
   "file_extension": ".py",
   "mimetype": "text/x-python",
   "name": "python",
   "nbconvert_exporter": "python",
   "pygments_lexer": "ipython3",
   "version": "3.12.2"
  }
 },
 "nbformat": 4,
 "nbformat_minor": 5
}
