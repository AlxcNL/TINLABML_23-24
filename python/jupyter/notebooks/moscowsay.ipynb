{
 "cells": [
  {
   "cell_type": "code",
   "execution_count": 39,
   "id": "97b10a43-ddec-4b25-9aa0-76f7003e3238",
   "metadata": {},
   "outputs": [],
   "source": [
    "import subprocess"
   ]
  },
  {
   "cell_type": "code",
   "execution_count": 44,
   "id": "20ee18e8-25d5-484d-9eca-40e8c63165a7",
   "metadata": {},
   "outputs": [
    {
     "name": "stdout",
     "output_type": "stream",
     "text": [
      "Must have\n",
      "Should have\n",
      "Could have\n",
      "Would have\n"
     ]
    }
   ],
   "source": [
    "levels = list([\"must\", \"should\", \"could\", \"would\"])\n",
    "t = \"\"\n",
    "\n",
    "for i, (level, have) in enumerate(zip(levels, len(levels)*[\"have\"])):    \n",
    "    print(f\"{level.title()} {have}\")    \n",
    "    t += level[0]\n",
    "\n",
    "    if (i<len(levels)-1):\n",
    "        t += 'o'"
   ]
  },
  {
   "cell_type": "code",
   "execution_count": 43,
   "id": "48b724cd-226f-43e0-82a0-cf32ca599ed8",
   "metadata": {},
   "outputs": [
    {
     "name": "stdout",
     "output_type": "stream",
     "text": [
      " ____________\n",
      "< MoSoCoWsay >\n",
      " ------------\n",
      "        \\   ^__^\n",
      "         \\  (oo)\\_______\n",
      "            (__)\\       )\\/\\\n",
      "                ||----w |\n",
      "                ||     ||\n"
     ]
    },
    {
     "data": {
      "text/plain": [
       "CompletedProcess(args='cowsay MoSoCoWsay', returncode=0)"
      ]
     },
     "execution_count": 43,
     "metadata": {},
     "output_type": "execute_result"
    }
   ],
   "source": [
    "subprocess.run(f\"cowsay {t}say\", shell=True, check=True)"
   ]
  },
  {
   "cell_type": "code",
   "execution_count": null,
   "id": "09964d9e-0ac7-4e2b-9349-d262ac774e34",
   "metadata": {},
   "outputs": [],
   "source": []
  }
 ],
 "metadata": {
  "kernelspec": {
   "display_name": "Python 3 (ipykernel)",
   "language": "python",
   "name": "python3"
  },
  "language_info": {
   "codemirror_mode": {
    "name": "ipython",
    "version": 3
   },
   "file_extension": ".py",
   "mimetype": "text/x-python",
   "name": "python",
   "nbconvert_exporter": "python",
   "pygments_lexer": "ipython3",
   "version": "3.11.7"
  }
 },
 "nbformat": 4,
 "nbformat_minor": 5
}
