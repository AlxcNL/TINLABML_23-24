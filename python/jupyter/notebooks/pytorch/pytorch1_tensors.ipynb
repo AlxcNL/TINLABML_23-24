{
 "cells": [
  {
   "cell_type": "markdown",
   "id": "0c005f34-8b76-4b11-acd1-809e563f33d5",
   "metadata": {},
   "source": [
    "<div>\n",
    "<img src='../pics/banner.PNG'/>\n",
    "</div>\n",
    "<div>\n",
    "<img width=\"15%\" src='../pics/tinlab.png'/>\n",
    "<strong>Pytorch Tensors - Jeroen Boogaard</strong>\n",
    "</div>"
   ]
  },
  {
   "cell_type": "markdown",
   "id": "658bee18-cb32-4636-bcd8-d6bc4e2d61f9",
   "metadata": {},
   "source": [
    "# Pytorch 1 : Tensors\n",
    "<p>\n",
    "Een <strong>Tensor</strong> is een begrip uit de Machine Learning en is Wiskundig gezien een een n-dimensionale matrix. In Python wordt hier meestal een Numpy Array of uitbreiding daarop voor gebruikt.\n",
    "</p>"
   ]
  },
  {
   "cell_type": "markdown",
   "id": "93fd246a-9ec0-4608-9b05-aa24e93648a5",
   "metadata": {},
   "source": []
  },
  {
   "cell_type": "markdown",
   "id": "82ab6eaf-1816-489f-be4e-cf4ea60c4997",
   "metadata": {},
   "source": [
    "**Imports**"
   ]
  },
  {
   "cell_type": "code",
   "execution_count": 1,
   "id": "e17c67f9-a0fa-4b9a-9523-600120a87f2a",
   "metadata": {},
   "source": [
    "import torch"
   ],
   "outputs": []
  },
  {
   "cell_type": "code",
   "execution_count": null,
   "id": "7dbbed28-b3e1-4241-afe4-c2d650b90f70",
   "metadata": {},
   "source": [],
   "outputs": []
  },
  {
   "cell_type": "code",
   "execution_count": null,
   "id": "812183d8-2f23-4be8-97e5-efefe565c57b",
   "metadata": {},
   "source": [],
   "outputs": []
  }
 ],
 "metadata": {
  "kernelspec": {
   "display_name": "Python 3 (ipykernel)",
   "language": "python",
   "name": "python3"
  },
  "language_info": {
   "codemirror_mode": {
    "name": "ipython",
    "version": 3
   },
   "file_extension": ".py",
   "mimetype": "text/x-python",
   "name": "python",
   "nbconvert_exporter": "python",
   "pygments_lexer": "ipython3",
   "version": "3.12.2"
  }
 },
 "nbformat": 4,
 "nbformat_minor": 5
}
