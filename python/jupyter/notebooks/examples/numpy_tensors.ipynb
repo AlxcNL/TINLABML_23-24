{
 "cells": [
  {
   "cell_type": "markdown",
   "metadata": {},
   "source": [
    "<div>\n",
    "<img src='../pics/banner.PNG'/>\n",
    "</div>\n",
    "<div>\n",
    "<img width=\"15%\" src='../pics/tinlab.png'/>\n",
    "<strong>Numpy Tensors - Jeroen Boogaard</strong>\n",
    "</div>"
   ]
  },
  {
   "cell_type": "markdown",
   "metadata": {},
   "source": [
    "# Numpy Tensors\n",
    "<p>\n",
    "Een <strong>Tensor</strong> is een begrip uit de Machine Learning en is Wiskundig gezien een een n-dimensionale matrix.<br>\n",
    "In Python wordt hiervoor meestal een Numpy Array of een framework-specifieke uitbreiding daarop gebruikt.\n",
    "</p>"
   ]
  },
  {
   "cell_type": "markdown",
   "metadata": {},
   "source": [
    "**Imports**"
   ]
  },
  {
   "cell_type": "code",
   "execution_count": 41,
   "metadata": {},
   "source": [
    "import numpy as np"
   ],
   "outputs": []
  },
  {
   "cell_type": "markdown",
   "metadata": {},
   "source": [
    "## Numpy Array\n",
    "<p>\n",
    "Een numpy array lijkt op de (builtin) data collection list maar heeft als restrictie dat alle elementen van hetzelfde type moeten zijn. Als dat niet zo is, vindt er automatische casting plaat.\n",
    "</p>"
   ]
  },
  {
   "cell_type": "code",
   "execution_count": 42,
   "metadata": {},
   "source": [
    "mixed_list = [\"nul\", 1]\n",
    "display(mixed_list)\n",
    "\n",
    "mixed_array = np.array(mixed_list)\n",
    "display(mixed_array)"
   ],
   "outputs": []
  },
  {
   "cell_type": "markdown",
   "metadata": {},
   "source": [
    "**Conversie tussen Python list en Numpy Array**"
   ]
  },
  {
   "cell_type": "code",
   "execution_count": 43,
   "metadata": {},
   "source": [
    "listA = [1, 2, 3, 4]\n",
    "arrayA = np.array(listA)\n",
    "display( type(arrayA) )\n",
    "type( arrayA.tolist() ) == type(listA)"
   ],
   "outputs": []
  },
  {
   "cell_type": "markdown",
   "metadata": {},
   "source": [
    "## Vector\n",
    "Een 1-dimensionale Numpy Array is een vector van scalars (enkelwaardige numerieke variabelen). "
   ]
  },
  {
   "cell_type": "code",
   "execution_count": 44,
   "metadata": {},
   "source": [
    "n = 10"
   ],
   "outputs": []
  },
  {
   "cell_type": "markdown",
   "metadata": {},
   "source": [
    "**Vector genereren in Numpy..**"
   ]
  },
  {
   "cell_type": "markdown",
   "metadata": {},
   "source": [
    "**met willekeurige getallen**\n",
    "<p>\"Ik houd van verrassingen als het maar niet onverwachts is..\"</p>"
   ]
  },
  {
   "cell_type": "code",
   "execution_count": 45,
   "metadata": {},
   "source": [
    "np.random.seed(5)\n",
    "v1 = np.random.randn(n)\n",
    "display(v1)\n",
    "v1.shape"
   ],
   "outputs": []
  },
  {
   "cell_type": "markdown",
   "metadata": {},
   "source": [
    "**met nullen of enen**"
   ]
  },
  {
   "cell_type": "code",
   "execution_count": 46,
   "metadata": {},
   "source": [
    "v2 = np.zeros(n)\n",
    "display(v2)\n",
    "v2.shape\n",
    "\n",
    "v3 = np.ones(n)\n",
    "display(v3)\n",
    "v3.shape"
   ],
   "outputs": []
  },
  {
   "cell_type": "markdown",
   "metadata": {},
   "source": [
    "**m.b.v. een reeks**"
   ]
  },
  {
   "cell_type": "code",
   "execution_count": 47,
   "metadata": {},
   "source": [
    "step = 1\n",
    "v4 = np.arange(0,n,step)\n",
    "display(v4)\n",
    "v4.shape"
   ],
   "outputs": []
  },
  {
   "cell_type": "markdown",
   "metadata": {},
   "source": [
    "**De lengte van een vector is gelijk aan het aantal elementen.**"
   ]
  },
  {
   "cell_type": "code",
   "execution_count": 48,
   "metadata": {},
   "source": [
    "v1.size == v2.size == v3.size == v4.size == n"
   ],
   "outputs": []
  },
  {
   "cell_type": "markdown",
   "metadata": {},
   "source": [
    "**Transponeren**\n",
    "<p>\n",
    "Transponeren is een bewerking waarbij de kolommen worden omgezet in rijen, <br>\n",
    "Aangezien een 1-dimensionale Numpy Array maar 1 rij heeft, heeft een transpositie van een vector in Nympy geen effect.\n",
    "</p>"
   ]
  },
  {
   "cell_type": "code",
   "execution_count": 49,
   "metadata": {},
   "source": [
    "v1.shape == v1.T.shape\n",
    "v1"
   ],
   "outputs": []
  },
  {
   "cell_type": "markdown",
   "metadata": {},
   "source": [
    "<p>Om toch een rij-vector om te zetten in een kolomvector kun je gebruikmaken van list comprehension in Python</p>"
   ]
  },
  {
   "cell_type": "code",
   "execution_count": 50,
   "metadata": {},
   "source": [
    "vTransposed = np.array( [[e] for e in v1] )\n",
    "vTransposed"
   ],
   "outputs": []
  },
  {
   "cell_type": "code",
   "execution_count": 51,
   "metadata": {},
   "source": [
    "v1.reshape(-1, 1)"
   ],
   "outputs": []
  },
  {
   "cell_type": "markdown",
   "metadata": {},
   "source": [
    "## Matrix\n",
    "Een 2-dimensionale Numpy Array is een matrix van scalars. "
   ]
  },
  {
   "cell_type": "code",
   "execution_count": 52,
   "metadata": {},
   "source": [
    "M0 = np.array(\n",
    "    [\n",
    "        [0, 1, 2],\n",
    "        [3, 4, 5],\n",
    "        [6, 7, 8]\n",
    "    ]    \n",
    ")    \n",
    "display(M0)\n",
    "\n",
    "middleElement = np.median([i for i in range(M0.size)])\n",
    "print( f\"\\nHet middelste element van M0 is {middleElement}\" )"
   ],
   "outputs": []
  },
  {
   "cell_type": "code",
   "execution_count": 53,
   "metadata": {},
   "source": [
    "shapeM1 = (2, 3)\n",
    "M1 = np.ones(shapeM1)\n",
    "display(M1)\n",
    "print( \"M1 is een {0} x {1} matrix\".format(shapeM1[0], shapeM1[1]) )"
   ],
   "outputs": []
  },
  {
   "cell_type": "code",
   "execution_count": 54,
   "metadata": {},
   "source": [
    "shapeM2 = list( reversed(shapeM1) )\n",
    "M2 = np.ones(shapeM2)\n",
    "display(M2)\n",
    "print( \"M2 is een {0} x {1} matrix\".format(shapeM2[0], shapeM2[1]) )"
   ],
   "outputs": []
  },
  {
   "cell_type": "markdown",
   "metadata": {},
   "source": [
    "**Een <strong>matrix</strong> is een lijst (concatenatie) van vectoren**"
   ]
  },
  {
   "cell_type": "code",
   "execution_count": 55,
   "metadata": {},
   "source": [
    "listOfVectors = [ \n",
    "    v1.tolist(),\n",
    "    v2.tolist(),\n",
    "    v3.tolist()\n",
    "]\n",
    "matrixFromVectors = np.array(listOfVectors).T\n",
    "display(matrixFromVectors)\n",
    "matrixFromVectors.shape"
   ],
   "outputs": []
  },
  {
   "cell_type": "markdown",
   "metadata": {},
   "source": [
    "### Vermenigvuldigen\n",
    "Vermenigvulding is alleen mogelijk wanneer het aantal kolommen van de eerste matrix gelijk is aan het aantal rijen van de tweede matrix"
   ]
  },
  {
   "cell_type": "code",
   "execution_count": 56,
   "metadata": {},
   "source": [
    "(rowsM1, colsM1) = shapeM1\n",
    "(rowsM2, colsM2) = shapeM2\n",
    "colsM1 == rowsM2\n",
    "display(rowsM1)\n",
    "display(colsM2)"
   ],
   "outputs": []
  },
  {
   "cell_type": "code",
   "execution_count": 57,
   "metadata": {},
   "source": [
    "M3 = M1 @ M2\n",
    "display(M3)\n",
    "(rowsM3, colsM3) = M3.shape\n",
    "print( \"M3 is een {0} x {1} matrix\".format(rowsM3, colsM3) )"
   ],
   "outputs": []
  },
  {
   "cell_type": "markdown",
   "metadata": {},
   "source": [
    "**Omdat vectoren maar 1 dimensie hebben (1 rij OF 1 kolom), is het <i>vectorproduct</i> op 2 manieren gedefinieerd..**"
   ]
  },
  {
   "cell_type": "code",
   "execution_count": 58,
   "metadata": {},
   "source": [
    "# 1 x 2\n",
    "v = np.array( [0, 1] )\n",
    "# 2 x 1\n",
    "w = np.array( [[2], [3]] ) "
   ],
   "outputs": []
  },
  {
   "cell_type": "markdown",
   "metadata": {},
   "source": [
    "**Inwendig product**<br>\n",
    "Dit resulteert in een scalar:<br>\n",
    "(1 x n) * (n * 1)"
   ]
  },
  {
   "cell_type": "code",
   "execution_count": 59,
   "metadata": {},
   "source": [
    "# 1 x 1\n",
    "pIn = v @ w\n",
    "display(pIn.tolist())\n",
    "pIn.shape"
   ],
   "outputs": []
  },
  {
   "cell_type": "markdown",
   "metadata": {},
   "source": [
    "**Uitwendig product**"
   ]
  },
  {
   "cell_type": "code",
   "execution_count": null,
   "metadata": {},
   "source": [
    "# 2 x 2\n",
    "pUit = np.multiply(v, w)\n",
    "pUit.shape\n",
    "display(pUit)"
   ],
   "outputs": []
  }
 ],
 "metadata": {
  "kernelspec": {
   "display_name": "Python 3 (ipykernel)",
   "language": "python",
   "name": "python3"
  },
  "language_info": {
   "codemirror_mode": {
    "name": "ipython",
    "version": 3
   },
   "file_extension": ".py",
   "mimetype": "text/x-python",
   "name": "python",
   "nbconvert_exporter": "python",
   "pygments_lexer": "ipython3",
   "version": "3.12.3"
  }
 },
 "nbformat": 4,
 "nbformat_minor": 4
}
