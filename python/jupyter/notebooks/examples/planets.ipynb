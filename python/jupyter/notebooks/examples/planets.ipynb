{
 "cells": [
  {
   "cell_type": "markdown",
   "metadata": {},
   "source": [
    "<div>\n",
    "<img src='../pics/banner.PNG'/>\n",
    "</div>\n",
    "<div>\n",
    "<img width=\"15%\" src='../pics/tinlab.png'/>\n",
    "<strong>Matplotlib - Jeroen Boogaard</strong>\n",
    "</div>"
   ]
  },
  {
   "cell_type": "markdown",
   "metadata": {},
   "source": [
    "<h1>Matplotlib</h1>"
   ]
  },
  {
   "cell_type": "markdown",
   "metadata": {},
   "source": [
    "**Imports**"
   ]
  },
  {
   "cell_type": "code",
   "execution_count": 1,
   "metadata": {},
   "outputs": [],
   "source": [
    "from sklearn.preprocessing import MinMaxScaler\n",
    "from pathlib import Path\n",
    "from matplotlib import pyplot as plt\n",
    "from IPython.display import clear_output\n",
    "from numpy.polynomial.polynomial import polyfit\n",
    "import math\n",
    "import numpy as np\n",
    "import pandas as pd"
   ]
  },
  {
   "cell_type": "markdown",
   "metadata": {},
   "source": [
    "**Display configuration**"
   ]
  },
  {
   "cell_type": "code",
   "execution_count": 2,
   "metadata": {},
   "outputs": [],
   "source": [
    "%matplotlib inline\n",
    "pd.set_option(\"display.max.columns\", None)"
   ]
  },
  {
   "cell_type": "markdown",
   "metadata": {},
   "source": [
    "**Global variables**"
   ]
  },
  {
   "cell_type": "code",
   "execution_count": 3,
   "metadata": {},
   "outputs": [],
   "source": [
    "csvFilePath = Path.cwd().parent.joinpath('csv')"
   ]
  },
  {
   "cell_type": "markdown",
   "metadata": {},
   "source": [
    "### Data Collection"
   ]
  },
  {
   "cell_type": "code",
   "execution_count": 4,
   "metadata": {},
   "outputs": [
    {
     "data": {
      "text/html": [
       "<div>\n",
       "<style scoped>\n",
       "    .dataframe tbody tr th:only-of-type {\n",
       "        vertical-align: middle;\n",
       "    }\n",
       "\n",
       "    .dataframe tbody tr th {\n",
       "        vertical-align: top;\n",
       "    }\n",
       "\n",
       "    .dataframe thead th {\n",
       "        text-align: right;\n",
       "    }\n",
       "</style>\n",
       "<table border=\"1\" class=\"dataframe\">\n",
       "  <thead>\n",
       "    <tr style=\"text-align: right;\">\n",
       "      <th></th>\n",
       "      <th>Name</th>\n",
       "      <th>Diameter</th>\n",
       "      <th>Mass</th>\n",
       "      <th>Inclination</th>\n",
       "      <th>Eccentricity</th>\n",
       "      <th>Semi_majorAxis</th>\n",
       "      <th>SurfaceGravity</th>\n",
       "      <th>OrbitalPeriod</th>\n",
       "      <th>SiderealRotation</th>\n",
       "      <th>Satellites</th>\n",
       "    </tr>\n",
       "  </thead>\n",
       "  <tbody>\n",
       "    <tr>\n",
       "      <th>0</th>\n",
       "      <td>Mercury</td>\n",
       "      <td>4879.0</td>\n",
       "      <td>3.302×10^23</td>\n",
       "      <td>7.0</td>\n",
       "      <td>0.0</td>\n",
       "      <td>0.0</td>\n",
       "      <td>4.0</td>\n",
       "      <td>0.0</td>\n",
       "      <td>59.0</td>\n",
       "      <td>0</td>\n",
       "    </tr>\n",
       "    <tr>\n",
       "      <th>1</th>\n",
       "      <td>Venus</td>\n",
       "      <td>12104.0</td>\n",
       "      <td>4.869×10^24</td>\n",
       "      <td>3.0</td>\n",
       "      <td>0.0</td>\n",
       "      <td>1.0</td>\n",
       "      <td>9.0</td>\n",
       "      <td>1.0</td>\n",
       "      <td>243.0</td>\n",
       "      <td>0</td>\n",
       "    </tr>\n",
       "    <tr>\n",
       "      <th>2</th>\n",
       "      <td>Earth</td>\n",
       "      <td>12756.0</td>\n",
       "      <td>5.974×10^24</td>\n",
       "      <td>0.0</td>\n",
       "      <td>0.0</td>\n",
       "      <td>1.0</td>\n",
       "      <td>10.0</td>\n",
       "      <td>1.0</td>\n",
       "      <td>1.0</td>\n",
       "      <td>1</td>\n",
       "    </tr>\n",
       "    <tr>\n",
       "      <th>3</th>\n",
       "      <td>Mars</td>\n",
       "      <td>6794.0</td>\n",
       "      <td>6.419×10^23</td>\n",
       "      <td>2.0</td>\n",
       "      <td>0.0</td>\n",
       "      <td>2.0</td>\n",
       "      <td>4.0</td>\n",
       "      <td>2.0</td>\n",
       "      <td>1.0</td>\n",
       "      <td>2</td>\n",
       "    </tr>\n",
       "    <tr>\n",
       "      <th>4</th>\n",
       "      <td>Jupiter</td>\n",
       "      <td>142984.0</td>\n",
       "      <td>1.899×10^27</td>\n",
       "      <td>1.0</td>\n",
       "      <td>0.0</td>\n",
       "      <td>5.0</td>\n",
       "      <td>25.0</td>\n",
       "      <td>12.0</td>\n",
       "      <td>0.0</td>\n",
       "      <td>63</td>\n",
       "    </tr>\n",
       "    <tr>\n",
       "      <th>5</th>\n",
       "      <td>Saturn</td>\n",
       "      <td>120536.0</td>\n",
       "      <td>5.688×10^26</td>\n",
       "      <td>2.0</td>\n",
       "      <td>0.0</td>\n",
       "      <td>10.0</td>\n",
       "      <td>9.0</td>\n",
       "      <td>29.0</td>\n",
       "      <td>0.0</td>\n",
       "      <td>64</td>\n",
       "    </tr>\n",
       "    <tr>\n",
       "      <th>6</th>\n",
       "      <td>Uranus</td>\n",
       "      <td>51118.0</td>\n",
       "      <td>8.683×10^25</td>\n",
       "      <td>1.0</td>\n",
       "      <td>0.0</td>\n",
       "      <td>19.0</td>\n",
       "      <td>8.0</td>\n",
       "      <td>84.0</td>\n",
       "      <td>1.0</td>\n",
       "      <td>27</td>\n",
       "    </tr>\n",
       "    <tr>\n",
       "      <th>7</th>\n",
       "      <td>Neptune</td>\n",
       "      <td>49572.0</td>\n",
       "      <td>1.024×10^26</td>\n",
       "      <td>2.0</td>\n",
       "      <td>0.0</td>\n",
       "      <td>30.0</td>\n",
       "      <td>11.0</td>\n",
       "      <td>165.0</td>\n",
       "      <td>1.0</td>\n",
       "      <td>14</td>\n",
       "    </tr>\n",
       "    <tr>\n",
       "      <th>8</th>\n",
       "      <td>Pluto</td>\n",
       "      <td>2370.0</td>\n",
       "      <td>1.3×10^22</td>\n",
       "      <td>17.0</td>\n",
       "      <td>0.0</td>\n",
       "      <td>39.0</td>\n",
       "      <td>1.0</td>\n",
       "      <td>248.0</td>\n",
       "      <td>6.0</td>\n",
       "      <td>5</td>\n",
       "    </tr>\n",
       "  </tbody>\n",
       "</table>\n",
       "</div>"
      ],
      "text/plain": [
       "      Name  Diameter         Mass  Inclination  Eccentricity  Semi_majorAxis  \\\n",
       "0  Mercury    4879.0  3.302×10^23          7.0           0.0             0.0   \n",
       "1    Venus   12104.0  4.869×10^24          3.0           0.0             1.0   \n",
       "2    Earth   12756.0  5.974×10^24          0.0           0.0             1.0   \n",
       "3     Mars    6794.0  6.419×10^23          2.0           0.0             2.0   \n",
       "4  Jupiter  142984.0  1.899×10^27          1.0           0.0             5.0   \n",
       "5   Saturn  120536.0  5.688×10^26          2.0           0.0            10.0   \n",
       "6   Uranus   51118.0  8.683×10^25          1.0           0.0            19.0   \n",
       "7  Neptune   49572.0  1.024×10^26          2.0           0.0            30.0   \n",
       "8    Pluto    2370.0    1.3×10^22         17.0           0.0            39.0   \n",
       "\n",
       "   SurfaceGravity  OrbitalPeriod  SiderealRotation  Satellites  \n",
       "0             4.0            0.0              59.0           0  \n",
       "1             9.0            1.0             243.0           0  \n",
       "2            10.0            1.0               1.0           1  \n",
       "3             4.0            2.0               1.0           2  \n",
       "4            25.0           12.0               0.0          63  \n",
       "5             9.0           29.0               0.0          64  \n",
       "6             8.0           84.0               1.0          27  \n",
       "7            11.0          165.0               1.0          14  \n",
       "8             1.0          248.0               6.0           5  "
      ]
     },
     "metadata": {},
     "output_type": "display_data"
    }
   ],
   "source": [
    "csvFile = csvFilePath.joinpath('planets.csv')\n",
    "df = pd.read_csv(csvFile, sep=',', header=0, encoding='utf-8')\n",
    "display(df.round())"
   ]
  },
  {
   "cell_type": "markdown",
   "metadata": {},
   "source": [
    "### Data Visualisation"
   ]
  },
  {
   "cell_type": "code",
   "execution_count": 5,
   "metadata": {},
   "outputs": [
    {
     "data": {
      "text/plain": [
       "<matplotlib.collections.PathCollection at 0x220ca1fee40>"
      ]
     },
     "execution_count": 5,
     "metadata": {},
     "output_type": "execute_result"
    },
    {
     "data": {
      "image/png": "[encoded data removed]",
      "text/plain": [
       "<Figure size 640x480 with 1 Axes>"
      ]
     },
     "metadata": {},
     "output_type": "display_data"
    }
   ],
   "source": [
    "xLabel = \"Diameter\" \n",
    "yLabel = \"SurfaceGravity\"\n",
    "x = df[xLabel]\n",
    "y = df[yLabel]\n",
    "plt.xlabel(xLabel)\n",
    "plt.ylabel(yLabel)\n",
    "plt.scatter(x, y, c=\"red\", edgecolor='black', linewidth=1, alpha=0.75)"
   ]
  },
  {
   "cell_type": "markdown",
   "metadata": {},
   "source": [
    "**Is er een lineair verband tussen de omvang en de zwaartekracht van een planeet?**"
   ]
  },
  {
   "cell_type": "code",
   "execution_count": 6,
   "metadata": {},
   "outputs": [
    {
     "data": {
      "text/plain": [
       "[<matplotlib.lines.Line2D at 0x220ca29f320>]"
      ]
     },
     "execution_count": 6,
     "metadata": {},
     "output_type": "execute_result"
    },
    {
     "data": {
      "image/png": "[encoded data removed]",
      "text/plain": [
       "<Figure size 640x480 with 1 Axes>"
      ]
     },
     "metadata": {},
     "output_type": "display_data"
    }
   ],
   "source": [
    "plt.xlabel(xLabel)\n",
    "plt.ylabel(yLabel)\n",
    "plt.title(f'Relatie tussen {xLabel} en {yLabel}')\n",
    "plt.scatter(x, y, c=\"red\", edgecolor='black', linewidth=1, alpha=0.75)\n",
    "\n",
    "b, m = polyfit(x, y, 1)\n",
    "plt.plot(x, b + m * x, '-')"
   ]
  },
  {
   "cell_type": "markdown",
   "metadata": {},
   "source": [
    "<img width=\"30%\" src='../pics/pluto.jpg'/>"
   ]
  },
  {
   "cell_type": "code",
   "execution_count": null,
   "metadata": {},
   "outputs": [],
   "source": [
    "pluto = df.iloc[8]\n",
    "x_pluto = pluto[xLabel]\n",
    "y_pluto = pluto[yLabel]\n",
    "plt.title(f'Relatie tussen {xLabel} en {yLabel}')\n",
    "plt.xlabel(xLabel)\n",
    "plt.ylabel(yLabel)\n",
    "plt.scatter(x, y, c=\"red\", edgecolor='black', linewidth=1, alpha=0.75)\n",
    "plt.scatter(x_pluto, y_pluto, c=\"yellow\", edgecolor='black', linewidth=1, alpha=0.75)\n",
    "\n",
    "b, m = polyfit(x, y, 1)\n",
    "plt.plot(x, b + m * x, '-')"
   ]
  },
  {
   "cell_type": "code",
   "execution_count": 8,
   "metadata": {},
   "outputs": [
    {
     "name": "stdout",
     "output_type": "stream",
     "text": [
      "Pluto heeft een diameter van 2370 en een zwaartekrachtsterke van 0.62\n"
     ]
    }
   ],
   "source": [
    "print (f\"Pluto heeft een diameter van {round(pluto[xLabel])} en een zwaartekrachtsterke van {pluto[yLabel]}\")"
   ]
  }
 ],
 "metadata": {
  "kernelspec": {
   "display_name": "Python 3 (ipykernel)",
   "language": "python",
   "name": "python3"
  },
  "language_info": {
   "codemirror_mode": {
    "name": "ipython",
    "version": 3
   },
   "file_extension": ".py",
   "mimetype": "text/x-python",
   "name": "python",
   "nbconvert_exporter": "python",
   "pygments_lexer": "ipython3",
   "version": "3.12.3"
  }
 },
 "nbformat": 4,
 "nbformat_minor": 4
}
