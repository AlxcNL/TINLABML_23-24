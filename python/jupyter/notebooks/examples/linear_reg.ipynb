{
 "cells": [
  {
   "attachments": {},
   "cell_type": "markdown",
   "id": "520c9c3f",
   "metadata": {},
   "source": [
    "<div>\n",
    "<img src='../pics/banner.PNG'/>\n",
    "</div>\n",
    "<div>\n",
    "<img width=\"15%\" src='../pics/tinlab.png'/>\n",
    "<strong>Correlation - Jeroen Boogaard</strong>\n",
    "</div>"
   ]
  },
  {
   "cell_type": "markdown",
   "id": "268d1563-db16-4fa9-a789-1cabb133070a",
   "metadata": {},
   "source": [
    "<h1>Simple Linear Regression</h1>\n",
    "<p>\n",
    "Line of best fit\n",
    "The aim is to minimize prediction errors by finding a regression line that best fit the data.\n",
    "This is done in a supervised way by minimizing the (absolute) distance between the observed (labeled) values and the\n",
    "values predicted by the model.</p>\n",
    "<img width=\"20%\" src='../pics/regression_line.png'/>"
   ]
  },
  {
   "cell_type": "markdown",
   "id": "9446e8dc-fc1a-4d88-b4ec-532f5b44bc13",
   "metadata": {},
   "source": [
    "**Imports**"
   ]
  },
  {
   "cell_type": "code",
   "execution_count": 2,
   "id": "83e815de",
   "metadata": {},
   "outputs": [
    {
     "ename": "ModuleNotFoundError",
     "evalue": "No module named 'sklearn.cross_validation'",
     "output_type": "error",
     "traceback": [
      "\u001b[1;31m---------------------------------------------------------------------------\u001b[0m",
      "\u001b[1;31mModuleNotFoundError\u001b[0m                       Traceback (most recent call last)",
      "Cell \u001b[1;32mIn[2], line 4\u001b[0m\n\u001b[0;32m      2\u001b[0m \u001b[38;5;28;01mimport\u001b[39;00m \u001b[38;5;21;01mnumpy\u001b[39;00m \u001b[38;5;28;01mas\u001b[39;00m \u001b[38;5;21;01mnp\u001b[39;00m\n\u001b[0;32m      3\u001b[0m \u001b[38;5;28;01mimport\u001b[39;00m \u001b[38;5;21;01mmatplotlib\u001b[39;00m\u001b[38;5;21;01m.\u001b[39;00m\u001b[38;5;21;01mpyplot\u001b[39;00m \u001b[38;5;28;01mas\u001b[39;00m \u001b[38;5;21;01mplt\u001b[39;00m\n\u001b[1;32m----> 4\u001b[0m \u001b[38;5;28;01mfrom\u001b[39;00m \u001b[38;5;21;01msklearn\u001b[39;00m\u001b[38;5;21;01m.\u001b[39;00m\u001b[38;5;21;01mcross_validation\u001b[39;00m \u001b[38;5;28;01mimport\u001b[39;00m train_test_split\n",
      "\u001b[1;31mModuleNotFoundError\u001b[0m: No module named 'sklearn.cross_validation'"
     ]
    }
   ],
   "source": [
    "import pandas as pd\n",
    "import numpy as np\n",
    "import matplotlib.pyplot as plt\n",
    "from sklearn.cross_validation import train_test_split"
   ]
  },
  {
   "cell_type": "markdown",
   "id": "7c1e5240-c87d-429a-87d4-a65673dcf768",
   "metadata": {},
   "source": [
    "**Load Dataset**"
   ]
  },
  {
   "cell_type": "code",
   "execution_count": null,
   "id": "27cbde79-feef-4878-b2be-b49e17ec6132",
   "metadata": {},
   "outputs": [],
   "source": [
    "df = pd.read_csv(\"../csv/forza_2023-05-19.csv\", sep=';', header=0)\n",
    "df.columns"
   ]
  },
  {
   "cell_type": "markdown",
   "id": "134a3108-26b6-47b7-88b3-1ffabbb3faf2",
   "metadata": {},
   "source": [
    "**Feature Selection**"
   ]
  },
  {
   "cell_type": "code",
   "execution_count": null,
   "id": "286e952b-4be6-497b-b973-ab1a9c9f1b7a",
   "metadata": {},
   "outputs": [],
   "source": [
    "df_selection = df[['s_speed_x', 's_speed_y', 's_angle', 'a_brake', 'a_gear', 'a_steer']]\n",
    "display(df_selection)"
   ]
  },
  {
   "cell_type": "markdown",
   "id": "08b5b47c-2877-4fbe-a67c-cfffb29b1a2e",
   "metadata": {},
   "source": [
    "**Correlations**"
   ]
  },
  {
   "cell_type": "code",
   "execution_count": null,
   "id": "20931dd4-0c1e-436b-84ce-9e4fdc745768",
   "metadata": {},
   "outputs": [],
   "source": [
    "df_selection.corr(\"pearson\")"
   ]
  },
  {
   "cell_type": "markdown",
   "id": "84f8c647-c87d-4e88-8323-4f61204280ae",
   "metadata": {},
   "source": [
    "**Definition**<br>\n",
    "Pearson's Correlation Coefficient (PCC) is the covariance of the two variables divided by the product of their standard deviations."
   ]
  },
  {
   "cell_type": "markdown",
   "id": "04cf9ce6-1f0a-4330-bb75-ed551b490bf8",
   "metadata": {},
   "source": [
    "**Exercise**\n",
    "Use the definition to implement the function below"
   ]
  },
  {
   "cell_type": "code",
   "execution_count": null,
   "id": "61b4924d",
   "metadata": {},
   "outputs": [],
   "source": [
    "def pearsonCorr(X, Y):\n",
    "    \n",
    "    corrXY = 0\n",
    "\n",
    "    # Calculate means\n",
    "    avgX = np.average(X)\n",
    "    avgY = np.average(Y)\n",
    "\n",
    "    # Calculate Covariance\n",
    "    covXY = np.sum((X - avgX) * (Y - avgY)) / len(X)\n",
    "    \n",
    "    # Calculate Standard Deviations and their product\n",
    "    stdX = np.std(X)\n",
    "    stdY = np.std(Y)\n",
    "    prod_stds = stdX * stdY                                               \n",
    "\n",
    "    # Calculate Standard Deviations and their product\n",
    "\n",
    "    # Calculate and return PCC\n",
    "    if prod_stds != 0:\n",
    "        corrXY = covXY / prod_stds\n",
    "\n",
    "    return round(corrXY, 2)    "
   ]
  },
  {
   "cell_type": "markdown",
   "id": "e1751e8d-7fdf-4435-88c6-cf37f5404979",
   "metadata": {},
   "source": [
    "**Check your implementation**"
   ]
  },
  {
   "cell_type": "code",
   "execution_count": null,
   "id": "0d429f5f-2f58-4f56-91c5-fe880d2658b4",
   "metadata": {},
   "outputs": [],
   "source": [
    "df_selection[['s_speed_y', 'a_steer']].corr(\"pearson\")"
   ]
  },
  {
   "cell_type": "code",
   "execution_count": null,
   "id": "51546787",
   "metadata": {},
   "outputs": [],
   "source": [
    "pearsonCorr(df['s_speed_y'], df['a_steer'])"
   ]
  },
  {
   "cell_type": "code",
   "execution_count": null,
   "id": "791bb53c-3810-4dc3-8a20-c2912132b066",
   "metadata": {},
   "outputs": [],
   "source": [
    "df_selection[['s_angle', 'a_steer']].corr(\"pearson\")"
   ]
  },
  {
   "cell_type": "code",
   "execution_count": null,
   "id": "a5d8b0cc-ccb8-43ed-aae3-1d57000b2ec4",
   "metadata": {},
   "outputs": [],
   "source": [
    "pearsonCorr(df['s_angle'], df['a_steer'])"
   ]
  },
  {
   "cell_type": "markdown",
   "id": "c23151ad-a16f-41d7-8dd2-ddcfe687cdaa",
   "metadata": {},
   "source": [
    "### Reference\n",
    "[100-Days-Of-ML-Code](https://github.com/AlxcNL/100-Days-Of-ML-Code/blob/master/Code/Day2_Simple_Linear_Regression.md)"
   ]
  }
 ],
 "metadata": {
  "kernelspec": {
   "display_name": "Python 3 (ipykernel)",
   "language": "python",
   "name": "python3"
  },
  "language_info": {
   "codemirror_mode": {
    "name": "ipython",
    "version": 3
   },
   "file_extension": ".py",
   "mimetype": "text/x-python",
   "name": "python",
   "nbconvert_exporter": "python",
   "pygments_lexer": "ipython3",
   "version": "3.11.7"
  }
 },
 "nbformat": 4,
 "nbformat_minor": 5
}
