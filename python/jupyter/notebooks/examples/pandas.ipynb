{
 "cells": [
  {
   "cell_type": "markdown",
   "id": "8bab916d-43d3-4817-bbc1-6ef922fd30b9",
   "metadata": {},
   "source": [
    "<div>\n",
    "<img src='../pics/banner.PNG'/>\n",
    "</div>\n",
    "<div>\n",
    "<img width=\"20%\" src='../pics/pandas.svg'/>\n",
    "</div>\n",
    "<div>\n",
    "<img width=\"15%\" src='../pics/tinlab.png'/>\n",
    "<strong>Pandas Basics - Jeroen Boogaard</strong>\n",
    "</div>"
   ]
  },
  {
   "cell_type": "markdown",
   "id": "c9392295-fc66-4c23-b5a1-bd6e77d04144",
   "metadata": {},
   "source": [
    "## Imports"
   ]
  },
  {
   "cell_type": "code",
   "execution_count": null,
   "id": "bcc776ab-559b-48df-9b7a-d33d423cdeb2",
   "metadata": {},
   "outputs": [],
   "source": [
    "import pandas as pd\n",
    "from pathlib import Path"
   ]
  },
  {
   "cell_type": "markdown",
   "id": "e93ad462-46c4-4028-ace1-b4b84b45a5da",
   "metadata": {},
   "source": [
    "## Pandas Data Collections\n",
    "<ul>\n",
    "    <li><strong>Pandas Series</strong> lijkt op een Python dictorionary en voeg labels toe aan een Numpy Array</li>\n",
    "    <li><strong>Pandas Dataframe</strong> is een tabel die is opgebouwd uit Pandas Series</li>\n",
    "</ul>"
   ]
  },
  {
   "cell_type": "markdown",
   "id": "1ccf6179-97f6-4d12-942a-8c6fb487ab49",
   "metadata": {},
   "source": [
    "### Pandas Series"
   ]
  },
  {
   "cell_type": "markdown",
   "id": "1fbc935d-3ce5-41ea-b98a-b7c8db4fcaa3",
   "metadata": {},
   "source": [
    "**Pandas Series o.b.v. list**"
   ]
  },
  {
   "cell_type": "code",
   "execution_count": null,
   "id": "10ef19a8-1b77-4c99-a3fd-fe4554daa771",
   "metadata": {},
   "outputs": [],
   "source": [
    "finalCountriesList = ['Sweden', 'Ukraine', 'Germany', 'Luxembourg', 'Israel']\n",
    "finalOrderList = [ 1, 2, 3, 4, 6 ]"
   ]
  },
  {
   "cell_type": "code",
   "execution_count": null,
   "id": "af541000-05cd-4cfc-86a8-2b880e0d259f",
   "metadata": {},
   "outputs": [],
   "source": [
    "grandFinalSeries = pd.Series(data=finalCountriesList, index=finalOrderList)\n",
    "display(grandFinalSeries)\n",
    "type(grandFinalSeries)"
   ]
  },
  {
   "cell_type": "code",
   "execution_count": null,
   "id": "1a4d6291-d805-4fc7-9a6e-7d55fce73a1f",
   "metadata": {},
   "outputs": [],
   "source": [
    "grandFinalSeries.keys()"
   ]
  },
  {
   "cell_type": "code",
   "execution_count": null,
   "id": "30b66d09-410c-470a-a1ca-e788308da3c8",
   "metadata": {},
   "outputs": [],
   "source": [
    "grandFinalSeries[1]"
   ]
  },
  {
   "cell_type": "markdown",
   "id": "b21d6a69-ebe9-4946-b741-88811c27e5d3",
   "metadata": {},
   "source": [
    "**Pandas Series o.b.v. dictionary**"
   ]
  },
  {
   "cell_type": "code",
   "execution_count": null,
   "id": "e367c42f-06b3-4975-a396-48717d749004",
   "metadata": {},
   "outputs": [],
   "source": [
    "euroArtistsDict = { \n",
    "    'Sweden':'Marcus & Martinus',\n",
    "    'Ukraine': 'alyona alyona & Jerry Heil',\n",
    "    'Germany': 'ISAAK'    \n",
    "}"
   ]
  },
  {
   "cell_type": "code",
   "execution_count": null,
   "id": "0e59233d-0d81-400b-881e-cc38d86f5261",
   "metadata": {},
   "outputs": [],
   "source": [
    "euroArtistsSeries = pd.Series(euroArtistsDict)\n",
    "display(euroArtistsSeries)\n",
    "type(euroArtistsSeries)"
   ]
  },
  {
   "cell_type": "code",
   "execution_count": null,
   "id": "63d73f3f-98bc-4c18-baec-1ac3b944e741",
   "metadata": {},
   "outputs": [],
   "source": [
    "euroArtistsSeries.keys()"
   ]
  },
  {
   "cell_type": "code",
   "execution_count": null,
   "id": "890c436f-529b-402c-9019-e57e464cfddb",
   "metadata": {},
   "outputs": [],
   "source": [
    "euroArtistsSeries[ grandFinalSeries[1] ]"
   ]
  },
  {
   "cell_type": "code",
   "execution_count": null,
   "id": "51b6e2aa-d6b3-43fd-88cb-42130974c66f",
   "metadata": {},
   "outputs": [],
   "source": [
    "csvFile = 'eurovision-2016.csv'\n",
    "csvFilePath = Path.cwd().parent.joinpath('csv').joinpath(csvFile)"
   ]
  },
  {
   "cell_type": "markdown",
   "id": "213a6f06-d59c-4dc7-ad2c-ab8c91319e19",
   "metadata": {},
   "source": [
    "**Pandas Series o.b.v. CSV**"
   ]
  },
  {
   "cell_type": "code",
   "execution_count": null,
   "id": "f3a2bd65-72d2-40a2-af24-d3b1cf39d424",
   "metadata": {},
   "outputs": [],
   "source": [
    "pd.read_csv(csvFilePath)"
   ]
  }
 ],
 "metadata": {
  "kernelspec": {
   "display_name": "Python 3 (ipykernel)",
   "language": "python",
   "name": "python3"
  },
  "language_info": {
   "codemirror_mode": {
    "name": "ipython",
    "version": 3
   },
   "file_extension": ".py",
   "mimetype": "text/x-python",
   "name": "python",
   "nbconvert_exporter": "python",
   "pygments_lexer": "ipython3",
   "version": "3.12.2"
  },
  "vscode": {
   "interpreter": {
    "hash": "aee8b7b246df8f9039afb4144a1f6fd8d2ca17a180786b69acc140d282b71a49"
   }
  }
 },
 "nbformat": 4,
 "nbformat_minor": 5
}
