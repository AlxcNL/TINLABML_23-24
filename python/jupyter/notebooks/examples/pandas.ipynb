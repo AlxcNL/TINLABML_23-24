{
 "cells": [
  {
   "cell_type": "markdown",
   "id": "8bab916d-43d3-4817-bbc1-6ef922fd30b9",
   "metadata": {},
   "source": [
    "<div>\n",
    "<img src='../pics/banner.PNG'/>\n",
    "</div>\n",
    "<div>\n",
    "<img width=\"20%\" src='../pics/pandas.svg'/>\n",
    "</div>\n",
    "<div>\n",
    "<img width=\"15%\" src='../pics/tinlab.png'/>\n",
    "<strong>Pandas Basics - Jeroen Boogaard</strong>\n",
    "</div>"
   ]
  },
  {
   "cell_type": "markdown",
   "id": "c9392295-fc66-4c23-b5a1-bd6e77d04144",
   "metadata": {},
   "source": [
    "## Imports"
   ]
  },
  {
   "cell_type": "code",
   "execution_count": 134,
   "id": "bcc776ab-559b-48df-9b7a-d33d423cdeb2",
   "metadata": {},
   "outputs": [],
   "source": [
    "import pandas as pd\n",
    "from pathlib import Path"
   ]
  },
  {
   "cell_type": "markdown",
   "id": "e93ad462-46c4-4028-ace1-b4b84b45a5da",
   "metadata": {},
   "source": [
    "## Pandas Data Collections\n",
    "<ul>\n",
    "    <li><strong>Pandas Series</strong> lijkt op een Python dictorionary en voeg labels toe aan een Numpy Array</li>\n",
    "    <li><strong>Pandas Dataframe</strong> is een tabel die is opgebouwd uit Pandas Series</li>\n",
    "</ul>"
   ]
  },
  {
   "cell_type": "markdown",
   "id": "1ccf6179-97f6-4d12-942a-8c6fb487ab49",
   "metadata": {},
   "source": [
    "### Pandas Series"
   ]
  },
  {
   "cell_type": "markdown",
   "id": "1fbc935d-3ce5-41ea-b98a-b7c8db4fcaa3",
   "metadata": {},
   "source": [
    "**Pandas Series o.b.v. list**"
   ]
  },
  {
   "cell_type": "code",
   "execution_count": 135,
   "id": "10ef19a8-1b77-4c99-a3fd-fe4554daa771",
   "metadata": {},
   "outputs": [],
   "source": [
    "finalCountriesList = ['Sweden', 'Ukraine', 'Germany', 'Luxembourg', 'Israel']\n",
    "finalOrderList = [ 1, 2, 3, 4, 6 ]"
   ]
  },
  {
   "cell_type": "code",
   "execution_count": 136,
   "id": "af541000-05cd-4cfc-86a8-2b880e0d259f",
   "metadata": {},
   "outputs": [
    {
     "data": {
      "text/plain": [
       "1        Sweden\n",
       "2       Ukraine\n",
       "3       Germany\n",
       "4    Luxembourg\n",
       "6        Israel\n",
       "dtype: object"
      ]
     },
     "metadata": {},
     "output_type": "display_data"
    },
    {
     "data": {
      "text/plain": [
       "pandas.core.series.Series"
      ]
     },
     "execution_count": 136,
     "metadata": {},
     "output_type": "execute_result"
    }
   ],
   "source": [
    "grandFinalSeries = pd.Series(data=finalCountriesList, index=finalOrderList)\n",
    "display(grandFinalSeries)\n",
    "type(grandFinalSeries)"
   ]
  },
  {
   "cell_type": "code",
   "execution_count": 137,
   "id": "1a4d6291-d805-4fc7-9a6e-7d55fce73a1f",
   "metadata": {},
   "outputs": [
    {
     "data": {
      "text/plain": [
       "Index([1, 2, 3, 4, 6], dtype='int64')"
      ]
     },
     "execution_count": 137,
     "metadata": {},
     "output_type": "execute_result"
    }
   ],
   "source": [
    "grandFinalSeries.keys()"
   ]
  },
  {
   "cell_type": "code",
   "execution_count": 138,
   "id": "30b66d09-410c-470a-a1ca-e788308da3c8",
   "metadata": {},
   "outputs": [
    {
     "data": {
      "text/plain": [
       "'Sweden'"
      ]
     },
     "execution_count": 138,
     "metadata": {},
     "output_type": "execute_result"
    }
   ],
   "source": [
    "grandFinalSeries[1]"
   ]
  },
  {
   "cell_type": "markdown",
   "id": "b21d6a69-ebe9-4946-b741-88811c27e5d3",
   "metadata": {},
   "source": [
    "**Pandas Series o.b.v. dictionary**"
   ]
  },
  {
   "cell_type": "code",
   "execution_count": 139,
   "id": "e367c42f-06b3-4975-a396-48717d749004",
   "metadata": {},
   "outputs": [],
   "source": [
    "euroArtistsDict = { \n",
    "    'Sweden':'Marcus & Martinus',\n",
    "    'Ukraine': 'alyona alyona & Jerry Heil',\n",
    "    'Germany': 'ISAAK'    \n",
    "}"
   ]
  },
  {
   "cell_type": "code",
   "execution_count": 140,
   "id": "0e59233d-0d81-400b-881e-cc38d86f5261",
   "metadata": {},
   "outputs": [
    {
     "data": {
      "text/plain": [
       "Sweden              Marcus & Martinus\n",
       "Ukraine    alyona alyona & Jerry Heil\n",
       "Germany                         ISAAK\n",
       "dtype: object"
      ]
     },
     "metadata": {},
     "output_type": "display_data"
    },
    {
     "data": {
      "text/plain": [
       "pandas.core.series.Series"
      ]
     },
     "execution_count": 140,
     "metadata": {},
     "output_type": "execute_result"
    }
   ],
   "source": [
    "euroArtistsSeries = pd.Series(euroArtistsDict)\n",
    "display(euroArtistsSeries)\n",
    "type(euroArtistsSeries)"
   ]
  },
  {
   "cell_type": "code",
   "execution_count": 141,
   "id": "63d73f3f-98bc-4c18-baec-1ac3b944e741",
   "metadata": {},
   "outputs": [
    {
     "data": {
      "text/plain": [
       "Index(['Sweden', 'Ukraine', 'Germany'], dtype='object')"
      ]
     },
     "execution_count": 141,
     "metadata": {},
     "output_type": "execute_result"
    }
   ],
   "source": [
    "euroArtistsSeries.keys()"
   ]
  },
  {
   "cell_type": "code",
   "execution_count": 142,
   "id": "890c436f-529b-402c-9019-e57e464cfddb",
   "metadata": {},
   "outputs": [
    {
     "data": {
      "text/plain": [
       "'Marcus & Martinus'"
      ]
     },
     "execution_count": 142,
     "metadata": {},
     "output_type": "execute_result"
    }
   ],
   "source": [
    "euroArtistsSeries[ grandFinalSeries[1] ]"
   ]
  },
  {
   "cell_type": "markdown",
   "id": "213a6f06-d59c-4dc7-ad2c-ab8c91319e19",
   "metadata": {},
   "source": [
    "**Pandas Series o.b.v. CSV**"
   ]
  },
  {
   "cell_type": "code",
   "execution_count": 143,
   "id": "f3a2bd65-72d2-40a2-af24-d3b1cf39d424",
   "metadata": {},
   "outputs": [],
   "source": [
    "csvFile = 'eurovision-2016.csv'\n",
    "csvFilePath = Path.cwd().parent.joinpath('csv').joinpath(csvFile)\n",
    "eurovisionSeries = pd.read_csv(csvFilePath)"
   ]
  },
  {
   "cell_type": "code",
   "execution_count": 144,
   "id": "199ccee3-23c6-427d-ba23-fd0eb9de014e",
   "metadata": {},
   "outputs": [
    {
     "data": {
      "text/html": [
       "<div>\n",
       "<style scoped>\n",
       "    .dataframe tbody tr th:only-of-type {\n",
       "        vertical-align: middle;\n",
       "    }\n",
       "\n",
       "    .dataframe tbody tr th {\n",
       "        vertical-align: top;\n",
       "    }\n",
       "\n",
       "    .dataframe thead th {\n",
       "        text-align: right;\n",
       "    }\n",
       "</style>\n",
       "<table border=\"1\" class=\"dataframe\">\n",
       "  <thead>\n",
       "    <tr style=\"text-align: right;\">\n",
       "      <th></th>\n",
       "      <th>From country</th>\n",
       "      <th>To country</th>\n",
       "      <th>Jury A</th>\n",
       "      <th>Jury B</th>\n",
       "      <th>Jury C</th>\n",
       "      <th>Jury D</th>\n",
       "      <th>Jury E</th>\n",
       "      <th>Jury Rank</th>\n",
       "      <th>Televote Rank</th>\n",
       "      <th>Jury Points</th>\n",
       "      <th>Televote Points</th>\n",
       "    </tr>\n",
       "  </thead>\n",
       "  <tbody>\n",
       "    <tr>\n",
       "      <th>0</th>\n",
       "      <td>Albania</td>\n",
       "      <td>Belgium</td>\n",
       "      <td>20</td>\n",
       "      <td>16</td>\n",
       "      <td>24</td>\n",
       "      <td>22</td>\n",
       "      <td>24</td>\n",
       "      <td>25</td>\n",
       "      <td>14</td>\n",
       "      <td>NaN</td>\n",
       "      <td>NaN</td>\n",
       "    </tr>\n",
       "    <tr>\n",
       "      <th>1</th>\n",
       "      <td>Albania</td>\n",
       "      <td>Czech Republic</td>\n",
       "      <td>21</td>\n",
       "      <td>15</td>\n",
       "      <td>25</td>\n",
       "      <td>23</td>\n",
       "      <td>16</td>\n",
       "      <td>22</td>\n",
       "      <td>22</td>\n",
       "      <td>NaN</td>\n",
       "      <td>NaN</td>\n",
       "    </tr>\n",
       "    <tr>\n",
       "      <th>2</th>\n",
       "      <td>Albania</td>\n",
       "      <td>The Netherlands</td>\n",
       "      <td>22</td>\n",
       "      <td>14</td>\n",
       "      <td>23</td>\n",
       "      <td>24</td>\n",
       "      <td>21</td>\n",
       "      <td>24</td>\n",
       "      <td>24</td>\n",
       "      <td>NaN</td>\n",
       "      <td>NaN</td>\n",
       "    </tr>\n",
       "    <tr>\n",
       "      <th>3</th>\n",
       "      <td>Albania</td>\n",
       "      <td>Azerbaijan</td>\n",
       "      <td>19</td>\n",
       "      <td>12</td>\n",
       "      <td>11</td>\n",
       "      <td>21</td>\n",
       "      <td>11</td>\n",
       "      <td>13</td>\n",
       "      <td>19</td>\n",
       "      <td>NaN</td>\n",
       "      <td>NaN</td>\n",
       "    </tr>\n",
       "    <tr>\n",
       "      <th>4</th>\n",
       "      <td>Albania</td>\n",
       "      <td>Hungary</td>\n",
       "      <td>8</td>\n",
       "      <td>13</td>\n",
       "      <td>9</td>\n",
       "      <td>14</td>\n",
       "      <td>9</td>\n",
       "      <td>10</td>\n",
       "      <td>10</td>\n",
       "      <td>1.0</td>\n",
       "      <td>1.0</td>\n",
       "    </tr>\n",
       "    <tr>\n",
       "      <th>...</th>\n",
       "      <td>...</td>\n",
       "      <td>...</td>\n",
       "      <td>...</td>\n",
       "      <td>...</td>\n",
       "      <td>...</td>\n",
       "      <td>...</td>\n",
       "      <td>...</td>\n",
       "      <td>...</td>\n",
       "      <td>...</td>\n",
       "      <td>...</td>\n",
       "      <td>...</td>\n",
       "    </tr>\n",
       "    <tr>\n",
       "      <th>1061</th>\n",
       "      <td>United Kingdom</td>\n",
       "      <td>Ukraine</td>\n",
       "      <td>11</td>\n",
       "      <td>1</td>\n",
       "      <td>1</td>\n",
       "      <td>1</td>\n",
       "      <td>5</td>\n",
       "      <td>2</td>\n",
       "      <td>6</td>\n",
       "      <td>10.0</td>\n",
       "      <td>5.0</td>\n",
       "    </tr>\n",
       "    <tr>\n",
       "      <th>1062</th>\n",
       "      <td>United Kingdom</td>\n",
       "      <td>Malta</td>\n",
       "      <td>18</td>\n",
       "      <td>13</td>\n",
       "      <td>8</td>\n",
       "      <td>17</td>\n",
       "      <td>4</td>\n",
       "      <td>12</td>\n",
       "      <td>15</td>\n",
       "      <td>NaN</td>\n",
       "      <td>NaN</td>\n",
       "    </tr>\n",
       "    <tr>\n",
       "      <th>1063</th>\n",
       "      <td>United Kingdom</td>\n",
       "      <td>Georgia</td>\n",
       "      <td>2</td>\n",
       "      <td>2</td>\n",
       "      <td>3</td>\n",
       "      <td>2</td>\n",
       "      <td>1</td>\n",
       "      <td>1</td>\n",
       "      <td>19</td>\n",
       "      <td>12.0</td>\n",
       "      <td>NaN</td>\n",
       "    </tr>\n",
       "    <tr>\n",
       "      <th>1064</th>\n",
       "      <td>United Kingdom</td>\n",
       "      <td>Austria</td>\n",
       "      <td>23</td>\n",
       "      <td>15</td>\n",
       "      <td>12</td>\n",
       "      <td>18</td>\n",
       "      <td>13</td>\n",
       "      <td>17</td>\n",
       "      <td>13</td>\n",
       "      <td>NaN</td>\n",
       "      <td>NaN</td>\n",
       "    </tr>\n",
       "    <tr>\n",
       "      <th>1065</th>\n",
       "      <td>United Kingdom</td>\n",
       "      <td>Armenia</td>\n",
       "      <td>15</td>\n",
       "      <td>22</td>\n",
       "      <td>7</td>\n",
       "      <td>24</td>\n",
       "      <td>18</td>\n",
       "      <td>20</td>\n",
       "      <td>18</td>\n",
       "      <td>NaN</td>\n",
       "      <td>NaN</td>\n",
       "    </tr>\n",
       "  </tbody>\n",
       "</table>\n",
       "<p>1066 rows × 11 columns</p>\n",
       "</div>"
      ],
      "text/plain": [
       "        From country       To country  Jury A  Jury B  Jury C  Jury D  Jury E  \\\n",
       "0            Albania          Belgium      20      16      24      22      24   \n",
       "1            Albania   Czech Republic      21      15      25      23      16   \n",
       "2            Albania  The Netherlands      22      14      23      24      21   \n",
       "3            Albania       Azerbaijan      19      12      11      21      11   \n",
       "4            Albania          Hungary       8      13       9      14       9   \n",
       "...              ...              ...     ...     ...     ...     ...     ...   \n",
       "1061  United Kingdom          Ukraine      11       1       1       1       5   \n",
       "1062  United Kingdom            Malta      18      13       8      17       4   \n",
       "1063  United Kingdom          Georgia       2       2       3       2       1   \n",
       "1064  United Kingdom          Austria      23      15      12      18      13   \n",
       "1065  United Kingdom          Armenia      15      22       7      24      18   \n",
       "\n",
       "      Jury Rank  Televote Rank  Jury Points  Televote Points  \n",
       "0            25             14          NaN              NaN  \n",
       "1            22             22          NaN              NaN  \n",
       "2            24             24          NaN              NaN  \n",
       "3            13             19          NaN              NaN  \n",
       "4            10             10          1.0              1.0  \n",
       "...         ...            ...          ...              ...  \n",
       "1061          2              6         10.0              5.0  \n",
       "1062         12             15          NaN              NaN  \n",
       "1063          1             19         12.0              NaN  \n",
       "1064         17             13          NaN              NaN  \n",
       "1065         20             18          NaN              NaN  \n",
       "\n",
       "[1066 rows x 11 columns]"
      ]
     },
     "execution_count": 144,
     "metadata": {},
     "output_type": "execute_result"
    }
   ],
   "source": [
    "eurovisionSeries"
   ]
  },
  {
   "cell_type": "markdown",
   "id": "0a997ccf-cb58-499e-b4c5-eb9304f30112",
   "metadata": {},
   "source": [
    "## References\n",
    "\n",
    "[data/dc20/eurovision-2016.csv](https://github.com/ksatola/Data-Science-Notes/blob/master/data/dc20/eurovision-2016.csv)"
   ]
  }
 ],
 "metadata": {
  "kernelspec": {
   "display_name": "Python 3 (ipykernel)",
   "language": "python",
   "name": "python3"
  },
  "language_info": {
   "codemirror_mode": {
    "name": "ipython",
    "version": 3
   },
   "file_extension": ".py",
   "mimetype": "text/x-python",
   "name": "python",
   "nbconvert_exporter": "python",
   "pygments_lexer": "ipython3",
   "version": "3.12.2"
  },
  "vscode": {
   "interpreter": {
    "hash": "aee8b7b246df8f9039afb4144a1f6fd8d2ca17a180786b69acc140d282b71a49"
   }
  }
 },
 "nbformat": 4,
 "nbformat_minor": 5
}
