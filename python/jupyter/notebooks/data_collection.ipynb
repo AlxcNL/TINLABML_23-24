{
 "cells": [
  {
   "cell_type": "markdown",
   "id": "49c3dc29-66bf-4663-8439-08f1fa98f871",
   "metadata": {},
   "source": [
    "<div>\n",
    "<img src='pics/banner.PNG'/>\n",
    "</div>\n",
    "<div>\n",
    "<img width=\"10%\" src='pics/tinlab.png'/></a>\n",
    "<strong>Python Basics - Jeroen Boogaard</strong>\n",
    "</div>"
   ]
  },
  {
   "cell_type": "markdown",
   "id": "2dead3f3-b6e8-4528-a00d-e53be157bf3e",
   "metadata": {},
   "source": [
    "<h2>Imports<h2>"
   ]
  },
  {
   "cell_type": "code",
   "execution_count": 58,
   "id": "cb4ceef7-a3dd-4b2f-a57f-593190911236",
   "metadata": {
    "tags": []
   },
   "source": [
    "from os import system as sys\n",
    "sys('pip list | grep django || pip install --upgrade -r requirements.txt')"
   ],
   "outputs": []
  },
  {
   "cell_type": "code",
   "execution_count": 59,
   "id": "aefe8f36-d422-4cb9-b302-882954032426",
   "metadata": {
    "tags": []
   },
   "source": [
    "import pandas as pd\n",
    "import requests\n",
    "import sqlite3"
   ],
   "outputs": []
  },
  {
   "cell_type": "markdown",
   "id": "15e80288-e20d-4bbe-adf5-56f9ed9791f6",
   "metadata": {},
   "source": [
    "<h3>Global variables</h3>"
   ]
  },
  {
   "cell_type": "code",
   "execution_count": 60,
   "id": "955a3dce-30a3-4945-96d9-20472ed44e22",
   "metadata": {},
   "source": [
    "dbName = \"rest_server/medisch_centrum_randstad/db.sqlite3\"\n",
    "tableName = \"rest_api_netlify\"\n",
    "url = \"http://localhost:8080/medish_centrum_randstad/api/netlify?page=1\"\n",
    "csvFile = \"rest_server/medisch_centrum_randstad/data/data.csv\""
   ],
   "outputs": []
  },
  {
   "cell_type": "markdown",
   "id": "0d63c78d-f840-4121-84b4-f933db4b8ca5",
   "metadata": {},
   "source": [
    "<h2>Data Collection</h2>\n",
    "<img width=\"30%\" height=\"30%\" src=\"../pics/collect.jpg\"/>\n",
    "<p>De data kan op 3 manieren verzameld worden, dat zijn (op volgorde van kwaliteit van de verzamelingsmethode):</p>"
   ]
  },
  {
   "cell_type": "markdown",
   "id": "445ee668-ee99-4807-b577-9e15eb5c3cfb",
   "metadata": {},
   "source": [
    "<h3>1. Query SQLite Database</h3>"
   ]
  },
  {
   "cell_type": "code",
   "execution_count": 67,
   "id": "3f768681-793a-40d2-a1c5-0b51e9e45e46",
   "metadata": {},
   "source": [
    "dbConnection = sqlite3.connect(dbName)"
   ],
   "outputs": []
  },
  {
   "cell_type": "code",
   "execution_count": 68,
   "id": "3d106280-2e5b-4b80-9ca4-d03f180e5031",
   "metadata": {
    "tags": []
   },
   "source": [
    "dfFromDB = pd.read_sql_query(f\"SELECT * FROM {tableName}\", dbConnection)\n",
    "pd.set_option('display.max_columns', 10)"
   ],
   "outputs": []
  },
  {
   "cell_type": "code",
   "execution_count": 69,
   "id": "7bad6aec-586a-47d2-9a46-a74f2f0f8b5b",
   "metadata": {
    "tags": []
   },
   "source": [
    "dbConnection.close()"
   ],
   "outputs": []
  },
  {
   "cell_type": "markdown",
   "id": "2c8bb809-230b-4521-bc94-947a5fd27115",
   "metadata": {},
   "source": [
    "<h3>2. Collect Data from REST API Server</h3>"
   ]
  },
  {
   "cell_type": "code",
   "execution_count": 70,
   "id": "595dd943-520d-4d28-a6dc-9338f8cd4dae",
   "metadata": {},
   "source": [
    "page1 = requests.get(url).json()"
   ],
   "outputs": []
  },
  {
   "cell_type": "code",
   "execution_count": 71,
   "id": "cf94655d-e309-4901-8a62-7956e5e015bd",
   "metadata": {
    "tags": []
   },
   "source": [
    "dfFromAPI = pd.DataFrame(page1['data'])"
   ],
   "outputs": []
  },
  {
   "cell_type": "markdown",
   "id": "17dfd6a7-8733-4438-9193-5d0d49289ab0",
   "metadata": {},
   "source": [
    "<h3>3. Collect Data from CSV</h3>"
   ]
  },
  {
   "cell_type": "code",
   "execution_count": 72,
   "id": "50ef318a-742f-43f4-a1af-13a3d20ed262",
   "metadata": {
    "tags": []
   },
   "source": [
    "dfFromCSV = pd.read_csv(csvFile)"
   ],
   "outputs": []
  }
 ],
 "metadata": {
  "kernelspec": {
   "display_name": "Python 3 (ipykernel)",
   "language": "python",
   "name": "python3"
  },
  "language_info": {
   "codemirror_mode": {
    "name": "ipython",
    "version": 3
   },
   "file_extension": ".py",
   "mimetype": "text/x-python",
   "name": "python",
   "nbconvert_exporter": "python",
   "pygments_lexer": "ipython3",
   "version": "3.11.7"
  }
 },
 "nbformat": 4,
 "nbformat_minor": 5
}
