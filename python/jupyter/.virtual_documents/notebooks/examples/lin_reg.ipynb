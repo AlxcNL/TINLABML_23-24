





%matplotlib inline


from matplotlib import pyplot as plt
from IPython.display import clear_output
import numpy as np





n = 1024 
X = np.random.normal(0,1,n) 
Y = np.random.normal(-1,1,n) 





np.mean(X)


np.var(X)


np.std(X)


np.cov(X, Y)


plt.scatter(X,Y)





X = np.random.randn(20)
Y = .8 * X**2 + np.random.randn(20) * .2 - 2
m, b = np.polyfit(X, Y, 1)

T = np.linspace(-2, 2, 100)
fig = plt.plot(T, m*T+b, c='r')
fig = plt.scatter(X, m*X+b, c='r')
fig = plt.scatter(X, Y)

print(m, b)





a, b, c = np.polyfit(X, Y, 2)

T = np.linspace(-2, 2, 100)
fig = plt.plot(T, a*T**2 + b*T + c, c='r')
fig = plt.scatter(X, a*X**2 + b*X + c, c='r')
fig = plt.scatter(X, Y)

print(m, b)



