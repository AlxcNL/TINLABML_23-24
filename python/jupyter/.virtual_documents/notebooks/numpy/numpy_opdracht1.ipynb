








import numpy as np











filename = "csv/planets.csv"


!ls -l pics | awk '{print $9}' > pictures.txt











planetDataFrame = pd.read_csv(filename, header = 0, sep = ',')
print(planetDataFrame)
type(planetDataFrame)
# print(planetDataFrame.columns)





img = Image.open('pics/earth.jpg')
type(img)
# img.show()





array = np.array(img)
type(array)
scaleFactor = 1
scaleArray = ndimage.zoom(array, (scaleFactor, scaleFactor, 1))
imgScaled = Image.fromarray(scaleArray)
# imgScaled.show()





imgScaled.save(img.filename.replace(".jpg","_scaled.jpg"))


















