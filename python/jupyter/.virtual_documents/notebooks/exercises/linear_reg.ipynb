








import pandas as pd
import numpy as np
import matplotlib.pyplot as plt
from sklearn.linear_model import LinearRegression
from sklearn.neural_network import MLPRegressor
from sklearn.model_selection import train_test_split


%matplotlib inline





df = pd.read_csv("../csv/forza_2023-05-19.csv", sep=';', header=0)
df


np.mean(df[['s_speed_x']])


df[['a_steer']].var





# dataset = df[['s_speed_x', 's_speed_y', 's_angle', 'a_brake', 'a_gear', 'a_steer']]
dataset = df[['s_angle', 'a_steer']]
X = dataset.iloc[ : ,   : 1 ].values
Y = dataset.iloc[ : , 1 ].values
dataset.size





X_train, X_test, Y_train, Y_test = train_test_split( X, Y, test_size = 1/4, random_state = 0) 





linregressor = LinearRegression()
linregressor = linregressor.fit(X_train, Y_train)





Y_pred = linregressor.predict(X_test)
Y_pred





plt.scatter(X_train , Y_train, color = 'red')
plt.plot(X_train , linregressor.predict(X_train), color ='blue')





mlpregressor = MLPRegressor(random_state=1, max_iter=500).fit(X_train, Y_train)
mlpregressor = regressor.fit(X_train, Y_train)


Y_pred = mlpregressor.predict(X_test)
Y_pred


plt.scatter(X_train , Y_train, color = 'red')
plt.plot(X_train , regressor.predict(X_train), color ='blue')



