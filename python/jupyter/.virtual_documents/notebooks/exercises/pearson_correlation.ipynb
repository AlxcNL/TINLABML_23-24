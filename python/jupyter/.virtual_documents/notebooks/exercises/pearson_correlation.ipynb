








import numpy as np
import pandas as pd





df = pd.read_csv("../csv/forza_2023-05-19.csv", sep=';', header=0)
df.columns





df_selection = df[['s_speed_x', 's_speed_y', 's_angle', 'a_brake', 'a_gear', 'a_steer']]
display(df_selection)





df_selection.corr("pearson")








def pearsonCorr(X, Y):
    
    corrXY = 0

    # Calculate means
    np.mean(X)
    np.mean(Y)
    
    # Calculate Covariance
    np.cov(X, Y)
    
    # Calculate Standard Deviations and their product

    # Calculate and return PCC
    if prod_stds != 0:

    return corrXY





df_selection[['s_speed_y', 'a_steer']].corr("pearson")


pearsonCorr(df['s_speed_y'], df['a_steer'])


df_selection[['s_angle', 'a_steer']].corr("pearson")


pearsonCorr(df['s_angle'], df['a_steer'])



