{
 "cells": [
  {
   "attachments": {},
   "cell_type": "markdown",
   "metadata": {
    "colab_type": "text",
    "id": "T1bdIQ2NW1fr"
   },
   "source": [
    "## Numpy, PyTorch and TensorFlow\n",
    "\n",
    "<p>\n",
    "\n",
    "[PyTorch](https://pytorch.org/) is an open source machine learning framework that accelerates the path from research prototyping to production deployment.<br>\n",
    "-> <a href=\"https://github.com/curiousily/Getting-Things-Done-with-Pytorch/blob/master/04.first-neural-network.ipynb\">Getting-Things-Done-with-Pytorch</a>\n",
    "\n",
    "[Tensorflow](https://www.tensorflow.org/learn) is an end-to-end platform for machine learning<br> \n",
    "-> <a href=\"https://www.tensorflow.org/guide/tensor\">Introduction to Tensors in TensorFlow</a>\n",
    "\n",
    "</p>"
   ]
  },
  {
   "attachments": {},
   "cell_type": "markdown",
   "metadata": {},
   "source": [
    "## Imports"
   ]
  },
  {
   "cell_type": "code",
   "execution_count": null,
   "metadata": {},
   "outputs": [],
   "source": [
    "import torch\n",
    "import numpy as np"
   ]
  },
  {
   "attachments": {},
   "cell_type": "markdown",
   "metadata": {
    "colab_type": "text",
    "id": "QKXpuuCt3rYB"
   },
   "source": [
    "### Tensor Operations"
   ]
  },
  {
   "attachments": {},
   "cell_type": "markdown",
   "metadata": {
    "colab": {},
    "colab_type": "code",
    "id": "Wk173ueH4Uxy"
   },
   "source": [
    "#### Numpy"
   ]
  },
  {
   "cell_type": "code",
   "execution_count": null,
   "metadata": {
    "colab": {
     "base_uri": "https://localhost:8080/",
     "height": 34
    },
    "colab_type": "code",
    "id": "vfzfCdLx5FEm",
    "outputId": "7f9fe41b-e6a3-4941-9bb8-404c0f747ddf"
   },
   "outputs": [],
   "source": [
    "a = np.array([1, 2])\n",
    "b = np.array([8, 9])\n",
    "\n",
    "c = a + b\n",
    "c"
   ]
  },
  {
   "attachments": {},
   "cell_type": "markdown",
   "metadata": {
    "colab_type": "text",
    "id": "KwCAz4WM7XOy"
   },
   "source": [
    "Adding the same arrays with PyTorch looks like this:"
   ]
  },
  {
   "cell_type": "code",
   "execution_count": null,
   "metadata": {
    "colab": {
     "base_uri": "https://localhost:8080/",
     "height": 34
    },
    "colab_type": "code",
    "id": "dDUOcIf07k8r",
    "outputId": "2d574606-4f2d-4f94-8c7a-c06e55bc1e75"
   },
   "outputs": [],
   "source": [
    "a = torch.tensor([1, 2])\n",
    "b = torch.tensor([8, 9])\n",
    "\n",
    "c = a + b\n",
    "c"
   ]
  },
  {
   "attachments": {},
   "cell_type": "markdown",
   "metadata": {
    "colab_type": "text",
    "id": "a-8tu_mlBVRx"
   },
   "source": [
    "Fortunately, you can go from NumPy to PyTorch:"
   ]
  },
  {
   "cell_type": "code",
   "execution_count": null,
   "metadata": {
    "colab": {
     "base_uri": "https://localhost:8080/",
     "height": 34
    },
    "colab_type": "code",
    "id": "mYBBtOZ5BzZt",
    "outputId": "0170ea79-c8f5-4070-8ed0-8f48792680b5"
   },
   "outputs": [],
   "source": [
    "a = torch.tensor([1, 2])\n",
    "a.numpy()"
   ]
  },
  {
   "attachments": {},
   "cell_type": "markdown",
   "metadata": {
    "colab_type": "text",
    "id": "n_tueio4B9UM"
   },
   "source": [
    " and vice versa:"
   ]
  },
  {
   "cell_type": "code",
   "execution_count": null,
   "metadata": {
    "colab": {
     "base_uri": "https://localhost:8080/",
     "height": 34
    },
    "colab_type": "code",
    "id": "wbGxHHCmCI0y",
    "outputId": "9bdee02c-655e-4af0-9ffb-00e1b751a7d9"
   },
   "outputs": [],
   "source": [
    "a = np.array([1, 2])\n",
    "torch.from_numpy(a)"
   ]
  },
  {
   "attachments": {},
   "cell_type": "markdown",
   "metadata": {
    "colab_type": "text",
    "id": "8eX91koTxYtc"
   },
   "source": [
    "The good news is that the conversions incur almost no cost on the performance of your app. The NumPy and PyTorch store data in memory in the same way. That is, PyTorch is reusing the work done by NumPy.\n",
    "\n",
    "## Tensors\n",
    "\n",
    "Tensors are just n-dimensional number (including booleans) containers. You can find the complete list of supported data types at [PyTorch's Tensor Docs](https://pytorch.org/docs/stable/tensors.html).\n",
    "\n",
    "So, how can you create a Tensor (try to ignore that I've already shown you how to do it)?\n",
    "\n"
   ]
  },
  {
   "cell_type": "code",
   "execution_count": null,
   "metadata": {
    "colab": {
     "base_uri": "https://localhost:8080/",
     "height": 51
    },
    "colab_type": "code",
    "id": "YbBs1LnZ4In7",
    "outputId": "22e79557-9936-423c-b3bd-b81872fe1127"
   },
   "outputs": [],
   "source": [
    "# 2 x 2\n",
    "# rows x cols\n",
    "torch.tensor([[1, 2], [2, 1]])"
   ]
  },
  {
   "attachments": {},
   "cell_type": "markdown",
   "metadata": {
    "colab_type": "text",
    "id": "qpfHgg9j40Zx"
   },
   "source": [
    "You can create a tensor from floats:"
   ]
  },
  {
   "cell_type": "code",
   "execution_count": null,
   "metadata": {
    "colab": {
     "base_uri": "https://localhost:8080/",
     "height": 51
    },
    "colab_type": "code",
    "id": "oQxFkDU94lZE",
    "outputId": "5b7283e1-c4cf-42b8-d40c-c06fbc7208da"
   },
   "outputs": [],
   "source": [
    "torch.FloatTensor([[1, 2], [2, 1]])"
   ]
  },
  {
   "attachments": {},
   "cell_type": "markdown",
   "metadata": {
    "colab_type": "text",
    "id": "1_t2URO15H1m"
   },
   "source": [
    "Or define the type like so:"
   ]
  },
  {
   "cell_type": "code",
   "execution_count": null,
   "metadata": {
    "colab": {
     "base_uri": "https://localhost:8080/",
     "height": 51
    },
    "colab_type": "code",
    "id": "V38yr_Jw47bz",
    "outputId": "b4b41f5b-e62f-4423-8312-d5c5536b514b"
   },
   "outputs": [],
   "source": [
    "# 0 -> False\n",
    "torch.tensor([[1, 2], [2, 1]], dtype=torch.bool)"
   ]
  },
  {
   "attachments": {},
   "cell_type": "markdown",
   "metadata": {
    "colab_type": "text",
    "id": "JmRTLJtN58lV"
   },
   "source": [
    "You can use a wide range of factory methods to create Tensors without manually specifying each number. For example, you can create a matrix with random numbers like this: "
   ]
  },
  {
   "cell_type": "code",
   "execution_count": null,
   "metadata": {
    "colab": {
     "base_uri": "https://localhost:8080/",
     "height": 68
    },
    "colab_type": "code",
    "id": "IX7D1-fO59Tp",
    "outputId": "46527178-2120-4d4a-b759-724f76193d08"
   },
   "outputs": [],
   "source": [
    "# 3 x 2\n",
    "# random values between 0 and 1\n",
    "torch.rand(3, 2)"
   ]
  },
  {
   "attachments": {},
   "cell_type": "markdown",
   "metadata": {
    "colab_type": "text",
    "id": "4vYL2FDC6emK"
   },
   "source": [
    "Or one full of ones:"
   ]
  },
  {
   "cell_type": "code",
   "execution_count": null,
   "metadata": {
    "colab": {
     "base_uri": "https://localhost:8080/",
     "height": 68
    },
    "colab_type": "code",
    "id": "xpYH8oSK6haK",
    "outputId": "329b7140-5f8b-4f7f-8eb5-41b8a1c4747e"
   },
   "outputs": [],
   "source": [
    "# Generate a 3 x 2 matrix of float values\n",
    "torch.ones(3, 2)\n",
    "torch.zeros(3, 2)"
   ]
  },
  {
   "attachments": {},
   "cell_type": "markdown",
   "metadata": {
    "colab_type": "text",
    "id": "CK5KF34VGNeI"
   },
   "source": [
    "PyTorch has a variety of useful operations:"
   ]
  },
  {
   "cell_type": "code",
   "execution_count": null,
   "metadata": {
    "colab": {
     "base_uri": "https://localhost:8080/",
     "height": 68
    },
    "colab_type": "code",
    "id": "NLMyFkALGd84",
    "outputId": "d8498aef-e2c0-489f-db1d-7ea84fbd1f30"
   },
   "outputs": [],
   "source": [
    "x = torch.tensor([[2, 3], [1, 2]])\n",
    "print(x)\n",
    "print(f'sum: {x.sum()}')"
   ]
  },
  {
   "attachments": {},
   "cell_type": "markdown",
   "metadata": {
    "colab_type": "text",
    "id": "QyzGvIsAIt-u"
   },
   "source": [
    "Get the transpose of a 2-D tensor:"
   ]
  },
  {
   "cell_type": "code",
   "execution_count": null,
   "metadata": {
    "colab": {
     "base_uri": "https://localhost:8080/",
     "height": 51
    },
    "colab_type": "code",
    "id": "rDgKzHgkIi4O",
    "outputId": "4fe531d4-71fb-4b28-b455-6593d0e86b51"
   },
   "outputs": [],
   "source": [
    "x.t()"
   ]
  },
  {
   "cell_type": "code",
   "execution_count": null,
   "metadata": {},
   "outputs": [],
   "source": [
    "# Scalar is a single valued tensor\n",
    "x = torch.tensor([1])\n",
    "type(x)\n",
    "x.t()"
   ]
  },
  {
   "attachments": {},
   "cell_type": "markdown",
   "metadata": {
    "colab_type": "text",
    "id": "d_JRK8brLZTh"
   },
   "source": [
    "Get the shape of each dimension:"
   ]
  },
  {
   "cell_type": "code",
   "execution_count": null,
   "metadata": {
    "colab": {
     "base_uri": "https://localhost:8080/",
     "height": 34
    },
    "colab_type": "code",
    "id": "GvDZZ-igLaio",
    "outputId": "04cff3fb-e665-485c-c155-2f562667dc48"
   },
   "outputs": [],
   "source": [
    "x.size()"
   ]
  },
  {
   "attachments": {},
   "cell_type": "markdown",
   "metadata": {
    "colab_type": "text",
    "id": "zxjrhfUfR_rM"
   },
   "source": [
    "Generally, performing some operation creates a new Tensor:"
   ]
  },
  {
   "cell_type": "code",
   "execution_count": null,
   "metadata": {
    "colab": {
     "base_uri": "https://localhost:8080/",
     "height": 51
    },
    "colab_type": "code",
    "id": "yy7LEtCCSszs",
    "outputId": "9fba705c-10dd-4c87-a1ec-41f95346a4b0"
   },
   "outputs": [],
   "source": [
    "x = torch.tensor([[2, 3], [1, 2]])\n",
    "print(x)\n",
    "y = torch.tensor([[2, 2], [5, 1]])\n",
    "print(y)\n",
    "z = x.add(y)\n",
    "np.add(x, y)\n",
    "z"
   ]
  },
  {
   "cell_type": "code",
   "execution_count": null,
   "metadata": {},
   "outputs": [],
   "source": [
    "x = torch.tensor([[2, 3], [1, 2]])"
   ]
  },
  {
   "cell_type": "code",
   "execution_count": null,
   "metadata": {},
   "outputs": [],
   "source": [
    "# Operator Overloading\n",
    "x + y"
   ]
  },
  {
   "attachments": {},
   "cell_type": "markdown",
   "metadata": {
    "colab_type": "text",
    "id": "e9B-2vSaT0tx"
   },
   "source": [
    "But you can do it in-place:"
   ]
  },
  {
   "cell_type": "code",
   "execution_count": null,
   "metadata": {
    "colab": {
     "base_uri": "https://localhost:8080/",
     "height": 51
    },
    "colab_type": "code",
    "id": "Fd2KmNhvT-pb",
    "outputId": "663f18df-7f68-4936-c56f-2c22f5baf8e3"
   },
   "outputs": [],
   "source": [
    "# Value of x has been changed to x + y\n",
    "x.add_(y)\n",
    "x"
   ]
  },
  {
   "attachments": {},
   "cell_type": "markdown",
   "metadata": {
    "colab_type": "text",
    "id": "n1iRWWwOU_eq"
   },
   "source": [
    "Almost all operations have an in-place version - the name of the operation, followed by an underscore."
   ]
  },
  {
   "attachments": {},
   "cell_type": "markdown",
   "metadata": {
    "colab_type": "text",
    "id": "d7_Aqx9mfCoV"
   },
   "source": [
    "<h3>BONUS: GPU</h3>\n",
    "\n",
    "PyTorch is very descriptive in this case. When doing more complex stuff, you would want to check the shape of your Tensors obsessively, after every operation. Just print the size!\n",
    "\n",
    "- Running out of GPU memory: You might be leaking memory or too large of a dataset/model. Faster/better GPU always helps. But remember, you can solve really large problems with a single powerful GPU these days. Think carefully if that is not enough for you - why that is?"
   ]
  },
  {
   "attachments": {},
   "cell_type": "markdown",
   "metadata": {
    "colab_type": "text",
    "id": "wAt2CDnYjAc4"
   },
   "source": [
    "## References\n",
    "\n",
    "- [\"PyTorch: A Modern Library for Machine Learning\" with Adam Paszke](https://www.youtube.com/watch?v=5bSAipCNqXo)\n",
    "- [Recitation 1 | Your First Deep Learning Code](https://www.youtube.com/watch?v=KrCp_yPVOxs)\n",
    "- [What is PyTorch?](https://pytorch.org/tutorials/beginner/blitz/tensor_tutorial.html)"
   ]
  }
 ],
 "metadata": {
  "accelerator": "GPU",
  "colab": {
   "collapsed_sections": [],
   "name": "01.getting-started-with-pytorch.ipynb",
   "provenance": []
  },
  "kernelspec": {
   "display_name": "Python 3 (ipykernel)",
   "language": "python",
   "name": "python3"
  },
  "language_info": {
   "codemirror_mode": {
    "name": "ipython",
    "version": 3
   },
   "file_extension": ".py",
   "mimetype": "text/x-python",
   "name": "python",
   "nbconvert_exporter": "python",
   "pygments_lexer": "ipython3",
   "version": "3.10.9"
  }
 },
 "nbformat": 4,
 "nbformat_minor": 4
}
