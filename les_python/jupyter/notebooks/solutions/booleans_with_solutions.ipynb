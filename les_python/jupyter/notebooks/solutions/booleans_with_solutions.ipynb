{
 "cells": [
  {
   "cell_type": "markdown",
   "id": "e05f8d41-8ce4-46f2-88fc-03112bb8f0ef",
   "metadata": {},
   "source": [
    "<div>\n",
    "<img src='../pics/banner.PNG'/>\n",
    "</div>\n",
    "<div>\n",
    "<img width=\"10%\" src='../pics/tinlab.png'/></a>\n",
    "<em>Python Basics <strong>Solutions</strong> - Jeroen Boogaard</em>\n",
    "</div>"
   ]
  },
  {
   "cell_type": "markdown",
   "id": "699f7364-1414-42c9-af1f-d351de3e7e5d",
   "metadata": {},
   "source": [
    "<h1>Enkelvoudige variabelen - Booleans</h1>"
   ]
  },
  {
   "cell_type": "markdown",
   "id": "c4ded465-714d-47b6-a0bf-fa659d77aa51",
   "metadata": {},
   "source": [
    "<h3>Comparators</h3>"
   ]
  },
  {
   "cell_type": "raw",
   "id": "59318472-e9cb-4808-85b0-3b2e8c3a5910",
   "metadata": {},
   "source": [
    "Een boolean variabele kan maar twee waarden aannemen (denk aan binaire getallen)"
   ]
  },
  {
   "cell_type": "code",
   "execution_count": null,
   "id": "9cb8158d-2dd1-4fc4-a35c-cb28d325b9a0",
   "metadata": {},
   "outputs": [],
   "source": [
    "print(f\"A boolean is either %s or %s\" %(bool(1),bool(0)) )"
   ]
  },
  {
   "cell_type": "raw",
   "id": "db3175c5-a2b8-4dc1-b4ff-6923914983a4",
   "metadata": {},
   "source": [
    "Je kunt een boolean gebruiken als vlag"
   ]
  },
  {
   "cell_type": "code",
   "execution_count": null,
   "id": "531fd143-9083-41ce-9909-3ee6ba146a43",
   "metadata": {},
   "outputs": [],
   "source": [
    "writePermission = False"
   ]
  },
  {
   "cell_type": "markdown",
   "id": "94e47202-88bb-4519-8226-4aae44756da9",
   "metadata": {},
   "source": [
    "Een boolean waarde volgt vaak uit een vergelijking"
   ]
  },
  {
   "cell_type": "markdown",
   "id": "45238ba5-ee56-4413-afa0-1d8e25d400f2",
   "metadata": {},
   "source": [
    "<h4>Gelijke of ongelijke waarde</h4>"
   ]
  },
  {
   "cell_type": "code",
   "execution_count": null,
   "id": "0586fabd-a532-4495-b896-ef99c7f14c86",
   "metadata": {},
   "outputs": [],
   "source": [
    "20 == 20"
   ]
  },
  {
   "cell_type": "code",
   "execution_count": null,
   "id": "bb75917f-1fe7-4983-a4aa-5fdaf4431212",
   "metadata": {},
   "outputs": [],
   "source": [
    "\"apples\" == \"apples\" "
   ]
  },
  {
   "cell_type": "code",
   "execution_count": null,
   "id": "585c9edf-a617-4a51-a282-7a69b26e4f2d",
   "metadata": {},
   "outputs": [],
   "source": [
    "20 != 30"
   ]
  },
  {
   "cell_type": "code",
   "execution_count": null,
   "id": "5d4e0a15-a4c7-4d62-b269-df67a3d93bd2",
   "metadata": {},
   "outputs": [],
   "source": [
    "\"apples\" != \"peers\""
   ]
  },
  {
   "cell_type": "raw",
   "id": "952de0d5-bf6f-441a-903c-1a5629cf5d02",
   "metadata": {},
   "source": [
    "Dit geldt uiteraard ook voor de booleans zelf"
   ]
  },
  {
   "cell_type": "code",
   "execution_count": null,
   "id": "2fc52ff2-907d-40f7-93e7-e392a7cd34d8",
   "metadata": {},
   "outputs": [],
   "source": [
    "True == True"
   ]
  },
  {
   "cell_type": "code",
   "execution_count": null,
   "id": "17db77bf-a33c-4c5e-b685-0a1e15bde0e4",
   "metadata": {},
   "outputs": [],
   "source": [
    "True != False"
   ]
  },
  {
   "cell_type": "markdown",
   "id": "376ca78d-d14b-4728-a5bf-7586861c680c",
   "metadata": {},
   "source": [
    "**Wees bij het vergelijken van Strings alert op verschillen in syntax**"
   ]
  },
  {
   "cell_type": "code",
   "execution_count": null,
   "id": "822a45ce-1b79-4bef-b62c-4724d3d19f0e",
   "metadata": {},
   "outputs": [],
   "source": [
    "\"grey\" != \"gray\""
   ]
  },
  {
   "cell_type": "code",
   "execution_count": null,
   "id": "c993c184-04fb-4227-acdb-661d880b8e65",
   "metadata": {},
   "outputs": [],
   "source": [
    "\"Apples\".lower() == \"apples\""
   ]
  },
  {
   "cell_type": "code",
   "execution_count": null,
   "id": "214eaa09-c975-4c89-9931-e343d28e6c29",
   "metadata": {},
   "outputs": [],
   "source": [
    "\"peers \".rstrip() == \"peers\""
   ]
  },
  {
   "cell_type": "markdown",
   "id": "d60ba2ad-7883-4fea-bf6f-c0480eecc453",
   "metadata": {},
   "source": [
    "<h4>Groter of kleiner </h4>"
   ]
  },
  {
   "cell_type": "code",
   "execution_count": null,
   "id": "bc9b8b19-95c4-4743-b160-751ba666a827",
   "metadata": {},
   "outputs": [],
   "source": [
    "20 < 30"
   ]
  },
  {
   "cell_type": "code",
   "execution_count": null,
   "id": "13637d3c-4a79-4437-9477-98250d6c513f",
   "metadata": {},
   "outputs": [],
   "source": [
    "30 > 20"
   ]
  },
  {
   "cell_type": "code",
   "execution_count": null,
   "id": "4dd4383a-ed75-458f-8815-7cb6dcfebc35",
   "metadata": {},
   "outputs": [],
   "source": [
    "len(\"apples\") > len(\"peers\")"
   ]
  },
  {
   "cell_type": "code",
   "execution_count": null,
   "id": "c413fbae-c009-4f80-845a-a0955f855ce6",
   "metadata": {},
   "outputs": [],
   "source": [
    "20 <= 20"
   ]
  },
  {
   "cell_type": "code",
   "execution_count": null,
   "id": "c95351b2-7509-48ae-884d-e8636d702ffb",
   "metadata": {},
   "outputs": [],
   "source": [
    "len(\"apples\") >= len( \"apples \".rstrip() )"
   ]
  },
  {
   "cell_type": "code",
   "execution_count": null,
   "id": "64c259ec-6e19-4484-8ef1-17a714a8f92e",
   "metadata": {},
   "outputs": [],
   "source": [
    "2 * 20 > 20"
   ]
  },
  {
   "cell_type": "markdown",
   "id": "4f568d66-ab6f-4cc7-a582-d115809a340e",
   "metadata": {},
   "source": [
    "**Gebruik haakjes als dit de leesbaarheid van de code verbetert**"
   ]
  },
  {
   "cell_type": "code",
   "execution_count": null,
   "id": "8d1ebfee-d109-4b39-85f3-94ab7d864bec",
   "metadata": {},
   "outputs": [],
   "source": [
    "(2 * 20) > 20"
   ]
  },
  {
   "cell_type": "markdown",
   "id": "01bcf858-ba88-4a20-bc7f-2c8f33331a25",
   "metadata": {},
   "source": [
    "<h3>Exercise 5</h3>\n",
    "<p>Gebruik conversie naar numerieke waarden om aan te tonen dat <u>True > False</u></p>"
   ]
  },
  {
   "cell_type": "code",
   "execution_count": null,
   "id": "78b5cb38-db60-42f6-8986-0fef1136fe2c",
   "metadata": {},
   "outputs": [],
   "source": [
    "# Oplossing\n",
    "bin(True) > bin(False)"
   ]
  },
  {
   "cell_type": "markdown",
   "id": "c92180af-5a9d-4d15-9d67-0bb1a265eab8",
   "metadata": {},
   "source": [
    "<h3>Logische operatoren</h3>"
   ]
  },
  {
   "cell_type": "markdown",
   "id": "9cda642c-510a-4d9f-a377-300c79da82df",
   "metadata": {},
   "source": [
    "**De operator <i>and</i> genereert <u>alleen</u> True als beide booleans True zijn**"
   ]
  },
  {
   "cell_type": "code",
   "execution_count": null,
   "id": "8966c9cf-4efd-480e-aab0-b5ca45554116",
   "metadata": {},
   "outputs": [],
   "source": [
    "True and (\"apples\" == \"apples\" )"
   ]
  },
  {
   "cell_type": "raw",
   "id": "2cbc3861-28ed-4a16-92f1-2d3ee899c9b1",
   "metadata": {},
   "source": [
    "omdat bovenstaande expressie opnieuw een boolean oplevert, kun je ketting verder uitbreiden"
   ]
  },
  {
   "cell_type": "code",
   "execution_count": null,
   "id": "c6130898-56d9-456f-b4d5-0bb43061adc1",
   "metadata": {},
   "outputs": [],
   "source": [
    "True and (\"apples\" == \"apples\" ) and ( (2 * 20) > 20 )"
   ]
  },
  {
   "cell_type": "markdown",
   "id": "24d487e7-a90f-4733-8e3c-00213070a543",
   "metadata": {},
   "source": [
    "Een <strong>conjunctie</strong> is een <i>and-chain</i> van <i>booleaanse expressies</i>"
   ]
  },
  {
   "cell_type": "markdown",
   "id": "07ed36d0-0e39-4268-a405-948d3c66dd4c",
   "metadata": {},
   "source": [
    "<h3>Exercise 6</h3>\n",
    "<p>Maak een and-chain met variabelen <i>p</i>, <i>q</i> en <i>r</i> in de volgorde die het snelst resultaat geeft.\n",
    "</p>"
   ]
  },
  {
   "cell_type": "code",
   "execution_count": null,
   "id": "50fb137d-d26c-4db6-a30b-b770deee5111",
   "metadata": {},
   "outputs": [],
   "source": [
    "p = True\n",
    "q = True\n",
    "r = False"
   ]
  },
  {
   "cell_type": "code",
   "execution_count": null,
   "id": "afaaf4a2-debe-4551-b846-86e0fd5d6276",
   "metadata": {},
   "outputs": [],
   "source": [
    "# Oplossing\n",
    "\n",
    "r and p and q"
   ]
  },
  {
   "cell_type": "markdown",
   "id": "02bc3b3a-3f77-458b-91ea-147dffb8eacf",
   "metadata": {},
   "source": [
    "**De operator <i>or</i> genereert True <u>zodra</u> een van de booleans True is**"
   ]
  },
  {
   "cell_type": "code",
   "execution_count": null,
   "id": "6a110005-7fc4-45ae-99ae-deca019d7c9e",
   "metadata": {},
   "outputs": [],
   "source": [
    "True or (\"apples\" == \"pears\" )"
   ]
  },
  {
   "cell_type": "code",
   "execution_count": null,
   "id": "48d93caf-e0d4-4ce9-931e-b3de1a6cb6cf",
   "metadata": {},
   "outputs": [],
   "source": [
    "True or ( \"apples\" != \"peers\" ) or ( 20 >= 30 )"
   ]
  },
  {
   "cell_type": "markdown",
   "id": "6df18484-019a-4974-9d91-b3d5b9d52917",
   "metadata": {},
   "source": [
    "Een <strong>disjunctie</strong> is een <i>or-chain</i> van <i>booleaanse expressies</i>"
   ]
  },
  {
   "cell_type": "markdown",
   "id": "51806f08-18b0-47bc-afc8-c3675ac68b78",
   "metadata": {},
   "source": [
    "<h3>Exercise 7</h3>\n",
    "<p>Maak een or-chain met variabelen <i>p</i>, <i>q</i> en <i>r</i> in de volgorde die het snelst resultaat geeft.\n",
    "</p>"
   ]
  },
  {
   "cell_type": "code",
   "execution_count": null,
   "id": "ce679e04-c27c-4da9-8bf9-b07bc65367e4",
   "metadata": {},
   "outputs": [],
   "source": [
    "p = False\n",
    "q = True\n",
    "r = (p and q)"
   ]
  },
  {
   "cell_type": "code",
   "execution_count": null,
   "id": "45f3678c-3a0f-4f1a-a97c-16220e43bead",
   "metadata": {},
   "outputs": [],
   "source": [
    "# Oplossing\n",
    "\n",
    "q or p or r"
   ]
  },
  {
   "cell_type": "markdown",
   "id": "6b1ca4a9-2441-4d13-a3b7-2ca1f677d73b",
   "metadata": {},
   "source": [
    "**De operator <i>not</i> genereert <u>ontkracht</u> een booleaanse expressie**"
   ]
  },
  {
   "cell_type": "code",
   "execution_count": null,
   "id": "4c58444d-f362-4767-9158-777b679dfc5b",
   "metadata": {},
   "outputs": [],
   "source": [
    "toBe = True\n",
    "print(f\"{toBe} or {not toBe}, that's the question..\")"
   ]
  },
  {
   "cell_type": "code",
   "execution_count": null,
   "id": "3511fcde-46d4-4482-aeb6-2d7f7cdd47d9",
   "metadata": {},
   "outputs": [],
   "source": [
    "notToBe = False\n",
    "print(f\"{notToBe} or {not notToBe}, that's the question..\")"
   ]
  },
  {
   "cell_type": "markdown",
   "id": "b1302985-b583-4e24-8c59-a60d0e58afc1",
   "metadata": {},
   "source": [
    "Een <strong>negatie</strong> is de ontkenning van een <i>booleaanse expressies</i>"
   ]
  },
  {
   "cell_type": "raw",
   "id": "8e32af01-e81a-47db-bec1-37fe477c52d2",
   "metadata": {},
   "source": [
    "**Vereenvoudig waar mogelijk**"
   ]
  },
  {
   "cell_type": "code",
   "execution_count": null,
   "id": "7f6a3733-6abb-453f-b2db-84f5e1d86fe7",
   "metadata": {},
   "outputs": [],
   "source": [
    "\"apples\" == \"peers\""
   ]
  },
  {
   "cell_type": "raw",
   "id": "aeebc931-e0d2-4416-9d1c-a680bc15aaa4",
   "metadata": {},
   "source": [
    "in plaats van"
   ]
  },
  {
   "cell_type": "code",
   "execution_count": null,
   "id": "9ee4ce6d-5eb1-49de-b2d4-757e7eb616b2",
   "metadata": {},
   "outputs": [],
   "source": [
    "not (\"apples\" != \"peers\")"
   ]
  },
  {
   "cell_type": "markdown",
   "id": "f9bd3ad6-1ff3-484e-a05a-62a44f2169ca",
   "metadata": {},
   "source": [
    "<h3>Functies</h3>"
   ]
  },
  {
   "cell_type": "markdown",
   "id": "66251148-42b6-481b-8a30-756d7a672059",
   "metadata": {},
   "source": [
    "Volgens de eerste stelling van DeMorgan kun is de expressie <strong>not (p and q</strong>) <u>equivalent</u> aan <strong>(not p) or (not q)</strong>"
   ]
  },
  {
   "cell_type": "code",
   "execution_count": null,
   "id": "6e1e58b9-be3b-47dc-9401-69eac4e2ca83",
   "metadata": {},
   "outputs": [],
   "source": [
    "def notBothTrue(p, q):\n",
    "    return (not p) or (not q)"
   ]
  },
  {
   "cell_type": "code",
   "execution_count": null,
   "id": "d639e193-9a8f-4314-b57c-0c2258ac93ad",
   "metadata": {},
   "outputs": [],
   "source": [
    "notBothTrue(True,True)"
   ]
  },
  {
   "cell_type": "code",
   "execution_count": null,
   "id": "2246e4f4-d8fe-4fff-b732-032b219813e6",
   "metadata": {},
   "outputs": [],
   "source": [
    "notBothTrue(False,True)"
   ]
  },
  {
   "cell_type": "code",
   "execution_count": null,
   "id": "3b03ee47-654c-4626-aeae-7ea24f0836ae",
   "metadata": {},
   "outputs": [],
   "source": [
    "notBothTrue(False,False)"
   ]
  },
  {
   "cell_type": "markdown",
   "id": "6dc62829-c21f-4842-bf2b-ff16b26d24bb",
   "metadata": {},
   "source": [
    "Volgens de tweede stelling van DeMorgan kun is de expressie <strong>not (p or q</strong>) <u>equivalent</u> aan <strong>(not p) and (not q)</strong>"
   ]
  },
  {
   "cell_type": "markdown",
   "id": "3edf9fe9-2d3f-4cdf-9bee-40312e708254",
   "metadata": {},
   "source": [
    "<h3>Exercise 8</h3>\n",
    "<p>Implementeer de tweede stelling van DeMorgan in een functie <u>bothFalse</u>\n",
    "</p>"
   ]
  },
  {
   "cell_type": "code",
   "execution_count": null,
   "id": "beb7d797-db96-4619-96a9-8cebc6047317",
   "metadata": {},
   "outputs": [],
   "source": [
    "# Oplossing\n",
    "\n",
    "def bothFalse(p, q):\n",
    "    return (not p) and (not q)"
   ]
  }
 ],
 "metadata": {
  "kernelspec": {
   "display_name": "Python 3 (ipykernel)",
   "language": "python",
   "name": "python3"
  },
  "language_info": {
   "codemirror_mode": {
    "name": "ipython",
    "version": 3
   },
   "file_extension": ".py",
   "mimetype": "text/x-python",
   "name": "python",
   "nbconvert_exporter": "python",
   "pygments_lexer": "ipython3",
   "version": "3.11.7"
  },
  "vscode": {
   "interpreter": {
    "hash": "aee8b7b246df8f9039afb4144a1f6fd8d2ca17a180786b69acc140d282b71a49"
   }
  }
 },
 "nbformat": 4,
 "nbformat_minor": 5
}
