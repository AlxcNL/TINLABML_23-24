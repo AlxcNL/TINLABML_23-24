{
 "cells": [
  {
   "cell_type": "markdown",
   "id": "e9707e7f-ea3f-4ca0-b763-48d6b9de1b41",
   "metadata": {},
   "source": [
    "<div>\n",
    "<img src='../pics/banner.PNG'/>\n",
    "</div>\n",
    "<div>\n",
    "<img width=\"15%\" src='../pics/tinlab.png'/>\n",
    "<strong>Python Basics - Jeroen Boogaard</strong>\n",
    "</div>"
   ]
  },
  {
   "cell_type": "markdown",
   "id": "0d22d051-fb13-4bd3-b766-dc4440082fe3",
   "metadata": {},
   "source": [
    "<h1>Data Types</h1>"
   ]
  },
  {
   "cell_type": "markdown",
   "id": "f43b759f-4545-4b6f-aa7e-9e7fc08a7eaa",
   "metadata": {},
   "source": [
    "<img width=\"40%\" src=\"../pics/data_types.jpg\"/>"
   ]
  },
  {
   "cell_type": "markdown",
   "id": "5335afa1-2ec8-4b8f-93ea-de8b673a57e8",
   "metadata": {},
   "source": [
    "## Imports"
   ]
  },
  {
   "cell_type": "code",
   "execution_count": null,
   "id": "5bbf4cb8-d084-4765-87ab-4937f6594d28",
   "metadata": {},
   "outputs": [],
   "source": [
    "import math"
   ]
  },
  {
   "cell_type": "markdown",
   "id": "74d6a93a",
   "metadata": {},
   "source": [
    "## Single valued"
   ]
  },
  {
   "cell_type": "markdown",
   "id": "d135f03f-ac5e-4f84-8247-cecd066ae060",
   "metadata": {},
   "source": [
    "### Integer"
   ]
  },
  {
   "cell_type": "code",
   "execution_count": null,
   "id": "7dcb3c82",
   "metadata": {},
   "outputs": [],
   "source": [
    "craters = 190\n",
    "print(f\"variable craters is a {type(craters)}\")"
   ]
  },
  {
   "cell_type": "code",
   "execution_count": null,
   "id": "5b61e80e-7491-40ee-b6c4-ea450a44471a",
   "metadata": {},
   "outputs": [],
   "source": [
    "type(0) == type(-1) == int"
   ]
  },
  {
   "cell_type": "markdown",
   "id": "ee952718-9fb7-47f0-bd93-595e2e2d4dff",
   "metadata": {},
   "source": [
    "**Voeg underscores toe aan grote getallen om de leesbaarheid te vergroten**"
   ]
  },
  {
   "cell_type": "code",
   "execution_count": null,
   "id": "66a85ecc-9a64-4878-85e3-4f9891482b81",
   "metadata": {},
   "outputs": [],
   "source": [
    "meteoritesFound = 50_000"
   ]
  },
  {
   "cell_type": "markdown",
   "id": "6f61f49a-5990-4b57-b96f-e9b6171b481a",
   "metadata": {},
   "source": [
    "### Floating-point"
   ]
  },
  {
   "cell_type": "code",
   "execution_count": null,
   "id": "34a2e81a-a8a1-4b50-9d43-5ce650108ed0",
   "metadata": {},
   "outputs": [],
   "source": [
    "ateroidsPercentage = 99.8\n",
    "type(ateroidsPercentage)"
   ]
  },
  {
   "cell_type": "markdown",
   "id": "71fcf265-74ef-48c1-a87a-9773ad731d96",
   "metadata": {},
   "source": [
    "**Gebruik de library math voor Wiskundige constanten**"
   ]
  },
  {
   "cell_type": "code",
   "execution_count": null,
   "id": "9cfca6ee-7ab8-4c4d-9861-7f6482968aa7",
   "metadata": {},
   "outputs": [],
   "source": [
    "print(f\"pi={math.pi} and e={math.e}\")"
   ]
  },
  {
   "cell_type": "markdown",
   "id": "7d30121b-dee6-4a80-a7fc-adcfe87bfb33",
   "metadata": {},
   "source": [
    "**Een floats kan <i>gecast</i> worden als int**"
   ]
  },
  {
   "cell_type": "code",
   "execution_count": null,
   "id": "64dcd9e3-3273-4145-9829-91fafc11079f",
   "metadata": {},
   "outputs": [],
   "source": [
    "print(f\"The Integer part of pi is {int(math.pi)}\")"
   ]
  },
  {
   "cell_type": "markdown",
   "id": "9d84883f-0ecd-4175-b0b1-d9e8a4fc1990",
   "metadata": {},
   "source": [
    "**Gebruik de library math voor machtsverheffen**"
   ]
  },
  {
   "cell_type": "code",
   "execution_count": null,
   "id": "9b672530",
   "metadata": {},
   "outputs": [],
   "source": [
    "meteorWeight = 100 * math.pow(10,3)\n",
    "print(meteorWeight)"
   ]
  },
  {
   "cell_type": "code",
   "execution_count": null,
   "id": "b3d1ad45-9efe-4272-8c23-5cfa05bee260",
   "metadata": {},
   "outputs": [],
   "source": [
    "print(f\"There are {int(math.pow(2,8))} bits in 1 Byte\")"
   ]
  },
  {
   "cell_type": "code",
   "execution_count": null,
   "id": "83a9b161-6b4d-4426-9a07-c578e9013e39",
   "metadata": {},
   "outputs": [],
   "source": [
    "a = 70\n",
    "b = 50\n",
    "a + b"
   ]
  },
  {
   "cell_type": "raw",
   "id": "52a8711e-a579-443a-8258-b0db17ce459f",
   "metadata": {},
   "source": [
    "Blijf positief.."
   ]
  },
  {
   "cell_type": "code",
   "execution_count": null,
   "id": "ffbf37d4-4e77-4238-94dc-f43656c3fb19",
   "metadata": {},
   "outputs": [],
   "source": [
    "print(\"The distance between a and b is %s km\" %abs(b-a) )"
   ]
  },
  {
   "cell_type": "markdown",
   "id": "55f25fe4-ea3c-43ca-aa65-3d403c4dd5d8",
   "metadata": {},
   "source": [
    "#### Rekenkundige bewerkingen"
   ]
  },
  {
   "cell_type": "code",
   "execution_count": null,
   "id": "bf3a78d1-d953-47f4-9089-af79e285225d",
   "metadata": {},
   "outputs": [],
   "source": [
    "a * b"
   ]
  },
  {
   "cell_type": "markdown",
   "id": "77703190-3a41-4ad8-816a-75bcbf5cbbfb",
   "metadata": {},
   "source": [
    "**Variabelen kunnen op verschillende manieren door elkaar gedeeld worden**"
   ]
  },
  {
   "cell_type": "code",
   "execution_count": null,
   "id": "3e7d9698-d034-4427-8c82-599597027f68",
   "metadata": {},
   "outputs": [],
   "source": [
    "# division\n",
    "a / b"
   ]
  },
  {
   "cell_type": "code",
   "execution_count": null,
   "id": "4a94cca1-aa55-4bef-8740-7c8254530d6a",
   "metadata": {},
   "outputs": [],
   "source": [
    "print(f\"The speed of light is roughly {round(299.792458)} km/s\")"
   ]
  },
  {
   "cell_type": "code",
   "execution_count": null,
   "id": "475803e1-5cb0-4e01-8148-c9ca26f8f0c2",
   "metadata": {},
   "outputs": [],
   "source": [
    "# floor division\n",
    "a // b"
   ]
  },
  {
   "cell_type": "code",
   "execution_count": null,
   "id": "c2f790f7-8577-4186-9d7c-ef86e3fd57e7",
   "metadata": {},
   "outputs": [],
   "source": [
    "print(f\"1 Kilobyte is equal to {math.pow(2,10)} bytes (binary).\")"
   ]
  },
  {
   "cell_type": "markdown",
   "id": "f029cba1-cd5a-42e0-9150-f4f168a880fd",
   "metadata": {},
   "source": [
    "<li>modulo: %</li></ul>"
   ]
  },
  {
   "cell_type": "code",
   "execution_count": null,
   "id": "a90e787f-42ea-41d1-85e3-55844e7bfefe",
   "metadata": {},
   "outputs": [],
   "source": [
    "(a % b) / b"
   ]
  },
  {
   "cell_type": "code",
   "execution_count": null,
   "id": "183e72f2-62b0-4a13-b1bf-336393e0edab",
   "metadata": {},
   "outputs": [],
   "source": [
    "(a // b) + ((a % b) / b) == a /b"
   ]
  },
  {
   "cell_type": "raw",
   "id": "85e55613-e7fb-452d-a670-1221eb5f1d93",
   "metadata": {},
   "source": [
    "Een positieve draairichting is tegen de klok in"
   ]
  },
  {
   "cell_type": "code",
   "execution_count": null,
   "id": "c47e6012-2a51-4719-9f5d-c25b26375860",
   "metadata": {},
   "outputs": [],
   "source": [
    "rotation = -800\n",
    "spins = abs(rotation) // 360\n",
    "degrees = abs(rotation) % 360\n",
    "print(f\"After {spins} clockwise turnarounds, the angle is {degrees} degrees to the right\")"
   ]
  },
  {
   "cell_type": "markdown",
   "id": "25154a61-d3f0-46c1-b512-0a632706d61d",
   "metadata": {},
   "source": [
    "<h4>Exercise 1</h4>\n",
    "<p>Print de volgende String met gebruik van de variabelen <i>durationInMinutes</i>, <i>durationInHours</i> en <i>minutesLeft</i> <u>zonder de variabelen te veranderen</u>:<br>\n",
    "\"If there are 2 hours passed from 140 minutes, there are 20 minutes left\"\n",
    "</p>"
   ]
  },
  {
   "cell_type": "code",
   "execution_count": null,
   "id": "f2197985-95c6-4864-929f-f8f8e8f97995",
   "metadata": {},
   "outputs": [],
   "source": [
    "durationInMinutes = 140"
   ]
  },
  {
   "cell_type": "code",
   "execution_count": null,
   "id": "260f3b99-3b4c-4d08-852a-09f268b1d335",
   "metadata": {},
   "outputs": [],
   "source": [
    "# Oplossing"
   ]
  },
  {
   "cell_type": "markdown",
   "id": "d1623e47-4b05-40af-a27a-d2daad15946b",
   "metadata": {},
   "source": [
    "**Import Python module math**"
   ]
  },
  {
   "cell_type": "code",
   "execution_count": null,
   "id": "da2b4860-f028-4716-907d-60efc875d649",
   "metadata": {},
   "outputs": [],
   "source": [
    "meteorWeight = 100 * math.pow(10,3)\n",
    "print(meteorWeight)"
   ]
  },
  {
   "cell_type": "raw",
   "id": "3e7c9c3b-e4d2-4458-afb7-6c0db5b83415",
   "metadata": {},
   "source": [
    "De output is een float. Je kunt dit weer omzetten in een integer. "
   ]
  },
  {
   "cell_type": "code",
   "execution_count": null,
   "id": "30b1a7bb",
   "metadata": {},
   "outputs": [],
   "source": [
    "type(meteorWeight)\n",
    "int(meteorWeight)"
   ]
  },
  {
   "cell_type": "code",
   "execution_count": null,
   "id": "d9e1b5b4-45eb-43ec-ba20-82bfe5f1bb66",
   "metadata": {},
   "outputs": [],
   "source": [
    "def radiansToDegrees(radians):\n",
    "    return (radians*180) / math.pi\n",
    "\n",
    "rotationInRadians = 1.5 * math.pi\n",
    "rotationInDegrees = radiansToDegrees(rotationInRadians)\n",
    "\n",
    "print(\"The rotation in degrees is : {}\".format( round(rotationInDegrees), 0) )"
   ]
  },
  {
   "cell_type": "markdown",
   "id": "ead8af10-0e7d-466b-97e2-402df06449c2",
   "metadata": {},
   "source": [
    "<h4>Andertallige stelsels</h4>"
   ]
  },
  {
   "cell_type": "raw",
   "id": "6bd99486-92d8-421a-8875-ca5f7dca85ab",
   "metadata": {},
   "source": [
    "Een binary digit heeft de waarde 0 of 1"
   ]
  },
  {
   "cell_type": "code",
   "execution_count": null,
   "id": "bcc232e8-0aa9-48e6-a9b6-f2f04f28f4b3",
   "metadata": {},
   "outputs": [],
   "source": [
    "a = bin(1)\n",
    "print(a)\n",
    "print(a[2:])"
   ]
  },
  {
   "cell_type": "raw",
   "id": "b7d54104-305d-4784-b8f1-4fb9c5fbc954",
   "metadata": {},
   "source": [
    "Rekenen met binaire getallen"
   ]
  },
  {
   "cell_type": "code",
   "execution_count": null,
   "id": "70e70e99-4b26-4891-956a-ba029e9eb62c",
   "metadata": {},
   "outputs": [],
   "source": [
    "sum = bin(int(a, 2) + int(a, 2))\n",
    "c = int(sum[2:])\n",
    "print(f\"{a[2:]} + {a[2:]} = {c}\")"
   ]
  },
  {
   "cell_type": "code",
   "execution_count": null,
   "id": "fee282af-d4cd-47f3-a756-4cc6a179c0a7",
   "metadata": {},
   "outputs": [],
   "source": [
    "base = 2\n",
    "d = '11'\n",
    "d1 = int(d[:1])\n",
    "d0 = int(d[1:])\n",
    "d1 * math.pow(base,1) + d0 * math.pow(base,0)"
   ]
  },
  {
   "cell_type": "markdown",
   "id": "c732ec73-6971-4531-8b12-4df14a07e2fe",
   "metadata": {},
   "source": [
    "### Booleans"
   ]
  },
  {
   "cell_type": "raw",
   "id": "f659267b-2439-42ef-978d-969d16a95fa5",
   "metadata": {},
   "source": [
    "Een boolean variabele kan maar twee waarden aannemen (denk aan binaire getallen)"
   ]
  },
  {
   "cell_type": "code",
   "execution_count": null,
   "id": "423cb5e2-e3fc-4faa-9b1f-1c2eba9fe262",
   "metadata": {},
   "outputs": [],
   "source": [
    "print(f\"A boolean is either %s or %s\" %(bool(1),bool(0)) )"
   ]
  },
  {
   "cell_type": "raw",
   "id": "e4815e05-ae1f-47f5-a33a-5823f4b9bcea",
   "metadata": {},
   "source": [
    "Je kunt een boolean gebruiken als vlag"
   ]
  },
  {
   "cell_type": "code",
   "execution_count": null,
   "id": "7e4ce5d7-917f-481f-877c-62688e61daf5",
   "metadata": {},
   "outputs": [],
   "source": [
    "writePermission = False"
   ]
  },
  {
   "cell_type": "markdown",
   "id": "94853846-0d19-4903-aea4-d6a1d1195634",
   "metadata": {},
   "source": [
    "Een boolean waarde volgt vaak uit een vergelijking"
   ]
  },
  {
   "cell_type": "markdown",
   "id": "bf3dc5b5-0837-4c67-82b7-ab5414e5ac19",
   "metadata": {},
   "source": [
    "<h4>Gelijke of ongelijke waarde</h4>"
   ]
  },
  {
   "cell_type": "code",
   "execution_count": null,
   "id": "571012b1-ef0f-42e8-b29c-7eebe2c7f295",
   "metadata": {},
   "outputs": [],
   "source": [
    "20 == 20"
   ]
  },
  {
   "cell_type": "code",
   "execution_count": null,
   "id": "14e1a058-93d9-490e-acd0-3da258d79e23",
   "metadata": {},
   "outputs": [],
   "source": [
    "'apples' == \"apples\" "
   ]
  },
  {
   "cell_type": "code",
   "execution_count": null,
   "id": "ada53053-c3ae-48bc-8632-c1e2f708dba5",
   "metadata": {},
   "outputs": [],
   "source": [
    "20 != 30"
   ]
  },
  {
   "cell_type": "code",
   "execution_count": null,
   "id": "fd0ad28e-1aa2-44dd-b684-255783b6709c",
   "metadata": {},
   "outputs": [],
   "source": [
    "\"apples\" != \"peers\""
   ]
  },
  {
   "cell_type": "raw",
   "id": "0caaf6e1-48ee-4123-a94a-7fe978044653",
   "metadata": {},
   "source": [
    "Dit geldt uiteraard ook voor de booleans zelf"
   ]
  },
  {
   "cell_type": "code",
   "execution_count": null,
   "id": "2871b489-37fe-4093-8d23-d44dde36bab8",
   "metadata": {},
   "outputs": [],
   "source": [
    "True == True"
   ]
  },
  {
   "cell_type": "code",
   "execution_count": null,
   "id": "434fdb25-1365-43cf-8dc5-292203c4664f",
   "metadata": {},
   "outputs": [],
   "source": [
    "True != False"
   ]
  },
  {
   "cell_type": "markdown",
   "id": "bbbbb916-daa3-4f43-84fa-3031ece628e1",
   "metadata": {},
   "source": [
    "**Wees bij het vergelijken van Strings alert op verschillen in syntax**"
   ]
  },
  {
   "cell_type": "code",
   "execution_count": null,
   "id": "a2846bf2-3b64-4382-a2ed-fb71da35a28a",
   "metadata": {},
   "outputs": [],
   "source": [
    "\"grey\" != \"gray\""
   ]
  },
  {
   "cell_type": "code",
   "execution_count": null,
   "id": "d03f3554-4397-417e-87a4-1338ecadb5f5",
   "metadata": {},
   "outputs": [],
   "source": [
    "\"Apples\".lower() == \"apples\""
   ]
  },
  {
   "cell_type": "code",
   "execution_count": null,
   "id": "c13071f3-e5d5-428b-8fb6-e771100286d4",
   "metadata": {},
   "outputs": [],
   "source": [
    "\"peers \".rstrip() == \"peers\""
   ]
  },
  {
   "cell_type": "markdown",
   "id": "3311b20d-5589-4db8-ae3c-988af97d8cc4",
   "metadata": {},
   "source": [
    "<h4>Groter of kleiner</h4>"
   ]
  },
  {
   "cell_type": "code",
   "execution_count": null,
   "id": "2974796f-d0a8-4da8-9929-311104686754",
   "metadata": {},
   "outputs": [],
   "source": [
    "20 < 30"
   ]
  },
  {
   "cell_type": "code",
   "execution_count": null,
   "id": "dfede80f-3a5c-41ff-96ea-35e5e4f434b8",
   "metadata": {},
   "outputs": [],
   "source": [
    "30 > 20"
   ]
  },
  {
   "cell_type": "code",
   "execution_count": null,
   "id": "df7ed327-a86d-41b4-871a-f515bd84493a",
   "metadata": {},
   "outputs": [],
   "source": [
    "len(\"apples\") > len(\"peers\")"
   ]
  },
  {
   "cell_type": "code",
   "execution_count": null,
   "id": "c3157387-f600-442a-9bcb-4afce5429a25",
   "metadata": {},
   "outputs": [],
   "source": [
    "20 <= 20"
   ]
  },
  {
   "cell_type": "code",
   "execution_count": null,
   "id": "58e1c7b2-82f1-497e-8d08-2c65fd7a914f",
   "metadata": {},
   "outputs": [],
   "source": [
    "len(\"apples\") >= len( \"apples \".rstrip() )"
   ]
  },
  {
   "cell_type": "code",
   "execution_count": null,
   "id": "55649449-d7cb-4297-8d95-f55a8081b285",
   "metadata": {},
   "outputs": [],
   "source": [
    "2 * 20 > 20"
   ]
  },
  {
   "cell_type": "markdown",
   "id": "b186d512-6f8f-424e-b6c9-3b2fc109ac61",
   "metadata": {},
   "source": [
    "**Gebruik haakjes als dit de leesbaarheid van de code verbetert**"
   ]
  },
  {
   "cell_type": "code",
   "execution_count": null,
   "id": "8f979a36-206d-442f-becf-5fbde260c32c",
   "metadata": {},
   "outputs": [],
   "source": [
    "(2 * 20) > 20"
   ]
  },
  {
   "cell_type": "markdown",
   "id": "adcaf334-ed2d-407c-bef1-c3dce67ee42c",
   "metadata": {},
   "source": [
    "<h3>Exercise 2</h3>\n",
    "<p>Gebruik conversie naar numerieke waarden om aan te tonen dat <u>True > False</u></p>"
   ]
  },
  {
   "cell_type": "code",
   "execution_count": null,
   "id": "2244c31e-f47e-4c96-ae51-6676691f2e2a",
   "metadata": {},
   "outputs": [],
   "source": [
    "# Oplossing"
   ]
  },
  {
   "cell_type": "markdown",
   "id": "0e1e2c67-b913-45db-b695-a63c2d00db8c",
   "metadata": {},
   "source": [
    "<h3>Logische operatoren</h3>"
   ]
  },
  {
   "cell_type": "markdown",
   "id": "d1d284d3-590f-4489-a888-fdefdc7cb551",
   "metadata": {},
   "source": [
    "**De operator <i>and</i> genereert <u>alleen</u> True als beide booleans True zijn**"
   ]
  },
  {
   "cell_type": "code",
   "execution_count": null,
   "id": "d9c6e9b2-785c-4884-ab5e-9a86b00dbcfb",
   "metadata": {},
   "outputs": [],
   "source": [
    "True and (\"apples\" == \"apples\" )"
   ]
  },
  {
   "cell_type": "raw",
   "id": "b134594b-db83-418f-8c07-c9d0c8fa6122",
   "metadata": {},
   "source": [
    "omdat bovenstaande expressie opnieuw een boolean oplevert, kun je ketting verder uitbreiden"
   ]
  },
  {
   "cell_type": "code",
   "execution_count": null,
   "id": "0faba536-2a74-487c-9f89-839df737ff4a",
   "metadata": {},
   "outputs": [],
   "source": [
    "True and (\"apples\" == \"apples\" ) and ( (2 * 20) > 20 )"
   ]
  },
  {
   "cell_type": "markdown",
   "id": "c2a7d1d9-9d08-44e8-bfee-6694bfea4f50",
   "metadata": {},
   "source": [
    "Een <strong>conjunctie</strong> is een <i>and-chain</i> van <i>booleaanse expressies</i>"
   ]
  },
  {
   "cell_type": "markdown",
   "id": "9719995e-e895-44e0-af67-0490f0bda3e3",
   "metadata": {},
   "source": [
    "<h4>Exercise 3</h4>\n",
    "<p>Maak een and-chain met variabelen <i>p</i>, <i>q</i> en <i>r</i> in de volgorde die het snelst resultaat geeft.\n",
    "</p>"
   ]
  },
  {
   "cell_type": "code",
   "execution_count": null,
   "id": "3b8c51cf-e69e-47b7-be0d-178e479d2e10",
   "metadata": {},
   "outputs": [],
   "source": [
    "p = True\n",
    "q = True\n",
    "r = False"
   ]
  },
  {
   "cell_type": "code",
   "execution_count": null,
   "id": "ab2c398c-c45c-4d9f-9e86-034d4ca8e356",
   "metadata": {},
   "outputs": [],
   "source": [
    "# Oplossing"
   ]
  },
  {
   "cell_type": "markdown",
   "id": "3c1a4467-1301-4850-8f0c-4fbae17f18ba",
   "metadata": {},
   "source": [
    "**De operator <i>or</i> genereert True <u>zodra</u> een van de booleans True is**"
   ]
  },
  {
   "cell_type": "code",
   "execution_count": null,
   "id": "f2ac78bb-c713-4de1-8a1c-556791df6354",
   "metadata": {},
   "outputs": [],
   "source": [
    "True or (\"apples\" == \"pears\" )"
   ]
  },
  {
   "cell_type": "code",
   "execution_count": null,
   "id": "e3c02f9f-0860-4b06-8545-8c564ce8e536",
   "metadata": {},
   "outputs": [],
   "source": [
    "True or ( \"apples\" != \"peers\" ) or ( 20 >= 30 )"
   ]
  },
  {
   "cell_type": "markdown",
   "id": "e8d9e4c3-ec92-488f-9f83-2040964ebf95",
   "metadata": {},
   "source": [
    "Een <strong>disjunctie</strong> is een <i>or-chain</i> van <i>booleaanse expressies</i>"
   ]
  },
  {
   "cell_type": "markdown",
   "id": "ca3aea93-1f8a-4b5f-9c4f-7372d63e3792",
   "metadata": {},
   "source": [
    "<h4>Exercise 5</h4>\n",
    "<p>Maak een or-chain met variabelen <i>p</i>, <i>q</i> en <i>r</i> in de volgorde die het snelst resultaat geeft.\n",
    "</p>"
   ]
  },
  {
   "cell_type": "code",
   "execution_count": null,
   "id": "9f5c72e2-1559-44d0-97d3-47623f9bd534",
   "metadata": {},
   "outputs": [],
   "source": [
    "p = False\n",
    "q = True\n",
    "r = (p and q)"
   ]
  },
  {
   "cell_type": "code",
   "execution_count": null,
   "id": "a4e17bc7-a830-4e3f-a1eb-ca93e6f54003",
   "metadata": {},
   "outputs": [],
   "source": [
    "# Oplossing"
   ]
  },
  {
   "cell_type": "markdown",
   "id": "125fc470-136d-4e20-813a-45293020c2c8",
   "metadata": {},
   "source": [
    "**De operator <i>not</i> genereert <u>ontkracht</u> een booleaanse expressie**"
   ]
  },
  {
   "cell_type": "code",
   "execution_count": null,
   "id": "00b8db0f-f6fe-4233-903f-7e81015fa879",
   "metadata": {},
   "outputs": [],
   "source": [
    "toBe = True\n",
    "print(f\"{toBe} or {not toBe}, that's the question..\")"
   ]
  },
  {
   "cell_type": "code",
   "execution_count": null,
   "id": "abb1e221-311d-432c-92bd-80193a881dff",
   "metadata": {},
   "outputs": [],
   "source": [
    "notToBe = False\n",
    "print(f\"{notToBe} or {not notToBe}, that's the question..\")"
   ]
  },
  {
   "cell_type": "markdown",
   "id": "52010811-9dcf-43c1-98b0-59f4a0a360ce",
   "metadata": {},
   "source": [
    "Een <strong>negatie</strong> is de ontkenning van een <i>booleaanse expressies</i>"
   ]
  },
  {
   "cell_type": "markdown",
   "id": "8fa0996a-03a6-41e8-94c9-034f81bc82eb",
   "metadata": {},
   "source": [
    "**Vereenvoudig waar mogelijk**"
   ]
  },
  {
   "cell_type": "code",
   "execution_count": null,
   "id": "9454cbd3-3dbb-4c7f-98eb-570265324098",
   "metadata": {},
   "outputs": [],
   "source": [
    "\"apples\" == \"peers\""
   ]
  },
  {
   "cell_type": "raw",
   "id": "70eebcf0-8db5-4b52-9157-c52d75d97a3f",
   "metadata": {},
   "source": [
    "in plaats van"
   ]
  },
  {
   "cell_type": "code",
   "execution_count": null,
   "id": "947ece9b-7f3b-4b1d-9bb2-81b434fb7cab",
   "metadata": {},
   "outputs": [],
   "source": [
    "not (\"apples\" != \"peers\")"
   ]
  },
  {
   "cell_type": "markdown",
   "id": "6d1d20da-3e17-4d1d-88f6-aa2b606e74f8",
   "metadata": {},
   "source": [
    "<h3>Strings</h3>"
   ]
  },
  {
   "cell_type": "raw",
   "id": "24f44d06-ef48-4dd7-bc15-00082e293304",
   "metadata": {},
   "source": [
    "Een String is een enkelvoudig datatype voor textuele content."
   ]
  },
  {
   "cell_type": "code",
   "execution_count": null,
   "id": "ec1357bd-311e-4bfe-a361-f7a7c179d164",
   "metadata": {},
   "outputs": [],
   "source": [
    "type(\"Hello World\")"
   ]
  },
  {
   "cell_type": "markdown",
   "id": "0a7ac9ca-9544-486c-98d1-9ba068a46643",
   "metadata": {},
   "source": [
    "<h4>String variabelen aanmaken en afdrukken</h4>"
   ]
  },
  {
   "cell_type": "raw",
   "id": "f298989f-8379-429b-9ea3-7e883e8027ae",
   "metadata": {},
   "source": [
    "Om een String (tijdelijk) in het gegeugen op te slaan, kun je een variabele aanmaken. "
   ]
  },
  {
   "cell_type": "code",
   "execution_count": null,
   "id": "981ab58c-3b58-484e-8379-429c3d827a59",
   "metadata": {},
   "outputs": [],
   "source": [
    "planet = \"Mercury\""
   ]
  },
  {
   "cell_type": "raw",
   "id": "4414988a-d284-4a21-a8a2-28527568e8ba",
   "metadata": {},
   "source": [
    "De variabele planet heeft nu de waarde \"Mercury\" en is krijgt daardoor het type String"
   ]
  },
  {
   "cell_type": "code",
   "execution_count": null,
   "id": "1f71066a-368f-4f06-adb4-842cbf1306db",
   "metadata": {},
   "outputs": [],
   "source": [
    "type(planet)"
   ]
  },
  {
   "cell_type": "markdown",
   "id": "7f6a25b6-7beb-4bd5-8fe0-c97c05fe34c5",
   "metadata": {},
   "source": [
    "**Gebruik camelCase voor de naam van een variabele**"
   ]
  },
  {
   "cell_type": "code",
   "execution_count": null,
   "id": "cedce745-1c02-469c-b742-40deeaf14346",
   "metadata": {},
   "outputs": [],
   "source": [
    "myHomePlanet = \"Earth\""
   ]
  },
  {
   "cell_type": "markdown",
   "id": "29a9b8df-659e-45ea-8526-8f05db5deae0",
   "metadata": {},
   "source": [
    "**Gebruik haakjes voor het afdrukken van een string**"
   ]
  },
  {
   "cell_type": "code",
   "execution_count": null,
   "id": "53f3cf02-b634-4e9e-87eb-b3f15a80d22b",
   "metadata": {},
   "outputs": [],
   "source": [
    "print(planet)"
   ]
  },
  {
   "cell_type": "raw",
   "id": "3b846f61-bfc7-40e2-a62a-02eff1f62cc1",
   "metadata": {},
   "source": [
    "Zowel enkele als dubbele quotes zijn toegestaan."
   ]
  },
  {
   "cell_type": "code",
   "execution_count": null,
   "id": "51d547fa-33ae-49a7-ad85-f03c2f056063",
   "metadata": {},
   "outputs": [],
   "source": [
    "star = 'Sun'\n",
    "type(star)"
   ]
  },
  {
   "cell_type": "raw",
   "id": "646974c9-5f72-4e3e-ad50-a56247e50b27",
   "metadata": {},
   "source": [
    "Wanneer gebruik je enkele en wanneer dubbele quotes? Wees vooral praktisch.."
   ]
  },
  {
   "cell_type": "code",
   "execution_count": null,
   "id": "76ef1e5a-5e8b-4d2f-a196-ab48cbac0241",
   "metadata": {},
   "outputs": [],
   "source": [
    "print(\"Merury doesn't have an atmosphere because it is so close to the Sun\")\n",
    "print('\"We choose to go to the moon in this decade and do the other things, not because they are easy, but because they are hard\" - JFK')"
   ]
  },
  {
   "cell_type": "markdown",
   "id": "c664e68c-8a19-42b8-9092-b7afffa8cc37",
   "metadata": {},
   "source": [
    "<h4>Variabelen kunnen als onderdeel van een omvattende String worden afgedrukt</h4>\n",
    "<ol>"
   ]
  },
  {
   "cell_type": "markdown",
   "id": "cb58a435-b2cd-48d0-a6d5-cdb54a600296",
   "metadata": {},
   "source": [
    "<li>met de methode <b>format()</b></li>"
   ]
  },
  {
   "cell_type": "code",
   "execution_count": null,
   "id": "65d7773c-ad66-4b28-8f9d-e6a8b4d9b0fa",
   "metadata": {},
   "outputs": [],
   "source": [
    "formatStr = \"Being the planet closest to the {0}, {1} guards its secrets very carefully\".format(star, planet)"
   ]
  },
  {
   "cell_type": "markdown",
   "id": "776d1f1a-1bce-4e3f-852c-2ae0e76271c7",
   "metadata": {},
   "source": [
    "<li>door gebruik van een <b>f-string</b></li>"
   ]
  },
  {
   "cell_type": "code",
   "execution_count": null,
   "id": "a7118866-4d2d-4d57-b70a-b9424a5db4a9",
   "metadata": {},
   "outputs": [],
   "source": [
    "fStr = f\"Being the planet closest to the {star}, {planet} guards its secrets very carefully\""
   ]
  },
  {
   "cell_type": "markdown",
   "id": "536d7eb1-7aa9-47db-8448-dc64cf2e9699",
   "metadata": {},
   "source": [
    "<li>met de <b>String Formatting Operator</b></li>\n",
    "</ol>"
   ]
  },
  {
   "cell_type": "code",
   "execution_count": null,
   "id": "b01254f6-602d-4ea6-9d1f-0b004b3ef458",
   "metadata": {},
   "outputs": [],
   "source": [
    "formatOperatorStr = \"Being the planet closest to the %s, %s guards its secrets very carefully\" %(star,planet)"
   ]
  },
  {
   "cell_type": "code",
   "execution_count": null,
   "id": "0da9e02d-a9ee-4da6-a576-1ea75f3ec551",
   "metadata": {},
   "outputs": [],
   "source": [
    "print(formatStr)"
   ]
  },
  {
   "cell_type": "markdown",
   "id": "d14eaa68-7bc8-4666-b2ac-a1f4d6550dee",
   "metadata": {},
   "source": [
    "**Gebruik comparators om de waarden van variabelen met elkaar te vergelijken**"
   ]
  },
  {
   "cell_type": "code",
   "execution_count": null,
   "id": "8c9ae93b-ae49-4142-9dc5-0a0eebb02d96",
   "metadata": {},
   "outputs": [],
   "source": [
    "formatStr == fStr == formatOperatorStr"
   ]
  },
  {
   "cell_type": "markdown",
   "id": "e596db81-e7b6-4a55-b1cf-bbbc6b4527c4",
   "metadata": {},
   "source": [
    "<h4>Exercise 6</h4>\n",
    "<p>Print de volgende String op <u>drie verschillende manieren</u> en met gebruik van de variabelen <i>planet</i>, <i>star</i> en <i>myHomePlanet</i><br>\n",
    "\"Since Mercury is so much closer to the Sun than we are, in the Mercurian sky the Sun appears three times as big as from here on Earth\"</p>"
   ]
  },
  {
   "cell_type": "code",
   "execution_count": null,
   "id": "0dbd4370-ba23-43d6-8d02-833f68d3673c",
   "metadata": {},
   "outputs": [],
   "source": [
    "# Oplossing"
   ]
  },
  {
   "cell_type": "markdown",
   "id": "6e392c7b-fa13-45d2-80d9-9d56c0358d9a",
   "metadata": {},
   "source": [
    "<h4>String operaties</h4>"
   ]
  },
  {
   "cell_type": "markdown",
   "id": "92ccebbf-fca6-467e-b0df-9c0cb8649b07",
   "metadata": {},
   "source": [
    "Ookal verander je de waarde van de <i>geinjecteerde variabele</i>, de samengestelde variabele behoudt zijn oorspronkelijke waarde"
   ]
  },
  {
   "cell_type": "code",
   "execution_count": null,
   "id": "41c6b4ba-f2f2-4c74-9a10-f8b34e6e5409",
   "metadata": {},
   "outputs": [],
   "source": [
    "planet = \"Venus\"\n",
    "print(planet)\n",
    "print(formatStr)"
   ]
  },
  {
   "cell_type": "markdown",
   "id": "47862280-74a9-4b84-923e-41c95f61a245",
   "metadata": {},
   "source": [
    "Ook na de operatie <i>replace()</i> variabele sentence nog zijn initiele waarde"
   ]
  },
  {
   "cell_type": "code",
   "execution_count": null,
   "id": "97756800-ae3e-41ff-8cd6-4d808b75874b",
   "metadata": {},
   "outputs": [],
   "source": [
    "sentence = formatStr\n",
    "print(sentence.replace(\"Mercury\",\"Venus\"))\n",
    "print(sentence)"
   ]
  },
  {
   "cell_type": "markdown",
   "id": "f927f676-41c9-4a81-bd24-45c08b4bffe1",
   "metadata": {},
   "source": [
    "**Gebruik functies voor het omzetten van en naar hoofdletters in Strings**"
   ]
  },
  {
   "cell_type": "code",
   "execution_count": null,
   "id": "5b924b49-5022-40ac-83fc-4b36de7a1709",
   "metadata": {},
   "outputs": [],
   "source": [
    "print(\"The NEAR Mission\".upper())\n",
    "print(\"Dwarf Planets\".lower())\n",
    "\n",
    "cosmonaut = \"alexi leonov\"\n",
    "print(\"Cosmonaut {}\".format(cosmonaut.title()))\n",
    "print(f\"Cosmonaut {cosmonaut.title()}\")"
   ]
  },
  {
   "cell_type": "markdown",
   "id": "4074185a-b77b-495c-8a5d-3ac84d6efc8b",
   "metadata": {},
   "source": [
    "<h4>Exercise 7</h4>\n",
    "<p>Print de volgende String met gebruik van de gegeven variabelen, een <u>String Formatting Operator</u> en String operaties, <u>zonder de variabelen zelf te veranderen</u><br>\n",
    "\"So far, KBOs have been seen from distances ranging from 30AU to 50AU from the Sun (for reference, Pluto's average orbit is at about 39AU).\"</p>"
   ]
  },
  {
   "cell_type": "code",
   "execution_count": null,
   "id": "6d93589c-5950-40d6-b0fd-819a9213fcb2",
   "metadata": {},
   "outputs": [],
   "source": [
    "object = \"kbo\"\n",
    "distanceUnit = \"au\"\n",
    "star = \"SUN\""
   ]
  },
  {
   "cell_type": "code",
   "execution_count": null,
   "id": "e35f9008-a40a-4000-9172-605b9dc4dbb0",
   "metadata": {},
   "outputs": [],
   "source": [
    "# Oplossing"
   ]
  },
  {
   "cell_type": "markdown",
   "id": "a915682c-404c-492e-b1a0-0c937e9be493",
   "metadata": {},
   "source": [
    "**Gebruik split() om een zin op te splitsen in woorden**"
   ]
  },
  {
   "cell_type": "code",
   "execution_count": null,
   "id": "db61cc60-a275-46ec-8ee1-6d95f4de4a1c",
   "metadata": {},
   "outputs": [],
   "source": [
    "rockyPlanets = \"Mercury, Venus, Earth and Mars\".replace(',','').split()\n",
    "rockyPlanets.remove(\"and\")\n",
    "print(rockyPlanets)"
   ]
  },
  {
   "cell_type": "raw",
   "id": "bcfd4cf2-4915-491d-81bb-df467f04099e",
   "metadata": {},
   "source": [
    "Inhoud van een String over meerdere regels"
   ]
  },
  {
   "cell_type": "code",
   "execution_count": null,
   "id": "50596590-889f-4b6f-ae75-a352d69c595f",
   "metadata": {},
   "outputs": [],
   "source": [
    "multiLineStr = \"\"\"\n",
    "                Standing on Mercury's surface at its closest approach to the Sun, \n",
    "                our star would appear more than three times larger than it does on Earth.\n",
    "                \"\"\"\n",
    "print(multiLineStr)"
   ]
  }
 ],
 "metadata": {
  "kernelspec": {
   "display_name": "Python 3 (ipykernel)",
   "language": "python",
   "name": "python3"
  },
  "language_info": {
   "codemirror_mode": {
    "name": "ipython",
    "version": 3
   },
   "file_extension": ".py",
   "mimetype": "text/x-python",
   "name": "python",
   "nbconvert_exporter": "python",
   "pygments_lexer": "ipython3",
   "version": "3.12.2"
  },
  "vscode": {
   "interpreter": {
    "hash": "aee8b7b246df8f9039afb4144a1f6fd8d2ca17a180786b69acc140d282b71a49"
   }
  }
 },
 "nbformat": 4,
 "nbformat_minor": 5
}
