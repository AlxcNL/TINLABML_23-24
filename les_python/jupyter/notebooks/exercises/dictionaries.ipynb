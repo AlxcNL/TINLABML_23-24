{
 "cells": [
  {
   "cell_type": "markdown",
   "id": "5713f5a7-348e-4905-a2dc-b4b750d3eb7b",
   "metadata": {},
   "source": [
    "<div>\n",
    "<img src='../pics/banner.PNG'/>\n",
    "</div>\n",
    "<div>\n",
    "<img width=\"15%\" src='../pics/tinlab.png'/>\n",
    "<strong>Python Basics - Jeroen Boogaard</strong>\n",
    "</div>"
   ]
  },
  {
   "cell_type": "markdown",
   "id": "d697ae0a-1505-43f5-817d-efeaed6009a4",
   "metadata": {},
   "source": [
    "<h1>Samengestelde variabelen - Dictionaries</h1>"
   ]
  },
  {
   "cell_type": "markdown",
   "id": "5968c213-ab8e-41d5-b245-a23956f3af6f",
   "metadata": {},
   "source": [
    "**Een dict is een <u>mutable</u> dataverzameling van <u>key-value pairs</u>.**"
   ]
  },
  {
   "cell_type": "markdown",
   "id": "5812a326-b1a7-409e-9b2d-7b2bb5102532",
   "metadata": {},
   "source": [
    "<h3>Dictionary variabelen aanmaken en afdrukken</h3>"
   ]
  },
  {
   "cell_type": "code",
   "execution_count": null,
   "id": "0dabdb25-6ff5-4edc-96fd-7019734055e0",
   "metadata": {},
   "outputs": [],
   "source": [
    "marslanderSpecs = { 'length': 6, 'width': 1.56, 'weight': 360, 'deckHeight': (83, 108), 'robotArmLength': 1.8, 'numberOfSolarPanels': 2}\n",
    "marslanderSpecs.items()"
   ]
  },
  {
   "cell_type": "markdown",
   "id": "839821d9-8d2c-4c18-a55e-c7645cbb3160",
   "metadata": {},
   "source": [
    "De <i>String Formatting Operator</i> maakt gebruik van een <i>tuple</i>"
   ]
  },
  {
   "cell_type": "code",
   "execution_count": null,
   "id": "9fc3a9ee-6b10-41e0-9d45-6d4b85940f7f",
   "metadata": {},
   "outputs": [],
   "source": [
    "print(type(marslanderSpecs.get('deckHeight')))\n",
    "print( 'The Deck Height of the Marslander has a range from %s to %s' %marslanderSpecs.get('deckHeight'))"
   ]
  },
  {
   "cell_type": "markdown",
   "id": "db849391-b9b9-4900-95ba-24d21c65138f",
   "metadata": {},
   "source": [
    "<h3>Elementen toevoegen</h3>"
   ]
  },
  {
   "cell_type": "code",
   "execution_count": null,
   "id": "321b9ef8-559f-4f09-8110-0d07f6091807",
   "metadata": {},
   "outputs": [],
   "source": [
    "marslanderSpecs.update( {'scienceInstruments' : (\"seismometer\", \"heat probe\", \"radio science experiment\")} )\n",
    "marslanderSpecs.update( {'image': \"../pics/mars.nasa.jpg\"} )\n",
    "print(marslanderSpecs)"
   ]
  },
  {
   "cell_type": "markdown",
   "id": "ef481205-753b-42ef-858d-84696e760708",
   "metadata": {},
   "source": [
    "<h3>Excercise 1</h3>\n",
    "<p>\n",
    "    <ol>\n",
    "        <li>Maak in de huidige directory (notebooks) de directory <i>csv</i> aan</li>\n",
    "        <li>Importeer de library <i>csv</i> of <i>pandas</i></li>\n",
    "        <li>Exporteer de dictionary marslanderSpecs naar het bestand <i>csv/marslander.csv</i><br></li>\n",
    "    </ol>\n",
    "    <strong>TIP : </strong>Zoek op https://stackoverflow.com/en naar geschikte voorbeelden\n",
    "</p> "
   ]
  },
  {
   "cell_type": "markdown",
   "id": "09a77d13-56a2-4d84-9554-266bac12c8bb",
   "metadata": {},
   "source": [
    "<h3>Mutaties</h3>"
   ]
  },
  {
   "cell_type": "markdown",
   "id": "5c443d17-4f1c-444d-988a-28753319ebe5",
   "metadata": {},
   "source": [
    "**Voorkom information loss door de inhoud van de dictionary eerst naar een ander plaats in het geheugen te kopiëren**"
   ]
  },
  {
   "cell_type": "code",
   "execution_count": null,
   "id": "3756229c-0b16-43b6-a495-c8bce87ff708",
   "metadata": {},
   "outputs": [],
   "source": [
    "marslanderSpecsCopy = marslanderSpecs.copy()"
   ]
  },
  {
   "cell_type": "markdown",
   "id": "0e990d4a-a8e3-4230-8749-a72347ffdb84",
   "metadata": {},
   "source": [
    "<p>De volgorde van waarmee items uit een data colection worden gepopt is Last In First Out (LIFO)</p>"
   ]
  },
  {
   "cell_type": "code",
   "execution_count": null,
   "id": "7fead617-0c2b-47f0-b535-084cde28ef54",
   "metadata": {},
   "outputs": [],
   "source": [
    "lastItem = marslanderSpecsCopy.popitem()\n",
    "print(lastItem) "
   ]
  },
  {
   "cell_type": "markdown",
   "id": "6e5c60aa-5693-4098-bcca-7d9b735c439e",
   "metadata": {},
   "source": [
    "<h3>Exercise 2</h3>\n",
    "<h4>Gegeven</h4>"
   ]
  },
  {
   "cell_type": "code",
   "execution_count": null,
   "id": "b78f2633-5fcd-46ab-a3a0-bcefb541d7e1",
   "metadata": {},
   "outputs": [],
   "source": [
    "moonlanderSpecs = { 'name': \"Apollo Lunar Module\", 'length': 7.04, 'width': 9.4 }\n",
    "moonlanderSpecsCopy = moonlanderSpecs"
   ]
  },
  {
   "cell_type": "markdown",
   "id": "28b30616-b186-4b6e-9d4e-1c307d4e1b0f",
   "metadata": {},
   "source": [
    "<h4>Gevraagd</h4>\n",
    "<p>\n",
    "Toon m.b.v. mutaties aan dat moonlanderSpecs en moonlanderSpecsCopy naar dezelfde plaats in het geheugen refereren. \n",
    "</p>"
   ]
  },
  {
   "cell_type": "markdown",
   "id": "8fefac94-8935-4a0b-94ea-f9ac86e6c1fa",
   "metadata": {},
   "source": [
    "<h4>Oplossing</h4>"
   ]
  },
  {
   "cell_type": "code",
   "execution_count": null,
   "id": "76955594-1a07-4e1a-abff-e77b717a8cf0",
   "metadata": {},
   "outputs": [],
   "source": []
  },
  {
   "cell_type": "markdown",
   "id": "ab2b77bd-ce14-4b32-91ab-ee81aded45df",
   "metadata": {},
   "source": [
    "<h3>Visualisatie</h3>"
   ]
  },
  {
   "cell_type": "markdown",
   "id": "5cfb1537-4bb1-453e-8e09-06b52a742814",
   "metadata": {},
   "source": [
    "**Importeer de Python Imaging Library (PIL) voor het renderen van een Image** "
   ]
  },
  {
   "cell_type": "code",
   "execution_count": null,
   "id": "c1c7a3e1-2814-4d53-ae6f-51b6e9ab34fd",
   "metadata": {},
   "outputs": [],
   "source": [
    "from PIL import Image"
   ]
  },
  {
   "cell_type": "code",
   "execution_count": null,
   "id": "913b1435-3083-4d25-8d26-5ae6b4c10d10",
   "metadata": {},
   "outputs": [],
   "source": [
    "img = Image.open( marslanderSpecs.get('image') )\n",
    "percentage = 0.5\n",
    "width, height = img.size\n",
    "resizedDimensions = (int(width * percentage), int(height * percentage))\n",
    "resizedImg = img.resize(resizedDimensions)\n",
    "resizedImg.show()"
   ]
  },
  {
   "cell_type": "markdown",
   "id": "141254b3-9a26-4a73-9477-dc5701d8b72c",
   "metadata": {},
   "source": [
    "<h3>Iteratie</h3>"
   ]
  },
  {
   "cell_type": "code",
   "execution_count": null,
   "id": "65af11f0-5de0-40c7-b075-8f930bc27801",
   "metadata": {},
   "outputs": [],
   "source": [
    "for (key, value) in marslanderSpecs.items():\n",
    "    print(key, value)"
   ]
  },
  {
   "cell_type": "markdown",
   "id": "8d0e34dc-3d69-47c1-9e78-e9b7124c63b7",
   "metadata": {},
   "source": [
    "<h3>Exercise 3</h3>\n",
    "<p>Laat m.b.v. iteratie zien dat <u>alle</u> elementen van een dictionary 2-tuples zijn</p>"
   ]
  },
  {
   "cell_type": "code",
   "execution_count": null,
   "id": "68dc008a-32f0-4b7f-8f9e-fb179dee9e5f",
   "metadata": {},
   "outputs": [],
   "source": [
    "# Oplossing"
   ]
  },
  {
   "cell_type": "markdown",
   "id": "a5514288-5623-4f8c-a41e-f4782fddf522",
   "metadata": {},
   "source": [
    "<p><strong>NB : </strong>Zorg ervoor dat je zowel dit notebook als het bij Execercise 1 aangemaakte csv-bestand naar je remote git repository pusht</p>"
   ]
  }
 ],
 "metadata": {
  "kernelspec": {
   "display_name": "Python 3 (ipykernel)",
   "language": "python",
   "name": "python3"
  },
  "language_info": {
   "codemirror_mode": {
    "name": "ipython",
    "version": 3
   },
   "file_extension": ".py",
   "mimetype": "text/x-python",
   "name": "python",
   "nbconvert_exporter": "python",
   "pygments_lexer": "ipython3",
   "version": "3.12.2"
  },
  "vscode": {
   "interpreter": {
    "hash": "aee8b7b246df8f9039afb4144a1f6fd8d2ca17a180786b69acc140d282b71a49"
   }
  }
 },
 "nbformat": 4,
 "nbformat_minor": 5
}
